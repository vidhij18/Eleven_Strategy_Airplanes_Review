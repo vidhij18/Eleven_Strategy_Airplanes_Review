{
  "nbformat": 4,
  "nbformat_minor": 0,
  "metadata": {
    "colab": {
      "name": "220216_TFIDF_Classifiers_Binary_Baseline_KM_v1.ipynb",
      "provenance": [],
      "collapsed_sections": []
    },
    "kernelspec": {
      "name": "python3",
      "display_name": "Python 3"
    },
    "language_info": {
      "name": "python"
    }
  },
  "cells": [
    {
      "cell_type": "markdown",
      "source": [
        "# Loading Data"
      ],
      "metadata": {
        "id": "s0PJNzS6VXwI"
      }
    },
    {
      "cell_type": "code",
      "execution_count": 2,
      "metadata": {
        "colab": {
          "base_uri": "https://localhost:8080/"
        },
        "id": "sYb38HdVOjnW",
        "outputId": "a86dff81-c521-4bb6-df22-7670225b2511"
      },
      "outputs": [
        {
          "output_type": "stream",
          "name": "stdout",
          "text": [
            "Mounted at /content/drive\n"
          ]
        }
      ],
      "source": [
        "#Connect to google drive data\n",
        "from google.colab import drive\n",
        "drive.mount('/content/drive')"
      ]
    },
    {
      "cell_type": "code",
      "source": [
        "import pandas as pd\n",
        "import numpy as np\n",
        "import nltk\n",
        "import re"
      ],
      "metadata": {
        "id": "OYtjtDt4b6eD"
      },
      "execution_count": 3,
      "outputs": []
    },
    {
      "cell_type": "code",
      "source": [
        "df = pd.read_csv('/content/drive/MyDrive/Hackathon M2/Our Data/Customer Reviews - SKYTRAX.csv')"
      ],
      "metadata": {
        "id": "VorKW2Z0SB2r"
      },
      "execution_count": null,
      "outputs": []
    },
    {
      "cell_type": "code",
      "source": [
        "df.head(5)"
      ],
      "metadata": {
        "colab": {
          "base_uri": "https://localhost:8080/",
          "height": 441
        },
        "id": "lb4z0ghMSNxG",
        "outputId": "915d2d27-2888-4de9-9ff5-751d7222d463"
      },
      "execution_count": null,
      "outputs": [
        {
          "output_type": "execute_result",
          "data": {
            "text/html": [
              "\n",
              "  <div id=\"df-6a835128-4905-4306-b69d-5e9865bde29c\">\n",
              "    <div class=\"colab-df-container\">\n",
              "      <div>\n",
              "<style scoped>\n",
              "    .dataframe tbody tr th:only-of-type {\n",
              "        vertical-align: middle;\n",
              "    }\n",
              "\n",
              "    .dataframe tbody tr th {\n",
              "        vertical-align: top;\n",
              "    }\n",
              "\n",
              "    .dataframe thead th {\n",
              "        text-align: right;\n",
              "    }\n",
              "</style>\n",
              "<table border=\"1\" class=\"dataframe\">\n",
              "  <thead>\n",
              "    <tr style=\"text-align: right;\">\n",
              "      <th></th>\n",
              "      <th>score</th>\n",
              "      <th>title</th>\n",
              "      <th>user_country</th>\n",
              "      <th>user_name</th>\n",
              "      <th>review_date</th>\n",
              "      <th>is_verified</th>\n",
              "      <th>review_body</th>\n",
              "      <th>airline</th>\n",
              "    </tr>\n",
              "  </thead>\n",
              "  <tbody>\n",
              "    <tr>\n",
              "      <th>0</th>\n",
              "      <td>7.0</td>\n",
              "      <td>\"my trip was pretty good.\"</td>\n",
              "      <td>United States</td>\n",
              "      <td>N Palustre</td>\n",
              "      <td>9th February 2022</td>\n",
              "      <td>0</td>\n",
              "      <td>My flight from Dulles to Paris was great. My f...</td>\n",
              "      <td>Air France</td>\n",
              "    </tr>\n",
              "    <tr>\n",
              "      <th>1</th>\n",
              "      <td>1.0</td>\n",
              "      <td>\"my baggage didn't make it\"</td>\n",
              "      <td>Lebanon</td>\n",
              "      <td>Nour El Khoury</td>\n",
              "      <td>27th January 2022</td>\n",
              "      <td>1</td>\n",
              "      <td>I went for 2 months to Nice, when I arrived i...</td>\n",
              "      <td>Air France</td>\n",
              "    </tr>\n",
              "    <tr>\n",
              "      <th>2</th>\n",
              "      <td>3.0</td>\n",
              "      <td>Air France customer review</td>\n",
              "      <td>United States</td>\n",
              "      <td>Daniel Rabourn</td>\n",
              "      <td>26th January 2022</td>\n",
              "      <td>1</td>\n",
              "      <td>Yesterday Jan 25, we flew Colombo, Sri Lanka t...</td>\n",
              "      <td>Air France</td>\n",
              "    </tr>\n",
              "    <tr>\n",
              "      <th>3</th>\n",
              "      <td>8.0</td>\n",
              "      <td>\"great alternative to fly across the Atlantic\"</td>\n",
              "      <td>United Kingdom</td>\n",
              "      <td>D Garlin</td>\n",
              "      <td>19th January 2022</td>\n",
              "      <td>1</td>\n",
              "      <td>First medium-haul experience with Air France....</td>\n",
              "      <td>Air France</td>\n",
              "    </tr>\n",
              "    <tr>\n",
              "      <th>4</th>\n",
              "      <td>8.0</td>\n",
              "      <td>\"A pleasurable experience!\"</td>\n",
              "      <td>United States</td>\n",
              "      <td>S Gillemo</td>\n",
              "      <td>4th January 2022</td>\n",
              "      <td>1</td>\n",
              "      <td>BOD-CDG-ATL: Was having some major issue with...</td>\n",
              "      <td>Air France</td>\n",
              "    </tr>\n",
              "  </tbody>\n",
              "</table>\n",
              "</div>\n",
              "      <button class=\"colab-df-convert\" onclick=\"convertToInteractive('df-6a835128-4905-4306-b69d-5e9865bde29c')\"\n",
              "              title=\"Convert this dataframe to an interactive table.\"\n",
              "              style=\"display:none;\">\n",
              "        \n",
              "  <svg xmlns=\"http://www.w3.org/2000/svg\" height=\"24px\"viewBox=\"0 0 24 24\"\n",
              "       width=\"24px\">\n",
              "    <path d=\"M0 0h24v24H0V0z\" fill=\"none\"/>\n",
              "    <path d=\"M18.56 5.44l.94 2.06.94-2.06 2.06-.94-2.06-.94-.94-2.06-.94 2.06-2.06.94zm-11 1L8.5 8.5l.94-2.06 2.06-.94-2.06-.94L8.5 2.5l-.94 2.06-2.06.94zm10 10l.94 2.06.94-2.06 2.06-.94-2.06-.94-.94-2.06-.94 2.06-2.06.94z\"/><path d=\"M17.41 7.96l-1.37-1.37c-.4-.4-.92-.59-1.43-.59-.52 0-1.04.2-1.43.59L10.3 9.45l-7.72 7.72c-.78.78-.78 2.05 0 2.83L4 21.41c.39.39.9.59 1.41.59.51 0 1.02-.2 1.41-.59l7.78-7.78 2.81-2.81c.8-.78.8-2.07 0-2.86zM5.41 20L4 18.59l7.72-7.72 1.47 1.35L5.41 20z\"/>\n",
              "  </svg>\n",
              "      </button>\n",
              "      \n",
              "  <style>\n",
              "    .colab-df-container {\n",
              "      display:flex;\n",
              "      flex-wrap:wrap;\n",
              "      gap: 12px;\n",
              "    }\n",
              "\n",
              "    .colab-df-convert {\n",
              "      background-color: #E8F0FE;\n",
              "      border: none;\n",
              "      border-radius: 50%;\n",
              "      cursor: pointer;\n",
              "      display: none;\n",
              "      fill: #1967D2;\n",
              "      height: 32px;\n",
              "      padding: 0 0 0 0;\n",
              "      width: 32px;\n",
              "    }\n",
              "\n",
              "    .colab-df-convert:hover {\n",
              "      background-color: #E2EBFA;\n",
              "      box-shadow: 0px 1px 2px rgba(60, 64, 67, 0.3), 0px 1px 3px 1px rgba(60, 64, 67, 0.15);\n",
              "      fill: #174EA6;\n",
              "    }\n",
              "\n",
              "    [theme=dark] .colab-df-convert {\n",
              "      background-color: #3B4455;\n",
              "      fill: #D2E3FC;\n",
              "    }\n",
              "\n",
              "    [theme=dark] .colab-df-convert:hover {\n",
              "      background-color: #434B5C;\n",
              "      box-shadow: 0px 1px 3px 1px rgba(0, 0, 0, 0.15);\n",
              "      filter: drop-shadow(0px 1px 2px rgba(0, 0, 0, 0.3));\n",
              "      fill: #FFFFFF;\n",
              "    }\n",
              "  </style>\n",
              "\n",
              "      <script>\n",
              "        const buttonEl =\n",
              "          document.querySelector('#df-6a835128-4905-4306-b69d-5e9865bde29c button.colab-df-convert');\n",
              "        buttonEl.style.display =\n",
              "          google.colab.kernel.accessAllowed ? 'block' : 'none';\n",
              "\n",
              "        async function convertToInteractive(key) {\n",
              "          const element = document.querySelector('#df-6a835128-4905-4306-b69d-5e9865bde29c');\n",
              "          const dataTable =\n",
              "            await google.colab.kernel.invokeFunction('convertToInteractive',\n",
              "                                                     [key], {});\n",
              "          if (!dataTable) return;\n",
              "\n",
              "          const docLinkHtml = 'Like what you see? Visit the ' +\n",
              "            '<a target=\"_blank\" href=https://colab.research.google.com/notebooks/data_table.ipynb>data table notebook</a>'\n",
              "            + ' to learn more about interactive tables.';\n",
              "          element.innerHTML = '';\n",
              "          dataTable['output_type'] = 'display_data';\n",
              "          await google.colab.output.renderOutput(dataTable, element);\n",
              "          const docLink = document.createElement('div');\n",
              "          docLink.innerHTML = docLinkHtml;\n",
              "          element.appendChild(docLink);\n",
              "        }\n",
              "      </script>\n",
              "    </div>\n",
              "  </div>\n",
              "  "
            ],
            "text/plain": [
              "   score  ...      airline\n",
              "0    7.0  ...  Air France \n",
              "1    1.0  ...  Air France \n",
              "2    3.0  ...  Air France \n",
              "3    8.0  ...  Air France \n",
              "4    8.0  ...  Air France \n",
              "\n",
              "[5 rows x 8 columns]"
            ]
          },
          "metadata": {},
          "execution_count": 41
        }
      ]
    },
    {
      "cell_type": "code",
      "source": [
        "# check the distribution\n",
        "df['score'].value_counts()"
      ],
      "metadata": {
        "colab": {
          "base_uri": "https://localhost:8080/"
        },
        "id": "PIoVRK-kVFLl",
        "outputId": "b061e781-4791-46b3-d460-1befe1f0d277"
      },
      "execution_count": null,
      "outputs": [
        {
          "output_type": "execute_result",
          "data": {
            "text/plain": [
              "1.0     2172\n",
              "10.0    1390\n",
              "9.0     1032\n",
              "8.0      809\n",
              "2.0      710\n",
              "3.0      529\n",
              "7.0      526\n",
              "5.0      447\n",
              "4.0      389\n",
              "6.0      358\n",
              "Name: score, dtype: int64"
            ]
          },
          "metadata": {},
          "execution_count": 42
        }
      ]
    },
    {
      "cell_type": "markdown",
      "source": [
        "# Pre-Processing"
      ],
      "metadata": {
        "id": "y9IqeoTKXP6J"
      }
    },
    {
      "cell_type": "markdown",
      "source": [
        "## Full Reviews"
      ],
      "metadata": {
        "id": "JgFSkxJ6ZTTR"
      }
    },
    {
      "cell_type": "code",
      "source": [
        "# add title to review_body\n",
        "df['full_review'] = df['title'] + df['review_body']"
      ],
      "metadata": {
        "id": "eUC3QXFyWUts"
      },
      "execution_count": null,
      "outputs": []
    },
    {
      "cell_type": "code",
      "source": [
        "# new df with only relevant inputs for TF IDF + Classifier (might experiment with other variables later)\n",
        "df_slim = df[['score', 'full_review']]"
      ],
      "metadata": {
        "id": "1KJTLkTVWi92"
      },
      "execution_count": null,
      "outputs": []
    },
    {
      "cell_type": "code",
      "source": [
        "df_slim.head(5)"
      ],
      "metadata": {
        "colab": {
          "base_uri": "https://localhost:8080/",
          "height": 206
        },
        "id": "ypCOCHTRXILf",
        "outputId": "e9fef1e9-033c-4f37-c1b6-e64d3730293c"
      },
      "execution_count": null,
      "outputs": [
        {
          "output_type": "execute_result",
          "data": {
            "text/html": [
              "\n",
              "  <div id=\"df-6ee55a6e-b77b-4cb9-ad0a-ce9fa442b2d8\">\n",
              "    <div class=\"colab-df-container\">\n",
              "      <div>\n",
              "<style scoped>\n",
              "    .dataframe tbody tr th:only-of-type {\n",
              "        vertical-align: middle;\n",
              "    }\n",
              "\n",
              "    .dataframe tbody tr th {\n",
              "        vertical-align: top;\n",
              "    }\n",
              "\n",
              "    .dataframe thead th {\n",
              "        text-align: right;\n",
              "    }\n",
              "</style>\n",
              "<table border=\"1\" class=\"dataframe\">\n",
              "  <thead>\n",
              "    <tr style=\"text-align: right;\">\n",
              "      <th></th>\n",
              "      <th>score</th>\n",
              "      <th>full_review</th>\n",
              "    </tr>\n",
              "  </thead>\n",
              "  <tbody>\n",
              "    <tr>\n",
              "      <th>0</th>\n",
              "      <td>7.0</td>\n",
              "      <td>\"my trip was pretty good.\"My flight from Dulle...</td>\n",
              "    </tr>\n",
              "    <tr>\n",
              "      <th>1</th>\n",
              "      <td>1.0</td>\n",
              "      <td>\"my baggage didn't make it\" I went for 2 month...</td>\n",
              "    </tr>\n",
              "    <tr>\n",
              "      <th>2</th>\n",
              "      <td>3.0</td>\n",
              "      <td>Air France customer reviewYesterday Jan 25, we...</td>\n",
              "    </tr>\n",
              "    <tr>\n",
              "      <th>3</th>\n",
              "      <td>8.0</td>\n",
              "      <td>\"great alternative to fly across the Atlantic\"...</td>\n",
              "    </tr>\n",
              "    <tr>\n",
              "      <th>4</th>\n",
              "      <td>8.0</td>\n",
              "      <td>\"A pleasurable experience!\" BOD-CDG-ATL: Was h...</td>\n",
              "    </tr>\n",
              "  </tbody>\n",
              "</table>\n",
              "</div>\n",
              "      <button class=\"colab-df-convert\" onclick=\"convertToInteractive('df-6ee55a6e-b77b-4cb9-ad0a-ce9fa442b2d8')\"\n",
              "              title=\"Convert this dataframe to an interactive table.\"\n",
              "              style=\"display:none;\">\n",
              "        \n",
              "  <svg xmlns=\"http://www.w3.org/2000/svg\" height=\"24px\"viewBox=\"0 0 24 24\"\n",
              "       width=\"24px\">\n",
              "    <path d=\"M0 0h24v24H0V0z\" fill=\"none\"/>\n",
              "    <path d=\"M18.56 5.44l.94 2.06.94-2.06 2.06-.94-2.06-.94-.94-2.06-.94 2.06-2.06.94zm-11 1L8.5 8.5l.94-2.06 2.06-.94-2.06-.94L8.5 2.5l-.94 2.06-2.06.94zm10 10l.94 2.06.94-2.06 2.06-.94-2.06-.94-.94-2.06-.94 2.06-2.06.94z\"/><path d=\"M17.41 7.96l-1.37-1.37c-.4-.4-.92-.59-1.43-.59-.52 0-1.04.2-1.43.59L10.3 9.45l-7.72 7.72c-.78.78-.78 2.05 0 2.83L4 21.41c.39.39.9.59 1.41.59.51 0 1.02-.2 1.41-.59l7.78-7.78 2.81-2.81c.8-.78.8-2.07 0-2.86zM5.41 20L4 18.59l7.72-7.72 1.47 1.35L5.41 20z\"/>\n",
              "  </svg>\n",
              "      </button>\n",
              "      \n",
              "  <style>\n",
              "    .colab-df-container {\n",
              "      display:flex;\n",
              "      flex-wrap:wrap;\n",
              "      gap: 12px;\n",
              "    }\n",
              "\n",
              "    .colab-df-convert {\n",
              "      background-color: #E8F0FE;\n",
              "      border: none;\n",
              "      border-radius: 50%;\n",
              "      cursor: pointer;\n",
              "      display: none;\n",
              "      fill: #1967D2;\n",
              "      height: 32px;\n",
              "      padding: 0 0 0 0;\n",
              "      width: 32px;\n",
              "    }\n",
              "\n",
              "    .colab-df-convert:hover {\n",
              "      background-color: #E2EBFA;\n",
              "      box-shadow: 0px 1px 2px rgba(60, 64, 67, 0.3), 0px 1px 3px 1px rgba(60, 64, 67, 0.15);\n",
              "      fill: #174EA6;\n",
              "    }\n",
              "\n",
              "    [theme=dark] .colab-df-convert {\n",
              "      background-color: #3B4455;\n",
              "      fill: #D2E3FC;\n",
              "    }\n",
              "\n",
              "    [theme=dark] .colab-df-convert:hover {\n",
              "      background-color: #434B5C;\n",
              "      box-shadow: 0px 1px 3px 1px rgba(0, 0, 0, 0.15);\n",
              "      filter: drop-shadow(0px 1px 2px rgba(0, 0, 0, 0.3));\n",
              "      fill: #FFFFFF;\n",
              "    }\n",
              "  </style>\n",
              "\n",
              "      <script>\n",
              "        const buttonEl =\n",
              "          document.querySelector('#df-6ee55a6e-b77b-4cb9-ad0a-ce9fa442b2d8 button.colab-df-convert');\n",
              "        buttonEl.style.display =\n",
              "          google.colab.kernel.accessAllowed ? 'block' : 'none';\n",
              "\n",
              "        async function convertToInteractive(key) {\n",
              "          const element = document.querySelector('#df-6ee55a6e-b77b-4cb9-ad0a-ce9fa442b2d8');\n",
              "          const dataTable =\n",
              "            await google.colab.kernel.invokeFunction('convertToInteractive',\n",
              "                                                     [key], {});\n",
              "          if (!dataTable) return;\n",
              "\n",
              "          const docLinkHtml = 'Like what you see? Visit the ' +\n",
              "            '<a target=\"_blank\" href=https://colab.research.google.com/notebooks/data_table.ipynb>data table notebook</a>'\n",
              "            + ' to learn more about interactive tables.';\n",
              "          element.innerHTML = '';\n",
              "          dataTable['output_type'] = 'display_data';\n",
              "          await google.colab.output.renderOutput(dataTable, element);\n",
              "          const docLink = document.createElement('div');\n",
              "          docLink.innerHTML = docLinkHtml;\n",
              "          element.appendChild(docLink);\n",
              "        }\n",
              "      </script>\n",
              "    </div>\n",
              "  </div>\n",
              "  "
            ],
            "text/plain": [
              "   score                                        full_review\n",
              "0    7.0  \"my trip was pretty good.\"My flight from Dulle...\n",
              "1    1.0  \"my baggage didn't make it\" I went for 2 month...\n",
              "2    3.0  Air France customer reviewYesterday Jan 25, we...\n",
              "3    8.0  \"great alternative to fly across the Atlantic\"...\n",
              "4    8.0  \"A pleasurable experience!\" BOD-CDG-ATL: Was h..."
            ]
          },
          "metadata": {},
          "execution_count": 45
        }
      ]
    },
    {
      "cell_type": "markdown",
      "source": [
        "## Labeling by score"
      ],
      "metadata": {
        "id": "FxCKSmS4ZWVR"
      }
    },
    {
      "cell_type": "code",
      "source": [
        "# even reviews with score of 5 seem bad\n",
        "df_slim[df_slim['score'] == 5]"
      ],
      "metadata": {
        "colab": {
          "base_uri": "https://localhost:8080/",
          "height": 423
        },
        "id": "3iq3ZLxbYtRB",
        "outputId": "3af08278-d6f3-4296-e3e0-59863a745fb1"
      },
      "execution_count": null,
      "outputs": [
        {
          "output_type": "execute_result",
          "data": {
            "text/html": [
              "\n",
              "  <div id=\"df-5343c3a7-87c7-476f-8442-3e50f4e6bb29\">\n",
              "    <div class=\"colab-df-container\">\n",
              "      <div>\n",
              "<style scoped>\n",
              "    .dataframe tbody tr th:only-of-type {\n",
              "        vertical-align: middle;\n",
              "    }\n",
              "\n",
              "    .dataframe tbody tr th {\n",
              "        vertical-align: top;\n",
              "    }\n",
              "\n",
              "    .dataframe thead th {\n",
              "        text-align: right;\n",
              "    }\n",
              "</style>\n",
              "<table border=\"1\" class=\"dataframe\">\n",
              "  <thead>\n",
              "    <tr style=\"text-align: right;\">\n",
              "      <th></th>\n",
              "      <th>score</th>\n",
              "      <th>full_review</th>\n",
              "    </tr>\n",
              "  </thead>\n",
              "  <tbody>\n",
              "    <tr>\n",
              "      <th>14</th>\n",
              "      <td>5.0</td>\n",
              "      <td>\"All in all, a decent experience\" It was very ...</td>\n",
              "    </tr>\n",
              "    <tr>\n",
              "      <th>58</th>\n",
              "      <td>5.0</td>\n",
              "      <td>\"had the mask only on the chin\" Today as I boa...</td>\n",
              "    </tr>\n",
              "    <tr>\n",
              "      <th>87</th>\n",
              "      <td>5.0</td>\n",
              "      <td>\"My disappointment is with the food service\" F...</td>\n",
              "    </tr>\n",
              "    <tr>\n",
              "      <th>127</th>\n",
              "      <td>5.0</td>\n",
              "      <td>\"Overall impression: sloppy product\" Flight fr...</td>\n",
              "    </tr>\n",
              "    <tr>\n",
              "      <th>160</th>\n",
              "      <td>5.0</td>\n",
              "      <td>\"most uncomfortable flight\" Mauritius to Paris...</td>\n",
              "    </tr>\n",
              "    <tr>\n",
              "      <th>...</th>\n",
              "      <td>...</td>\n",
              "      <td>...</td>\n",
              "    </tr>\n",
              "    <tr>\n",
              "      <th>8296</th>\n",
              "      <td>5.0</td>\n",
              "      <td>\"will not be flying with Ryanair again\" Liverp...</td>\n",
              "    </tr>\n",
              "    <tr>\n",
              "      <th>8298</th>\n",
              "      <td>5.0</td>\n",
              "      <td>\"not be using Ryanair transfer services\" Venic...</td>\n",
              "    </tr>\n",
              "    <tr>\n",
              "      <th>8312</th>\n",
              "      <td>5.0</td>\n",
              "      <td>\"avoid this airline from now on\" Rome to Budap...</td>\n",
              "    </tr>\n",
              "    <tr>\n",
              "      <th>8382</th>\n",
              "      <td>5.0</td>\n",
              "      <td>\"use again purely for price\" Flew from Stanste...</td>\n",
              "    </tr>\n",
              "    <tr>\n",
              "      <th>8395</th>\n",
              "      <td>5.0</td>\n",
              "      <td>\"Food quite pricey on flight\" Memmingnem to St...</td>\n",
              "    </tr>\n",
              "  </tbody>\n",
              "</table>\n",
              "<p>447 rows × 2 columns</p>\n",
              "</div>\n",
              "      <button class=\"colab-df-convert\" onclick=\"convertToInteractive('df-5343c3a7-87c7-476f-8442-3e50f4e6bb29')\"\n",
              "              title=\"Convert this dataframe to an interactive table.\"\n",
              "              style=\"display:none;\">\n",
              "        \n",
              "  <svg xmlns=\"http://www.w3.org/2000/svg\" height=\"24px\"viewBox=\"0 0 24 24\"\n",
              "       width=\"24px\">\n",
              "    <path d=\"M0 0h24v24H0V0z\" fill=\"none\"/>\n",
              "    <path d=\"M18.56 5.44l.94 2.06.94-2.06 2.06-.94-2.06-.94-.94-2.06-.94 2.06-2.06.94zm-11 1L8.5 8.5l.94-2.06 2.06-.94-2.06-.94L8.5 2.5l-.94 2.06-2.06.94zm10 10l.94 2.06.94-2.06 2.06-.94-2.06-.94-.94-2.06-.94 2.06-2.06.94z\"/><path d=\"M17.41 7.96l-1.37-1.37c-.4-.4-.92-.59-1.43-.59-.52 0-1.04.2-1.43.59L10.3 9.45l-7.72 7.72c-.78.78-.78 2.05 0 2.83L4 21.41c.39.39.9.59 1.41.59.51 0 1.02-.2 1.41-.59l7.78-7.78 2.81-2.81c.8-.78.8-2.07 0-2.86zM5.41 20L4 18.59l7.72-7.72 1.47 1.35L5.41 20z\"/>\n",
              "  </svg>\n",
              "      </button>\n",
              "      \n",
              "  <style>\n",
              "    .colab-df-container {\n",
              "      display:flex;\n",
              "      flex-wrap:wrap;\n",
              "      gap: 12px;\n",
              "    }\n",
              "\n",
              "    .colab-df-convert {\n",
              "      background-color: #E8F0FE;\n",
              "      border: none;\n",
              "      border-radius: 50%;\n",
              "      cursor: pointer;\n",
              "      display: none;\n",
              "      fill: #1967D2;\n",
              "      height: 32px;\n",
              "      padding: 0 0 0 0;\n",
              "      width: 32px;\n",
              "    }\n",
              "\n",
              "    .colab-df-convert:hover {\n",
              "      background-color: #E2EBFA;\n",
              "      box-shadow: 0px 1px 2px rgba(60, 64, 67, 0.3), 0px 1px 3px 1px rgba(60, 64, 67, 0.15);\n",
              "      fill: #174EA6;\n",
              "    }\n",
              "\n",
              "    [theme=dark] .colab-df-convert {\n",
              "      background-color: #3B4455;\n",
              "      fill: #D2E3FC;\n",
              "    }\n",
              "\n",
              "    [theme=dark] .colab-df-convert:hover {\n",
              "      background-color: #434B5C;\n",
              "      box-shadow: 0px 1px 3px 1px rgba(0, 0, 0, 0.15);\n",
              "      filter: drop-shadow(0px 1px 2px rgba(0, 0, 0, 0.3));\n",
              "      fill: #FFFFFF;\n",
              "    }\n",
              "  </style>\n",
              "\n",
              "      <script>\n",
              "        const buttonEl =\n",
              "          document.querySelector('#df-5343c3a7-87c7-476f-8442-3e50f4e6bb29 button.colab-df-convert');\n",
              "        buttonEl.style.display =\n",
              "          google.colab.kernel.accessAllowed ? 'block' : 'none';\n",
              "\n",
              "        async function convertToInteractive(key) {\n",
              "          const element = document.querySelector('#df-5343c3a7-87c7-476f-8442-3e50f4e6bb29');\n",
              "          const dataTable =\n",
              "            await google.colab.kernel.invokeFunction('convertToInteractive',\n",
              "                                                     [key], {});\n",
              "          if (!dataTable) return;\n",
              "\n",
              "          const docLinkHtml = 'Like what you see? Visit the ' +\n",
              "            '<a target=\"_blank\" href=https://colab.research.google.com/notebooks/data_table.ipynb>data table notebook</a>'\n",
              "            + ' to learn more about interactive tables.';\n",
              "          element.innerHTML = '';\n",
              "          dataTable['output_type'] = 'display_data';\n",
              "          await google.colab.output.renderOutput(dataTable, element);\n",
              "          const docLink = document.createElement('div');\n",
              "          docLink.innerHTML = docLinkHtml;\n",
              "          element.appendChild(docLink);\n",
              "        }\n",
              "      </script>\n",
              "    </div>\n",
              "  </div>\n",
              "  "
            ],
            "text/plain": [
              "      score                                        full_review\n",
              "14      5.0  \"All in all, a decent experience\" It was very ...\n",
              "58      5.0  \"had the mask only on the chin\" Today as I boa...\n",
              "87      5.0  \"My disappointment is with the food service\" F...\n",
              "127     5.0  \"Overall impression: sloppy product\" Flight fr...\n",
              "160     5.0  \"most uncomfortable flight\" Mauritius to Paris...\n",
              "...     ...                                                ...\n",
              "8296    5.0  \"will not be flying with Ryanair again\" Liverp...\n",
              "8298    5.0  \"not be using Ryanair transfer services\" Venic...\n",
              "8312    5.0  \"avoid this airline from now on\" Rome to Budap...\n",
              "8382    5.0  \"use again purely for price\" Flew from Stanste...\n",
              "8395    5.0  \"Food quite pricey on flight\" Memmingnem to St...\n",
              "\n",
              "[447 rows x 2 columns]"
            ]
          },
          "metadata": {},
          "execution_count": 46
        }
      ]
    },
    {
      "cell_type": "code",
      "source": [
        "# reviews with 6 are pretty generic, from seven is when they start being fairly positive\n",
        "df_slim[df_slim['score'] == 6]"
      ],
      "metadata": {
        "colab": {
          "base_uri": "https://localhost:8080/",
          "height": 423
        },
        "id": "TaVdVv57ZBSH",
        "outputId": "1eea0a5e-b998-4577-9b34-c047131031d0"
      },
      "execution_count": null,
      "outputs": [
        {
          "output_type": "execute_result",
          "data": {
            "text/html": [
              "\n",
              "  <div id=\"df-5059f9fa-ccd1-4ad7-95d3-ed0e1c594c73\">\n",
              "    <div class=\"colab-df-container\">\n",
              "      <div>\n",
              "<style scoped>\n",
              "    .dataframe tbody tr th:only-of-type {\n",
              "        vertical-align: middle;\n",
              "    }\n",
              "\n",
              "    .dataframe tbody tr th {\n",
              "        vertical-align: top;\n",
              "    }\n",
              "\n",
              "    .dataframe thead th {\n",
              "        text-align: right;\n",
              "    }\n",
              "</style>\n",
              "<table border=\"1\" class=\"dataframe\">\n",
              "  <thead>\n",
              "    <tr style=\"text-align: right;\">\n",
              "      <th></th>\n",
              "      <th>score</th>\n",
              "      <th>full_review</th>\n",
              "    </tr>\n",
              "  </thead>\n",
              "  <tbody>\n",
              "    <tr>\n",
              "      <th>16</th>\n",
              "      <td>6.0</td>\n",
              "      <td>\"Check-in was a mess\" Check-in was a mess. The...</td>\n",
              "    </tr>\n",
              "    <tr>\n",
              "      <th>92</th>\n",
              "      <td>6.0</td>\n",
              "      <td>\"checked size and weight of cabin bags\" Paris ...</td>\n",
              "    </tr>\n",
              "    <tr>\n",
              "      <th>124</th>\n",
              "      <td>6.0</td>\n",
              "      <td>\"My issue is with the baggage policy\" First, t...</td>\n",
              "    </tr>\n",
              "    <tr>\n",
              "      <th>133</th>\n",
              "      <td>6.0</td>\n",
              "      <td>\"Very poor business class\" Bought a seat in bu...</td>\n",
              "    </tr>\n",
              "    <tr>\n",
              "      <th>176</th>\n",
              "      <td>6.0</td>\n",
              "      <td>\"cabin looked very tired and in need of a refr...</td>\n",
              "    </tr>\n",
              "    <tr>\n",
              "      <th>...</th>\n",
              "      <td>...</td>\n",
              "      <td>...</td>\n",
              "    </tr>\n",
              "    <tr>\n",
              "      <th>8324</th>\n",
              "      <td>6.0</td>\n",
              "      <td>\"should improve some parts\" Wroclaw to Warsaw....</td>\n",
              "    </tr>\n",
              "    <tr>\n",
              "      <th>8348</th>\n",
              "      <td>6.0</td>\n",
              "      <td>\"I would fly with Ryanair again\" Rome to Stans...</td>\n",
              "    </tr>\n",
              "    <tr>\n",
              "      <th>8369</th>\n",
              "      <td>6.0</td>\n",
              "      <td>\"attitude of that wonderful lady\" Stansted to ...</td>\n",
              "    </tr>\n",
              "    <tr>\n",
              "      <th>8388</th>\n",
              "      <td>6.0</td>\n",
              "      <td>\"you cannot have high expectations\" Ryanair pr...</td>\n",
              "    </tr>\n",
              "    <tr>\n",
              "      <th>8403</th>\n",
              "      <td>6.0</td>\n",
              "      <td>\"value for money was great\" Ponta Delgada to L...</td>\n",
              "    </tr>\n",
              "  </tbody>\n",
              "</table>\n",
              "<p>358 rows × 2 columns</p>\n",
              "</div>\n",
              "      <button class=\"colab-df-convert\" onclick=\"convertToInteractive('df-5059f9fa-ccd1-4ad7-95d3-ed0e1c594c73')\"\n",
              "              title=\"Convert this dataframe to an interactive table.\"\n",
              "              style=\"display:none;\">\n",
              "        \n",
              "  <svg xmlns=\"http://www.w3.org/2000/svg\" height=\"24px\"viewBox=\"0 0 24 24\"\n",
              "       width=\"24px\">\n",
              "    <path d=\"M0 0h24v24H0V0z\" fill=\"none\"/>\n",
              "    <path d=\"M18.56 5.44l.94 2.06.94-2.06 2.06-.94-2.06-.94-.94-2.06-.94 2.06-2.06.94zm-11 1L8.5 8.5l.94-2.06 2.06-.94-2.06-.94L8.5 2.5l-.94 2.06-2.06.94zm10 10l.94 2.06.94-2.06 2.06-.94-2.06-.94-.94-2.06-.94 2.06-2.06.94z\"/><path d=\"M17.41 7.96l-1.37-1.37c-.4-.4-.92-.59-1.43-.59-.52 0-1.04.2-1.43.59L10.3 9.45l-7.72 7.72c-.78.78-.78 2.05 0 2.83L4 21.41c.39.39.9.59 1.41.59.51 0 1.02-.2 1.41-.59l7.78-7.78 2.81-2.81c.8-.78.8-2.07 0-2.86zM5.41 20L4 18.59l7.72-7.72 1.47 1.35L5.41 20z\"/>\n",
              "  </svg>\n",
              "      </button>\n",
              "      \n",
              "  <style>\n",
              "    .colab-df-container {\n",
              "      display:flex;\n",
              "      flex-wrap:wrap;\n",
              "      gap: 12px;\n",
              "    }\n",
              "\n",
              "    .colab-df-convert {\n",
              "      background-color: #E8F0FE;\n",
              "      border: none;\n",
              "      border-radius: 50%;\n",
              "      cursor: pointer;\n",
              "      display: none;\n",
              "      fill: #1967D2;\n",
              "      height: 32px;\n",
              "      padding: 0 0 0 0;\n",
              "      width: 32px;\n",
              "    }\n",
              "\n",
              "    .colab-df-convert:hover {\n",
              "      background-color: #E2EBFA;\n",
              "      box-shadow: 0px 1px 2px rgba(60, 64, 67, 0.3), 0px 1px 3px 1px rgba(60, 64, 67, 0.15);\n",
              "      fill: #174EA6;\n",
              "    }\n",
              "\n",
              "    [theme=dark] .colab-df-convert {\n",
              "      background-color: #3B4455;\n",
              "      fill: #D2E3FC;\n",
              "    }\n",
              "\n",
              "    [theme=dark] .colab-df-convert:hover {\n",
              "      background-color: #434B5C;\n",
              "      box-shadow: 0px 1px 3px 1px rgba(0, 0, 0, 0.15);\n",
              "      filter: drop-shadow(0px 1px 2px rgba(0, 0, 0, 0.3));\n",
              "      fill: #FFFFFF;\n",
              "    }\n",
              "  </style>\n",
              "\n",
              "      <script>\n",
              "        const buttonEl =\n",
              "          document.querySelector('#df-5059f9fa-ccd1-4ad7-95d3-ed0e1c594c73 button.colab-df-convert');\n",
              "        buttonEl.style.display =\n",
              "          google.colab.kernel.accessAllowed ? 'block' : 'none';\n",
              "\n",
              "        async function convertToInteractive(key) {\n",
              "          const element = document.querySelector('#df-5059f9fa-ccd1-4ad7-95d3-ed0e1c594c73');\n",
              "          const dataTable =\n",
              "            await google.colab.kernel.invokeFunction('convertToInteractive',\n",
              "                                                     [key], {});\n",
              "          if (!dataTable) return;\n",
              "\n",
              "          const docLinkHtml = 'Like what you see? Visit the ' +\n",
              "            '<a target=\"_blank\" href=https://colab.research.google.com/notebooks/data_table.ipynb>data table notebook</a>'\n",
              "            + ' to learn more about interactive tables.';\n",
              "          element.innerHTML = '';\n",
              "          dataTable['output_type'] = 'display_data';\n",
              "          await google.colab.output.renderOutput(dataTable, element);\n",
              "          const docLink = document.createElement('div');\n",
              "          docLink.innerHTML = docLinkHtml;\n",
              "          element.appendChild(docLink);\n",
              "        }\n",
              "      </script>\n",
              "    </div>\n",
              "  </div>\n",
              "  "
            ],
            "text/plain": [
              "      score                                        full_review\n",
              "16      6.0  \"Check-in was a mess\" Check-in was a mess. The...\n",
              "92      6.0  \"checked size and weight of cabin bags\" Paris ...\n",
              "124     6.0  \"My issue is with the baggage policy\" First, t...\n",
              "133     6.0  \"Very poor business class\" Bought a seat in bu...\n",
              "176     6.0  \"cabin looked very tired and in need of a refr...\n",
              "...     ...                                                ...\n",
              "8324    6.0  \"should improve some parts\" Wroclaw to Warsaw....\n",
              "8348    6.0  \"I would fly with Ryanair again\" Rome to Stans...\n",
              "8369    6.0  \"attitude of that wonderful lady\" Stansted to ...\n",
              "8388    6.0  \"you cannot have high expectations\" Ryanair pr...\n",
              "8403    6.0  \"value for money was great\" Ponta Delgada to L...\n",
              "\n",
              "[358 rows x 2 columns]"
            ]
          },
          "metadata": {},
          "execution_count": 47
        }
      ]
    },
    {
      "cell_type": "code",
      "source": [
        "# create binary label of reviews from scores giving on review\n",
        "'''\n",
        "If score is 7-10 is a good rating\n",
        "6 is neutral\n",
        "1-5 is bad\n",
        "\n",
        "If score is 7-10 then 1 (labeled good)\n",
        "if score is 6 these rows will be ignored\n",
        "if 1-5 then 0 (labeled bad)\n",
        "'''\n",
        "\n",
        "# filter our reviews with 6\n",
        "df_slimmer = df_slim[df_slim['score'] != 6]\n",
        "\n",
        "# label reviews\n",
        "labels = []\n",
        "for row in df_slimmer['score']:\n",
        "    if row <= 5:    labels.append(0) # bad reviews\n",
        "    else:   labels.append(1) # good reviews\n",
        "\n",
        "df_slimmer['label'] = labels\n"
      ],
      "metadata": {
        "colab": {
          "base_uri": "https://localhost:8080/"
        },
        "id": "5Lli6nYxXIVu",
        "outputId": "672193a7-a55b-4194-a69e-10a05801b6eb"
      },
      "execution_count": null,
      "outputs": [
        {
          "output_type": "stream",
          "name": "stderr",
          "text": [
            "/usr/local/lib/python3.7/dist-packages/ipykernel_launcher.py:21: SettingWithCopyWarning: \n",
            "A value is trying to be set on a copy of a slice from a DataFrame.\n",
            "Try using .loc[row_indexer,col_indexer] = value instead\n",
            "\n",
            "See the caveats in the documentation: https://pandas.pydata.org/pandas-docs/stable/user_guide/indexing.html#returning-a-view-versus-a-copy\n"
          ]
        }
      ]
    },
    {
      "cell_type": "markdown",
      "source": [
        "## Lemmatization"
      ],
      "metadata": {
        "id": "aOATeikZboBE"
      }
    },
    {
      "cell_type": "code",
      "source": [
        "# lower case\n",
        "df_slimmer['lower_case'] = df_slimmer['full_review'].apply(lambda x: ' '.join(x.lower() for x in str(x).split()))\n",
        "# remove possible HTML tags and any URLS\n",
        "from bs4 import BeautifulSoup\n",
        "df_slimmer['pre_process']=df_slimmer['lower_case'].apply(lambda x: BeautifulSoup(x).get_text())\n",
        "import re\n",
        "df_slimmer['pre_process']=df_slimmer['pre_process'].apply(lambda x: re.sub(r\"http\\S+\", '', x))\n",
        "# contractions\n",
        "def contractions(s):\n",
        " s = re.sub(r\"won’t\", \"will not\",s)\n",
        " s = re.sub(r\"-\", \" to \",s) # for things like CDG-ATL\n",
        " s = re.sub(r\"would’t\", \"would not\",s)\n",
        " s = re.sub(r\"could’t\", \"could not\",s)\n",
        " s = re.sub(r\"cannot\", \"can not\",s)\n",
        " s = re.sub(r\"\\’d\", \" would\",s)\n",
        " s = re.sub(r\"can\\’t\", \"can not\",s)\n",
        " s = re.sub(r\"n\\’t\", \" not\", s)\n",
        " s= re.sub(r\"\\’re\", \" are\", s)\n",
        " s = re.sub(r\"\\’s\", \" is\", s)\n",
        " s = re.sub(r\"\\’ll\", \" will\", s)\n",
        " s = re.sub(r\"\\’t\", \" not\", s)\n",
        " s = re.sub(r\"\\’ve\", \" have\", s)\n",
        " s = re.sub(r\"\\’m\", \" am\", s)\n",
        " return s\n",
        "\n",
        "# replace contractions\n",
        "df_slimmer['pre_process'] = df_slimmer['pre_process'].apply(lambda x:contractions(x))\n",
        "# remove non-alphabet characters\n",
        "nltk.download('punkt')\n",
        "df_slimmer['pre_process'] = df_slimmer['pre_process'].apply(lambda x: \" \".join([re.sub(\"[^A-Za-z]+\",\"\", x) for x in nltk.word_tokenize(x)]))\n",
        "df_slimmer = df_slimmer[['score', 'label', 'full_review', 'pre_process']]\n",
        "# remove extra spaces\n",
        "df_slimmer['pre_process'] = df_slimmer['pre_process'].apply(lambda x: re.sub(' +', \" \", x))\n",
        "# remove stop words\n",
        "nltk.download('stopwords')\n",
        "from nltk.corpus import stopwords\n",
        "\n",
        "stop = stopwords.words(\"english\")\n",
        "df_slimmer['pre_process'] = df_slimmer['pre_process'].apply(lambda x: \" \".join([x for x in x.split() if x not in stop]))\n",
        "# lemmatization\n",
        "nltk.download('wordnet')\n",
        "from nltk.stem import WordNetLemmatizer\n",
        "\n",
        "lemmatizer = WordNetLemmatizer()\n",
        "df_slimmer['pre_process'] = df_slimmer['pre_process'].apply(lambda x: \" \".join([lemmatizer.lemmatize(w) for w in nltk.word_tokenize(x)]))\n",
        "# pass over ready df\n",
        "df_pp = df_slimmer[['score', 'label', 'pre_process']]"
      ],
      "metadata": {
        "id": "C-m2j1KzkSw4",
        "colab": {
          "base_uri": "https://localhost:8080/"
        },
        "outputId": "65df8658-f933-409d-c047-7d74181cb12d"
      },
      "execution_count": null,
      "outputs": [
        {
          "output_type": "stream",
          "name": "stderr",
          "text": [
            "/usr/local/lib/python3.7/dist-packages/ipykernel_launcher.py:2: SettingWithCopyWarning: \n",
            "A value is trying to be set on a copy of a slice from a DataFrame.\n",
            "Try using .loc[row_indexer,col_indexer] = value instead\n",
            "\n",
            "See the caveats in the documentation: https://pandas.pydata.org/pandas-docs/stable/user_guide/indexing.html#returning-a-view-versus-a-copy\n",
            "  \n",
            "/usr/local/lib/python3.7/dist-packages/ipykernel_launcher.py:5: SettingWithCopyWarning: \n",
            "A value is trying to be set on a copy of a slice from a DataFrame.\n",
            "Try using .loc[row_indexer,col_indexer] = value instead\n",
            "\n",
            "See the caveats in the documentation: https://pandas.pydata.org/pandas-docs/stable/user_guide/indexing.html#returning-a-view-versus-a-copy\n",
            "  \"\"\"\n",
            "/usr/local/lib/python3.7/dist-packages/ipykernel_launcher.py:7: SettingWithCopyWarning: \n",
            "A value is trying to be set on a copy of a slice from a DataFrame.\n",
            "Try using .loc[row_indexer,col_indexer] = value instead\n",
            "\n",
            "See the caveats in the documentation: https://pandas.pydata.org/pandas-docs/stable/user_guide/indexing.html#returning-a-view-versus-a-copy\n",
            "  import sys\n",
            "/usr/local/lib/python3.7/dist-packages/ipykernel_launcher.py:27: SettingWithCopyWarning: \n",
            "A value is trying to be set on a copy of a slice from a DataFrame.\n",
            "Try using .loc[row_indexer,col_indexer] = value instead\n",
            "\n",
            "See the caveats in the documentation: https://pandas.pydata.org/pandas-docs/stable/user_guide/indexing.html#returning-a-view-versus-a-copy\n"
          ]
        },
        {
          "output_type": "stream",
          "name": "stdout",
          "text": [
            "[nltk_data] Downloading package punkt to /root/nltk_data...\n",
            "[nltk_data]   Package punkt is already up-to-date!\n"
          ]
        },
        {
          "output_type": "stream",
          "name": "stderr",
          "text": [
            "/usr/local/lib/python3.7/dist-packages/ipykernel_launcher.py:30: SettingWithCopyWarning: \n",
            "A value is trying to be set on a copy of a slice from a DataFrame.\n",
            "Try using .loc[row_indexer,col_indexer] = value instead\n",
            "\n",
            "See the caveats in the documentation: https://pandas.pydata.org/pandas-docs/stable/user_guide/indexing.html#returning-a-view-versus-a-copy\n"
          ]
        },
        {
          "output_type": "stream",
          "name": "stdout",
          "text": [
            "[nltk_data] Downloading package stopwords to /root/nltk_data...\n",
            "[nltk_data]   Package stopwords is already up-to-date!\n",
            "[nltk_data] Downloading package wordnet to /root/nltk_data...\n",
            "[nltk_data]   Package wordnet is already up-to-date!\n"
          ]
        }
      ]
    },
    {
      "cell_type": "markdown",
      "source": [
        "# TD IDF + Classifiers Feature Extraction"
      ],
      "metadata": {
        "id": "7ryPhnC8vttb"
      }
    },
    {
      "cell_type": "markdown",
      "source": [
        "## TD IDF Vector/Matrix"
      ],
      "metadata": {
        "id": "Rkpvo4SHziRg"
      }
    },
    {
      "cell_type": "code",
      "source": [
        "# renaming columns to not get it twisted \n",
        "df_pp = df_pp.rename(columns={'pre_process': 'lemmatized'})"
      ],
      "metadata": {
        "id": "kogatGK3v0xk"
      },
      "execution_count": null,
      "outputs": []
    },
    {
      "cell_type": "code",
      "source": [
        "# TD IDF using scikitlearn\n",
        "from sklearn.model_selection import train_test_split\n",
        "\n",
        "# split data\n",
        "X_train,X_test,Y_train, Y_test = train_test_split(df_pp['lemmatized'], df_pp['label'], test_size=0.25, random_state=30)\n",
        "print(\"Train: \",X_train.shape,Y_train.shape, \"Test: \",(X_test.shape,Y_test.shape))"
      ],
      "metadata": {
        "colab": {
          "base_uri": "https://localhost:8080/"
        },
        "id": "GmBAJ5ojwUuX",
        "outputId": "3613d8d8-5489-437e-d8d9-48090ffc26ca"
      },
      "execution_count": null,
      "outputs": [
        {
          "output_type": "stream",
          "name": "stdout",
          "text": [
            "Train:  (6048,) (6048,) Test:  ((2017,), (2017,))\n"
          ]
        }
      ]
    },
    {
      "cell_type": "code",
      "source": [
        "# TD IDF vectorizer\n",
        "print(\"TFIDF Vectorizer……\")\n",
        "\n",
        "from sklearn.feature_extraction.text import TfidfVectorizer\n",
        "\n",
        "vectorizer= TfidfVectorizer()\n",
        "tf_x_train = vectorizer.fit_transform(X_train)\n",
        "tf_x_test = vectorizer.transform(X_test)\n",
        "print(\" done!\")"
      ],
      "metadata": {
        "colab": {
          "base_uri": "https://localhost:8080/"
        },
        "id": "KI4xddS_xe3u",
        "outputId": "81aea86f-553f-4016-fe4d-efa8a5c6f1cb"
      },
      "execution_count": null,
      "outputs": [
        {
          "output_type": "stream",
          "name": "stdout",
          "text": [
            "TFIDF Vectorizer……\n",
            " done!\n"
          ]
        }
      ]
    },
    {
      "cell_type": "markdown",
      "source": [
        "## SVM"
      ],
      "metadata": {
        "id": "tlD82suMzb82"
      }
    },
    {
      "cell_type": "code",
      "source": [
        "# SVM\n",
        "from sklearn.svm import LinearSVC\n",
        "\n",
        "svm = LinearSVC(random_state=0)"
      ],
      "metadata": {
        "id": "krJOxGttx_UF"
      },
      "execution_count": null,
      "outputs": []
    },
    {
      "cell_type": "code",
      "source": [
        "# fit training data into the model\n",
        "svm.fit(tf_x_train,Y_train)"
      ],
      "metadata": {
        "colab": {
          "base_uri": "https://localhost:8080/"
        },
        "id": "8i5E22X-yag-",
        "outputId": "4e99268b-4ab7-4bd6-c446-1f4fa38d0a4e"
      },
      "execution_count": null,
      "outputs": [
        {
          "output_type": "execute_result",
          "data": {
            "text/plain": [
              "LinearSVC(random_state=0)"
            ]
          },
          "metadata": {},
          "execution_count": 166
        }
      ]
    },
    {
      "cell_type": "code",
      "source": [
        "# predict test data\n",
        "y_test_pred = svm.predict(tf_x_test)\n"
      ],
      "metadata": {
        "id": "Ijv_qOfSydCG"
      },
      "execution_count": null,
      "outputs": []
    },
    {
      "cell_type": "code",
      "source": [
        "# analyze results\n",
        "from sklearn.metrics import classification_report\n",
        "\n",
        "report = classification_report(Y_test, y_test_pred, output_dict=True)"
      ],
      "metadata": {
        "id": "xvbtwftHyiS-"
      },
      "execution_count": null,
      "outputs": []
    },
    {
      "cell_type": "code",
      "source": [
        "report"
      ],
      "metadata": {
        "colab": {
          "base_uri": "https://localhost:8080/"
        },
        "id": "sjHfrRgbyiLi",
        "outputId": "2f6c8a7d-f100-481e-a3c5-272edc05739d"
      },
      "execution_count": null,
      "outputs": [
        {
          "output_type": "execute_result",
          "data": {
            "text/plain": [
              "{'0': {'f1-score': 0.9298162976919454,\n",
              "  'precision': 0.9293785310734464,\n",
              "  'recall': 0.9302544769085768,\n",
              "  'support': 1061},\n",
              " '1': {'f1-score': 0.9220303506017792,\n",
              "  'precision': 0.9225130890052357,\n",
              "  'recall': 0.9215481171548117,\n",
              "  'support': 956},\n",
              " 'accuracy': 0.9261279127416956,\n",
              " 'macro avg': {'f1-score': 0.9259233241468623,\n",
              "  'precision': 0.925945810039341,\n",
              "  'recall': 0.9259012970316942,\n",
              "  'support': 2017},\n",
              " 'weighted avg': {'f1-score': 0.9261259826606122,\n",
              "  'precision': 0.9261245089528666,\n",
              "  'recall': 0.9261279127416956,\n",
              "  'support': 2017}}"
            ]
          },
          "metadata": {},
          "execution_count": 170
        }
      ]
    },
    {
      "cell_type": "markdown",
      "source": [
        "## Logistic Regression"
      ],
      "metadata": {
        "id": "Dw4OwcZPzd95"
      }
    },
    {
      "cell_type": "code",
      "source": [
        "# logistic regression\n",
        "from sklearn.linear_model import LogisticRegression\n",
        "logisticr = LogisticRegression(max_iter=1000,solver=\"saga\")"
      ],
      "metadata": {
        "id": "ei8zJDV5zf1a"
      },
      "execution_count": null,
      "outputs": []
    },
    {
      "cell_type": "code",
      "source": [
        "# fit model to trainning data\n",
        "logisticr.fit(tf_x_train,Y_train)"
      ],
      "metadata": {
        "colab": {
          "base_uri": "https://localhost:8080/"
        },
        "id": "5i4FHWq8zuVV",
        "outputId": "91c64861-8534-4580-b06e-5c8285113d35"
      },
      "execution_count": null,
      "outputs": [
        {
          "output_type": "execute_result",
          "data": {
            "text/plain": [
              "LogisticRegression(max_iter=1000, solver='saga')"
            ]
          },
          "metadata": {},
          "execution_count": 68
        }
      ]
    },
    {
      "cell_type": "code",
      "source": [
        "# predicting the test data\n",
        "y_test_pred = logisticr.predict(tf_x_test)"
      ],
      "metadata": {
        "id": "DZ_tYNlOz5kW"
      },
      "execution_count": null,
      "outputs": []
    },
    {
      "cell_type": "code",
      "source": [
        "# analyze results\n",
        "from sklearn.metrics import classification_report\n",
        "report = classification_report(Y_test, y_test_pred, output_dict=True)"
      ],
      "metadata": {
        "id": "Y8yqmu3Lz-6R"
      },
      "execution_count": null,
      "outputs": []
    },
    {
      "cell_type": "code",
      "source": [
        "report"
      ],
      "metadata": {
        "colab": {
          "base_uri": "https://localhost:8080/"
        },
        "id": "4mvH1EBe0DVW",
        "outputId": "39298b8e-eb45-4c5b-c786-71d88a17d18c"
      },
      "execution_count": null,
      "outputs": [
        {
          "output_type": "execute_result",
          "data": {
            "text/plain": [
              "{'0': {'f1-score': 0.9238721804511278,\n",
              "  'precision': 0.9212746016869728,\n",
              "  'recall': 0.9264844486333648,\n",
              "  'support': 1061},\n",
              " '1': {'f1-score': 0.9150052465897167,\n",
              "  'precision': 0.9178947368421052,\n",
              "  'recall': 0.9121338912133892,\n",
              "  'support': 956},\n",
              " 'accuracy': 0.9196826970748636,\n",
              " 'macro avg': {'f1-score': 0.9194387135204223,\n",
              "  'precision': 0.9195846692645391,\n",
              "  'recall': 0.919309169923377,\n",
              "  'support': 2017},\n",
              " 'weighted avg': {'f1-score': 0.9196695087746236,\n",
              "  'precision': 0.9196726429404714,\n",
              "  'recall': 0.9196826970748636,\n",
              "  'support': 2017}}"
            ]
          },
          "metadata": {},
          "execution_count": 71
        }
      ]
    },
    {
      "cell_type": "code",
      "source": [
        "# save the model\n",
        "filename = 'logisticsr_classifier.sav'\n",
        "pickle.dump(logisticr, open(filename, 'wb'))"
      ],
      "metadata": {
        "id": "BLm74vhn1WzZ"
      },
      "execution_count": null,
      "outputs": []
    },
    {
      "cell_type": "markdown",
      "source": [
        "## Random Forests"
      ],
      "metadata": {
        "id": "htC42czs0dy4"
      }
    },
    {
      "cell_type": "code",
      "source": [
        "# Random Forests\n",
        "from sklearn.ensemble import RandomForestClassifier\n",
        "clf = RandomForestClassifier(max_depth=20, n_estimators=1000, random_state=0)"
      ],
      "metadata": {
        "id": "tG-E-NBW0koJ"
      },
      "execution_count": null,
      "outputs": []
    },
    {
      "cell_type": "code",
      "source": [
        "# fit model to trainning data\n",
        "clf.fit(tf_x_train,Y_train)"
      ],
      "metadata": {
        "colab": {
          "base_uri": "https://localhost:8080/"
        },
        "outputId": "209e2af8-d823-42a1-9c96-2c0cc75f89f8",
        "id": "0G4uT0Rl0koJ"
      },
      "execution_count": null,
      "outputs": [
        {
          "output_type": "execute_result",
          "data": {
            "text/plain": [
              "RandomForestClassifier(max_depth=20, n_estimators=1000, random_state=0)"
            ]
          },
          "metadata": {},
          "execution_count": 117
        }
      ]
    },
    {
      "cell_type": "code",
      "source": [
        "# predicting the test data\n",
        "y_test_pred = clf.predict(tf_x_test)"
      ],
      "metadata": {
        "id": "IDBkDkmX0koK"
      },
      "execution_count": null,
      "outputs": []
    },
    {
      "cell_type": "code",
      "source": [
        "# analyze results\n",
        "from sklearn.metrics import classification_report\n",
        "report = classification_report(Y_test, y_test_pred, output_dict=True)"
      ],
      "metadata": {
        "id": "Z3f7ATcf0koK"
      },
      "execution_count": null,
      "outputs": []
    },
    {
      "cell_type": "code",
      "source": [
        "report"
      ],
      "metadata": {
        "colab": {
          "base_uri": "https://localhost:8080/"
        },
        "outputId": "3d95d520-b369-457a-b0f9-0262297f3cc2",
        "id": "wSrVl65i0koK"
      },
      "execution_count": null,
      "outputs": [
        {
          "output_type": "execute_result",
          "data": {
            "text/plain": [
              "{'0': {'f1-score': 0.886255924170616,\n",
              "  'precision': 0.8913250714966635,\n",
              "  'recall': 0.88124410933082,\n",
              "  'support': 1061},\n",
              " '1': {'f1-score': 0.8752598752598754,\n",
              "  'precision': 0.8698347107438017,\n",
              "  'recall': 0.8807531380753139,\n",
              "  'support': 956},\n",
              " 'accuracy': 0.881011403073872,\n",
              " 'macro avg': {'f1-score': 0.8807578997152457,\n",
              "  'precision': 0.8805798911202326,\n",
              "  'recall': 0.8809986237030669,\n",
              "  'support': 2017},\n",
              " 'weighted avg': {'f1-score': 0.8810441131846626,\n",
              "  'precision': 0.881139258467543,\n",
              "  'recall': 0.881011403073872,\n",
              "  'support': 2017}}"
            ]
          },
          "metadata": {},
          "execution_count": 120
        }
      ]
    },
    {
      "cell_type": "markdown",
      "source": [
        "### RF + GridSearch + CV"
      ],
      "metadata": {
        "id": "jKz8Gqiv2G8H"
      }
    },
    {
      "cell_type": "code",
      "source": [
        "# initialize gridsearch model\n",
        "\n",
        "from sklearn.model_selection import GridSearchCV\n",
        "# Create the parameter grid based on the results of random search \n",
        "param_grid = {\n",
        "    'bootstrap': [True],\n",
        "    'max_depth': [20, 30, 40, 50, 100],\n",
        "    'max_features': [3, 4, 5],\n",
        "    'min_samples_leaf': [3, 4, 5],\n",
        "    'min_samples_split': [4, 8, 10],\n",
        "    'n_estimators': [100, 500, 1000]\n",
        "}\n",
        "# Create a based model\n",
        "rf = RandomForestClassifier()\n",
        "# Instantiate the grid search model\n",
        "grid_search = GridSearchCV(estimator = rf, param_grid = param_grid, \n",
        "                          cv = 3, n_jobs = 5, verbose = True)"
      ],
      "metadata": {
        "id": "IQ9YZTgN2GMu"
      },
      "execution_count": null,
      "outputs": []
    },
    {
      "cell_type": "code",
      "source": [
        "# Fit the grid search to the data\n",
        "grid_search.fit(tf_x_train, Y_train)\n",
        "grid_search.best_params_\n",
        "# {'bootstrap': True,\n",
        "#  'max_depth': 50,\n",
        "#  'max_features': 5,\n",
        "#  'min_samples_leaf': 3,\n",
        "#  'min_samples_split': 4,\n",
        "#  'n_estimators': 100}"
      ],
      "metadata": {
        "colab": {
          "base_uri": "https://localhost:8080/"
        },
        "id": "f2zUldB-3MWH",
        "outputId": "b4d88476-ed44-4e53-8c2d-71aeaa7ef13e"
      },
      "execution_count": null,
      "outputs": [
        {
          "output_type": "stream",
          "name": "stdout",
          "text": [
            "Fitting 3 folds for each of 405 candidates, totalling 1215 fits\n",
            "CPU times: user 4 µs, sys: 0 ns, total: 4 µs\n",
            "Wall time: 6.68 µs\n"
          ]
        }
      ]
    },
    {
      "cell_type": "code",
      "source": [
        "grid_search.best_params_"
      ],
      "metadata": {
        "colab": {
          "base_uri": "https://localhost:8080/"
        },
        "id": "f3IHPLrke4gq",
        "outputId": "3f7aa6ad-923c-44c4-dbb3-81ba8b20518b"
      },
      "execution_count": null,
      "outputs": [
        {
          "output_type": "execute_result",
          "data": {
            "text/plain": [
              "{'bootstrap': True,\n",
              " 'max_depth': 50,\n",
              " 'max_features': 5,\n",
              " 'min_samples_leaf': 3,\n",
              " 'min_samples_split': 4,\n",
              " 'n_estimators': 100}"
            ]
          },
          "metadata": {},
          "execution_count": 139
        }
      ]
    },
    {
      "cell_type": "code",
      "source": [
        "# Random Forests\n",
        "from sklearn.ensemble import RandomForestClassifier\n",
        "clf = RandomForestClassifier(max_depth=50, n_estimators=1000, random_state=0)"
      ],
      "metadata": {
        "id": "TlvNL3Sxfe7v"
      },
      "execution_count": null,
      "outputs": []
    },
    {
      "cell_type": "code",
      "source": [
        "# fit model to trainning data\n",
        "clf.fit(tf_x_train,Y_train)"
      ],
      "metadata": {
        "colab": {
          "base_uri": "https://localhost:8080/"
        },
        "outputId": "86dfb124-e30a-487d-f52d-78ac0d58ae8e",
        "id": "CQ0kWdHdfe7v"
      },
      "execution_count": null,
      "outputs": [
        {
          "output_type": "execute_result",
          "data": {
            "text/plain": [
              "RandomForestClassifier(max_depth=50, n_estimators=1000, random_state=0)"
            ]
          },
          "metadata": {},
          "execution_count": 156
        }
      ]
    },
    {
      "cell_type": "code",
      "source": [
        "# predicting the test data\n",
        "y_test_pred = clf.predict(tf_x_test)"
      ],
      "metadata": {
        "id": "yVXg7ZAJfe7w"
      },
      "execution_count": null,
      "outputs": []
    },
    {
      "cell_type": "code",
      "source": [
        "# analyze results\n",
        "from sklearn.metrics import classification_report\n",
        "report = classification_report(Y_test, y_test_pred, output_dict=True)"
      ],
      "metadata": {
        "id": "H6RhsYUVfe7w"
      },
      "execution_count": null,
      "outputs": []
    },
    {
      "cell_type": "code",
      "source": [
        "report"
      ],
      "metadata": {
        "colab": {
          "base_uri": "https://localhost:8080/"
        },
        "outputId": "181a8125-ec9d-4ab9-c7c5-a1ccec58cf3d",
        "id": "9BYcyguVfe7w"
      },
      "execution_count": null,
      "outputs": [
        {
          "output_type": "execute_result",
          "data": {
            "text/plain": [
              "{'0': {'f1-score': 0.893657606103958,\n",
              "  'precision': 0.9044401544401545,\n",
              "  'recall': 0.883129123468426,\n",
              "  'support': 1061},\n",
              " '1': {'f1-score': 0.8848735157459989,\n",
              "  'precision': 0.873598369011213,\n",
              "  'recall': 0.8964435146443515,\n",
              "  'support': 956},\n",
              " 'accuracy': 0.8894397620228062,\n",
              " 'macro avg': {'f1-score': 0.8892655609249784,\n",
              "  'precision': 0.8890192617256838,\n",
              "  'recall': 0.8897863190563887,\n",
              "  'support': 2017},\n",
              " 'weighted avg': {'f1-score': 0.8894941998658772,\n",
              "  'precision': 0.8898220350201901,\n",
              "  'recall': 0.8894397620228062,\n",
              "  'support': 2017}}"
            ]
          },
          "metadata": {},
          "execution_count": 159
        }
      ]
    },
    {
      "cell_type": "markdown",
      "source": [
        "## XGBoost"
      ],
      "metadata": {
        "id": "SOyiPypREoIF"
      }
    },
    {
      "cell_type": "code",
      "source": [
        "import warnings\n",
        "warnings.filterwarnings('ignore')\n",
        "import numpy as np\n",
        "import pandas as pd\n",
        "from datetime import datetime\n",
        "from sklearn.model_selection import RandomizedSearchCV, GridSearchCV\n",
        "from sklearn.metrics import roc_auc_score\n",
        "from sklearn.model_selection import StratifiedKFold\n",
        "from xgboost import XGBClassifier\n",
        "\n",
        "\n",
        "# parameter grid\n",
        "parameters = {'nthread':[4], #when use hyperthread, xgboost may become slower\n",
        "              'objective':['binary:logistic'],\n",
        "              'learning_rate': [0.01, 0.02, 0.03, 0.05, 0.1], #so called `eta` value\n",
        "              'max_depth': [5, 6, 7, 8],\n",
        "              'min_child_weight': [8, 10, 11],\n",
        "              'silent': [1],\n",
        "              'subsample': [0.8, 0.9],\n",
        "              'colsample_bytree': [0.7],\n",
        "              'n_estimators': [800, 900, 1000]\n",
        "              }\n",
        "\n",
        "xgb = XGBClassifier(learning_rate=0.02, n_estimators=600, objective='binary:logistic',\n",
        "                    silent=True, nthread=1)\n",
        "\n",
        "folds = 3\n",
        "param_comb = 5\n",
        "\n",
        "skf = StratifiedKFold(n_splits=folds, shuffle = True, random_state = 1001)\n",
        "\n",
        "random_search = RandomizedSearchCV(xgb, param_distributions=parameters, n_iter=param_comb, scoring='roc_auc', n_jobs=4, cv=skf.split(tf_x_train, Y_train), verbose=3, random_state=1001 )\n",
        "\n",
        "# fit model with GS-CV\n",
        "random_search.fit(tf_x_train, Y_train)\n",
        "%time"
      ],
      "metadata": {
        "colab": {
          "base_uri": "https://localhost:8080/"
        },
        "id": "YzDhY2rxKc0p",
        "outputId": "07dd679b-6d26-461a-89aa-968f9cb19c4a"
      },
      "execution_count": null,
      "outputs": [
        {
          "output_type": "stream",
          "name": "stdout",
          "text": [
            "CPU times: user 4 µs, sys: 0 ns, total: 4 µs\n",
            "Wall time: 8.82 µs\n",
            "Fitting 3 folds for each of 5 candidates, totalling 15 fits\n"
          ]
        },
        {
          "output_type": "execute_result",
          "data": {
            "text/plain": [
              "RandomizedSearchCV(cv=<generator object _BaseKFold.split at 0x7fec178d6950>,\n",
              "                   estimator=XGBClassifier(learning_rate=0.02, n_estimators=600,\n",
              "                                           nthread=1, silent=True),\n",
              "                   n_iter=5, n_jobs=4,\n",
              "                   param_distributions={'colsample_bytree': [0.7],\n",
              "                                        'learning_rate': [0.01, 0.02, 0.03,\n",
              "                                                          0.05, 0.1],\n",
              "                                        'max_depth': [5, 6, 7, 8],\n",
              "                                        'min_child_weight': [8, 10, 11],\n",
              "                                        'n_estimators': [800, 900, 1000],\n",
              "                                        'nthread': [4],\n",
              "                                        'objective': ['binary:logistic'],\n",
              "                                        'silent': [1],\n",
              "                                        'subsample': [0.8, 0.9]},\n",
              "                   random_state=1001, scoring='roc_auc', verbose=3)"
            ]
          },
          "metadata": {},
          "execution_count": 131
        }
      ]
    },
    {
      "cell_type": "code",
      "source": [
        "print('\\n All results:')\n",
        "print(random_search.cv_results_)\n",
        "print('\\n Best estimator:')\n",
        "print(random_search.best_estimator_)\n",
        "print('\\n Best normalized gini score for %d-fold search with %d parameter combinations:' % (folds, param_comb))\n",
        "print(random_search.best_score_ * 2 - 1)\n",
        "print('\\n Best hyperparameters:')\n",
        "print(random_search.best_params_)\n",
        "results = pd.DataFrame(random_search.cv_results_)\n",
        "results.to_csv('xgb-random-grid-search-results-01.csv', index=False)"
      ],
      "metadata": {
        "colab": {
          "base_uri": "https://localhost:8080/"
        },
        "id": "-t7Emu1wQnR2",
        "outputId": "de01d3cd-b82a-4b32-f9d5-2c2db7aa9795"
      },
      "execution_count": null,
      "outputs": [
        {
          "output_type": "stream",
          "name": "stdout",
          "text": [
            "\n",
            " All results:\n",
            "{'mean_fit_time': array([141.12503552, 195.3893737 , 201.83231362, 202.55778003,\n",
            "       142.68639787]), 'std_fit_time': array([0.43400143, 0.63233834, 1.12968749, 0.57291537, 2.47800802]), 'mean_score_time': array([0.61430184, 0.96983918, 0.87197741, 0.87802625, 0.28128171]), 'std_score_time': array([0.10817371, 0.07958129, 0.0695021 , 0.0592604 , 0.13069639]), 'param_subsample': masked_array(data=[0.8, 0.9, 0.9, 0.8, 0.9],\n",
            "             mask=[False, False, False, False, False],\n",
            "       fill_value='?',\n",
            "            dtype=object), 'param_silent': masked_array(data=[1, 1, 1, 1, 1],\n",
            "             mask=[False, False, False, False, False],\n",
            "       fill_value='?',\n",
            "            dtype=object), 'param_objective': masked_array(data=['binary:logistic', 'binary:logistic',\n",
            "                   'binary:logistic', 'binary:logistic',\n",
            "                   'binary:logistic'],\n",
            "             mask=[False, False, False, False, False],\n",
            "       fill_value='?',\n",
            "            dtype=object), 'param_nthread': masked_array(data=[4, 4, 4, 4, 4],\n",
            "             mask=[False, False, False, False, False],\n",
            "       fill_value='?',\n",
            "            dtype=object), 'param_n_estimators': masked_array(data=[800, 1000, 800, 900, 900],\n",
            "             mask=[False, False, False, False, False],\n",
            "       fill_value='?',\n",
            "            dtype=object), 'param_min_child_weight': masked_array(data=[11, 10, 8, 11, 11],\n",
            "             mask=[False, False, False, False, False],\n",
            "       fill_value='?',\n",
            "            dtype=object), 'param_max_depth': masked_array(data=[6, 7, 8, 8, 7],\n",
            "             mask=[False, False, False, False, False],\n",
            "       fill_value='?',\n",
            "            dtype=object), 'param_learning_rate': masked_array(data=[0.05, 0.1, 0.01, 0.05, 0.05],\n",
            "             mask=[False, False, False, False, False],\n",
            "       fill_value='?',\n",
            "            dtype=object), 'param_colsample_bytree': masked_array(data=[0.7, 0.7, 0.7, 0.7, 0.7],\n",
            "             mask=[False, False, False, False, False],\n",
            "       fill_value='?',\n",
            "            dtype=object), 'params': [{'subsample': 0.8, 'silent': 1, 'objective': 'binary:logistic', 'nthread': 4, 'n_estimators': 800, 'min_child_weight': 11, 'max_depth': 6, 'learning_rate': 0.05, 'colsample_bytree': 0.7}, {'subsample': 0.9, 'silent': 1, 'objective': 'binary:logistic', 'nthread': 4, 'n_estimators': 1000, 'min_child_weight': 10, 'max_depth': 7, 'learning_rate': 0.1, 'colsample_bytree': 0.7}, {'subsample': 0.9, 'silent': 1, 'objective': 'binary:logistic', 'nthread': 4, 'n_estimators': 800, 'min_child_weight': 8, 'max_depth': 8, 'learning_rate': 0.01, 'colsample_bytree': 0.7}, {'subsample': 0.8, 'silent': 1, 'objective': 'binary:logistic', 'nthread': 4, 'n_estimators': 900, 'min_child_weight': 11, 'max_depth': 8, 'learning_rate': 0.05, 'colsample_bytree': 0.7}, {'subsample': 0.9, 'silent': 1, 'objective': 'binary:logistic', 'nthread': 4, 'n_estimators': 900, 'min_child_weight': 11, 'max_depth': 7, 'learning_rate': 0.05, 'colsample_bytree': 0.7}], 'split0_test_score': array([0.94103527, 0.93599257, 0.94399535, 0.93794687, 0.94080727]), 'split1_test_score': array([0.93802978, 0.93373426, 0.94378314, 0.93492461, 0.93850158]), 'split2_test_score': array([0.95008034, 0.94723476, 0.95169116, 0.94732655, 0.9494526 ]), 'mean_test_score': array([0.94304847, 0.9389872 , 0.94648988, 0.94006601, 0.94292048]), 'std_test_score': array([0.00512144, 0.00590433, 0.00367888, 0.00528016, 0.00471384]), 'rank_test_score': array([2, 5, 1, 4, 3], dtype=int32)}\n",
            "\n",
            " Best estimator:\n",
            "XGBClassifier(colsample_bytree=0.7, learning_rate=0.01, max_depth=8,\n",
            "              min_child_weight=8, n_estimators=800, nthread=4, silent=1,\n",
            "              subsample=0.9)\n",
            "\n",
            " Best normalized gini score for 3-fold search with 5 parameter combinations:\n",
            "0.8929797686682173\n",
            "\n",
            " Best hyperparameters:\n",
            "{'subsample': 0.9, 'silent': 1, 'objective': 'binary:logistic', 'nthread': 4, 'n_estimators': 800, 'min_child_weight': 8, 'max_depth': 8, 'learning_rate': 0.01, 'colsample_bytree': 0.7}\n"
          ]
        }
      ]
    },
    {
      "cell_type": "code",
      "source": [
        "# predicting the test data\n",
        "y_test_pred = random_search.predict(tf_x_test)"
      ],
      "metadata": {
        "id": "foJOu7OdWyoX"
      },
      "execution_count": null,
      "outputs": []
    },
    {
      "cell_type": "code",
      "source": [
        "# analyze results\n",
        "from sklearn.metrics import classification_report\n",
        "report = classification_report(Y_test, y_test_pred, output_dict=True)"
      ],
      "metadata": {
        "id": "jWn52W0-WyoX"
      },
      "execution_count": null,
      "outputs": []
    },
    {
      "cell_type": "code",
      "source": [
        "report"
      ],
      "metadata": {
        "colab": {
          "base_uri": "https://localhost:8080/"
        },
        "outputId": "7beed48a-9d42-40b5-f672-48800050d4c0",
        "id": "ZZvlpBRZWyoX"
      },
      "execution_count": null,
      "outputs": [
        {
          "output_type": "execute_result",
          "data": {
            "text/plain": [
              "{'0': {'f1-score': 0.899526066350711,\n",
              "  'precision': 0.9046711153479504,\n",
              "  'recall': 0.8944392082940622,\n",
              "  'support': 1061},\n",
              " '1': {'f1-score': 0.8898128898128899,\n",
              "  'precision': 0.8842975206611571,\n",
              "  'recall': 0.895397489539749,\n",
              "  'support': 956},\n",
              " 'accuracy': 0.894893406048587,\n",
              " 'macro avg': {'f1-score': 0.8946694780818004,\n",
              "  'precision': 0.8944843180045537,\n",
              "  'recall': 0.8949183489169056,\n",
              "  'support': 2017},\n",
              " 'weighted avg': {'f1-score': 0.8949222999797853,\n",
              "  'precision': 0.8950146173208932,\n",
              "  'recall': 0.894893406048587,\n",
              "  'support': 2017}}"
            ]
          },
          "metadata": {},
          "execution_count": 135
        }
      ]
    },
    {
      "cell_type": "markdown",
      "source": [
        "## Best Model"
      ],
      "metadata": {
        "id": "fPiVjm86Xr2h"
      }
    },
    {
      "cell_type": "code",
      "source": [
        "import pickle\n",
        "# the best model is:\n",
        "best_model = svm\n",
        "# save the model\n",
        "filename = 'best_classifier.sav'\n",
        "pickle.dump(best_model, open(filename, 'wb'))"
      ],
      "metadata": {
        "id": "ujQqV9yxXtm-"
      },
      "execution_count": null,
      "outputs": []
    },
    {
      "cell_type": "markdown",
      "source": [
        "# Predict for all other entries using best model"
      ],
      "metadata": {
        "id": "vP-Fd5sthAHb"
      }
    },
    {
      "cell_type": "markdown",
      "source": [
        "## Turn other comments into their TF IDF Forms"
      ],
      "metadata": {
        "id": "EbfaXTdwiilF"
      }
    },
    {
      "cell_type": "code",
      "source": [
        "df_full = pd.read_csv('/content/drive/MyDrive/Hackathon M2/Our Data/Merged_data_without_date.csv')"
      ],
      "metadata": {
        "id": "fPJ7IrfRigc4"
      },
      "execution_count": null,
      "outputs": []
    },
    {
      "cell_type": "code",
      "source": [
        "df_full.tail(5)"
      ],
      "metadata": {
        "colab": {
          "base_uri": "https://localhost:8080/",
          "height": 582
        },
        "id": "RCUkMWcvjX3i",
        "outputId": "7b04a61a-7d62-4854-adb4-b8109b78526a"
      },
      "execution_count": null,
      "outputs": [
        {
          "output_type": "execute_result",
          "data": {
            "text/html": [
              "\n",
              "  <div id=\"df-457d92e2-68e8-4e5a-b068-aea378ea0b68\">\n",
              "    <div class=\"colab-df-container\">\n",
              "      <div>\n",
              "<style scoped>\n",
              "    .dataframe tbody tr th:only-of-type {\n",
              "        vertical-align: middle;\n",
              "    }\n",
              "\n",
              "    .dataframe tbody tr th {\n",
              "        vertical-align: top;\n",
              "    }\n",
              "\n",
              "    .dataframe thead th {\n",
              "        text-align: right;\n",
              "    }\n",
              "</style>\n",
              "<table border=\"1\" class=\"dataframe\">\n",
              "  <thead>\n",
              "    <tr style=\"text-align: right;\">\n",
              "      <th></th>\n",
              "      <th>Unnamed: 0</th>\n",
              "      <th>score</th>\n",
              "      <th>title</th>\n",
              "      <th>user_country</th>\n",
              "      <th>user_name</th>\n",
              "      <th>is_verified</th>\n",
              "      <th>review_body</th>\n",
              "      <th>airline</th>\n",
              "      <th>seat</th>\n",
              "      <th>aircraft</th>\n",
              "      <th>layout</th>\n",
              "      <th>Unnamed: 0.1</th>\n",
              "      <th>Cabin Staff Service</th>\n",
              "      <th>Food &amp; Beverages</th>\n",
              "      <th>Ground Service</th>\n",
              "      <th>Recommended</th>\n",
              "      <th>Route</th>\n",
              "      <th>Seat Comfort</th>\n",
              "      <th>Seat Type</th>\n",
              "      <th>Type Of Traveller</th>\n",
              "      <th>Value For Money</th>\n",
              "      <th>Inflight Entertainment</th>\n",
              "      <th>Wifi &amp; Connectivity</th>\n",
              "      <th>link</th>\n",
              "    </tr>\n",
              "  </thead>\n",
              "  <tbody>\n",
              "    <tr>\n",
              "      <th>34387</th>\n",
              "      <td>34387</td>\n",
              "      <td>NaN</td>\n",
              "      <td>NaN</td>\n",
              "      <td>NaN</td>\n",
              "      <td>SeatGuru</td>\n",
              "      <td>NaN</td>\n",
              "      <td>This is a terrible aircraft. Upon entering the...</td>\n",
              "      <td>Westjet_</td>\n",
              "      <td>20B</td>\n",
              "      <td>Westjet_Bombardier_Q400</td>\n",
              "      <td>NaN</td>\n",
              "      <td>16746.0</td>\n",
              "      <td>NaN</td>\n",
              "      <td>NaN</td>\n",
              "      <td>NaN</td>\n",
              "      <td>NaN</td>\n",
              "      <td>NaN</td>\n",
              "      <td>NaN</td>\n",
              "      <td>NaN</td>\n",
              "      <td>NaN</td>\n",
              "      <td>NaN</td>\n",
              "      <td>NaN</td>\n",
              "      <td>NaN</td>\n",
              "      <td>https://www.seatguru.com//airlines/Westjet/Wes...</td>\n",
              "    </tr>\n",
              "    <tr>\n",
              "      <th>34388</th>\n",
              "      <td>34388</td>\n",
              "      <td>NaN</td>\n",
              "      <td>NaN</td>\n",
              "      <td>NaN</td>\n",
              "      <td>SeatGuru</td>\n",
              "      <td>NaN</td>\n",
              "      <td>While these seats may be at the front of the p...</td>\n",
              "      <td>Westjet_</td>\n",
              "      <td>1B</td>\n",
              "      <td>Westjet_Bombardier_Q400</td>\n",
              "      <td>NaN</td>\n",
              "      <td>16747.0</td>\n",
              "      <td>NaN</td>\n",
              "      <td>NaN</td>\n",
              "      <td>NaN</td>\n",
              "      <td>NaN</td>\n",
              "      <td>NaN</td>\n",
              "      <td>NaN</td>\n",
              "      <td>NaN</td>\n",
              "      <td>NaN</td>\n",
              "      <td>NaN</td>\n",
              "      <td>NaN</td>\n",
              "      <td>NaN</td>\n",
              "      <td>https://www.seatguru.com//airlines/Westjet/Wes...</td>\n",
              "    </tr>\n",
              "    <tr>\n",
              "      <th>34389</th>\n",
              "      <td>34389</td>\n",
              "      <td>NaN</td>\n",
              "      <td>NaN</td>\n",
              "      <td>NaN</td>\n",
              "      <td>SeatGuru</td>\n",
              "      <td>NaN</td>\n",
              "      <td>Rather comfy despite it being listed at 17 inc...</td>\n",
              "      <td>Xiamen_Airlines_</td>\n",
              "      <td>None</td>\n",
              "      <td>Xiamen_Airlines_Boeing_787-8</td>\n",
              "      <td>NaN</td>\n",
              "      <td>16748.0</td>\n",
              "      <td>NaN</td>\n",
              "      <td>NaN</td>\n",
              "      <td>NaN</td>\n",
              "      <td>NaN</td>\n",
              "      <td>NaN</td>\n",
              "      <td>NaN</td>\n",
              "      <td>NaN</td>\n",
              "      <td>NaN</td>\n",
              "      <td>NaN</td>\n",
              "      <td>NaN</td>\n",
              "      <td>NaN</td>\n",
              "      <td>https://www.seatguru.com//airlines/Xiamen_Airl...</td>\n",
              "    </tr>\n",
              "    <tr>\n",
              "      <th>34390</th>\n",
              "      <td>34390</td>\n",
              "      <td>NaN</td>\n",
              "      <td>NaN</td>\n",
              "      <td>NaN</td>\n",
              "      <td>SeatGuru</td>\n",
              "      <td>NaN</td>\n",
              "      <td>I was very satisfied with my flight. The Fligh...</td>\n",
              "      <td>Xiamen_Airlines_</td>\n",
              "      <td>1A</td>\n",
              "      <td>Xiamen_Airlines_Boeing_787-9</td>\n",
              "      <td>NaN</td>\n",
              "      <td>16749.0</td>\n",
              "      <td>NaN</td>\n",
              "      <td>NaN</td>\n",
              "      <td>NaN</td>\n",
              "      <td>NaN</td>\n",
              "      <td>NaN</td>\n",
              "      <td>NaN</td>\n",
              "      <td>NaN</td>\n",
              "      <td>NaN</td>\n",
              "      <td>NaN</td>\n",
              "      <td>NaN</td>\n",
              "      <td>NaN</td>\n",
              "      <td>https://www.seatguru.com//airlines/Xiamen_Airl...</td>\n",
              "    </tr>\n",
              "    <tr>\n",
              "      <th>34391</th>\n",
              "      <td>34391</td>\n",
              "      <td>NaN</td>\n",
              "      <td>NaN</td>\n",
              "      <td>NaN</td>\n",
              "      <td>SeatGuru</td>\n",
              "      <td>NaN</td>\n",
              "      <td>AMS-XIA in May 2018 (codeshare KLM-Xiamenair)....</td>\n",
              "      <td>Xiamen_Airlines_</td>\n",
              "      <td>14A</td>\n",
              "      <td>Xiamen_Airlines_Boeing_787-9</td>\n",
              "      <td>NaN</td>\n",
              "      <td>16750.0</td>\n",
              "      <td>NaN</td>\n",
              "      <td>NaN</td>\n",
              "      <td>NaN</td>\n",
              "      <td>NaN</td>\n",
              "      <td>NaN</td>\n",
              "      <td>NaN</td>\n",
              "      <td>NaN</td>\n",
              "      <td>NaN</td>\n",
              "      <td>NaN</td>\n",
              "      <td>NaN</td>\n",
              "      <td>NaN</td>\n",
              "      <td>https://www.seatguru.com//airlines/Xiamen_Airl...</td>\n",
              "    </tr>\n",
              "  </tbody>\n",
              "</table>\n",
              "</div>\n",
              "      <button class=\"colab-df-convert\" onclick=\"convertToInteractive('df-457d92e2-68e8-4e5a-b068-aea378ea0b68')\"\n",
              "              title=\"Convert this dataframe to an interactive table.\"\n",
              "              style=\"display:none;\">\n",
              "        \n",
              "  <svg xmlns=\"http://www.w3.org/2000/svg\" height=\"24px\"viewBox=\"0 0 24 24\"\n",
              "       width=\"24px\">\n",
              "    <path d=\"M0 0h24v24H0V0z\" fill=\"none\"/>\n",
              "    <path d=\"M18.56 5.44l.94 2.06.94-2.06 2.06-.94-2.06-.94-.94-2.06-.94 2.06-2.06.94zm-11 1L8.5 8.5l.94-2.06 2.06-.94-2.06-.94L8.5 2.5l-.94 2.06-2.06.94zm10 10l.94 2.06.94-2.06 2.06-.94-2.06-.94-.94-2.06-.94 2.06-2.06.94z\"/><path d=\"M17.41 7.96l-1.37-1.37c-.4-.4-.92-.59-1.43-.59-.52 0-1.04.2-1.43.59L10.3 9.45l-7.72 7.72c-.78.78-.78 2.05 0 2.83L4 21.41c.39.39.9.59 1.41.59.51 0 1.02-.2 1.41-.59l7.78-7.78 2.81-2.81c.8-.78.8-2.07 0-2.86zM5.41 20L4 18.59l7.72-7.72 1.47 1.35L5.41 20z\"/>\n",
              "  </svg>\n",
              "      </button>\n",
              "      \n",
              "  <style>\n",
              "    .colab-df-container {\n",
              "      display:flex;\n",
              "      flex-wrap:wrap;\n",
              "      gap: 12px;\n",
              "    }\n",
              "\n",
              "    .colab-df-convert {\n",
              "      background-color: #E8F0FE;\n",
              "      border: none;\n",
              "      border-radius: 50%;\n",
              "      cursor: pointer;\n",
              "      display: none;\n",
              "      fill: #1967D2;\n",
              "      height: 32px;\n",
              "      padding: 0 0 0 0;\n",
              "      width: 32px;\n",
              "    }\n",
              "\n",
              "    .colab-df-convert:hover {\n",
              "      background-color: #E2EBFA;\n",
              "      box-shadow: 0px 1px 2px rgba(60, 64, 67, 0.3), 0px 1px 3px 1px rgba(60, 64, 67, 0.15);\n",
              "      fill: #174EA6;\n",
              "    }\n",
              "\n",
              "    [theme=dark] .colab-df-convert {\n",
              "      background-color: #3B4455;\n",
              "      fill: #D2E3FC;\n",
              "    }\n",
              "\n",
              "    [theme=dark] .colab-df-convert:hover {\n",
              "      background-color: #434B5C;\n",
              "      box-shadow: 0px 1px 3px 1px rgba(0, 0, 0, 0.15);\n",
              "      filter: drop-shadow(0px 1px 2px rgba(0, 0, 0, 0.3));\n",
              "      fill: #FFFFFF;\n",
              "    }\n",
              "  </style>\n",
              "\n",
              "      <script>\n",
              "        const buttonEl =\n",
              "          document.querySelector('#df-457d92e2-68e8-4e5a-b068-aea378ea0b68 button.colab-df-convert');\n",
              "        buttonEl.style.display =\n",
              "          google.colab.kernel.accessAllowed ? 'block' : 'none';\n",
              "\n",
              "        async function convertToInteractive(key) {\n",
              "          const element = document.querySelector('#df-457d92e2-68e8-4e5a-b068-aea378ea0b68');\n",
              "          const dataTable =\n",
              "            await google.colab.kernel.invokeFunction('convertToInteractive',\n",
              "                                                     [key], {});\n",
              "          if (!dataTable) return;\n",
              "\n",
              "          const docLinkHtml = 'Like what you see? Visit the ' +\n",
              "            '<a target=\"_blank\" href=https://colab.research.google.com/notebooks/data_table.ipynb>data table notebook</a>'\n",
              "            + ' to learn more about interactive tables.';\n",
              "          element.innerHTML = '';\n",
              "          dataTable['output_type'] = 'display_data';\n",
              "          await google.colab.output.renderOutput(dataTable, element);\n",
              "          const docLink = document.createElement('div');\n",
              "          docLink.innerHTML = docLinkHtml;\n",
              "          element.appendChild(docLink);\n",
              "        }\n",
              "      </script>\n",
              "    </div>\n",
              "  </div>\n",
              "  "
            ],
            "text/plain": [
              "       Unnamed: 0  ...                                               link\n",
              "34387       34387  ...  https://www.seatguru.com//airlines/Westjet/Wes...\n",
              "34388       34388  ...  https://www.seatguru.com//airlines/Westjet/Wes...\n",
              "34389       34389  ...  https://www.seatguru.com//airlines/Xiamen_Airl...\n",
              "34390       34390  ...  https://www.seatguru.com//airlines/Xiamen_Airl...\n",
              "34391       34391  ...  https://www.seatguru.com//airlines/Xiamen_Airl...\n",
              "\n",
              "[5 rows x 24 columns]"
            ]
          },
          "metadata": {},
          "execution_count": 203
        }
      ]
    },
    {
      "cell_type": "markdown",
      "source": [
        "## Pre-Processing"
      ],
      "metadata": {
        "id": "uTMi0UNSjSoe"
      }
    },
    {
      "cell_type": "markdown",
      "source": [
        "### Full Reviews"
      ],
      "metadata": {
        "id": "oGVRLQQ3jSoe"
      }
    },
    {
      "cell_type": "code",
      "source": [
        "# add title to review_body\n",
        "c_w_t = []\n",
        "for i, row in enumerate(df_full['title']):\n",
        "  if row != np.nan:\n",
        "    c_w_t.append(str(row) + str(df_full['review_body'].iloc[i]))\n",
        "  else:\n",
        "    c_w_t.append(df_full['review_body'].iloc[i])"
      ],
      "metadata": {
        "id": "vuLJ4_XbjSoe"
      },
      "execution_count": null,
      "outputs": []
    },
    {
      "cell_type": "code",
      "source": [
        "df_full['full_review'] = c_w_t"
      ],
      "metadata": {
        "id": "2zRXc7gboq6R"
      },
      "execution_count": null,
      "outputs": []
    },
    {
      "cell_type": "code",
      "source": [
        "# new df with only relevant inputs for TF IDF + Classifier (might experiment with other variables later)\n",
        "df_slim = df_full[['score', 'full_review']]"
      ],
      "metadata": {
        "id": "gY9MGXe_jSof"
      },
      "execution_count": null,
      "outputs": []
    },
    {
      "cell_type": "markdown",
      "source": [
        "### Labeling by score"
      ],
      "metadata": {
        "id": "mU4T8LuhjSof"
      }
    },
    {
      "cell_type": "code",
      "source": [
        "# create binary label of reviews from scores giving on review\n",
        "'''\n",
        "If score is 7-10 is a good rating\n",
        "6 is neutral\n",
        "1-5 is bad\n",
        "\n",
        "If score is 7-10 then 1 (labeled good)\n",
        "if score is 6 these rows will be ignored\n",
        "if 1-5 then 0 (labeled bad)\n",
        "'''\n",
        "\n",
        "# filter our reviews with 6\n",
        "df_slimmer = df_slim[df_slim['score'] != 6]\n",
        "\n",
        "# label reviews\n",
        "labels = []\n",
        "for row in df_slimmer['score']:\n",
        "    if (row <= 5):    labels.append(0) # bad reviews\n",
        "    else:   labels.append(1) # good reviews\n",
        "\n",
        "df_slimmer['label'] = labels\n"
      ],
      "metadata": {
        "id": "eR6JqlrajSog"
      },
      "execution_count": null,
      "outputs": []
    },
    {
      "cell_type": "markdown",
      "source": [
        "### Lemmatization"
      ],
      "metadata": {
        "id": "jTcZLarzjSoh"
      }
    },
    {
      "cell_type": "code",
      "source": [
        "# lower case\n",
        "df_slimmer['lower_case'] = df_slimmer['full_review'].apply(lambda x: ' '.join(x.lower() for x in str(x).split()))\n",
        "# remove possible HTML tags and any URLS\n",
        "from bs4 import BeautifulSoup\n",
        "df_slimmer['pre_process']=df_slimmer['lower_case'].apply(lambda x: BeautifulSoup(x).get_text())\n",
        "import re\n",
        "df_slimmer['pre_process']=df_slimmer['pre_process'].apply(lambda x: re.sub(r\"http\\S+\", '', x))\n",
        "# contractions\n",
        "def contractions(s):\n",
        " s = re.sub(r\"won’t\", \"will not\",s)\n",
        " s = re.sub(r\"-\", \" to \",s) # for things like CDG-ATL\n",
        " s = re.sub(r\"would’t\", \"would not\",s)\n",
        " s = re.sub(r\"nan\", \"\",s)\n",
        " s = re.sub(r\"could’t\", \"could not\",s)\n",
        " s = re.sub(r\"cannot\", \"can not\",s)\n",
        " s = re.sub(r\"\\’d\", \" would\",s)\n",
        " s = re.sub(r\"can\\’t\", \"can not\",s)\n",
        " s = re.sub(r\"n\\’t\", \" not\", s)\n",
        " s= re.sub(r\"\\’re\", \" are\", s)\n",
        " s = re.sub(r\"\\’s\", \" is\", s)\n",
        " s = re.sub(r\"\\’ll\", \" will\", s)\n",
        " s = re.sub(r\"\\’t\", \" not\", s)\n",
        " s = re.sub(r\"\\’ve\", \" have\", s)\n",
        " s = re.sub(r\"\\’m\", \" am\", s)\n",
        " return s\n",
        "\n",
        "# replace contractions\n",
        "df_slimmer['pre_process'] = df_slimmer['pre_process'].apply(lambda x:contractions(x))\n",
        "# remove non-alphabet characters\n",
        "nltk.download('punkt')\n",
        "df_slimmer['pre_process'] = df_slimmer['pre_process'].apply(lambda x: \" \".join([re.sub(\"[^A-Za-z]+\",\"\", x) for x in nltk.word_tokenize(x)]))\n",
        "df_slimmer = df_slimmer[['score', 'label', 'full_review', 'pre_process']]\n",
        "# remove extra spaces\n",
        "df_slimmer['pre_process'] = df_slimmer['pre_process'].apply(lambda x: re.sub(' +', \" \", x))\n",
        "# remove stop words\n",
        "nltk.download('stopwords')\n",
        "from nltk.corpus import stopwords\n",
        "\n",
        "stop = stopwords.words(\"english\")\n",
        "df_slimmer['pre_process'] = df_slimmer['pre_process'].apply(lambda x: \" \".join([x for x in x.split() if x not in stop]))\n",
        "# lemmatization\n",
        "nltk.download('wordnet')\n",
        "from nltk.stem import WordNetLemmatizer\n",
        "\n",
        "lemmatizer = WordNetLemmatizer()\n",
        "df_slimmer['pre_process'] = df_slimmer['pre_process'].apply(lambda x: \" \".join([lemmatizer.lemmatize(w) for w in nltk.word_tokenize(x)]))\n",
        "# pass over ready df\n",
        "df_full_pp = df_slimmer[['score', 'label', 'pre_process']]"
      ],
      "metadata": {
        "colab": {
          "base_uri": "https://localhost:8080/"
        },
        "id": "Xqgsb305jSoh",
        "outputId": "16b172f3-8a69-445f-b092-dda0efded1ab"
      },
      "execution_count": null,
      "outputs": [
        {
          "output_type": "stream",
          "name": "stdout",
          "text": [
            "[nltk_data] Downloading package punkt to /root/nltk_data...\n",
            "[nltk_data]   Package punkt is already up-to-date!\n",
            "[nltk_data] Downloading package stopwords to /root/nltk_data...\n",
            "[nltk_data]   Package stopwords is already up-to-date!\n",
            "[nltk_data] Downloading package wordnet to /root/nltk_data...\n",
            "[nltk_data]   Package wordnet is already up-to-date!\n"
          ]
        }
      ]
    },
    {
      "cell_type": "code",
      "source": [
        "# renaming columns to not get it twisted \n",
        "df_full_pp = df_full_pp.rename(columns={'pre_process': 'lemmatized'})"
      ],
      "metadata": {
        "id": "uPDnOIflkFCv"
      },
      "execution_count": null,
      "outputs": []
    },
    {
      "cell_type": "markdown",
      "source": [
        "### TF IDF of all comments"
      ],
      "metadata": {
        "id": "59Y-eaPCrWCv"
      }
    },
    {
      "cell_type": "code",
      "source": [
        "# TD IDF vectorizer\n",
        "print(\"TFIDF Vectorizer……\")\n",
        "\n",
        "from sklearn.feature_extraction.text import TfidfVectorizer\n",
        "\n",
        "# using previous vectorizer\n",
        "tf_full = vectorizer.transform(df_full_pp['lemmatized'])\n",
        "print(\" done!\")"
      ],
      "metadata": {
        "colab": {
          "base_uri": "https://localhost:8080/"
        },
        "outputId": "eb3e9c11-469a-4de2-f0e0-858863d258d1",
        "id": "KHpxH6WJkRXS"
      },
      "execution_count": null,
      "outputs": [
        {
          "output_type": "stream",
          "name": "stdout",
          "text": [
            "TFIDF Vectorizer……\n",
            " done!\n"
          ]
        }
      ]
    },
    {
      "cell_type": "markdown",
      "source": [
        "### Predict Labels with best classifier (SVM)"
      ],
      "metadata": {
        "id": "ZFmJfb3wrmZb"
      }
    },
    {
      "cell_type": "code",
      "source": [
        "# predict labels for all data\n",
        "pred_full = svm.predict(tf_full)"
      ],
      "metadata": {
        "id": "XJLMDcIAkl4Y"
      },
      "execution_count": null,
      "outputs": []
    },
    {
      "cell_type": "code",
      "source": [
        "len(pred_full)"
      ],
      "metadata": {
        "colab": {
          "base_uri": "https://localhost:8080/"
        },
        "id": "4dy_AJ4ZljQT",
        "outputId": "de5a6ea1-0104-4bf2-e61d-91996c24afd8"
      },
      "execution_count": null,
      "outputs": [
        {
          "output_type": "execute_result",
          "data": {
            "text/plain": [
              "33995"
            ]
          },
          "metadata": {},
          "execution_count": 220
        }
      ]
    },
    {
      "cell_type": "markdown",
      "source": [
        "### Add Labels to DF"
      ],
      "metadata": {
        "id": "LSq6VJRbrqPh"
      }
    },
    {
      "cell_type": "code",
      "source": [
        "# add predictions to dataset\n",
        "df_full_pp['predicted_labels'] = pred_full"
      ],
      "metadata": {
        "id": "P7W1kVFFlZrx"
      },
      "execution_count": null,
      "outputs": []
    },
    {
      "cell_type": "code",
      "source": [
        "df_full_pp['original_review'] = df_slimmer['full_review']"
      ],
      "metadata": {
        "id": "sLz4GcbIlsrX"
      },
      "execution_count": null,
      "outputs": []
    },
    {
      "cell_type": "code",
      "source": [
        "df_with_clf_predictions = df_full_pp"
      ],
      "metadata": {
        "id": "Iz6KzIKMqnZh"
      },
      "execution_count": null,
      "outputs": []
    },
    {
      "cell_type": "code",
      "source": [
        "df_with_clf_predictions"
      ],
      "metadata": {
        "colab": {
          "base_uri": "https://localhost:8080/",
          "height": 832
        },
        "id": "xrFgdEMoqrTS",
        "outputId": "921ef684-43a8-443b-ca87-eef6f88e110a"
      },
      "execution_count": null,
      "outputs": [
        {
          "output_type": "execute_result",
          "data": {
            "text/html": [
              "\n",
              "  <div id=\"df-f02079a6-ea2e-4a38-87b4-12232fe6d241\">\n",
              "    <div class=\"colab-df-container\">\n",
              "      <div>\n",
              "<style scoped>\n",
              "    .dataframe tbody tr th:only-of-type {\n",
              "        vertical-align: middle;\n",
              "    }\n",
              "\n",
              "    .dataframe tbody tr th {\n",
              "        vertical-align: top;\n",
              "    }\n",
              "\n",
              "    .dataframe thead th {\n",
              "        text-align: right;\n",
              "    }\n",
              "</style>\n",
              "<table border=\"1\" class=\"dataframe\">\n",
              "  <thead>\n",
              "    <tr style=\"text-align: right;\">\n",
              "      <th></th>\n",
              "      <th>score</th>\n",
              "      <th>label</th>\n",
              "      <th>lemmatized</th>\n",
              "      <th>predicted_labels</th>\n",
              "      <th>original_review</th>\n",
              "    </tr>\n",
              "  </thead>\n",
              "  <tbody>\n",
              "    <tr>\n",
              "      <th>0</th>\n",
              "      <td>7.0</td>\n",
              "      <td>1</td>\n",
              "      <td>trip pretty good flight dulles paris great fli...</td>\n",
              "      <td>1</td>\n",
              "      <td>\"my trip was pretty good.\"My flight from Dulle...</td>\n",
              "    </tr>\n",
              "    <tr>\n",
              "      <th>1</th>\n",
              "      <td>1.0</td>\n",
              "      <td>0</td>\n",
              "      <td>baggage nt make went month nice arrived nice b...</td>\n",
              "      <td>0</td>\n",
              "      <td>\"my baggage didn't make it\" I went for 2 month...</td>\n",
              "    </tr>\n",
              "    <tr>\n",
              "      <th>2</th>\n",
              "      <td>3.0</td>\n",
              "      <td>0</td>\n",
              "      <td>air france customer reviewyesterday jan flew c...</td>\n",
              "      <td>0</td>\n",
              "      <td>Air France customer reviewYesterday Jan 25, we...</td>\n",
              "    </tr>\n",
              "    <tr>\n",
              "      <th>3</th>\n",
              "      <td>8.0</td>\n",
              "      <td>1</td>\n",
              "      <td>great alternative fly across atlantic first me...</td>\n",
              "      <td>1</td>\n",
              "      <td>\"great alternative to fly across the Atlantic\"...</td>\n",
              "    </tr>\n",
              "    <tr>\n",
              "      <th>4</th>\n",
              "      <td>8.0</td>\n",
              "      <td>1</td>\n",
              "      <td>pleasurable experience bod cdg atl major issue...</td>\n",
              "      <td>1</td>\n",
              "      <td>\"A pleasurable experience!\" BOD-CDG-ATL: Was h...</td>\n",
              "    </tr>\n",
              "    <tr>\n",
              "      <th>...</th>\n",
              "      <td>...</td>\n",
              "      <td>...</td>\n",
              "      <td>...</td>\n",
              "      <td>...</td>\n",
              "      <td>...</td>\n",
              "    </tr>\n",
              "    <tr>\n",
              "      <th>34387</th>\n",
              "      <td>NaN</td>\n",
              "      <td>1</td>\n",
              "      <td>terrible aircraft upon entering aircraft bange...</td>\n",
              "      <td>0</td>\n",
              "      <td>nanThis is a terrible aircraft. Upon entering ...</td>\n",
              "    </tr>\n",
              "    <tr>\n",
              "      <th>34388</th>\n",
              "      <td>NaN</td>\n",
              "      <td>1</td>\n",
              "      <td>seat may front plane get get quite chilly righ...</td>\n",
              "      <td>1</td>\n",
              "      <td>nanWhile these seats may be at the front of th...</td>\n",
              "    </tr>\n",
              "    <tr>\n",
              "      <th>34389</th>\n",
              "      <td>NaN</td>\n",
              "      <td>1</td>\n",
              "      <td>rather comfy despite listed inch wide legroom ...</td>\n",
              "      <td>1</td>\n",
              "      <td>nanRather comfy despite it being listed at 17 ...</td>\n",
              "    </tr>\n",
              "    <tr>\n",
              "      <th>34390</th>\n",
              "      <td>NaN</td>\n",
              "      <td>1</td>\n",
              "      <td>satisfied flight flight attendant would every ...</td>\n",
              "      <td>1</td>\n",
              "      <td>nanI was very satisfied with my flight. The Fl...</td>\n",
              "    </tr>\n",
              "    <tr>\n",
              "      <th>34391</th>\n",
              "      <td>NaN</td>\n",
              "      <td>1</td>\n",
              "      <td>am xia may codeshare klm xiamenair one best bu...</td>\n",
              "      <td>0</td>\n",
              "      <td>nanAMS-XIA in May 2018 (codeshare KLM-Xiamenai...</td>\n",
              "    </tr>\n",
              "  </tbody>\n",
              "</table>\n",
              "<p>33995 rows × 5 columns</p>\n",
              "</div>\n",
              "      <button class=\"colab-df-convert\" onclick=\"convertToInteractive('df-f02079a6-ea2e-4a38-87b4-12232fe6d241')\"\n",
              "              title=\"Convert this dataframe to an interactive table.\"\n",
              "              style=\"display:none;\">\n",
              "        \n",
              "  <svg xmlns=\"http://www.w3.org/2000/svg\" height=\"24px\"viewBox=\"0 0 24 24\"\n",
              "       width=\"24px\">\n",
              "    <path d=\"M0 0h24v24H0V0z\" fill=\"none\"/>\n",
              "    <path d=\"M18.56 5.44l.94 2.06.94-2.06 2.06-.94-2.06-.94-.94-2.06-.94 2.06-2.06.94zm-11 1L8.5 8.5l.94-2.06 2.06-.94-2.06-.94L8.5 2.5l-.94 2.06-2.06.94zm10 10l.94 2.06.94-2.06 2.06-.94-2.06-.94-.94-2.06-.94 2.06-2.06.94z\"/><path d=\"M17.41 7.96l-1.37-1.37c-.4-.4-.92-.59-1.43-.59-.52 0-1.04.2-1.43.59L10.3 9.45l-7.72 7.72c-.78.78-.78 2.05 0 2.83L4 21.41c.39.39.9.59 1.41.59.51 0 1.02-.2 1.41-.59l7.78-7.78 2.81-2.81c.8-.78.8-2.07 0-2.86zM5.41 20L4 18.59l7.72-7.72 1.47 1.35L5.41 20z\"/>\n",
              "  </svg>\n",
              "      </button>\n",
              "      \n",
              "  <style>\n",
              "    .colab-df-container {\n",
              "      display:flex;\n",
              "      flex-wrap:wrap;\n",
              "      gap: 12px;\n",
              "    }\n",
              "\n",
              "    .colab-df-convert {\n",
              "      background-color: #E8F0FE;\n",
              "      border: none;\n",
              "      border-radius: 50%;\n",
              "      cursor: pointer;\n",
              "      display: none;\n",
              "      fill: #1967D2;\n",
              "      height: 32px;\n",
              "      padding: 0 0 0 0;\n",
              "      width: 32px;\n",
              "    }\n",
              "\n",
              "    .colab-df-convert:hover {\n",
              "      background-color: #E2EBFA;\n",
              "      box-shadow: 0px 1px 2px rgba(60, 64, 67, 0.3), 0px 1px 3px 1px rgba(60, 64, 67, 0.15);\n",
              "      fill: #174EA6;\n",
              "    }\n",
              "\n",
              "    [theme=dark] .colab-df-convert {\n",
              "      background-color: #3B4455;\n",
              "      fill: #D2E3FC;\n",
              "    }\n",
              "\n",
              "    [theme=dark] .colab-df-convert:hover {\n",
              "      background-color: #434B5C;\n",
              "      box-shadow: 0px 1px 3px 1px rgba(0, 0, 0, 0.15);\n",
              "      filter: drop-shadow(0px 1px 2px rgba(0, 0, 0, 0.3));\n",
              "      fill: #FFFFFF;\n",
              "    }\n",
              "  </style>\n",
              "\n",
              "      <script>\n",
              "        const buttonEl =\n",
              "          document.querySelector('#df-f02079a6-ea2e-4a38-87b4-12232fe6d241 button.colab-df-convert');\n",
              "        buttonEl.style.display =\n",
              "          google.colab.kernel.accessAllowed ? 'block' : 'none';\n",
              "\n",
              "        async function convertToInteractive(key) {\n",
              "          const element = document.querySelector('#df-f02079a6-ea2e-4a38-87b4-12232fe6d241');\n",
              "          const dataTable =\n",
              "            await google.colab.kernel.invokeFunction('convertToInteractive',\n",
              "                                                     [key], {});\n",
              "          if (!dataTable) return;\n",
              "\n",
              "          const docLinkHtml = 'Like what you see? Visit the ' +\n",
              "            '<a target=\"_blank\" href=https://colab.research.google.com/notebooks/data_table.ipynb>data table notebook</a>'\n",
              "            + ' to learn more about interactive tables.';\n",
              "          element.innerHTML = '';\n",
              "          dataTable['output_type'] = 'display_data';\n",
              "          await google.colab.output.renderOutput(dataTable, element);\n",
              "          const docLink = document.createElement('div');\n",
              "          docLink.innerHTML = docLinkHtml;\n",
              "          element.appendChild(docLink);\n",
              "        }\n",
              "      </script>\n",
              "    </div>\n",
              "  </div>\n",
              "  "
            ],
            "text/plain": [
              "       score  ...                                    original_review\n",
              "0        7.0  ...  \"my trip was pretty good.\"My flight from Dulle...\n",
              "1        1.0  ...  \"my baggage didn't make it\" I went for 2 month...\n",
              "2        3.0  ...  Air France customer reviewYesterday Jan 25, we...\n",
              "3        8.0  ...  \"great alternative to fly across the Atlantic\"...\n",
              "4        8.0  ...  \"A pleasurable experience!\" BOD-CDG-ATL: Was h...\n",
              "...      ...  ...                                                ...\n",
              "34387    NaN  ...  nanThis is a terrible aircraft. Upon entering ...\n",
              "34388    NaN  ...  nanWhile these seats may be at the front of th...\n",
              "34389    NaN  ...  nanRather comfy despite it being listed at 17 ...\n",
              "34390    NaN  ...  nanI was very satisfied with my flight. The Fl...\n",
              "34391    NaN  ...  nanAMS-XIA in May 2018 (codeshare KLM-Xiamenai...\n",
              "\n",
              "[33995 rows x 5 columns]"
            ]
          },
          "metadata": {},
          "execution_count": 226
        }
      ]
    },
    {
      "cell_type": "markdown",
      "source": [
        "### Save DF"
      ],
      "metadata": {
        "id": "GVPKwe2prsi0"
      }
    },
    {
      "cell_type": "code",
      "source": [
        "# Save df as csv\n",
        "df_with_clf_predictions.to_csv('df_with_clf_predictions.csv')"
      ],
      "metadata": {
        "id": "BVpBwyzDrEvn"
      },
      "execution_count": null,
      "outputs": []
    },
    {
      "cell_type": "markdown",
      "source": [
        "# Adding Predictions to DF with initial topic segmentation"
      ],
      "metadata": {
        "id": "MjOXXQXhBn9q"
      }
    },
    {
      "cell_type": "code",
      "source": [
        "df_topics = pd.read_csv('/content/drive/MyDrive/Hackathon M2/Our Data/df_dominant_topic_comments.csv')"
      ],
      "metadata": {
        "id": "GCR_QXrzBtRr"
      },
      "execution_count": null,
      "outputs": []
    },
    {
      "cell_type": "code",
      "source": [
        "# Keep topics 2 and 4\n",
        "\n",
        "# explore reviews of topics 1, 3, and 5\n",
        "# topic 1: missing flights and connections\n",
        "df_topics[df_topics[\"Dominant_Topic\"] == 1][['Dominant_Topic', 'Text']]\n",
        "\n",
        "# topic 3: rebooking, refunds, etc.\n",
        "df_topics[df_topics[\"Dominant_Topic\"] == 3][['Dominant_Topic', 'Text']]\n",
        "\n",
        "# topic 5: luggage issues, cabin crew\n",
        "df_topics[df_topics[\"Dominant_Topic\"] == 5][['Dominant_Topic', 'Text']]"
      ],
      "metadata": {
        "colab": {
          "base_uri": "https://localhost:8080/",
          "height": 3118
        },
        "id": "yz7WRpJZB23-",
        "outputId": "ff160ec5-4175-4433-c1fd-1a010aa881b9"
      },
      "execution_count": null,
      "outputs": [
        {
          "output_type": "execute_result",
          "data": {
            "text/html": [
              "\n",
              "  <div id=\"df-91376c4b-8ef5-45a6-9180-76fd6803a451\">\n",
              "    <div class=\"colab-df-container\">\n",
              "      <div>\n",
              "<style scoped>\n",
              "    .dataframe tbody tr th:only-of-type {\n",
              "        vertical-align: middle;\n",
              "    }\n",
              "\n",
              "    .dataframe tbody tr th {\n",
              "        vertical-align: top;\n",
              "    }\n",
              "\n",
              "    .dataframe thead th {\n",
              "        text-align: right;\n",
              "    }\n",
              "</style>\n",
              "<table border=\"1\" class=\"dataframe\">\n",
              "  <thead>\n",
              "    <tr style=\"text-align: right;\">\n",
              "      <th></th>\n",
              "      <th>Dominant_Topic</th>\n",
              "      <th>Text</th>\n",
              "    </tr>\n",
              "  </thead>\n",
              "  <tbody>\n",
              "    <tr>\n",
              "      <th>1</th>\n",
              "      <td>5.0</td>\n",
              "      <td>i went for months to nice when i arrived in ni...</td>\n",
              "    </tr>\n",
              "    <tr>\n",
              "      <th>21</th>\n",
              "      <td>5.0</td>\n",
              "      <td>check in counter employee was rude did not kno...</td>\n",
              "    </tr>\n",
              "    <tr>\n",
              "      <th>30</th>\n",
              "      <td>5.0</td>\n",
              "      <td>check in and security at ams were a great exam...</td>\n",
              "    </tr>\n",
              "    <tr>\n",
              "      <th>32</th>\n",
              "      <td>5.0</td>\n",
              "      <td>still the worst among major european airlines ...</td>\n",
              "    </tr>\n",
              "    <tr>\n",
              "      <th>35</th>\n",
              "      <td>5.0</td>\n",
              "      <td>i am writing to warn not to trust air frances ...</td>\n",
              "    </tr>\n",
              "    <tr>\n",
              "      <th>...</th>\n",
              "      <td>...</td>\n",
              "      <td>...</td>\n",
              "    </tr>\n",
              "    <tr>\n",
              "      <th>34279</th>\n",
              "      <td>5.0</td>\n",
              "      <td>extra charge for the comfort plus seats is wel...</td>\n",
              "    </tr>\n",
              "    <tr>\n",
              "      <th>34322</th>\n",
              "      <td>5.0</td>\n",
              "      <td>the plus seats are worth it roomy and comforta...</td>\n",
              "    </tr>\n",
              "    <tr>\n",
              "      <th>34337</th>\n",
              "      <td>5.0</td>\n",
              "      <td>typical westjet subpar in most if not all area...</td>\n",
              "    </tr>\n",
              "    <tr>\n",
              "      <th>34362</th>\n",
              "      <td>5.0</td>\n",
              "      <td>the seats on this new plane are horrifically u...</td>\n",
              "    </tr>\n",
              "    <tr>\n",
              "      <th>34379</th>\n",
              "      <td>5.0</td>\n",
              "      <td>the bombardier q400 is the most uncomfortable ...</td>\n",
              "    </tr>\n",
              "  </tbody>\n",
              "</table>\n",
              "<p>3567 rows × 2 columns</p>\n",
              "</div>\n",
              "      <button class=\"colab-df-convert\" onclick=\"convertToInteractive('df-91376c4b-8ef5-45a6-9180-76fd6803a451')\"\n",
              "              title=\"Convert this dataframe to an interactive table.\"\n",
              "              style=\"display:none;\">\n",
              "        \n",
              "  <svg xmlns=\"http://www.w3.org/2000/svg\" height=\"24px\"viewBox=\"0 0 24 24\"\n",
              "       width=\"24px\">\n",
              "    <path d=\"M0 0h24v24H0V0z\" fill=\"none\"/>\n",
              "    <path d=\"M18.56 5.44l.94 2.06.94-2.06 2.06-.94-2.06-.94-.94-2.06-.94 2.06-2.06.94zm-11 1L8.5 8.5l.94-2.06 2.06-.94-2.06-.94L8.5 2.5l-.94 2.06-2.06.94zm10 10l.94 2.06.94-2.06 2.06-.94-2.06-.94-.94-2.06-.94 2.06-2.06.94z\"/><path d=\"M17.41 7.96l-1.37-1.37c-.4-.4-.92-.59-1.43-.59-.52 0-1.04.2-1.43.59L10.3 9.45l-7.72 7.72c-.78.78-.78 2.05 0 2.83L4 21.41c.39.39.9.59 1.41.59.51 0 1.02-.2 1.41-.59l7.78-7.78 2.81-2.81c.8-.78.8-2.07 0-2.86zM5.41 20L4 18.59l7.72-7.72 1.47 1.35L5.41 20z\"/>\n",
              "  </svg>\n",
              "      </button>\n",
              "      \n",
              "  <style>\n",
              "    .colab-df-container {\n",
              "      display:flex;\n",
              "      flex-wrap:wrap;\n",
              "      gap: 12px;\n",
              "    }\n",
              "\n",
              "    .colab-df-convert {\n",
              "      background-color: #E8F0FE;\n",
              "      border: none;\n",
              "      border-radius: 50%;\n",
              "      cursor: pointer;\n",
              "      display: none;\n",
              "      fill: #1967D2;\n",
              "      height: 32px;\n",
              "      padding: 0 0 0 0;\n",
              "      width: 32px;\n",
              "    }\n",
              "\n",
              "    .colab-df-convert:hover {\n",
              "      background-color: #E2EBFA;\n",
              "      box-shadow: 0px 1px 2px rgba(60, 64, 67, 0.3), 0px 1px 3px 1px rgba(60, 64, 67, 0.15);\n",
              "      fill: #174EA6;\n",
              "    }\n",
              "\n",
              "    [theme=dark] .colab-df-convert {\n",
              "      background-color: #3B4455;\n",
              "      fill: #D2E3FC;\n",
              "    }\n",
              "\n",
              "    [theme=dark] .colab-df-convert:hover {\n",
              "      background-color: #434B5C;\n",
              "      box-shadow: 0px 1px 3px 1px rgba(0, 0, 0, 0.15);\n",
              "      filter: drop-shadow(0px 1px 2px rgba(0, 0, 0, 0.3));\n",
              "      fill: #FFFFFF;\n",
              "    }\n",
              "  </style>\n",
              "\n",
              "      <script>\n",
              "        const buttonEl =\n",
              "          document.querySelector('#df-91376c4b-8ef5-45a6-9180-76fd6803a451 button.colab-df-convert');\n",
              "        buttonEl.style.display =\n",
              "          google.colab.kernel.accessAllowed ? 'block' : 'none';\n",
              "\n",
              "        async function convertToInteractive(key) {\n",
              "          const element = document.querySelector('#df-91376c4b-8ef5-45a6-9180-76fd6803a451');\n",
              "          const dataTable =\n",
              "            await google.colab.kernel.invokeFunction('convertToInteractive',\n",
              "                                                     [key], {});\n",
              "          if (!dataTable) return;\n",
              "\n",
              "          const docLinkHtml = 'Like what you see? Visit the ' +\n",
              "            '<a target=\"_blank\" href=https://colab.research.google.com/notebooks/data_table.ipynb>data table notebook</a>'\n",
              "            + ' to learn more about interactive tables.';\n",
              "          element.innerHTML = '';\n",
              "          dataTable['output_type'] = 'display_data';\n",
              "          await google.colab.output.renderOutput(dataTable, element);\n",
              "          const docLink = document.createElement('div');\n",
              "          docLink.innerHTML = docLinkHtml;\n",
              "          element.appendChild(docLink);\n",
              "        }\n",
              "      </script>\n",
              "    </div>\n",
              "  </div>\n",
              "  "
            ],
            "text/plain": [
              "       Dominant_Topic                                               Text\n",
              "1                 5.0  i went for months to nice when i arrived in ni...\n",
              "21                5.0  check in counter employee was rude did not kno...\n",
              "30                5.0  check in and security at ams were a great exam...\n",
              "32                5.0  still the worst among major european airlines ...\n",
              "35                5.0  i am writing to warn not to trust air frances ...\n",
              "...               ...                                                ...\n",
              "34279             5.0  extra charge for the comfort plus seats is wel...\n",
              "34322             5.0  the plus seats are worth it roomy and comforta...\n",
              "34337             5.0  typical westjet subpar in most if not all area...\n",
              "34362             5.0  the seats on this new plane are horrifically u...\n",
              "34379             5.0  the bombardier q400 is the most uncomfortable ...\n",
              "\n",
              "[3567 rows x 2 columns]"
            ]
          },
          "metadata": {},
          "execution_count": 9
        }
      ]
    },
    {
      "cell_type": "code",
      "source": [
        "# df with only 2 and 4\n",
        "df_interior1 = df_topics[(df_topics[\"Dominant_Topic\"] == 2) | (df_topics[\"Dominant_Topic\"] == 4)]"
      ],
      "metadata": {
        "id": "GVgITjPvGGhc"
      },
      "execution_count": null,
      "outputs": []
    },
    {
      "cell_type": "code",
      "source": [
        "df_interior1.to_csv('df_interior1.csv')"
      ],
      "metadata": {
        "id": "uybVXtFmGj4q"
      },
      "execution_count": null,
      "outputs": []
    },
    {
      "cell_type": "markdown",
      "source": [
        "# Data with Final Round of Topic Segmentation and SVM predictions"
      ],
      "metadata": {
        "id": "8DdG53coP5Mr"
      }
    },
    {
      "cell_type": "code",
      "source": [
        "df_final = pd.read_excel(\"/content/drive/MyDrive/Hackathon M2/Our Data/Topic_Modelling_data_filtered.xlsx\")"
      ],
      "metadata": {
        "id": "RyTHAVZyP843"
      },
      "execution_count": null,
      "outputs": []
    },
    {
      "cell_type": "code",
      "source": [
        "df_final.head(5)"
      ],
      "metadata": {
        "colab": {
          "base_uri": "https://localhost:8080/",
          "height": 687
        },
        "id": "OKSDUduCxJnD",
        "outputId": "2bf38c13-25cb-45c9-ff68-2e940f05f35d"
      },
      "execution_count": null,
      "outputs": [
        {
          "output_type": "execute_result",
          "data": {
            "text/html": [
              "\n",
              "  <div id=\"df-e11f1b87-c424-4d77-b918-638980de8ba0\">\n",
              "    <div class=\"colab-df-container\">\n",
              "      <div>\n",
              "<style scoped>\n",
              "    .dataframe tbody tr th:only-of-type {\n",
              "        vertical-align: middle;\n",
              "    }\n",
              "\n",
              "    .dataframe tbody tr th {\n",
              "        vertical-align: top;\n",
              "    }\n",
              "\n",
              "    .dataframe thead th {\n",
              "        text-align: right;\n",
              "    }\n",
              "</style>\n",
              "<table border=\"1\" class=\"dataframe\">\n",
              "  <thead>\n",
              "    <tr style=\"text-align: right;\">\n",
              "      <th></th>\n",
              "      <th>Unnamed: 0</th>\n",
              "      <th>score</th>\n",
              "      <th>title</th>\n",
              "      <th>user_country</th>\n",
              "      <th>user_name</th>\n",
              "      <th>review_date</th>\n",
              "      <th>is_verified</th>\n",
              "      <th>review_body</th>\n",
              "      <th>airline</th>\n",
              "      <th>seat</th>\n",
              "      <th>aircraft</th>\n",
              "      <th>layout</th>\n",
              "      <th>Unnamed: 0.1</th>\n",
              "      <th>Cabin Staff Service</th>\n",
              "      <th>Food &amp; Beverages</th>\n",
              "      <th>Ground Service</th>\n",
              "      <th>Recommended</th>\n",
              "      <th>Route</th>\n",
              "      <th>Seat Comfort</th>\n",
              "      <th>Seat Type</th>\n",
              "      <th>Type Of Traveller</th>\n",
              "      <th>Value For Money</th>\n",
              "      <th>Inflight Entertainment</th>\n",
              "      <th>Wifi &amp; Connectivity</th>\n",
              "      <th>link</th>\n",
              "      <th>Document_No</th>\n",
              "      <th>Dominant_Topic</th>\n",
              "      <th>Topic_Perc_Contrib</th>\n",
              "      <th>Keywords</th>\n",
              "      <th>Text</th>\n",
              "    </tr>\n",
              "  </thead>\n",
              "  <tbody>\n",
              "    <tr>\n",
              "      <th>0</th>\n",
              "      <td>2</td>\n",
              "      <td>3.0</td>\n",
              "      <td>Air France customer review</td>\n",
              "      <td>United States</td>\n",
              "      <td>Daniel Rabourn</td>\n",
              "      <td>2022-01-26</td>\n",
              "      <td>1.0</td>\n",
              "      <td>Yesterday Jan 25, we flew Colombo, Sri Lanka t...</td>\n",
              "      <td>Air France</td>\n",
              "      <td>NaN</td>\n",
              "      <td>NaN</td>\n",
              "      <td>NaN</td>\n",
              "      <td>NaN</td>\n",
              "      <td>NaN</td>\n",
              "      <td>NaN</td>\n",
              "      <td>NaN</td>\n",
              "      <td>NaN</td>\n",
              "      <td>NaN</td>\n",
              "      <td>NaN</td>\n",
              "      <td>NaN</td>\n",
              "      <td>NaN</td>\n",
              "      <td>NaN</td>\n",
              "      <td>NaN</td>\n",
              "      <td>NaN</td>\n",
              "      <td>NaN</td>\n",
              "      <td>0</td>\n",
              "      <td>2</td>\n",
              "      <td>0.4192</td>\n",
              "      <td>flight, time, hour, sleep, configuration, atte...</td>\n",
              "      <td>yesterday jan we flew colombo sri lanka to par...</td>\n",
              "    </tr>\n",
              "    <tr>\n",
              "      <th>1</th>\n",
              "      <td>14</td>\n",
              "      <td>5.0</td>\n",
              "      <td>\"All in all, a decent experience\"</td>\n",
              "      <td>United Kingdom</td>\n",
              "      <td>S Gorsey</td>\n",
              "      <td>2021-05-12</td>\n",
              "      <td>1.0</td>\n",
              "      <td>It was very nice having a wide body with a 1-...</td>\n",
              "      <td>Air France</td>\n",
              "      <td>NaN</td>\n",
              "      <td>NaN</td>\n",
              "      <td>NaN</td>\n",
              "      <td>NaN</td>\n",
              "      <td>NaN</td>\n",
              "      <td>NaN</td>\n",
              "      <td>NaN</td>\n",
              "      <td>NaN</td>\n",
              "      <td>NaN</td>\n",
              "      <td>NaN</td>\n",
              "      <td>NaN</td>\n",
              "      <td>NaN</td>\n",
              "      <td>NaN</td>\n",
              "      <td>NaN</td>\n",
              "      <td>NaN</td>\n",
              "      <td>NaN</td>\n",
              "      <td>1</td>\n",
              "      <td>1</td>\n",
              "      <td>0.3318</td>\n",
              "      <td>class, business, service, airline, food, seati...</td>\n",
              "      <td>it was very nice having a wide body with a lie...</td>\n",
              "    </tr>\n",
              "    <tr>\n",
              "      <th>2</th>\n",
              "      <td>23</td>\n",
              "      <td>7.0</td>\n",
              "      <td>\"business class tagged bag was last to arrive\"</td>\n",
              "      <td>United States</td>\n",
              "      <td>Peter Pomeranze</td>\n",
              "      <td>2021-04-10</td>\n",
              "      <td>1.0</td>\n",
              "      <td>Short crowded turbulent flight. Excellent att...</td>\n",
              "      <td>Air France</td>\n",
              "      <td>NaN</td>\n",
              "      <td>NaN</td>\n",
              "      <td>NaN</td>\n",
              "      <td>NaN</td>\n",
              "      <td>NaN</td>\n",
              "      <td>NaN</td>\n",
              "      <td>NaN</td>\n",
              "      <td>NaN</td>\n",
              "      <td>NaN</td>\n",
              "      <td>NaN</td>\n",
              "      <td>NaN</td>\n",
              "      <td>NaN</td>\n",
              "      <td>NaN</td>\n",
              "      <td>NaN</td>\n",
              "      <td>NaN</td>\n",
              "      <td>NaN</td>\n",
              "      <td>2</td>\n",
              "      <td>1</td>\n",
              "      <td>0.2773</td>\n",
              "      <td>class, business, service, airline, food, seati...</td>\n",
              "      <td>short crowded turbulent flight excellent atten...</td>\n",
              "    </tr>\n",
              "    <tr>\n",
              "      <th>3</th>\n",
              "      <td>31</td>\n",
              "      <td>2.0</td>\n",
              "      <td>\"no longer giving miles  with Economy class\"</td>\n",
              "      <td>France</td>\n",
              "      <td>Willy Fischer</td>\n",
              "      <td>2021-08-18</td>\n",
              "      <td>1.0</td>\n",
              "      <td>Paris CDG to Warsaw , August 16th 2021 Econom...</td>\n",
              "      <td>Air France</td>\n",
              "      <td>NaN</td>\n",
              "      <td>NaN</td>\n",
              "      <td>NaN</td>\n",
              "      <td>NaN</td>\n",
              "      <td>NaN</td>\n",
              "      <td>NaN</td>\n",
              "      <td>NaN</td>\n",
              "      <td>NaN</td>\n",
              "      <td>NaN</td>\n",
              "      <td>NaN</td>\n",
              "      <td>NaN</td>\n",
              "      <td>NaN</td>\n",
              "      <td>NaN</td>\n",
              "      <td>NaN</td>\n",
              "      <td>NaN</td>\n",
              "      <td>NaN</td>\n",
              "      <td>3</td>\n",
              "      <td>3</td>\n",
              "      <td>0.4437</td>\n",
              "      <td>economy, foot, storage, passenger, bulkhead, a...</td>\n",
              "      <td>paris cdg to warsaw august th economy class as...</td>\n",
              "    </tr>\n",
              "    <tr>\n",
              "      <th>4</th>\n",
              "      <td>36</td>\n",
              "      <td>1.0</td>\n",
              "      <td>\"every shop was closed\\3</td>\n",
              "      <td>Russian Federation</td>\n",
              "      <td>Anton Koshelev</td>\n",
              "      <td>2021-06-13</td>\n",
              "      <td>1.0</td>\n",
              "      <td>The worst experience I have had during my int...</td>\n",
              "      <td>Air France</td>\n",
              "      <td>NaN</td>\n",
              "      <td>NaN</td>\n",
              "      <td>NaN</td>\n",
              "      <td>NaN</td>\n",
              "      <td>NaN</td>\n",
              "      <td>NaN</td>\n",
              "      <td>NaN</td>\n",
              "      <td>NaN</td>\n",
              "      <td>NaN</td>\n",
              "      <td>NaN</td>\n",
              "      <td>NaN</td>\n",
              "      <td>NaN</td>\n",
              "      <td>NaN</td>\n",
              "      <td>NaN</td>\n",
              "      <td>NaN</td>\n",
              "      <td>NaN</td>\n",
              "      <td>4</td>\n",
              "      <td>2</td>\n",
              "      <td>0.3509</td>\n",
              "      <td>flight, time, hour, sleep, configuration, atte...</td>\n",
              "      <td>the worst experience i have had during my inte...</td>\n",
              "    </tr>\n",
              "  </tbody>\n",
              "</table>\n",
              "</div>\n",
              "      <button class=\"colab-df-convert\" onclick=\"convertToInteractive('df-e11f1b87-c424-4d77-b918-638980de8ba0')\"\n",
              "              title=\"Convert this dataframe to an interactive table.\"\n",
              "              style=\"display:none;\">\n",
              "        \n",
              "  <svg xmlns=\"http://www.w3.org/2000/svg\" height=\"24px\"viewBox=\"0 0 24 24\"\n",
              "       width=\"24px\">\n",
              "    <path d=\"M0 0h24v24H0V0z\" fill=\"none\"/>\n",
              "    <path d=\"M18.56 5.44l.94 2.06.94-2.06 2.06-.94-2.06-.94-.94-2.06-.94 2.06-2.06.94zm-11 1L8.5 8.5l.94-2.06 2.06-.94-2.06-.94L8.5 2.5l-.94 2.06-2.06.94zm10 10l.94 2.06.94-2.06 2.06-.94-2.06-.94-.94-2.06-.94 2.06-2.06.94z\"/><path d=\"M17.41 7.96l-1.37-1.37c-.4-.4-.92-.59-1.43-.59-.52 0-1.04.2-1.43.59L10.3 9.45l-7.72 7.72c-.78.78-.78 2.05 0 2.83L4 21.41c.39.39.9.59 1.41.59.51 0 1.02-.2 1.41-.59l7.78-7.78 2.81-2.81c.8-.78.8-2.07 0-2.86zM5.41 20L4 18.59l7.72-7.72 1.47 1.35L5.41 20z\"/>\n",
              "  </svg>\n",
              "      </button>\n",
              "      \n",
              "  <style>\n",
              "    .colab-df-container {\n",
              "      display:flex;\n",
              "      flex-wrap:wrap;\n",
              "      gap: 12px;\n",
              "    }\n",
              "\n",
              "    .colab-df-convert {\n",
              "      background-color: #E8F0FE;\n",
              "      border: none;\n",
              "      border-radius: 50%;\n",
              "      cursor: pointer;\n",
              "      display: none;\n",
              "      fill: #1967D2;\n",
              "      height: 32px;\n",
              "      padding: 0 0 0 0;\n",
              "      width: 32px;\n",
              "    }\n",
              "\n",
              "    .colab-df-convert:hover {\n",
              "      background-color: #E2EBFA;\n",
              "      box-shadow: 0px 1px 2px rgba(60, 64, 67, 0.3), 0px 1px 3px 1px rgba(60, 64, 67, 0.15);\n",
              "      fill: #174EA6;\n",
              "    }\n",
              "\n",
              "    [theme=dark] .colab-df-convert {\n",
              "      background-color: #3B4455;\n",
              "      fill: #D2E3FC;\n",
              "    }\n",
              "\n",
              "    [theme=dark] .colab-df-convert:hover {\n",
              "      background-color: #434B5C;\n",
              "      box-shadow: 0px 1px 3px 1px rgba(0, 0, 0, 0.15);\n",
              "      filter: drop-shadow(0px 1px 2px rgba(0, 0, 0, 0.3));\n",
              "      fill: #FFFFFF;\n",
              "    }\n",
              "  </style>\n",
              "\n",
              "      <script>\n",
              "        const buttonEl =\n",
              "          document.querySelector('#df-e11f1b87-c424-4d77-b918-638980de8ba0 button.colab-df-convert');\n",
              "        buttonEl.style.display =\n",
              "          google.colab.kernel.accessAllowed ? 'block' : 'none';\n",
              "\n",
              "        async function convertToInteractive(key) {\n",
              "          const element = document.querySelector('#df-e11f1b87-c424-4d77-b918-638980de8ba0');\n",
              "          const dataTable =\n",
              "            await google.colab.kernel.invokeFunction('convertToInteractive',\n",
              "                                                     [key], {});\n",
              "          if (!dataTable) return;\n",
              "\n",
              "          const docLinkHtml = 'Like what you see? Visit the ' +\n",
              "            '<a target=\"_blank\" href=https://colab.research.google.com/notebooks/data_table.ipynb>data table notebook</a>'\n",
              "            + ' to learn more about interactive tables.';\n",
              "          element.innerHTML = '';\n",
              "          dataTable['output_type'] = 'display_data';\n",
              "          await google.colab.output.renderOutput(dataTable, element);\n",
              "          const docLink = document.createElement('div');\n",
              "          docLink.innerHTML = docLinkHtml;\n",
              "          element.appendChild(docLink);\n",
              "        }\n",
              "      </script>\n",
              "    </div>\n",
              "  </div>\n",
              "  "
            ],
            "text/plain": [
              "   Unnamed: 0  ...                                               Text\n",
              "0           2  ...  yesterday jan we flew colombo sri lanka to par...\n",
              "1          14  ...  it was very nice having a wide body with a lie...\n",
              "2          23  ...  short crowded turbulent flight excellent atten...\n",
              "3          31  ...  paris cdg to warsaw august th economy class as...\n",
              "4          36  ...  the worst experience i have had during my inte...\n",
              "\n",
              "[5 rows x 30 columns]"
            ]
          },
          "metadata": {},
          "execution_count": 20
        }
      ]
    },
    {
      "cell_type": "code",
      "source": [
        "# load the model from disk\n",
        "import pickle\n",
        "filename = '/content/drive/MyDrive/Hackathon M2/TDIDF_Classifier_Models/best_classifier.sav'\n",
        "svm = pickle.load(open(filename, 'rb'))"
      ],
      "metadata": {
        "id": "40U6n0F9UQ9K"
      },
      "execution_count": null,
      "outputs": []
    },
    {
      "cell_type": "code",
      "source": [
        "df_slimmer = pd.DataFrame(df_final['Text'])\n",
        "df_slimmer = df_slimmer.rename(columns={'Text': 'full_review'})"
      ],
      "metadata": {
        "id": "ThVOj9i9Vjlu"
      },
      "execution_count": null,
      "outputs": []
    },
    {
      "cell_type": "markdown",
      "source": [
        "### Lemmatization"
      ],
      "metadata": {
        "id": "oDPiMVkVVj-B"
      }
    },
    {
      "cell_type": "code",
      "source": [
        "# lower case\n",
        "df_slimmer['lower_case'] = df_slimmer['full_review'].apply(lambda x: ' '.join(x.lower() for x in str(x).split()))\n",
        "# remove possible HTML tags and any URLS\n",
        "from bs4 import BeautifulSoup\n",
        "df_slimmer['pre_process']=df_slimmer['lower_case'].apply(lambda x: BeautifulSoup(x).get_text())\n",
        "import re\n",
        "df_slimmer['pre_process']=df_slimmer['pre_process'].apply(lambda x: re.sub(r\"http\\S+\", '', x))\n",
        "# contractions\n",
        "def contractions(s):\n",
        " s = re.sub(r\"won’t\", \"will not\",s)\n",
        " s = re.sub(r\"-\", \" to \",s) # for things like CDG-ATL\n",
        " s = re.sub(r\"would’t\", \"would not\",s)\n",
        " s = re.sub(r\"nan\", \"\",s)\n",
        " s = re.sub(r\"could’t\", \"could not\",s)\n",
        " s = re.sub(r\"cannot\", \"can not\",s)\n",
        " s = re.sub(r\"\\’d\", \" would\",s)\n",
        " s = re.sub(r\"can\\’t\", \"can not\",s)\n",
        " s = re.sub(r\"n\\’t\", \" not\", s)\n",
        " s= re.sub(r\"\\’re\", \" are\", s)\n",
        " s = re.sub(r\"\\’s\", \" is\", s)\n",
        " s = re.sub(r\"\\’ll\", \" will\", s)\n",
        " s = re.sub(r\"\\’t\", \" not\", s)\n",
        " s = re.sub(r\"\\’ve\", \" have\", s)\n",
        " s = re.sub(r\"\\’m\", \" am\", s)\n",
        " return s\n",
        "\n",
        "# replace contractions\n",
        "df_slimmer['pre_process'] = df_slimmer['pre_process'].apply(lambda x:contractions(x))\n",
        "# remove non-alphabet characters\n",
        "nltk.download('punkt')\n",
        "df_slimmer['pre_process'] = df_slimmer['pre_process'].apply(lambda x: \" \".join([re.sub(\"[^A-Za-z]+\",\"\", x) for x in nltk.word_tokenize(x)]))\n",
        "# df_slimmer = df_slimmer[['score', 'label', 'full_review', 'pre_process']]\n",
        "# remove extra spaces\n",
        "df_slimmer['pre_process'] = df_slimmer['pre_process'].apply(lambda x: re.sub(' +', \" \", x))\n",
        "# remove stop words\n",
        "nltk.download('stopwords')\n",
        "from nltk.corpus import stopwords\n",
        "\n",
        "stop = stopwords.words(\"english\")\n",
        "df_slimmer['pre_process'] = df_slimmer['pre_process'].apply(lambda x: \" \".join([x for x in x.split() if x not in stop]))\n",
        "# lemmatization\n",
        "nltk.download('wordnet')\n",
        "from nltk.stem import WordNetLemmatizer\n",
        "\n",
        "lemmatizer = WordNetLemmatizer()\n",
        "df_slimmer['pre_process'] = df_slimmer['pre_process'].apply(lambda x: \" \".join([lemmatizer.lemmatize(w) for w in nltk.word_tokenize(x)]))\n",
        "# pass over ready df\n",
        "df_final_reviews_pp = df_slimmer"
      ],
      "metadata": {
        "colab": {
          "base_uri": "https://localhost:8080/"
        },
        "outputId": "90e9a314-7041-41e5-8825-3084666b4028",
        "id": "8w5hFAwfVj-C"
      },
      "execution_count": null,
      "outputs": [
        {
          "output_type": "stream",
          "name": "stdout",
          "text": [
            "[nltk_data] Downloading package punkt to /root/nltk_data...\n",
            "[nltk_data]   Unzipping tokenizers/punkt.zip.\n",
            "[nltk_data] Downloading package stopwords to /root/nltk_data...\n",
            "[nltk_data]   Unzipping corpora/stopwords.zip.\n",
            "[nltk_data] Downloading package wordnet to /root/nltk_data...\n",
            "[nltk_data]   Unzipping corpora/wordnet.zip.\n"
          ]
        }
      ]
    },
    {
      "cell_type": "code",
      "source": [
        "# renaming columns to not get it twisted \n",
        "df_final_reviews_pp = df_final_reviews_pp.rename(columns={'pre_process': 'lemmatized'})"
      ],
      "metadata": {
        "id": "xE0mnPJmVj-C"
      },
      "execution_count": null,
      "outputs": []
    },
    {
      "cell_type": "markdown",
      "source": [
        "### TF IDF of all comments"
      ],
      "metadata": {
        "id": "zoxI9NUBVJhx"
      }
    },
    {
      "cell_type": "code",
      "source": [
        "# TD IDF vectorizer\n",
        "print(\"TFIDF Vectorizer……\")\n",
        "\n",
        "from sklearn.feature_extraction.text import TfidfVectorizer\n",
        "\n",
        "# using previous vectorizer\n",
        "tf_final = vectorizer.transform(df_final_reviews_pp['lemmatized'])\n",
        "print(\" done!\")"
      ],
      "metadata": {
        "colab": {
          "base_uri": "https://localhost:8080/"
        },
        "outputId": "2cc5927a-3771-4e4a-9f61-636f9554873f",
        "id": "JJiinN8xVJhy"
      },
      "execution_count": null,
      "outputs": [
        {
          "output_type": "stream",
          "name": "stdout",
          "text": [
            "TFIDF Vectorizer……\n",
            " done!\n"
          ]
        }
      ]
    },
    {
      "cell_type": "markdown",
      "source": [
        "### Predict Labels with best classifier (SVM)"
      ],
      "metadata": {
        "id": "oMLGUZRtVJhy"
      }
    },
    {
      "cell_type": "code",
      "source": [
        "# predict labels for all data\n",
        "pred_full = svm.predict(tf_final)"
      ],
      "metadata": {
        "id": "h2BgIjTHVJhy"
      },
      "execution_count": null,
      "outputs": []
    },
    {
      "cell_type": "code",
      "source": [
        "len(pred_full)"
      ],
      "metadata": {
        "colab": {
          "base_uri": "https://localhost:8080/"
        },
        "outputId": "2c39af3e-a7d9-4caf-832d-a33f93272904",
        "id": "bc7mlCKtVJhy"
      },
      "execution_count": null,
      "outputs": [
        {
          "output_type": "execute_result",
          "data": {
            "text/plain": [
              "12878"
            ]
          },
          "metadata": {},
          "execution_count": 55
        }
      ]
    },
    {
      "cell_type": "markdown",
      "source": [
        "### Add Labels to DF"
      ],
      "metadata": {
        "id": "BuHYj5AHVJhy"
      }
    },
    {
      "cell_type": "code",
      "source": [
        "# add predictions to dataset\n",
        "df_final['pred_sentiment_svm'] = pred_full"
      ],
      "metadata": {
        "id": "OF00qM7SVJhz"
      },
      "execution_count": null,
      "outputs": []
    },
    {
      "cell_type": "code",
      "source": [
        "df_final"
      ],
      "metadata": {
        "colab": {
          "base_uri": "https://localhost:8080/",
          "height": 1000
        },
        "id": "z-Dw6X3tzOCV",
        "outputId": "a7b4825d-0014-4771-afbf-0409270c40be"
      },
      "execution_count": null,
      "outputs": [
        {
          "output_type": "execute_result",
          "data": {
            "text/html": [
              "\n",
              "  <div id=\"df-80aef544-8578-4aa4-aced-20f419cb1687\">\n",
              "    <div class=\"colab-df-container\">\n",
              "      <div>\n",
              "<style scoped>\n",
              "    .dataframe tbody tr th:only-of-type {\n",
              "        vertical-align: middle;\n",
              "    }\n",
              "\n",
              "    .dataframe tbody tr th {\n",
              "        vertical-align: top;\n",
              "    }\n",
              "\n",
              "    .dataframe thead th {\n",
              "        text-align: right;\n",
              "    }\n",
              "</style>\n",
              "<table border=\"1\" class=\"dataframe\">\n",
              "  <thead>\n",
              "    <tr style=\"text-align: right;\">\n",
              "      <th></th>\n",
              "      <th>Unnamed: 0</th>\n",
              "      <th>score</th>\n",
              "      <th>title</th>\n",
              "      <th>user_country</th>\n",
              "      <th>user_name</th>\n",
              "      <th>review_date</th>\n",
              "      <th>is_verified</th>\n",
              "      <th>review_body</th>\n",
              "      <th>airline</th>\n",
              "      <th>seat</th>\n",
              "      <th>aircraft</th>\n",
              "      <th>layout</th>\n",
              "      <th>Unnamed: 0.1</th>\n",
              "      <th>Cabin Staff Service</th>\n",
              "      <th>Food &amp; Beverages</th>\n",
              "      <th>Ground Service</th>\n",
              "      <th>Recommended</th>\n",
              "      <th>Route</th>\n",
              "      <th>Seat Comfort</th>\n",
              "      <th>Seat Type</th>\n",
              "      <th>Type Of Traveller</th>\n",
              "      <th>Value For Money</th>\n",
              "      <th>Inflight Entertainment</th>\n",
              "      <th>Wifi &amp; Connectivity</th>\n",
              "      <th>link</th>\n",
              "      <th>Document_No</th>\n",
              "      <th>Dominant_Topic</th>\n",
              "      <th>Topic_Perc_Contrib</th>\n",
              "      <th>Keywords</th>\n",
              "      <th>Text</th>\n",
              "      <th>pred_sentiment_svm</th>\n",
              "    </tr>\n",
              "  </thead>\n",
              "  <tbody>\n",
              "    <tr>\n",
              "      <th>0</th>\n",
              "      <td>2</td>\n",
              "      <td>3.0</td>\n",
              "      <td>Air France customer review</td>\n",
              "      <td>United States</td>\n",
              "      <td>Daniel Rabourn</td>\n",
              "      <td>2022-01-26</td>\n",
              "      <td>1.0</td>\n",
              "      <td>Yesterday Jan 25, we flew Colombo, Sri Lanka t...</td>\n",
              "      <td>Air France</td>\n",
              "      <td>NaN</td>\n",
              "      <td>NaN</td>\n",
              "      <td>NaN</td>\n",
              "      <td>NaN</td>\n",
              "      <td>NaN</td>\n",
              "      <td>NaN</td>\n",
              "      <td>NaN</td>\n",
              "      <td>NaN</td>\n",
              "      <td>NaN</td>\n",
              "      <td>NaN</td>\n",
              "      <td>NaN</td>\n",
              "      <td>NaN</td>\n",
              "      <td>NaN</td>\n",
              "      <td>NaN</td>\n",
              "      <td>NaN</td>\n",
              "      <td>NaN</td>\n",
              "      <td>0</td>\n",
              "      <td>2</td>\n",
              "      <td>0.4192</td>\n",
              "      <td>flight, time, hour, sleep, configuration, atte...</td>\n",
              "      <td>yesterday jan we flew colombo sri lanka to par...</td>\n",
              "      <td>0</td>\n",
              "    </tr>\n",
              "    <tr>\n",
              "      <th>1</th>\n",
              "      <td>14</td>\n",
              "      <td>5.0</td>\n",
              "      <td>\"All in all, a decent experience\"</td>\n",
              "      <td>United Kingdom</td>\n",
              "      <td>S Gorsey</td>\n",
              "      <td>2021-05-12</td>\n",
              "      <td>1.0</td>\n",
              "      <td>It was very nice having a wide body with a 1-...</td>\n",
              "      <td>Air France</td>\n",
              "      <td>NaN</td>\n",
              "      <td>NaN</td>\n",
              "      <td>NaN</td>\n",
              "      <td>NaN</td>\n",
              "      <td>NaN</td>\n",
              "      <td>NaN</td>\n",
              "      <td>NaN</td>\n",
              "      <td>NaN</td>\n",
              "      <td>NaN</td>\n",
              "      <td>NaN</td>\n",
              "      <td>NaN</td>\n",
              "      <td>NaN</td>\n",
              "      <td>NaN</td>\n",
              "      <td>NaN</td>\n",
              "      <td>NaN</td>\n",
              "      <td>NaN</td>\n",
              "      <td>1</td>\n",
              "      <td>1</td>\n",
              "      <td>0.3318</td>\n",
              "      <td>class, business, service, airline, food, seati...</td>\n",
              "      <td>it was very nice having a wide body with a lie...</td>\n",
              "      <td>0</td>\n",
              "    </tr>\n",
              "    <tr>\n",
              "      <th>2</th>\n",
              "      <td>23</td>\n",
              "      <td>7.0</td>\n",
              "      <td>\"business class tagged bag was last to arrive\"</td>\n",
              "      <td>United States</td>\n",
              "      <td>Peter Pomeranze</td>\n",
              "      <td>2021-04-10</td>\n",
              "      <td>1.0</td>\n",
              "      <td>Short crowded turbulent flight. Excellent att...</td>\n",
              "      <td>Air France</td>\n",
              "      <td>NaN</td>\n",
              "      <td>NaN</td>\n",
              "      <td>NaN</td>\n",
              "      <td>NaN</td>\n",
              "      <td>NaN</td>\n",
              "      <td>NaN</td>\n",
              "      <td>NaN</td>\n",
              "      <td>NaN</td>\n",
              "      <td>NaN</td>\n",
              "      <td>NaN</td>\n",
              "      <td>NaN</td>\n",
              "      <td>NaN</td>\n",
              "      <td>NaN</td>\n",
              "      <td>NaN</td>\n",
              "      <td>NaN</td>\n",
              "      <td>NaN</td>\n",
              "      <td>2</td>\n",
              "      <td>1</td>\n",
              "      <td>0.2773</td>\n",
              "      <td>class, business, service, airline, food, seati...</td>\n",
              "      <td>short crowded turbulent flight excellent atten...</td>\n",
              "      <td>1</td>\n",
              "    </tr>\n",
              "    <tr>\n",
              "      <th>3</th>\n",
              "      <td>31</td>\n",
              "      <td>2.0</td>\n",
              "      <td>\"no longer giving miles  with Economy class\"</td>\n",
              "      <td>France</td>\n",
              "      <td>Willy Fischer</td>\n",
              "      <td>2021-08-18</td>\n",
              "      <td>1.0</td>\n",
              "      <td>Paris CDG to Warsaw , August 16th 2021 Econom...</td>\n",
              "      <td>Air France</td>\n",
              "      <td>NaN</td>\n",
              "      <td>NaN</td>\n",
              "      <td>NaN</td>\n",
              "      <td>NaN</td>\n",
              "      <td>NaN</td>\n",
              "      <td>NaN</td>\n",
              "      <td>NaN</td>\n",
              "      <td>NaN</td>\n",
              "      <td>NaN</td>\n",
              "      <td>NaN</td>\n",
              "      <td>NaN</td>\n",
              "      <td>NaN</td>\n",
              "      <td>NaN</td>\n",
              "      <td>NaN</td>\n",
              "      <td>NaN</td>\n",
              "      <td>NaN</td>\n",
              "      <td>3</td>\n",
              "      <td>3</td>\n",
              "      <td>0.4437</td>\n",
              "      <td>economy, foot, storage, passenger, bulkhead, a...</td>\n",
              "      <td>paris cdg to warsaw august th economy class as...</td>\n",
              "      <td>0</td>\n",
              "    </tr>\n",
              "    <tr>\n",
              "      <th>4</th>\n",
              "      <td>36</td>\n",
              "      <td>1.0</td>\n",
              "      <td>\"every shop was closed\\3</td>\n",
              "      <td>Russian Federation</td>\n",
              "      <td>Anton Koshelev</td>\n",
              "      <td>2021-06-13</td>\n",
              "      <td>1.0</td>\n",
              "      <td>The worst experience I have had during my int...</td>\n",
              "      <td>Air France</td>\n",
              "      <td>NaN</td>\n",
              "      <td>NaN</td>\n",
              "      <td>NaN</td>\n",
              "      <td>NaN</td>\n",
              "      <td>NaN</td>\n",
              "      <td>NaN</td>\n",
              "      <td>NaN</td>\n",
              "      <td>NaN</td>\n",
              "      <td>NaN</td>\n",
              "      <td>NaN</td>\n",
              "      <td>NaN</td>\n",
              "      <td>NaN</td>\n",
              "      <td>NaN</td>\n",
              "      <td>NaN</td>\n",
              "      <td>NaN</td>\n",
              "      <td>NaN</td>\n",
              "      <td>4</td>\n",
              "      <td>2</td>\n",
              "      <td>0.3509</td>\n",
              "      <td>flight, time, hour, sleep, configuration, atte...</td>\n",
              "      <td>the worst experience i have had during my inte...</td>\n",
              "      <td>0</td>\n",
              "    </tr>\n",
              "    <tr>\n",
              "      <th>...</th>\n",
              "      <td>...</td>\n",
              "      <td>...</td>\n",
              "      <td>...</td>\n",
              "      <td>...</td>\n",
              "      <td>...</td>\n",
              "      <td>...</td>\n",
              "      <td>...</td>\n",
              "      <td>...</td>\n",
              "      <td>...</td>\n",
              "      <td>...</td>\n",
              "      <td>...</td>\n",
              "      <td>...</td>\n",
              "      <td>...</td>\n",
              "      <td>...</td>\n",
              "      <td>...</td>\n",
              "      <td>...</td>\n",
              "      <td>...</td>\n",
              "      <td>...</td>\n",
              "      <td>...</td>\n",
              "      <td>...</td>\n",
              "      <td>...</td>\n",
              "      <td>...</td>\n",
              "      <td>...</td>\n",
              "      <td>...</td>\n",
              "      <td>...</td>\n",
              "      <td>...</td>\n",
              "      <td>...</td>\n",
              "      <td>...</td>\n",
              "      <td>...</td>\n",
              "      <td>...</td>\n",
              "      <td>...</td>\n",
              "    </tr>\n",
              "    <tr>\n",
              "      <th>12873</th>\n",
              "      <td>34381</td>\n",
              "      <td>NaN</td>\n",
              "      <td>NaN</td>\n",
              "      <td>NaN</td>\n",
              "      <td>Cody</td>\n",
              "      <td>2016-12-20</td>\n",
              "      <td>NaN</td>\n",
              "      <td>I spent the money on for the westjet premium s...</td>\n",
              "      <td>Westjet_</td>\n",
              "      <td>3a</td>\n",
              "      <td>Westjet_Bombardier_Q400</td>\n",
              "      <td>NaN</td>\n",
              "      <td>16740.0</td>\n",
              "      <td>NaN</td>\n",
              "      <td>NaN</td>\n",
              "      <td>NaN</td>\n",
              "      <td>NaN</td>\n",
              "      <td>NaN</td>\n",
              "      <td>NaN</td>\n",
              "      <td>NaN</td>\n",
              "      <td>NaN</td>\n",
              "      <td>NaN</td>\n",
              "      <td>NaN</td>\n",
              "      <td>NaN</td>\n",
              "      <td>https://www.seatguru.com//airlines/Westjet/Wes...</td>\n",
              "      <td>12873</td>\n",
              "      <td>4</td>\n",
              "      <td>0.4052</td>\n",
              "      <td>row, leg, room, window, plane, space, exit, si...</td>\n",
              "      <td>i spent the money on for the westjet premium s...</td>\n",
              "      <td>0</td>\n",
              "    </tr>\n",
              "    <tr>\n",
              "      <th>12874</th>\n",
              "      <td>34382</td>\n",
              "      <td>NaN</td>\n",
              "      <td>NaN</td>\n",
              "      <td>NaN</td>\n",
              "      <td>SeatGuru</td>\n",
              "      <td>2016-09-26</td>\n",
              "      <td>NaN</td>\n",
              "      <td>Excellent seat. great view. overhead bins are ...</td>\n",
              "      <td>Westjet_</td>\n",
              "      <td>5C</td>\n",
              "      <td>Westjet_Bombardier_Q400</td>\n",
              "      <td>NaN</td>\n",
              "      <td>16741.0</td>\n",
              "      <td>NaN</td>\n",
              "      <td>NaN</td>\n",
              "      <td>NaN</td>\n",
              "      <td>NaN</td>\n",
              "      <td>NaN</td>\n",
              "      <td>NaN</td>\n",
              "      <td>NaN</td>\n",
              "      <td>NaN</td>\n",
              "      <td>NaN</td>\n",
              "      <td>NaN</td>\n",
              "      <td>NaN</td>\n",
              "      <td>https://www.seatguru.com//airlines/Westjet/Wes...</td>\n",
              "      <td>12874</td>\n",
              "      <td>4</td>\n",
              "      <td>0.4086</td>\n",
              "      <td>row, leg, room, window, plane, space, exit, si...</td>\n",
              "      <td>excellent seat great view overhead bins are qu...</td>\n",
              "      <td>1</td>\n",
              "    </tr>\n",
              "    <tr>\n",
              "      <th>12875</th>\n",
              "      <td>34383</td>\n",
              "      <td>NaN</td>\n",
              "      <td>NaN</td>\n",
              "      <td>NaN</td>\n",
              "      <td>SeatGuru</td>\n",
              "      <td>2016-03-08</td>\n",
              "      <td>NaN</td>\n",
              "      <td>Booked 4C off previous comments. Plenty of leg...</td>\n",
              "      <td>Westjet_</td>\n",
              "      <td>4C</td>\n",
              "      <td>Westjet_Bombardier_Q400</td>\n",
              "      <td>NaN</td>\n",
              "      <td>16742.0</td>\n",
              "      <td>NaN</td>\n",
              "      <td>NaN</td>\n",
              "      <td>NaN</td>\n",
              "      <td>NaN</td>\n",
              "      <td>NaN</td>\n",
              "      <td>NaN</td>\n",
              "      <td>NaN</td>\n",
              "      <td>NaN</td>\n",
              "      <td>NaN</td>\n",
              "      <td>NaN</td>\n",
              "      <td>NaN</td>\n",
              "      <td>https://www.seatguru.com//airlines/Westjet/Wes...</td>\n",
              "      <td>12875</td>\n",
              "      <td>4</td>\n",
              "      <td>0.3964</td>\n",
              "      <td>row, leg, room, window, plane, space, exit, si...</td>\n",
              "      <td>booked c off previous comments plenty of leg r...</td>\n",
              "      <td>0</td>\n",
              "    </tr>\n",
              "    <tr>\n",
              "      <th>12876</th>\n",
              "      <td>34386</td>\n",
              "      <td>NaN</td>\n",
              "      <td>NaN</td>\n",
              "      <td>NaN</td>\n",
              "      <td>SeatGuru</td>\n",
              "      <td>2015-05-14</td>\n",
              "      <td>NaN</td>\n",
              "      <td>Very poor seat design, a shame for a new aircr...</td>\n",
              "      <td>Westjet_</td>\n",
              "      <td>16C</td>\n",
              "      <td>Westjet_Bombardier_Q400</td>\n",
              "      <td>NaN</td>\n",
              "      <td>16745.0</td>\n",
              "      <td>NaN</td>\n",
              "      <td>NaN</td>\n",
              "      <td>NaN</td>\n",
              "      <td>NaN</td>\n",
              "      <td>NaN</td>\n",
              "      <td>NaN</td>\n",
              "      <td>NaN</td>\n",
              "      <td>NaN</td>\n",
              "      <td>NaN</td>\n",
              "      <td>NaN</td>\n",
              "      <td>NaN</td>\n",
              "      <td>https://www.seatguru.com//airlines/Westjet/Wes...</td>\n",
              "      <td>12876</td>\n",
              "      <td>3</td>\n",
              "      <td>0.4437</td>\n",
              "      <td>economy, foot, storage, passenger, bulkhead, a...</td>\n",
              "      <td>very poor seat design a shame for a new aircra...</td>\n",
              "      <td>0</td>\n",
              "    </tr>\n",
              "    <tr>\n",
              "      <th>12877</th>\n",
              "      <td>34391</td>\n",
              "      <td>NaN</td>\n",
              "      <td>NaN</td>\n",
              "      <td>NaN</td>\n",
              "      <td>SeatGuru</td>\n",
              "      <td>2018-08-16</td>\n",
              "      <td>NaN</td>\n",
              "      <td>AMS-XIA in May 2018 (codeshare KLM-Xiamenair)....</td>\n",
              "      <td>Xiamen_Airlines_</td>\n",
              "      <td>14A</td>\n",
              "      <td>Xiamen_Airlines_Boeing_787-9</td>\n",
              "      <td>NaN</td>\n",
              "      <td>16750.0</td>\n",
              "      <td>NaN</td>\n",
              "      <td>NaN</td>\n",
              "      <td>NaN</td>\n",
              "      <td>NaN</td>\n",
              "      <td>NaN</td>\n",
              "      <td>NaN</td>\n",
              "      <td>NaN</td>\n",
              "      <td>NaN</td>\n",
              "      <td>NaN</td>\n",
              "      <td>NaN</td>\n",
              "      <td>NaN</td>\n",
              "      <td>https://www.seatguru.com//airlines/Xiamen_Airl...</td>\n",
              "      <td>12877</td>\n",
              "      <td>1</td>\n",
              "      <td>0.2681</td>\n",
              "      <td>class, business, service, airline, food, seati...</td>\n",
              "      <td>ams xia in may codeshare klm xiamenair one of ...</td>\n",
              "      <td>0</td>\n",
              "    </tr>\n",
              "  </tbody>\n",
              "</table>\n",
              "<p>12878 rows × 31 columns</p>\n",
              "</div>\n",
              "      <button class=\"colab-df-convert\" onclick=\"convertToInteractive('df-80aef544-8578-4aa4-aced-20f419cb1687')\"\n",
              "              title=\"Convert this dataframe to an interactive table.\"\n",
              "              style=\"display:none;\">\n",
              "        \n",
              "  <svg xmlns=\"http://www.w3.org/2000/svg\" height=\"24px\"viewBox=\"0 0 24 24\"\n",
              "       width=\"24px\">\n",
              "    <path d=\"M0 0h24v24H0V0z\" fill=\"none\"/>\n",
              "    <path d=\"M18.56 5.44l.94 2.06.94-2.06 2.06-.94-2.06-.94-.94-2.06-.94 2.06-2.06.94zm-11 1L8.5 8.5l.94-2.06 2.06-.94-2.06-.94L8.5 2.5l-.94 2.06-2.06.94zm10 10l.94 2.06.94-2.06 2.06-.94-2.06-.94-.94-2.06-.94 2.06-2.06.94z\"/><path d=\"M17.41 7.96l-1.37-1.37c-.4-.4-.92-.59-1.43-.59-.52 0-1.04.2-1.43.59L10.3 9.45l-7.72 7.72c-.78.78-.78 2.05 0 2.83L4 21.41c.39.39.9.59 1.41.59.51 0 1.02-.2 1.41-.59l7.78-7.78 2.81-2.81c.8-.78.8-2.07 0-2.86zM5.41 20L4 18.59l7.72-7.72 1.47 1.35L5.41 20z\"/>\n",
              "  </svg>\n",
              "      </button>\n",
              "      \n",
              "  <style>\n",
              "    .colab-df-container {\n",
              "      display:flex;\n",
              "      flex-wrap:wrap;\n",
              "      gap: 12px;\n",
              "    }\n",
              "\n",
              "    .colab-df-convert {\n",
              "      background-color: #E8F0FE;\n",
              "      border: none;\n",
              "      border-radius: 50%;\n",
              "      cursor: pointer;\n",
              "      display: none;\n",
              "      fill: #1967D2;\n",
              "      height: 32px;\n",
              "      padding: 0 0 0 0;\n",
              "      width: 32px;\n",
              "    }\n",
              "\n",
              "    .colab-df-convert:hover {\n",
              "      background-color: #E2EBFA;\n",
              "      box-shadow: 0px 1px 2px rgba(60, 64, 67, 0.3), 0px 1px 3px 1px rgba(60, 64, 67, 0.15);\n",
              "      fill: #174EA6;\n",
              "    }\n",
              "\n",
              "    [theme=dark] .colab-df-convert {\n",
              "      background-color: #3B4455;\n",
              "      fill: #D2E3FC;\n",
              "    }\n",
              "\n",
              "    [theme=dark] .colab-df-convert:hover {\n",
              "      background-color: #434B5C;\n",
              "      box-shadow: 0px 1px 3px 1px rgba(0, 0, 0, 0.15);\n",
              "      filter: drop-shadow(0px 1px 2px rgba(0, 0, 0, 0.3));\n",
              "      fill: #FFFFFF;\n",
              "    }\n",
              "  </style>\n",
              "\n",
              "      <script>\n",
              "        const buttonEl =\n",
              "          document.querySelector('#df-80aef544-8578-4aa4-aced-20f419cb1687 button.colab-df-convert');\n",
              "        buttonEl.style.display =\n",
              "          google.colab.kernel.accessAllowed ? 'block' : 'none';\n",
              "\n",
              "        async function convertToInteractive(key) {\n",
              "          const element = document.querySelector('#df-80aef544-8578-4aa4-aced-20f419cb1687');\n",
              "          const dataTable =\n",
              "            await google.colab.kernel.invokeFunction('convertToInteractive',\n",
              "                                                     [key], {});\n",
              "          if (!dataTable) return;\n",
              "\n",
              "          const docLinkHtml = 'Like what you see? Visit the ' +\n",
              "            '<a target=\"_blank\" href=https://colab.research.google.com/notebooks/data_table.ipynb>data table notebook</a>'\n",
              "            + ' to learn more about interactive tables.';\n",
              "          element.innerHTML = '';\n",
              "          dataTable['output_type'] = 'display_data';\n",
              "          await google.colab.output.renderOutput(dataTable, element);\n",
              "          const docLink = document.createElement('div');\n",
              "          docLink.innerHTML = docLinkHtml;\n",
              "          element.appendChild(docLink);\n",
              "        }\n",
              "      </script>\n",
              "    </div>\n",
              "  </div>\n",
              "  "
            ],
            "text/plain": [
              "       Unnamed: 0  ...  pred_sentiment_svm\n",
              "0               2  ...                   0\n",
              "1              14  ...                   0\n",
              "2              23  ...                   1\n",
              "3              31  ...                   0\n",
              "4              36  ...                   0\n",
              "...           ...  ...                 ...\n",
              "12873       34381  ...                   0\n",
              "12874       34382  ...                   1\n",
              "12875       34383  ...                   0\n",
              "12876       34386  ...                   0\n",
              "12877       34391  ...                   0\n",
              "\n",
              "[12878 rows x 31 columns]"
            ]
          },
          "metadata": {},
          "execution_count": 62
        }
      ]
    },
    {
      "cell_type": "code",
      "source": [
        "df_final_with_svm_predictions = df_final"
      ],
      "metadata": {
        "id": "CIDGmG07VJhz"
      },
      "execution_count": null,
      "outputs": []
    },
    {
      "cell_type": "code",
      "source": [
        "# save df\n",
        "df_final_with_svm_predictions.to_csv('df_final_with_svm_predictions.csv')"
      ],
      "metadata": {
        "id": "PCCL4j3vz8ZC"
      },
      "execution_count": null,
      "outputs": []
    },
    {
      "cell_type": "markdown",
      "source": [
        "# Add Column of LogisticR Predictions"
      ],
      "metadata": {
        "id": "FBuSqhtU1u7M"
      }
    },
    {
      "cell_type": "code",
      "source": [
        "# load model\n",
        "import pickle\n",
        "filename = '/content/drive/MyDrive/Hackathon M2/TDIDF_Classifier_Models/logisticsr_classifier.sav'\n",
        "logisticsr = pickle.load(open(filename, 'rb'))"
      ],
      "metadata": {
        "id": "FECcrnNI2uKR"
      },
      "execution_count": null,
      "outputs": []
    },
    {
      "cell_type": "code",
      "source": [
        "# predict labels for all data\n",
        "pred_full = logisticsr.predict(tf_final)"
      ],
      "metadata": {
        "id": "W0_3lxIe2WgN"
      },
      "execution_count": null,
      "outputs": []
    },
    {
      "cell_type": "code",
      "source": [
        "len(pred_full)"
      ],
      "metadata": {
        "colab": {
          "base_uri": "https://localhost:8080/"
        },
        "outputId": "ea23789b-464f-4aec-f47f-132c29342f2a",
        "id": "ptwnZN5D2WgN"
      },
      "execution_count": null,
      "outputs": [
        {
          "output_type": "execute_result",
          "data": {
            "text/plain": [
              "12878"
            ]
          },
          "metadata": {},
          "execution_count": 75
        }
      ]
    },
    {
      "cell_type": "markdown",
      "source": [
        "### Add Labels to DF"
      ],
      "metadata": {
        "id": "DtC0f_Be2WgO"
      }
    },
    {
      "cell_type": "code",
      "source": [
        "# add predictions to dataset\n",
        "df_final_with_svm_predictions['pred_sentiment_logisticr'] = pred_full"
      ],
      "metadata": {
        "id": "v-0QNWkD2WgO"
      },
      "execution_count": null,
      "outputs": []
    },
    {
      "cell_type": "code",
      "source": [
        "df_final_w_tdidf_pred = df_final_with_svm_predictions"
      ],
      "metadata": {
        "id": "81AoXOyg3CLa"
      },
      "execution_count": null,
      "outputs": []
    },
    {
      "cell_type": "code",
      "source": [
        "# save df\n",
        "df_final_w_tdidf_pred.to_csv('df_final_w_tdidf_pred.csv')"
      ],
      "metadata": {
        "id": "IFKBKUVv3HH0"
      },
      "execution_count": null,
      "outputs": []
    },
    {
      "cell_type": "markdown",
      "source": [
        "# Analyse Results"
      ],
      "metadata": {
        "id": "88IK_RrK3a2_"
      }
    },
    {
      "cell_type": "code",
      "source": [
        "df_final_w_tdidf_pred = pd.read_csv('/content/drive/MyDrive/Hackathon M2/Our Data/df_final_w_tdidf_pred.csv')"
      ],
      "metadata": {
        "id": "NmVo6poY5h8n"
      },
      "execution_count": 83,
      "outputs": []
    },
    {
      "cell_type": "code",
      "source": [
        "analysis = df_final_w_tdidf_pred"
      ],
      "metadata": {
        "id": "YomWX53a3dH7"
      },
      "execution_count": 84,
      "outputs": []
    },
    {
      "cell_type": "code",
      "source": [
        "analysis"
      ],
      "metadata": {
        "colab": {
          "base_uri": "https://localhost:8080/",
          "height": 1000
        },
        "id": "PvQZaKbp3qCE",
        "outputId": "0b2754d3-1d3a-4aa5-bd44-a6e968fbdb27"
      },
      "execution_count": 89,
      "outputs": [
        {
          "output_type": "execute_result",
          "data": {
            "text/html": [
              "\n",
              "  <div id=\"df-9809b201-8ba9-4eb8-a36c-6fa89a033b52\">\n",
              "    <div class=\"colab-df-container\">\n",
              "      <div>\n",
              "<style scoped>\n",
              "    .dataframe tbody tr th:only-of-type {\n",
              "        vertical-align: middle;\n",
              "    }\n",
              "\n",
              "    .dataframe tbody tr th {\n",
              "        vertical-align: top;\n",
              "    }\n",
              "\n",
              "    .dataframe thead th {\n",
              "        text-align: right;\n",
              "    }\n",
              "</style>\n",
              "<table border=\"1\" class=\"dataframe\">\n",
              "  <thead>\n",
              "    <tr style=\"text-align: right;\">\n",
              "      <th></th>\n",
              "      <th>Unnamed: 0</th>\n",
              "      <th>Unnamed: 0.1</th>\n",
              "      <th>score</th>\n",
              "      <th>title</th>\n",
              "      <th>user_country</th>\n",
              "      <th>user_name</th>\n",
              "      <th>review_date</th>\n",
              "      <th>is_verified</th>\n",
              "      <th>review_body</th>\n",
              "      <th>airline</th>\n",
              "      <th>seat</th>\n",
              "      <th>aircraft</th>\n",
              "      <th>layout</th>\n",
              "      <th>Unnamed: 0.1.1</th>\n",
              "      <th>Cabin Staff Service</th>\n",
              "      <th>Food &amp; Beverages</th>\n",
              "      <th>Ground Service</th>\n",
              "      <th>Recommended</th>\n",
              "      <th>Route</th>\n",
              "      <th>Seat Comfort</th>\n",
              "      <th>Seat Type</th>\n",
              "      <th>Type Of Traveller</th>\n",
              "      <th>Value For Money</th>\n",
              "      <th>Inflight Entertainment</th>\n",
              "      <th>Wifi &amp; Connectivity</th>\n",
              "      <th>link</th>\n",
              "      <th>Document_No</th>\n",
              "      <th>Dominant_Topic</th>\n",
              "      <th>Topic_Perc_Contrib</th>\n",
              "      <th>Keywords</th>\n",
              "      <th>Text</th>\n",
              "      <th>pred_sentiment_svm</th>\n",
              "      <th>pred_sentiment_logisticr</th>\n",
              "      <th>combined</th>\n",
              "    </tr>\n",
              "  </thead>\n",
              "  <tbody>\n",
              "    <tr>\n",
              "      <th>0</th>\n",
              "      <td>0</td>\n",
              "      <td>2</td>\n",
              "      <td>3.0</td>\n",
              "      <td>Air France customer review</td>\n",
              "      <td>United States</td>\n",
              "      <td>Daniel Rabourn</td>\n",
              "      <td>2022-01-26</td>\n",
              "      <td>1.0</td>\n",
              "      <td>Yesterday Jan 25, we flew Colombo, Sri Lanka t...</td>\n",
              "      <td>Air France</td>\n",
              "      <td>NaN</td>\n",
              "      <td>NaN</td>\n",
              "      <td>NaN</td>\n",
              "      <td>NaN</td>\n",
              "      <td>NaN</td>\n",
              "      <td>NaN</td>\n",
              "      <td>NaN</td>\n",
              "      <td>NaN</td>\n",
              "      <td>NaN</td>\n",
              "      <td>NaN</td>\n",
              "      <td>NaN</td>\n",
              "      <td>NaN</td>\n",
              "      <td>NaN</td>\n",
              "      <td>NaN</td>\n",
              "      <td>NaN</td>\n",
              "      <td>NaN</td>\n",
              "      <td>0</td>\n",
              "      <td>2</td>\n",
              "      <td>0.4192</td>\n",
              "      <td>flight, time, hour, sleep, configuration, atte...</td>\n",
              "      <td>yesterday jan we flew colombo sri lanka to par...</td>\n",
              "      <td>0</td>\n",
              "      <td>0</td>\n",
              "      <td>0</td>\n",
              "    </tr>\n",
              "    <tr>\n",
              "      <th>1</th>\n",
              "      <td>1</td>\n",
              "      <td>14</td>\n",
              "      <td>5.0</td>\n",
              "      <td>\"All in all, a decent experience\"</td>\n",
              "      <td>United Kingdom</td>\n",
              "      <td>S Gorsey</td>\n",
              "      <td>2021-05-12</td>\n",
              "      <td>1.0</td>\n",
              "      <td>It was very nice having a wide body with a 1-...</td>\n",
              "      <td>Air France</td>\n",
              "      <td>NaN</td>\n",
              "      <td>NaN</td>\n",
              "      <td>NaN</td>\n",
              "      <td>NaN</td>\n",
              "      <td>NaN</td>\n",
              "      <td>NaN</td>\n",
              "      <td>NaN</td>\n",
              "      <td>NaN</td>\n",
              "      <td>NaN</td>\n",
              "      <td>NaN</td>\n",
              "      <td>NaN</td>\n",
              "      <td>NaN</td>\n",
              "      <td>NaN</td>\n",
              "      <td>NaN</td>\n",
              "      <td>NaN</td>\n",
              "      <td>NaN</td>\n",
              "      <td>1</td>\n",
              "      <td>1</td>\n",
              "      <td>0.3318</td>\n",
              "      <td>class, business, service, airline, food, seati...</td>\n",
              "      <td>it was very nice having a wide body with a lie...</td>\n",
              "      <td>0</td>\n",
              "      <td>1</td>\n",
              "      <td>1</td>\n",
              "    </tr>\n",
              "    <tr>\n",
              "      <th>2</th>\n",
              "      <td>2</td>\n",
              "      <td>23</td>\n",
              "      <td>7.0</td>\n",
              "      <td>\"business class tagged bag was last to arrive\"</td>\n",
              "      <td>United States</td>\n",
              "      <td>Peter Pomeranze</td>\n",
              "      <td>2021-04-10</td>\n",
              "      <td>1.0</td>\n",
              "      <td>Short crowded turbulent flight. Excellent att...</td>\n",
              "      <td>Air France</td>\n",
              "      <td>NaN</td>\n",
              "      <td>NaN</td>\n",
              "      <td>NaN</td>\n",
              "      <td>NaN</td>\n",
              "      <td>NaN</td>\n",
              "      <td>NaN</td>\n",
              "      <td>NaN</td>\n",
              "      <td>NaN</td>\n",
              "      <td>NaN</td>\n",
              "      <td>NaN</td>\n",
              "      <td>NaN</td>\n",
              "      <td>NaN</td>\n",
              "      <td>NaN</td>\n",
              "      <td>NaN</td>\n",
              "      <td>NaN</td>\n",
              "      <td>NaN</td>\n",
              "      <td>2</td>\n",
              "      <td>1</td>\n",
              "      <td>0.2773</td>\n",
              "      <td>class, business, service, airline, food, seati...</td>\n",
              "      <td>short crowded turbulent flight excellent atten...</td>\n",
              "      <td>1</td>\n",
              "      <td>1</td>\n",
              "      <td>2</td>\n",
              "    </tr>\n",
              "    <tr>\n",
              "      <th>3</th>\n",
              "      <td>3</td>\n",
              "      <td>31</td>\n",
              "      <td>2.0</td>\n",
              "      <td>\"no longer giving miles  with Economy class\"</td>\n",
              "      <td>France</td>\n",
              "      <td>Willy Fischer</td>\n",
              "      <td>2021-08-18</td>\n",
              "      <td>1.0</td>\n",
              "      <td>Paris CDG to Warsaw , August 16th 2021 Econom...</td>\n",
              "      <td>Air France</td>\n",
              "      <td>NaN</td>\n",
              "      <td>NaN</td>\n",
              "      <td>NaN</td>\n",
              "      <td>NaN</td>\n",
              "      <td>NaN</td>\n",
              "      <td>NaN</td>\n",
              "      <td>NaN</td>\n",
              "      <td>NaN</td>\n",
              "      <td>NaN</td>\n",
              "      <td>NaN</td>\n",
              "      <td>NaN</td>\n",
              "      <td>NaN</td>\n",
              "      <td>NaN</td>\n",
              "      <td>NaN</td>\n",
              "      <td>NaN</td>\n",
              "      <td>NaN</td>\n",
              "      <td>3</td>\n",
              "      <td>3</td>\n",
              "      <td>0.4437</td>\n",
              "      <td>economy, foot, storage, passenger, bulkhead, a...</td>\n",
              "      <td>paris cdg to warsaw august th economy class as...</td>\n",
              "      <td>0</td>\n",
              "      <td>0</td>\n",
              "      <td>0</td>\n",
              "    </tr>\n",
              "    <tr>\n",
              "      <th>4</th>\n",
              "      <td>4</td>\n",
              "      <td>36</td>\n",
              "      <td>1.0</td>\n",
              "      <td>\"every shop was closed\\3</td>\n",
              "      <td>Russian Federation</td>\n",
              "      <td>Anton Koshelev</td>\n",
              "      <td>2021-06-13</td>\n",
              "      <td>1.0</td>\n",
              "      <td>The worst experience I have had during my int...</td>\n",
              "      <td>Air France</td>\n",
              "      <td>NaN</td>\n",
              "      <td>NaN</td>\n",
              "      <td>NaN</td>\n",
              "      <td>NaN</td>\n",
              "      <td>NaN</td>\n",
              "      <td>NaN</td>\n",
              "      <td>NaN</td>\n",
              "      <td>NaN</td>\n",
              "      <td>NaN</td>\n",
              "      <td>NaN</td>\n",
              "      <td>NaN</td>\n",
              "      <td>NaN</td>\n",
              "      <td>NaN</td>\n",
              "      <td>NaN</td>\n",
              "      <td>NaN</td>\n",
              "      <td>NaN</td>\n",
              "      <td>4</td>\n",
              "      <td>2</td>\n",
              "      <td>0.3509</td>\n",
              "      <td>flight, time, hour, sleep, configuration, atte...</td>\n",
              "      <td>the worst experience i have had during my inte...</td>\n",
              "      <td>0</td>\n",
              "      <td>0</td>\n",
              "      <td>0</td>\n",
              "    </tr>\n",
              "    <tr>\n",
              "      <th>...</th>\n",
              "      <td>...</td>\n",
              "      <td>...</td>\n",
              "      <td>...</td>\n",
              "      <td>...</td>\n",
              "      <td>...</td>\n",
              "      <td>...</td>\n",
              "      <td>...</td>\n",
              "      <td>...</td>\n",
              "      <td>...</td>\n",
              "      <td>...</td>\n",
              "      <td>...</td>\n",
              "      <td>...</td>\n",
              "      <td>...</td>\n",
              "      <td>...</td>\n",
              "      <td>...</td>\n",
              "      <td>...</td>\n",
              "      <td>...</td>\n",
              "      <td>...</td>\n",
              "      <td>...</td>\n",
              "      <td>...</td>\n",
              "      <td>...</td>\n",
              "      <td>...</td>\n",
              "      <td>...</td>\n",
              "      <td>...</td>\n",
              "      <td>...</td>\n",
              "      <td>...</td>\n",
              "      <td>...</td>\n",
              "      <td>...</td>\n",
              "      <td>...</td>\n",
              "      <td>...</td>\n",
              "      <td>...</td>\n",
              "      <td>...</td>\n",
              "      <td>...</td>\n",
              "      <td>...</td>\n",
              "    </tr>\n",
              "    <tr>\n",
              "      <th>12873</th>\n",
              "      <td>12873</td>\n",
              "      <td>34381</td>\n",
              "      <td>NaN</td>\n",
              "      <td>NaN</td>\n",
              "      <td>NaN</td>\n",
              "      <td>Cody</td>\n",
              "      <td>2016-12-20</td>\n",
              "      <td>NaN</td>\n",
              "      <td>I spent the money on for the westjet premium s...</td>\n",
              "      <td>Westjet_</td>\n",
              "      <td>3a</td>\n",
              "      <td>Westjet_Bombardier_Q400</td>\n",
              "      <td>NaN</td>\n",
              "      <td>16740.0</td>\n",
              "      <td>NaN</td>\n",
              "      <td>NaN</td>\n",
              "      <td>NaN</td>\n",
              "      <td>NaN</td>\n",
              "      <td>NaN</td>\n",
              "      <td>NaN</td>\n",
              "      <td>NaN</td>\n",
              "      <td>NaN</td>\n",
              "      <td>NaN</td>\n",
              "      <td>NaN</td>\n",
              "      <td>NaN</td>\n",
              "      <td>https://www.seatguru.com//airlines/Westjet/Wes...</td>\n",
              "      <td>12873</td>\n",
              "      <td>4</td>\n",
              "      <td>0.4052</td>\n",
              "      <td>row, leg, room, window, plane, space, exit, si...</td>\n",
              "      <td>i spent the money on for the westjet premium s...</td>\n",
              "      <td>0</td>\n",
              "      <td>0</td>\n",
              "      <td>0</td>\n",
              "    </tr>\n",
              "    <tr>\n",
              "      <th>12874</th>\n",
              "      <td>12874</td>\n",
              "      <td>34382</td>\n",
              "      <td>NaN</td>\n",
              "      <td>NaN</td>\n",
              "      <td>NaN</td>\n",
              "      <td>SeatGuru</td>\n",
              "      <td>2016-09-26</td>\n",
              "      <td>NaN</td>\n",
              "      <td>Excellent seat. great view. overhead bins are ...</td>\n",
              "      <td>Westjet_</td>\n",
              "      <td>5C</td>\n",
              "      <td>Westjet_Bombardier_Q400</td>\n",
              "      <td>NaN</td>\n",
              "      <td>16741.0</td>\n",
              "      <td>NaN</td>\n",
              "      <td>NaN</td>\n",
              "      <td>NaN</td>\n",
              "      <td>NaN</td>\n",
              "      <td>NaN</td>\n",
              "      <td>NaN</td>\n",
              "      <td>NaN</td>\n",
              "      <td>NaN</td>\n",
              "      <td>NaN</td>\n",
              "      <td>NaN</td>\n",
              "      <td>NaN</td>\n",
              "      <td>https://www.seatguru.com//airlines/Westjet/Wes...</td>\n",
              "      <td>12874</td>\n",
              "      <td>4</td>\n",
              "      <td>0.4086</td>\n",
              "      <td>row, leg, room, window, plane, space, exit, si...</td>\n",
              "      <td>excellent seat great view overhead bins are qu...</td>\n",
              "      <td>1</td>\n",
              "      <td>1</td>\n",
              "      <td>2</td>\n",
              "    </tr>\n",
              "    <tr>\n",
              "      <th>12875</th>\n",
              "      <td>12875</td>\n",
              "      <td>34383</td>\n",
              "      <td>NaN</td>\n",
              "      <td>NaN</td>\n",
              "      <td>NaN</td>\n",
              "      <td>SeatGuru</td>\n",
              "      <td>2016-03-08</td>\n",
              "      <td>NaN</td>\n",
              "      <td>Booked 4C off previous comments. Plenty of leg...</td>\n",
              "      <td>Westjet_</td>\n",
              "      <td>4C</td>\n",
              "      <td>Westjet_Bombardier_Q400</td>\n",
              "      <td>NaN</td>\n",
              "      <td>16742.0</td>\n",
              "      <td>NaN</td>\n",
              "      <td>NaN</td>\n",
              "      <td>NaN</td>\n",
              "      <td>NaN</td>\n",
              "      <td>NaN</td>\n",
              "      <td>NaN</td>\n",
              "      <td>NaN</td>\n",
              "      <td>NaN</td>\n",
              "      <td>NaN</td>\n",
              "      <td>NaN</td>\n",
              "      <td>NaN</td>\n",
              "      <td>https://www.seatguru.com//airlines/Westjet/Wes...</td>\n",
              "      <td>12875</td>\n",
              "      <td>4</td>\n",
              "      <td>0.3964</td>\n",
              "      <td>row, leg, room, window, plane, space, exit, si...</td>\n",
              "      <td>booked c off previous comments plenty of leg r...</td>\n",
              "      <td>0</td>\n",
              "      <td>1</td>\n",
              "      <td>1</td>\n",
              "    </tr>\n",
              "    <tr>\n",
              "      <th>12876</th>\n",
              "      <td>12876</td>\n",
              "      <td>34386</td>\n",
              "      <td>NaN</td>\n",
              "      <td>NaN</td>\n",
              "      <td>NaN</td>\n",
              "      <td>SeatGuru</td>\n",
              "      <td>2015-05-14</td>\n",
              "      <td>NaN</td>\n",
              "      <td>Very poor seat design, a shame for a new aircr...</td>\n",
              "      <td>Westjet_</td>\n",
              "      <td>16C</td>\n",
              "      <td>Westjet_Bombardier_Q400</td>\n",
              "      <td>NaN</td>\n",
              "      <td>16745.0</td>\n",
              "      <td>NaN</td>\n",
              "      <td>NaN</td>\n",
              "      <td>NaN</td>\n",
              "      <td>NaN</td>\n",
              "      <td>NaN</td>\n",
              "      <td>NaN</td>\n",
              "      <td>NaN</td>\n",
              "      <td>NaN</td>\n",
              "      <td>NaN</td>\n",
              "      <td>NaN</td>\n",
              "      <td>NaN</td>\n",
              "      <td>https://www.seatguru.com//airlines/Westjet/Wes...</td>\n",
              "      <td>12876</td>\n",
              "      <td>3</td>\n",
              "      <td>0.4437</td>\n",
              "      <td>economy, foot, storage, passenger, bulkhead, a...</td>\n",
              "      <td>very poor seat design a shame for a new aircra...</td>\n",
              "      <td>0</td>\n",
              "      <td>0</td>\n",
              "      <td>0</td>\n",
              "    </tr>\n",
              "    <tr>\n",
              "      <th>12877</th>\n",
              "      <td>12877</td>\n",
              "      <td>34391</td>\n",
              "      <td>NaN</td>\n",
              "      <td>NaN</td>\n",
              "      <td>NaN</td>\n",
              "      <td>SeatGuru</td>\n",
              "      <td>2018-08-16</td>\n",
              "      <td>NaN</td>\n",
              "      <td>AMS-XIA in May 2018 (codeshare KLM-Xiamenair)....</td>\n",
              "      <td>Xiamen_Airlines_</td>\n",
              "      <td>14A</td>\n",
              "      <td>Xiamen_Airlines_Boeing_787-9</td>\n",
              "      <td>NaN</td>\n",
              "      <td>16750.0</td>\n",
              "      <td>NaN</td>\n",
              "      <td>NaN</td>\n",
              "      <td>NaN</td>\n",
              "      <td>NaN</td>\n",
              "      <td>NaN</td>\n",
              "      <td>NaN</td>\n",
              "      <td>NaN</td>\n",
              "      <td>NaN</td>\n",
              "      <td>NaN</td>\n",
              "      <td>NaN</td>\n",
              "      <td>NaN</td>\n",
              "      <td>https://www.seatguru.com//airlines/Xiamen_Airl...</td>\n",
              "      <td>12877</td>\n",
              "      <td>1</td>\n",
              "      <td>0.2681</td>\n",
              "      <td>class, business, service, airline, food, seati...</td>\n",
              "      <td>ams xia in may codeshare klm xiamenair one of ...</td>\n",
              "      <td>0</td>\n",
              "      <td>1</td>\n",
              "      <td>1</td>\n",
              "    </tr>\n",
              "  </tbody>\n",
              "</table>\n",
              "<p>12878 rows × 34 columns</p>\n",
              "</div>\n",
              "      <button class=\"colab-df-convert\" onclick=\"convertToInteractive('df-9809b201-8ba9-4eb8-a36c-6fa89a033b52')\"\n",
              "              title=\"Convert this dataframe to an interactive table.\"\n",
              "              style=\"display:none;\">\n",
              "        \n",
              "  <svg xmlns=\"http://www.w3.org/2000/svg\" height=\"24px\"viewBox=\"0 0 24 24\"\n",
              "       width=\"24px\">\n",
              "    <path d=\"M0 0h24v24H0V0z\" fill=\"none\"/>\n",
              "    <path d=\"M18.56 5.44l.94 2.06.94-2.06 2.06-.94-2.06-.94-.94-2.06-.94 2.06-2.06.94zm-11 1L8.5 8.5l.94-2.06 2.06-.94-2.06-.94L8.5 2.5l-.94 2.06-2.06.94zm10 10l.94 2.06.94-2.06 2.06-.94-2.06-.94-.94-2.06-.94 2.06-2.06.94z\"/><path d=\"M17.41 7.96l-1.37-1.37c-.4-.4-.92-.59-1.43-.59-.52 0-1.04.2-1.43.59L10.3 9.45l-7.72 7.72c-.78.78-.78 2.05 0 2.83L4 21.41c.39.39.9.59 1.41.59.51 0 1.02-.2 1.41-.59l7.78-7.78 2.81-2.81c.8-.78.8-2.07 0-2.86zM5.41 20L4 18.59l7.72-7.72 1.47 1.35L5.41 20z\"/>\n",
              "  </svg>\n",
              "      </button>\n",
              "      \n",
              "  <style>\n",
              "    .colab-df-container {\n",
              "      display:flex;\n",
              "      flex-wrap:wrap;\n",
              "      gap: 12px;\n",
              "    }\n",
              "\n",
              "    .colab-df-convert {\n",
              "      background-color: #E8F0FE;\n",
              "      border: none;\n",
              "      border-radius: 50%;\n",
              "      cursor: pointer;\n",
              "      display: none;\n",
              "      fill: #1967D2;\n",
              "      height: 32px;\n",
              "      padding: 0 0 0 0;\n",
              "      width: 32px;\n",
              "    }\n",
              "\n",
              "    .colab-df-convert:hover {\n",
              "      background-color: #E2EBFA;\n",
              "      box-shadow: 0px 1px 2px rgba(60, 64, 67, 0.3), 0px 1px 3px 1px rgba(60, 64, 67, 0.15);\n",
              "      fill: #174EA6;\n",
              "    }\n",
              "\n",
              "    [theme=dark] .colab-df-convert {\n",
              "      background-color: #3B4455;\n",
              "      fill: #D2E3FC;\n",
              "    }\n",
              "\n",
              "    [theme=dark] .colab-df-convert:hover {\n",
              "      background-color: #434B5C;\n",
              "      box-shadow: 0px 1px 3px 1px rgba(0, 0, 0, 0.15);\n",
              "      filter: drop-shadow(0px 1px 2px rgba(0, 0, 0, 0.3));\n",
              "      fill: #FFFFFF;\n",
              "    }\n",
              "  </style>\n",
              "\n",
              "      <script>\n",
              "        const buttonEl =\n",
              "          document.querySelector('#df-9809b201-8ba9-4eb8-a36c-6fa89a033b52 button.colab-df-convert');\n",
              "        buttonEl.style.display =\n",
              "          google.colab.kernel.accessAllowed ? 'block' : 'none';\n",
              "\n",
              "        async function convertToInteractive(key) {\n",
              "          const element = document.querySelector('#df-9809b201-8ba9-4eb8-a36c-6fa89a033b52');\n",
              "          const dataTable =\n",
              "            await google.colab.kernel.invokeFunction('convertToInteractive',\n",
              "                                                     [key], {});\n",
              "          if (!dataTable) return;\n",
              "\n",
              "          const docLinkHtml = 'Like what you see? Visit the ' +\n",
              "            '<a target=\"_blank\" href=https://colab.research.google.com/notebooks/data_table.ipynb>data table notebook</a>'\n",
              "            + ' to learn more about interactive tables.';\n",
              "          element.innerHTML = '';\n",
              "          dataTable['output_type'] = 'display_data';\n",
              "          await google.colab.output.renderOutput(dataTable, element);\n",
              "          const docLink = document.createElement('div');\n",
              "          docLink.innerHTML = docLinkHtml;\n",
              "          element.appendChild(docLink);\n",
              "        }\n",
              "      </script>\n",
              "    </div>\n",
              "  </div>\n",
              "  "
            ],
            "text/plain": [
              "       Unnamed: 0  Unnamed: 0.1  ...  pred_sentiment_logisticr combined\n",
              "0               0             2  ...                         0        0\n",
              "1               1            14  ...                         1        1\n",
              "2               2            23  ...                         1        2\n",
              "3               3            31  ...                         0        0\n",
              "4               4            36  ...                         0        0\n",
              "...           ...           ...  ...                       ...      ...\n",
              "12873       12873         34381  ...                         0        0\n",
              "12874       12874         34382  ...                         1        2\n",
              "12875       12875         34383  ...                         1        1\n",
              "12876       12876         34386  ...                         0        0\n",
              "12877       12877         34391  ...                         1        1\n",
              "\n",
              "[12878 rows x 34 columns]"
            ]
          },
          "metadata": {},
          "execution_count": 89
        }
      ]
    },
    {
      "cell_type": "code",
      "source": [
        "analysis['combined'] = analysis['pred_sentiment_svm'] + analysis['pred_sentiment_logisticr']"
      ],
      "metadata": {
        "id": "CuHpW6xm3y8n"
      },
      "execution_count": 87,
      "outputs": []
    },
    {
      "cell_type": "code",
      "source": [
        "# around 10% of dissimilarity between the two classifiers\n",
        "analysis['combined'].value_counts()"
      ],
      "metadata": {
        "id": "KMZVN76X384a",
        "colab": {
          "base_uri": "https://localhost:8080/"
        },
        "outputId": "14ee4b8d-2642-4653-af56-21783e0d2d22"
      },
      "execution_count": 88,
      "outputs": [
        {
          "output_type": "execute_result",
          "data": {
            "text/plain": [
              "0    7954\n",
              "2    3711\n",
              "1    1213\n",
              "Name: combined, dtype: int64"
            ]
          },
          "metadata": {},
          "execution_count": 88
        }
      ]
    },
    {
      "cell_type": "markdown",
      "source": [
        "# Label Low-Cost Airlines"
      ],
      "metadata": {
        "id": "Xl2m1qewPtZx"
      }
    },
    {
      "cell_type": "code",
      "source": [
        "# make airlines the same\n",
        "analysis['airline'] = analysis['airline'].str.replace(\"_\",\" \")\n",
        "\n",
        "analysis['airline'] = analysis['airline'].str.replace(\"-\",\" \")\n",
        "\n",
        "analysis['airline'] = analysis['airline'].str.strip()\n",
        "\n",
        "analysis['airline'] = analysis['airline'].str.lower()"
      ],
      "metadata": {
        "id": "IDlBT8O5IJUv"
      },
      "execution_count": 101,
      "outputs": []
    },
    {
      "cell_type": "code",
      "source": [
        "list_airlines = sorted(analysis['airline'].unique())"
      ],
      "metadata": {
        "id": "sNN2V4nwNDYA"
      },
      "execution_count": 104,
      "outputs": []
    },
    {
      "cell_type": "code",
      "source": [
        "len(list_airlines)"
      ],
      "metadata": {
        "colab": {
          "base_uri": "https://localhost:8080/"
        },
        "id": "nlF3sA4QgqCe",
        "outputId": "60fa25a1-25ae-4b0f-b94f-c5f48904f74d"
      },
      "execution_count": 443,
      "outputs": [
        {
          "output_type": "execute_result",
          "data": {
            "text/plain": [
              "221"
            ]
          },
          "metadata": {},
          "execution_count": 443
        }
      ]
    },
    {
      "cell_type": "code",
      "source": [
        "analysis['airline'].value_counts().plot(kind='bar')"
      ],
      "metadata": {
        "colab": {
          "base_uri": "https://localhost:8080/",
          "height": 446
        },
        "id": "BVG4zeKSLXVr",
        "outputId": "72c73e1e-d410-4631-f7d0-66d7e4b1fae2"
      },
      "execution_count": 97,
      "outputs": [
        {
          "output_type": "execute_result",
          "data": {
            "text/plain": [
              "<matplotlib.axes._subplots.AxesSubplot at 0x7fc6581eb650>"
            ]
          },
          "metadata": {},
          "execution_count": 97
        },
        {
          "output_type": "display_data",
          "data": {
            "image/png": "[encoded data removed]",
            "text/plain": [
              "<Figure size 432x288 with 1 Axes>"
            ]
          },
          "metadata": {
            "needs_background": "light"
          }
        }
      ]
    },
    {
      "cell_type": "code",
      "source": [
        "# webscrape wiki for list of low-cost airlines \n",
        "wikiurl = \"https://en.wikipedia.org/wiki/List_of_low-cost_airlines\"\n",
        "import requests # library to handle requests\n",
        "response = requests.get(wikiurl)\n",
        "# print(response.status_code) # 200 code means we can legally web scrape it\n",
        "\n",
        "tables = pd.read_html(wikiurl)"
      ],
      "metadata": {
        "id": "mqiGO3SrQJLc"
      },
      "execution_count": 114,
      "outputs": []
    },
    {
      "cell_type": "code",
      "source": [
        "# webscrape wiki for list of low-cost airlines \n",
        "wikiurl = \"https://www.joaoleitao.com/low-cost-airlines/\"\n",
        "import requests # library to handle requests\n",
        "# print(response.status_code) # 200 code means we can legally web scrape it\n",
        "\n",
        "req = requests.get(wikiurl)\n",
        "soup = BeautifulSoup(req.content, 'html.parser')"
      ],
      "metadata": {
        "id": "M4ZTRZV1HKxY"
      },
      "execution_count": 387,
      "outputs": []
    },
    {
      "cell_type": "code",
      "source": [
        "text = soup.find_all(text=True)\n"
      ],
      "metadata": {
        "id": "wtT3fBp3HSOU"
      },
      "execution_count": 399,
      "outputs": []
    },
    {
      "cell_type": "code",
      "source": [
        "text"
      ],
      "metadata": {
        "colab": {
          "base_uri": "https://localhost:8080/"
        },
        "id": "MO_dwotkJbgD",
        "outputId": "8a5c1997-449e-4805-8331-9f1a4b3ca4d6"
      },
      "execution_count": 410,
      "outputs": [
        {
          "output_type": "execute_result",
          "data": {
            "text/plain": [
              "['html',\n",
              " '\\n',\n",
              " '\\n',\n",
              " '\\n',\n",
              " '\\n',\n",
              " '\\n',\n",
              " ' Search Engine Optimization by Rank Math - https://s.rankmath.com/home ',\n",
              " '\\n',\n",
              " 'List Of All The Low-cost Airlines In The World Listed By Continent (2019)',\n",
              " '\\n',\n",
              " '\\n',\n",
              " '\\n',\n",
              " '\\n',\n",
              " '\\n',\n",
              " '\\n',\n",
              " '\\n',\n",
              " '\\n',\n",
              " '\\n',\n",
              " '\\n',\n",
              " '\\n',\n",
              " '\\n',\n",
              " '\\n',\n",
              " '\\n',\n",
              " '\\n',\n",
              " '\\n',\n",
              " '\\n',\n",
              " '\\n',\n",
              " '\\n',\n",
              " '\\n',\n",
              " '\\n',\n",
              " '\\n',\n",
              " '\\n',\n",
              " '\\n',\n",
              " '\\n',\n",
              " '\\n',\n",
              " '\\n',\n",
              " '\\n',\n",
              " '\\n',\n",
              " '\\n',\n",
              " '\\n',\n",
              " '\\n',\n",
              " '\\n',\n",
              " '{\"@context\":\"https://schema.org\",\"@graph\":[{\"@type\":[\"Person\",\"Organization\"],\"@id\":\"https://www.joaoleitao.com/#person\",\"name\":\"Jo\\\\u00e3o Leit\\\\u00e3o\",\"logo\":{\"@type\":\"ImageObject\",\"@id\":\"https://www.joaoleitao.com/#logo\",\"url\":\"https://www.joaoleitao.com/wp-content/uploads/2019/05/NOMAD-REVELATIONS-1.png\",\"caption\":\"Jo\\\\u00e3o Leit\\\\u00e3o\",\"inLanguage\":\"en-US\",\"width\":\"700\",\"height\":\"221\"},\"image\":{\"@type\":\"ImageObject\",\"@id\":\"https://www.joaoleitao.com/#logo\",\"url\":\"https://www.joaoleitao.com/wp-content/uploads/2019/05/NOMAD-REVELATIONS-1.png\",\"caption\":\"Jo\\\\u00e3o Leit\\\\u00e3o\",\"inLanguage\":\"en-US\",\"width\":\"700\",\"height\":\"221\"}},{\"@type\":\"WebSite\",\"@id\":\"https://www.joaoleitao.com/#website\",\"url\":\"https://www.joaoleitao.com\",\"name\":\"Jo\\\\u00e3o Leit\\\\u00e3o\",\"publisher\":{\"@id\":\"https://www.joaoleitao.com/#person\"},\"inLanguage\":\"en-US\"},{\"@type\":\"ImageObject\",\"@id\":\"https://www.joaoleitao.com/wp-content/uploads/2019/03/LOW-COST-AIRLINES.jpg\",\"url\":\"https://www.joaoleitao.com/wp-content/uploads/2019/03/LOW-COST-AIRLINES.jpg\",\"width\":\"1006\",\"height\":\"1341\",\"caption\":\"LOW COST AIRLINES\",\"inLanguage\":\"en-US\"},{\"@type\":\"Person\",\"@id\":\"https://www.joaoleitao.com/low-cost-airlines/#author\",\"name\":\"Jo\\\\u00e3o Leit\\\\u00e3o\",\"image\":{\"@type\":\"ImageObject\",\"@id\":\"https://secure.gravatar.com/avatar/b6540f99143435560f404e0fc629c57e?s=96&amp;d=identicon&amp;r=g\",\"url\":\"https://secure.gravatar.com/avatar/b6540f99143435560f404e0fc629c57e?s=96&amp;d=identicon&amp;r=g\",\"caption\":\"Jo\\\\u00e3o Leit\\\\u00e3o\",\"inLanguage\":\"en-US\"},\"sameAs\":[\"https://www.joaoleitao.com/\",\"https://www.facebook.com/NomadRevelations\",\"https://twitter.com/joaoleitao\"]},{\"@type\":\"WebPage\",\"@id\":\"https://www.joaoleitao.com/low-cost-airlines/#webpage\",\"url\":\"https://www.joaoleitao.com/low-cost-airlines/\",\"name\":\"List Of All The Low-cost Airlines In The World Listed By Continent (2019)\",\"datePublished\":\"2019-10-26T20:43:45+01:00\",\"dateModified\":\"2021-01-02T09:57:30+00:00\",\"author\":{\"@id\":\"https://www.joaoleitao.com/low-cost-airlines/#author\"},\"isPartOf\":{\"@id\":\"https://www.joaoleitao.com/#website\"},\"primaryImageOfPage\":{\"@id\":\"https://www.joaoleitao.com/wp-content/uploads/2019/03/LOW-COST-AIRLINES.jpg\"},\"inLanguage\":\"en-US\"},{\"@type\":\"BlogPosting\",\"headline\":\"List of all the low-cost airlines in the World listed by continent &bull; Nomad Revelations Travel Blog\",\"datePublished\":\"2019-10-26T20:43:45+01:00\",\"dateModified\":\"2021-01-02T09:57:30+00:00\",\"author\":{\"@id\":\"https://www.joaoleitao.com/low-cost-airlines/#author\"},\"publisher\":{\"@id\":\"https://www.joaoleitao.com/#person\"},\"description\":\"Low-Cost Airlines in the World listed by Continent. Airlines from Europe, Asia, Americas, Australia and Africa. Tips on how to get cheaper flights.\",\"name\":\"List of all the low-cost airlines in the World listed by continent &bull; Nomad Revelations Travel Blog\",\"@id\":\"https://www.joaoleitao.com/low-cost-airlines/#richSnippet\",\"isPartOf\":{\"@id\":\"https://www.joaoleitao.com/low-cost-airlines/#webpage\"},\"image\":{\"@id\":\"https://www.joaoleitao.com/wp-content/uploads/2019/03/LOW-COST-AIRLINES.jpg\"},\"inLanguage\":\"en-US\",\"mainEntityOfPage\":{\"@id\":\"https://www.joaoleitao.com/low-cost-airlines/#webpage\"}}]}',\n",
              " '\\n',\n",
              " ' /Rank Math WordPress SEO plugin ',\n",
              " '\\n',\n",
              " '\\n',\n",
              " '\\n',\n",
              " '\\n',\n",
              " '\\n',\n",
              " '\\n',\n",
              " '\\n',\n",
              " '\\n',\n",
              " '\\n\\t\\t\\twindow._wpemojiSettings = {\"baseUrl\":\"https:\\\\/\\\\/s.w.org\\\\/images\\\\/core\\\\/emoji\\\\/13.1.0\\\\/72x72\\\\/\",\"ext\":\".png\",\"svgUrl\":\"https:\\\\/\\\\/s.w.org\\\\/images\\\\/core\\\\/emoji\\\\/13.1.0\\\\/svg\\\\/\",\"svgExt\":\".svg\",\"source\":{\"concatemoji\":\"https:\\\\/\\\\/www.joaoleitao.com\\\\/wp-includes\\\\/js\\\\/wp-emoji-release.min.js?ver=3d0595d28a7bdddb79e6b085153799ee\"}};\\n\\t\\t\\t!function(e,a,t){var n,r,o,i=a.createElement(\"canvas\"),p=i.getContext&&i.getContext(\"2d\");function s(e,t){var a=String.fromCharCode;p.clearRect(0,0,i.width,i.height),p.fillText(a.apply(this,e),0,0);e=i.toDataURL();return p.clearRect(0,0,i.width,i.height),p.fillText(a.apply(this,t),0,0),e===i.toDataURL()}function c(e){var t=a.createElement(\"script\");t.src=e,t.defer=t.type=\"text/javascript\",a.getElementsByTagName(\"head\")[0].appendChild(t)}for(o=Array(\"flag\",\"emoji\"),t.supports={everything:!0,everythingExceptFlag:!0},r=0;r<o.length;r++)t.supports[o[r]]=function(e){if(!p||!p.fillText)return!1;switch(p.textBaseline=\"top\",p.font=\"600 32px Arial\",e){case\"flag\":return s([127987,65039,8205,9895,65039],[127987,65039,8203,9895,65039])?!1:!s([55356,56826,55356,56819],[55356,56826,8203,55356,56819])&&!s([55356,57332,56128,56423,56128,56418,56128,56421,56128,56430,56128,56423,56128,56447],[55356,57332,8203,56128,56423,8203,56128,56418,8203,56128,56421,8203,56128,56430,8203,56128,56423,8203,56128,56447]);case\"emoji\":return!s([10084,65039,8205,55357,56613],[10084,65039,8203,55357,56613])}return!1}(o[r]),t.supports.everything=t.supports.everything&&t.supports[o[r]],\"flag\"!==o[r]&&(t.supports.everythingExceptFlag=t.supports.everythingExceptFlag&&t.supports[o[r]]);t.supports.everythingExceptFlag=t.supports.everythingExceptFlag&&!t.supports.flag,t.DOMReady=!1,t.readyCallback=function(){t.DOMReady=!0},t.supports.everything||(n=function(){t.readyCallback()},a.addEventListener?(a.addEventListener(\"DOMContentLoaded\",n,!1),e.addEventListener(\"load\",n,!1)):(e.attachEvent(\"onload\",n),a.attachEvent(\"onreadystatechange\",function(){\"complete\"===a.readyState&&t.readyCallback()})),(n=t.source||{}).concatemoji?c(n.concatemoji):n.wpemoji&&n.twemoji&&(c(n.twemoji),c(n.wpemoji)))}(window,document,window._wpemojiSettings);\\n\\t\\t',\n",
              " '\\n',\n",
              " '\\nimg.wp-smiley,\\nimg.emoji {\\n\\tdisplay: inline !important;\\n\\tborder: none !important;\\n\\tbox-shadow: none !important;\\n\\theight: 1em !important;\\n\\twidth: 1em !important;\\n\\tmargin: 0 .07em !important;\\n\\tvertical-align: -0.1em !important;\\n\\tbackground: none !important;\\n\\tpadding: 0 !important;\\n}\\n',\n",
              " '\\n',\n",
              " '\\n',\n",
              " '\\n',\n",
              " '\\n',\n",
              " '\\n.has-text-align-justify{text-align:justify;}\\n',\n",
              " '\\n',\n",
              " '\\n',\n",
              " '\\n',\n",
              " '\\n',\n",
              " '\\n',\n",
              " '\\n',\n",
              " '\\n',\n",
              " '\\ndiv#ez-toc-container p.ez-toc-title {font-size: 120%;}div#ez-toc-container p.ez-toc-title {font-weight: 500;}div#ez-toc-container ul li {font-size: 95%;}\\n',\n",
              " '\\n',\n",
              " '\\n',\n",
              " '\\n',\n",
              " '\\n.no-featured-image-padding .featured-image {margin-left:-61px;margin-right:-61px;}.post-image-above-header .no-featured-image-padding .inside-article .featured-image {margin-top:-34px;}@media (max-width:768px){.no-featured-image-padding .featured-image {margin-left:-30px;margin-right:-30px;}.post-image-above-header .no-featured-image-padding .inside-article .featured-image {margin-top:-30px;}}\\nbody{background-color:#ffffff;color:#3a3a3a;}a{color:#1e73be;}a:visited{color:#1e73be;}a:hover, a:focus, a:active{color:#003377;}body .grid-container{max-width:1600px;}.wp-block-group__inner-container{max-width:1600px;margin-left:auto;margin-right:auto;}.site-header .header-image{width:520px;}.generate-back-to-top{font-size:20px;border-radius:3px;position:fixed;bottom:30px;right:30px;line-height:40px;width:40px;text-align:center;z-index:10;transition:opacity 300ms ease-in-out;}.navigation-search{position:absolute;left:-99999px;pointer-events:none;visibility:hidden;z-index:20;width:100%;top:0;transition:opacity 100ms ease-in-out;opacity:0;}.navigation-search.nav-search-active{left:0;right:0;pointer-events:auto;visibility:visible;opacity:1;}.navigation-search input[type=\"search\"]{outline:0;border:0;vertical-align:bottom;line-height:1;opacity:0.9;width:100%;z-index:20;border-radius:0;-webkit-appearance:none;height:60px;}.navigation-search input::-ms-clear{display:none;width:0;height:0;}.navigation-search input::-ms-reveal{display:none;width:0;height:0;}.navigation-search input::-webkit-search-decoration, .navigation-search input::-webkit-search-cancel-button, .navigation-search input::-webkit-search-results-button, .navigation-search input::-webkit-search-results-decoration{display:none;}.main-navigation li.search-item{z-index:21;}li.search-item.active{transition:opacity 100ms ease-in-out;}.nav-left-sidebar .main-navigation li.search-item.active,.nav-right-sidebar .main-navigation li.search-item.active{width:auto;display:inline-block;float:right;}.gen-sidebar-nav .navigation-search{top:auto;bottom:0;}body, button, input, select, textarea{font-family:\"Montserrat\", sans-serif;}body{line-height:1.6;}p{margin-bottom:1.6em;}.entry-content > [class*=\"wp-block-\"]:not(:last-child){margin-bottom:1.6em;}.top-bar{text-transform:capitalize;font-size:15px;}.main-title{font-size:43px;}.site-description{font-size:16px;}.main-navigation a, .menu-toggle{font-weight:500;font-size:13px;}.main-navigation .main-nav ul ul li a{font-size:12px;}.widget-title{font-weight:800;}.sidebar .widget, .footer-widgets .widget{font-size:13px;}h1{font-family:\"Montserrat\", sans-serif;font-weight:900;font-size:61px;line-height:1.6em;margin-bottom:2px;}h2{font-family:\"Montserrat\", sans-serif;font-weight:700;font-size:43px;margin-bottom:34px;}h3{font-weight:800;font-size:25px;line-height:1.6em;margin-bottom:25px;}h4{font-weight:800;font-size:20px;line-height:1.6em;}h5{font-size:inherit;}.site-info{font-size:12px;}@media (max-width:768px){.main-title{font-size:30px;}h1{font-size:30px;}h2{font-size:25px;}}.top-bar{background-color:#07a1f2;color:#ffffff;}.top-bar a{color:#ffffff;}.top-bar a:hover{color:#303030;}.site-header{background-color:#303440;color:#3a3a3a;}.site-header a{color:#3a3a3a;}.main-title a,.main-title a:hover{color:#3a3a3a;}.site-description{color:#ffffff;}.mobile-menu-control-wrapper .menu-toggle,.mobile-menu-control-wrapper .menu-toggle:hover,.mobile-menu-control-wrapper .menu-toggle:focus,.has-inline-mobile-toggle #site-navigation.toggled{background-color:rgba(0, 0, 0, 0.02);}.main-navigation,.main-navigation ul ul{background-color:#303440;}.main-navigation .main-nav ul li a,.menu-toggle, .main-navigation .menu-bar-items{color:#ffffff;}.main-navigation .main-nav ul li:hover > a,.main-navigation .main-nav ul li:focus > a, .main-navigation .main-nav ul li.sfHover > a, .main-navigation .menu-bar-item:hover > a, .main-navigation .menu-bar-item.sfHover > a{color:#ffffff;background-color:#07a1f2;}button.menu-toggle:hover,button.menu-toggle:focus,.main-navigation .mobile-bar-items a,.main-navigation .mobile-bar-items a:hover,.main-navigation .mobile-bar-items a:focus{color:#ffffff;}.main-navigation .main-nav ul li[class*=\"current-menu-\"] > a{color:#ffffff;background-color:#07a1f2;}.main-navigation .main-nav ul li[class*=\"current-menu-\"] > a:hover,.main-navigation .main-nav ul li[class*=\"current-menu-\"].sfHover > a{color:#ffffff;background-color:#07a1f2;}.navigation-search input[type=\"search\"],.navigation-search input[type=\"search\"]:active, .navigation-search input[type=\"search\"]:focus, .main-navigation .main-nav ul li.search-item.active > a, .main-navigation .menu-bar-items .search-item.active > a{color:#ffffff;background-color:#07a1f2;}.main-navigation ul ul{background-color:#f6f9fc;}.main-navigation .main-nav ul ul li a{color:#000000;}.main-navigation .main-nav ul ul li:hover > a,.main-navigation .main-nav ul ul li:focus > a,.main-navigation .main-nav ul ul li.sfHover > a{color:#8f919e;background-color:#f6f9fc;}.main-navigation .main-nav ul ul li[class*=\"current-menu-\"] > a{color:#8f919e;background-color:#f6f9fc;}.main-navigation .main-nav ul ul li[class*=\"current-menu-\"] > a:hover,.main-navigation .main-nav ul ul li[class*=\"current-menu-\"].sfHover > a{color:#8f919e;background-color:#f6f9fc;}.separate-containers .inside-article, .separate-containers .comments-area, .separate-containers .page-header, .one-container .container, .separate-containers .paging-navigation, .inside-page-header{background-color:#ffffff;}.entry-header h1,.page-header h1{color:#3a3a3a;}.entry-title a{color:#3a3a3a;}.entry-title a:hover{color:#848484;}.entry-meta{color:#595959;}.entry-meta a{color:#595959;}.entry-meta a:hover{color:#0a0000;}.sidebar .widget{background-color:#ffffff;}.sidebar .widget .widget-title{color:#3a3a3a;}.footer-widgets{color:#ffffff;background-color:#303440;}.footer-widgets a{color:#07a1f2;}.footer-widgets a:hover{color:#07a1f2;}.footer-widgets .widget-title{color:#ffffff;}.site-info{color:#ffffff;background-color:#303440;}.site-info a{color:#07a1f2;}.site-info a:hover{color:#606060;}.footer-bar .widget_nav_menu .current-menu-item a{color:#606060;}input[type=\"text\"],input[type=\"email\"],input[type=\"url\"],input[type=\"password\"],input[type=\"search\"],input[type=\"tel\"],input[type=\"number\"],textarea,select{color:#666666;background-color:#fafafa;border-color:#cccccc;}input[type=\"text\"]:focus,input[type=\"email\"]:focus,input[type=\"url\"]:focus,input[type=\"password\"]:focus,input[type=\"search\"]:focus,input[type=\"tel\"]:focus,input[type=\"number\"]:focus,textarea:focus,select:focus{color:#666666;background-color:#ffffff;border-color:#bfbfbf;}button,html input[type=\"button\"],input[type=\"reset\"],input[type=\"submit\"],a.button,a.wp-block-button__link:not(.has-background){color:#ffffff;background-color:#0a0a0a;}button:hover,html input[type=\"button\"]:hover,input[type=\"reset\"]:hover,input[type=\"submit\"]:hover,a.button:hover,button:focus,html input[type=\"button\"]:focus,input[type=\"reset\"]:focus,input[type=\"submit\"]:focus,a.button:focus,a.wp-block-button__link:not(.has-background):active,a.wp-block-button__link:not(.has-background):focus,a.wp-block-button__link:not(.has-background):hover{color:#ffffff;background-color:#444444;}a.generate-back-to-top{background-color:#07a1f2;color:#ffffff;}a.generate-back-to-top:hover,a.generate-back-to-top:focus{background-color:rgba( 0,0,0,0.6 );color:#ffffff;}@media (max-width: 768px){.main-navigation .menu-bar-item:hover > a, .main-navigation .menu-bar-item.sfHover > a{background:none;color:#ffffff;}}.inside-top-bar{padding:7px 43px 7px 43px;}.inside-header{padding:16px 25px 16px 25px;}.separate-containers .inside-article, .separate-containers .comments-area, .separate-containers .page-header, .separate-containers .paging-navigation, .one-container .site-content, .inside-page-header, .wp-block-group__inner-container{padding:34px 61px 34px 61px;}.entry-content .alignwide, body:not(.no-sidebar) .entry-content .alignfull{margin-left:-61px;width:calc(100% + 122px);max-width:calc(100% + 122px);}.one-container.right-sidebar .site-main,.one-container.both-right .site-main{margin-right:61px;}.one-container.left-sidebar .site-main,.one-container.both-left .site-main{margin-left:61px;}.one-container.both-sidebars .site-main{margin:0px 61px 0px 61px;}.separate-containers .widget, .separate-containers .site-main > *, .separate-containers .page-header, .widget-area .main-navigation{margin-bottom:25px;}.separate-containers .site-main{margin:25px;}.both-right.separate-containers .inside-left-sidebar{margin-right:12px;}.both-right.separate-containers .inside-right-sidebar{margin-left:12px;}.both-left.separate-containers .inside-left-sidebar{margin-right:12px;}.both-left.separate-containers .inside-right-sidebar{margin-left:12px;}.separate-containers .page-header-image, .separate-containers .page-header-contained, .separate-containers .page-header-image-single, .separate-containers .page-header-content-single{margin-top:25px;}.separate-containers .inside-right-sidebar, .separate-containers .inside-left-sidebar{margin-top:25px;margin-bottom:25px;}.main-navigation .main-nav ul li a,.menu-toggle,.main-navigation .mobile-bar-items a{padding-left:10px;padding-right:10px;line-height:43px;}.main-navigation .main-nav ul ul li a{padding:11px 10px 11px 10px;}.main-navigation ul ul{width:295px;}.navigation-search input[type=\"search\"]{height:43px;}.rtl .menu-item-has-children .dropdown-menu-toggle{padding-left:10px;}.menu-item-has-children .dropdown-menu-toggle{padding-right:10px;}.menu-item-has-children ul .dropdown-menu-toggle{padding-top:11px;padding-bottom:11px;margin-top:-11px;}.rtl .main-navigation .main-nav ul li.menu-item-has-children > a{padding-right:10px;}.widget-area .widget{padding:7px 30px 7px 30px;}.footer-widgets{padding:43px;}.site-info{padding:7px;}@media (max-width:768px){.separate-containers .inside-article, .separate-containers .comments-area, .separate-containers .page-header, .separate-containers .paging-navigation, .one-container .site-content, .inside-page-header, .wp-block-group__inner-container{padding:30px;}.site-info{padding-right:10px;padding-left:10px;}.entry-content .alignwide, body:not(.no-sidebar) .entry-content .alignfull{margin-left:-30px;width:calc(100% + 60px);max-width:calc(100% + 60px);}}/* End cached CSS */@media (max-width: 768px){.main-navigation .menu-toggle,.main-navigation .mobile-bar-items,.sidebar-nav-mobile:not(#sticky-placeholder){display:block;}.main-navigation ul,.gen-sidebar-nav{display:none;}[class*=\"nav-float-\"] .site-header .inside-header > *{float:none;clear:both;}}\\n.site-header{background-image:url(\\'https://www.joaoleitao.com/viagens/wp-content/uploads/2020/08/footer12.jpg\\');background-repeat:no-repeat;background-size:cover;background-position:70%;}.separate-containers .inside-article,.separate-containers .comments-area,.separate-containers .page-header,.one-container .container,.separate-containers .paging-navigation,.separate-containers .inside-page-header{background-image:url(\\'https://www.joaoleitao.com/viagens/wp-content/uploads/2020/08/background2.png\\');background-repeat:repeat-y;background-size:100% auto;}.footer-widgets{background-image:url(\\'https://www.joaoleitao.com/viagens/wp-content/uploads/2020/08/footer-img.jpg\\');background-repeat:no-repeat;background-size:cover;background-position:bottom center;}\\nh1.entry-title{text-transform:none;font-size:61px;line-height:1.4em;}h2.entry-title{font-weight:normal;font-size:16px;line-height:1.4em;}@media (max-width:768px){h1.entry-title{font-size:25px;}}\\n.post-image:not(:first-child), .page-content:not(:first-child), .entry-content:not(:first-child), .entry-summary:not(:first-child), footer.entry-meta{margin-top:0.8em;}.post-image-above-header .inside-article div.featured-image, .post-image-above-header .inside-article div.post-image{margin-bottom:0.8em;}\\n',\n",
              " '\\n',\n",
              " '\\n',\n",
              " '\\n',\n",
              " '\\n',\n",
              " '\\n',\n",
              " '\\n',\n",
              " '\\n.secondary-navigation{background-color:#07a1f2;}.secondary-navigation .main-nav ul li a,.secondary-navigation .menu-toggle,.secondary-menu-bar-items .menu-bar-item > a{color:#ffffff;font-weight:700;text-transform:uppercase;font-size:25px;padding-left:25px;padding-right:25px;line-height:52px;}.secondary-navigation .secondary-menu-bar-items{color:#ffffff;font-size:25px;}button.secondary-menu-toggle:hover,button.secondary-menu-toggle:focus{color:#ffffff;}.widget-area .secondary-navigation{margin-bottom:25px;}.secondary-navigation ul ul{background-color:#303030;top:auto;}.secondary-navigation .main-nav ul ul li a{color:#ffffff;font-size:24px;padding-left:25px;padding-right:25px;padding-top:16px;padding-bottom:16px;}.secondary-navigation .menu-item-has-children ul .dropdown-menu-toggle{padding-top:16px;padding-bottom:16px;margin-top:-16px;}.secondary-navigation .menu-item-has-children .dropdown-menu-toggle{padding-right:25px;}.secondary-navigation .menu-item-has-children ul .dropdown-menu-toggle{padding-top:16px;padding-bottom:16px;margin-top:-16px;}.secondary-navigation .main-nav ul li:hover > a,.secondary-navigation .main-nav ul li:focus > a,.secondary-navigation .main-nav ul li.sfHover > a,.secondary-menu-bar-items .menu-bar-item:hover > a{color:#ffffff;background-color:#303030;}.secondary-navigation .main-nav ul ul li:hover > a,.secondary-navigation .main-nav ul ul li:focus > a,.secondary-navigation .main-nav ul ul li.sfHover > a{color:#ffffff;background-color:#474747;}.secondary-navigation .main-nav ul li[class*=\"current-menu-\"] > a, .secondary-navigation .main-nav ul li[class*=\"current-menu-\"] > a:hover,.secondary-navigation .main-nav ul li[class*=\"current-menu-\"].sfHover > a{color:#222222;background-color:#ffffff;}.secondary-navigation .main-nav ul ul li[class*=\"current-menu-\"] > a,.secondary-navigation .main-nav ul ul li[class*=\"current-menu-\"] > a:hover,.secondary-navigation .main-nav ul ul li[class*=\"current-menu-\"].sfHover > a{color:#ffffff;background-color:#474747;}@media (max-width: 768px) {.secondary-menu-bar-items .menu-bar-item:hover > a{background: none;color: #ffffff;}}\\n',\n",
              " '\\n',\n",
              " '\\n',\n",
              " '\\n',\n",
              " '\\n',\n",
              " '\\n',\n",
              " '\\nvar SSB = {\"ajax_url\":\"https:\\\\/\\\\/www.joaoleitao.com\\\\/wp-admin\\\\/admin-ajax.php\",\"fb_share_nonce\":\"24289d1187\"};\\n',\n",
              " '\\n',\n",
              " '\\n',\n",
              " '\\n',\n",
              " '\\n',\n",
              " '\\nwindow.dataLayer = window.dataLayer || [];function gtag(){dataLayer.push(arguments);}\\ngtag(\\'set\\', \\'linker\\', {\"domains\":[\"www.joaoleitao.com\"]} );\\ngtag(\"js\", new Date());\\ngtag(\"set\", \"developer_id.dZTNiMT\", true);\\ngtag(\"config\", \"UA-3827061-99\", {\"anonymize_ip\":true});\\n',\n",
              " '\\n',\n",
              " '\\n',\n",
              " '\\n',\n",
              " '\\n',\n",
              " '\\n',\n",
              " '\\n',\n",
              " ' ',\n",
              " '\\r\\n\\r\\n\\t\\t.simplesocialbuttons.simplesocialbuttons_inline .ssb-fb-like {\\r\\n\\t  margin: ;\\r\\n\\t}\\r\\n\\t\\t /*inline margin*/\\r\\n\\t\\r\\n\\t\\r\\n\\t\\r\\n\\t\\r\\n\\t\\t.simplesocialbuttons.simplesocialbuttons_inline.simplesocial-flat-button-border button{\\r\\n\\t  margin: ;\\r\\n\\t}\\r\\n\\t\\r\\n\\t\\r\\n\\t\\t\\t /*margin-digbar*/\\r\\n\\r\\n\\t\\r\\n\\t\\r\\n\\t\\r\\n\\t\\r\\n\\t\\r\\n\\t\\r\\n\\t\\r\\n',\n",
              " '\\n',\n",
              " ' Open Graph Meta Tags generated by Simple Social Buttons 3.2.3 ',\n",
              " '\\n',\n",
              " '\\n',\n",
              " '\\n',\n",
              " '\\n',\n",
              " '\\n',\n",
              " '\\n',\n",
              " '\\n',\n",
              " '\\n',\n",
              " '\\n',\n",
              " '\\n',\n",
              " '\\n',\n",
              " 'img#wpstats{display:none}',\n",
              " '\\n',\n",
              " ' Global site tag (gtag.js) - Google Analytics ',\n",
              " '\\n',\n",
              " '\\n',\n",
              " \"\\r\\n  window.dataLayer = window.dataLayer || [];\\r\\n  function gtag(){dataLayer.push(arguments);}\\r\\n  gtag('js', new Date());\\r\\n\\r\\n  gtag('config', 'UA-3827061-1');\\r\\n\",\n",
              " '\\n',\n",
              " ' Global site tag (gtag.js) - Google Analytics ',\n",
              " '\\n',\n",
              " '\\n',\n",
              " \"\\r\\n  window.dataLayer = window.dataLayer || [];\\r\\n  function gtag(){dataLayer.push(arguments);}\\r\\n  gtag('js', new Date());\\r\\n\\r\\n  gtag('config', 'UA-3827061-99');\\r\\n\",\n",
              " ' ',\n",
              " '\\n\\t\\t\\t\\n.widget ul li {\\nwhite-space: nowrap;\\n    overflow: hidden;\\n    max-width: 43ch;\\n\\n}\\n\\nh1.entry-title {\\n    text-align: center;\\n}\\n\\n\\n\\nbody .grid-container {\\n    max-width: 100%;\\n}\\n\\n.ssb_followers  {\\nposition: relative;\\n\\t\\t\\tmargin: 0 auto;\\n\\t    width: 52%;\\n\\t\\t\\ttext-align: center;\\n}\\n\\n.migalhas {\\ndisplay: block;\\n\\ttext-align: center;\\n}\\n\\n.migalhas a, a:visited {\\ncolor: #595959;\\n\\tfont-size: 85%;\\n}\\n\\n\\n.migalhas .cat-links, .tags-links, .comments-link {\\ndisplay: inline;\\n}\\n\\n.wp-block-image figcaption {\\n    margin-top: 2px;\\n    margin-bottom: 1em;\\n\\t    font-size: 12px;\\n    text-align: center;\\n}\\n\\n.entry-content  {\\n\\tmargin: 0 auto;\\n}\\n\\n.entry-content h2 {\\n    text-decoration: underline;\\n    text-underline-position: under;\\n\\ttext-align:center;\\n}\\n\\n.instagram {\\n\\tmargin: 0 auto;\\nwidth: 100%;\\n  max-width: 1510px;\\n  height: auto;\\n\\toverflow: hidden;\\n\\tbackground:#ffffff;\\n\\tmargin-bottom:1px;\\n}\\n\\n.header-image  {\\n\\ttransform: scale(1.1);\\n\\tanimation: pulse 2s infinite;\\n}\\n\\n@keyframes pulse {\\n\\t0% {\\n\\t\\ttransform: scale(0.95);\\n\\t}\\n\\n\\t70% {\\n\\t\\ttransform: scale(0.97);\\n\\t}\\n\\n\\t100% {\\n\\t\\ttransform: scale(0.95);\\n\\t}\\n}\\n.fotojoao {\\n\\t  z-index: 1;\\n\\t  position: relative;\\n\\t}\\n\\n.fotojoao img {\\ndisplay: block;\\nwidth:160px;\\n\\tmargin-bottom: -43px;\\n\\ttransition: transform .4s;   /* smoother zoom */\\n\\t  -webkit-transition: -webkit-transform .8s ease-in-out;\\n          transition:         transform .8s ease-in-out;\\n}\\n\\n.fotojoao img:hover {\\ntransform: scale(1.6);\\n  transform-origin: 50% 50%;\\n\\t -webkit-transform: rotate(360deg);\\n          transform: rotate(360deg);\\n}\\n\\n.post-image img:hover {\\ntransform: scale(1.01);\\n  transform-origin: 50% 50%;\\n}\\n\\n.entry-content h3 {\\n\\ttext-align:center;\\n}\\n\\n.footer-widgets, .inside-top-bar a {\\n    text-decoration: none;\\n\\ttext-align: center;\\n}\\n\\n.footer-widgets h2 {\\ntext-align: center;}\\n\\n.footer-widgets p {\\ntext-align: center;}\\n\\n.footer-widgets a {\\n    text-decoration: none;\\ntext-align: center;\\n}\\n\\n.footer-widgets a:hover {\\n    text-decoration: underline;\\n}\\n\\n.inside-top-bar a:hover {\\n    text-decoration: none;\\n}\\n\\nul li a {\\n    text-decoration: none;\\n}\\n\\na {\\n    text-decoration: underline;\\n}\\n\\na:hover {\\n    text-decoration: underline;\\n}\\n\\nh2.noline {\\ntext-decoration: none;\\nfont-size: 34px;\\n}\\n\\np {\\ntext-align: justify;\\n}\\n\\n.page-title {\\ntext-align: center;\\t\\n}\\n\\n.entry-title a {\\n    margin-bottom: 0;\\n\\t    font-size: 16px;\\n\\tline-height: none;\\n}\\n\\n.secondary-navigation ul ul {\\n    display: block;\\n    width: 250px;\\n}\\n\\n.secondary-navigation ul ul ul {\\nlist-style-type:none;\\n\\toverflow:auto;\\n\\twidth: 304px;\\n\\t\\t    background-color: #07a1f2;\\n\\n}\\n\\n\\n.secondary-navigation ul ul ul li {\\ndisplay:block;\\n\\twidth:151px;\\n\\tfloat:left;\\n}\\n\\n.secondary-navigation .main-nav ul ul li a {\\n    font-size: 14px;\\n\\t\\n}\\n\\n.secondary-navigation .main-nav ul ul ul li a {\\n    font-size: 12px;\\n\\t    padding-left: 7px;\\n    padding-right: 7px;\\n    padding-top: 7px;\\n    padding-bottom: 7px;\\n}\\t\\t',\n",
              " '\\n',\n",
              " '\\n',\n",
              " '\\n',\n",
              " 'Skip to content',\n",
              " ' ',\n",
              " '\\n',\n",
              " '\\n',\n",
              " '\\n',\n",
              " '\\n',\n",
              " '\\n',\n",
              " '\\n',\n",
              " ' ',\n",
              " '\\n',\n",
              " '\\n',\n",
              " '\\n',\n",
              " '\\n',\n",
              " '\\n',\n",
              " '\\n',\n",
              " ' ',\n",
              " '\\n',\n",
              " '\\n',\n",
              " '\\n',\n",
              " '\\n',\n",
              " '\\n',\n",
              " '\\n',\n",
              " '\\n',\n",
              " 'Menu',\n",
              " ' ',\n",
              " '\\n',\n",
              " 'About the Author',\n",
              " '\\n',\n",
              " 'Country guides',\n",
              " '\\n',\n",
              " 'City guides',\n",
              " '\\n',\n",
              " 'Adventure',\n",
              " '\\n',\n",
              " 'Remote Places',\n",
              " '\\n',\n",
              " 'Motivation',\n",
              " '\\n',\n",
              " 'Beautiful places',\n",
              " '\\n',\n",
              " 'Overland',\n",
              " '\\n',\n",
              " 'Van Life',\n",
              " '\\n',\n",
              " 'Boat Travel',\n",
              " '\\n',\n",
              " 'RTW Guides',\n",
              " '\\n',\n",
              " 'Travel photography',\n",
              " '\\n',\n",
              " 'Travel Blogs',\n",
              " '\\n',\n",
              " 'Interviews with Travelers',\n",
              " '\\n',\n",
              " 'Accommodation',\n",
              " '\\n',\n",
              " 'Flags',\n",
              " '\\n',\n",
              " 'Food',\n",
              " '\\n',\n",
              " 'UNESCO Guides',\n",
              " '\\n',\n",
              " 'People',\n",
              " '\\n',\n",
              " 'Resources',\n",
              " '\\n',\n",
              " 'PT ',\n",
              " '\\n',\n",
              " ' ',\n",
              " '\\n',\n",
              " '\\n',\n",
              " '\\n',\n",
              " '\\n',\n",
              " '\\n',\n",
              " 'Continentes',\n",
              " ' ',\n",
              " '\\n',\n",
              " 'Africa',\n",
              " '\\n',\n",
              " 'Americas',\n",
              " '\\n',\n",
              " 'Antarctica',\n",
              " '\\n',\n",
              " 'Asia',\n",
              " '\\n',\n",
              " 'Europe',\n",
              " '\\n',\n",
              " 'Oceania',\n",
              " '\\n',\n",
              " ' ',\n",
              " ' .inside-navigation ',\n",
              " '\\n',\n",
              " ' #secondary-navigation ',\n",
              " '\\n',\n",
              " '\\n',\n",
              " '\\n',\n",
              " '\\n',\n",
              " '\\n',\n",
              " '\\n',\n",
              " 'Categories ',\n",
              " 'Resources',\n",
              " ' ',\n",
              " ' .entry-meta ',\n",
              " '\\n',\n",
              " '\\n',\n",
              " '\\n',\n",
              " '\\n',\n",
              " 'List of all the low-cost airlines in the World listed by continent',\n",
              " ' ',\n",
              " '\\n',\n",
              " '\\n',\n",
              " '\\n',\n",
              " '\\n',\n",
              " 'Table of Contents',\n",
              " '\\n',\n",
              " '\\n',\n",
              " 'What is low cost?',\n",
              " 'How to travel with a low cost airline as cheaply as possible',\n",
              " '1. Not all low costs are the same',\n",
              " '2. Choosing the right time to buy',\n",
              " '3. Picking a destination',\n",
              " '4. Picking the date',\n",
              " '5. Pay attention to offers and deals',\n",
              " '6. Being willing to accept the basic services',\n",
              " 'TOP low-cost airlines in Europe',\n",
              " 'Ryanair',\n",
              " 'Easyjet',\n",
              " 'Wizzair',\n",
              " 'Best low-cost airlines in the world ',\n",
              " 'List of Low Cost Airlines in Europe',\n",
              " 'List of Low Cost Airlines in Asia',\n",
              " 'List of Low Cost Airlines in North, Central and South America',\n",
              " 'List of Low Cost Airlines in Australia and the Pacific',\n",
              " 'List of Low Cost Airlines in Africa',\n",
              " '\\n',\n",
              " 'Low Cost Airlines',\n",
              " '\\n',\n",
              " 'LOW COST AIRLINES',\n",
              " '\\n',\n",
              " 'The first airline to come up with the concept of low cost was the North-American airline Southwest in the 1970s. In ',\n",
              " 'Europe',\n",
              " ', the idea appeared later in 1995 when EasyJet and Ryanair entered the marketplace and revolutionized how people traveled in the continent.',\n",
              " '\\n',\n",
              " 'Nowadays there are low cost airlines all over the world, but in some areas, the effects and advantages are not as significant, like in Latin America for example.',\n",
              " '\\n',\n",
              " 'What is low cost?',\n",
              " '\\n',\n",
              " '\\n',\n",
              " 'The concept of low cost is based on lowering the cost of airline tickets by cutting on all the services that aren’t essential to travel. Some of these services are still available but are charged separately.',\n",
              " '\\n',\n",
              " 'For example, meals and drinks are paid by the passenger on board, the luggage included in the ticket is limited, and you pay to choose your seat.',\n",
              " '\\n',\n",
              " 'Apart from excluding complimentary services, the low cost airlines use a series of other resources to lower the cost of their operations, and therefore their tickets’ price.',\n",
              " '\\n',\n",
              " 'That is the case with the choice of airports. In many cases, they avoid using the main airports, which charge higher rates to airlines because of their more convenient location, and fly in and out from airports farther from the cities they serve, but more affordable.',\n",
              " '\\n',\n",
              " 'Another way to save on operations is to cut costs on handling luggage. In traditional airlines, if you travel, for example from Lisbon to Florence, with a layover in Paris, you’ll drop off your luggage in Lisbon and pick it up in Florence. With low cost airlines, things work differently and each leg of the trip is treated as a completely different journey: the passenger picks up the bags at the layover airport and must check in again for the final destination.',\n",
              " '\\n',\n",
              " 'The significant number of passengers that fly in these airlines gives them leverage in negotiating with the airport administration and even with national governments. \\xa0In many cases, they have unique conditions to operate with discounts and tax exemptions that allow them to lower the price of tickets even more.',\n",
              " '\\n',\n",
              " 'Many of the traditional airlines have started to adopt the same low-cost strategies, at least partially, offering their customers lower prices if they’re willing to let go of some of the traditional benefits, such as the ability to change travel dates and not including bulky or heavy luggage in the ticket price.',\n",
              " '\\n',\n",
              " 'How to travel with a low cost airline as cheaply as possible',\n",
              " '\\n',\n",
              " '\\n',\n",
              " '1. Not all low costs are the same',\n",
              " '\\n',\n",
              " 'Many airlines define themselves as low cost, but their prices aren’t particularly cheap. If you choose one of these airlines, don’t expect an affordable ticket.',\n",
              " '\\n',\n",
              " 'Then there are airlines like Vueling and Transavia with variable tariffs, some result in affordable tickets while others not so much.',\n",
              " '\\n',\n",
              " 'For maximum savings, use companies that have consistently low prices, such as Ryanair, EasyJet or Wizzair.',\n",
              " '\\n',\n",
              " '2. Choosing the right time to buy',\n",
              " '\\n',\n",
              " 'The time you buy the ticket could determine whether you’ll get the lowest price or not, but the policies, apart from not being completely clear, vary by airline.',\n",
              " '\\n',\n",
              " 'With EasyJet and Wizzair, things seem straightforward: the sooner, the better. Prices don’t usually drop the closer you get to the traveling date, on the contrary.',\n",
              " '\\n',\n",
              " 'Ryanair is a bit more complicated. In theory, prices rise as time goes by because the cheaper tickets are selling out while the most expensive remain unsold. But the airline seems to use a time window to sell available tickets at discounted prices about 4 or 6 weeks before the date.',\n",
              " '\\n',\n",
              " 'Just in case, don’t risk it and book the ticket as soon as you can confirm your trip. Keep this in mind: try not to research for your flight and definitely not start the purchase process before you’re ready to buy the tickets. These airlines’ websites, especially Ryanair, tends to increase the price of the ticket you’re interested in if you don’t buy it immediately.',\n",
              " '\\n',\n",
              " '3. Picking a destination',\n",
              " '\\n',\n",
              " 'At any given time there’s a handful of flights at low prices. One thought is to let prices choose you instead of you choosing the destination. On the Ryanair page, you can check the cheapest tickets available by selecting the departure airport.',\n",
              " '\\n',\n",
              " 'This is a technique used by many travelers who end up going on a tour of Europe at great prices. With this method, you can visit a handful of countries for under 100 Euros.',\n",
              " '\\n',\n",
              " '4. Picking the date',\n",
              " '\\n',\n",
              " 'Dates influence the prices. In the summer it’s difficult to find a bargain, especially to or from places popular in the summer season, as is the case of Portuguese airports. The Christmas and New Year seasons, as well as Easter, also cause considerable increases in fares. And then there is school vacation when families go on getaways and weekend trips, enticing low cost airlines to raise their prices.',\n",
              " '\\n',\n",
              " 'Then there is the weekly fluctuation, with prices rising between Friday and Sunday and the days around national holidays.',\n",
              " '\\n',\n",
              " 'Finally, on a smaller scale, earlier and later flights are usually more expensive. This happens because airports charge different prices to the airlines according to the time of day. No one likes to wake up at five in the morning to catch a plane or to arrive at a destination near midnight.',\n",
              " '\\n',\n",
              " '5. Pay attention to offers and deals',\n",
              " '\\n',\n",
              " 'Airlines often have deals for a large number of destinations, some of them focusing on specific routes, some of them global. If you plan to travel in the near future, stay tuned, visit the company pages frequently, as these campaigns are announced on the homepage. But remember that they’re usually only valid for purchases made in a short period, sometimes just for 24 hours.',\n",
              " '\\n',\n",
              " 'If you plan to explore central and eastern Europe, you’re likely to fly with Wizzair. In this case, consider ',\n",
              " 'joining WizzClub',\n",
              " '. You’ll pay 30 Euros a year, for yourself and your usual travel partner. In return, you’ll benefit from substantial discounts on tickets. If you only take one trip, it won’t be worth it. But if you’re traveling with someone and book two tickets, joining the club pays for itself. If you’re on a long trip, with multiple layovers and connections, it’s an offer you can’t refuse.',\n",
              " '\\n',\n",
              " '6. Being willing to accept the basic services',\n",
              " '\\n',\n",
              " 'Many passengers fall into the trap of expecting the same services of a traditional airline when flying with a low-cost airline. They’ll complain that if you add up all that you had to pay for additional services, the total is as much as the price of a ticket with a flagship airline such as TAP or Air France. And it may be right. The purpose is for the passenger to travel without those services. Traveling light, packing snacks so you don’t need to eat or drink during the flight, being willing to sit anywhere on the plane and fly alone, assuming that you may have to wake up early or arrive late at the destination.',\n",
              " '\\n',\n",
              " 'TOP low-cost airlines in Europe',\n",
              " '\\n',\n",
              " 'Ryanair',\n",
              " '\\n',\n",
              " 'Based in Ireland, Ryanair was one of the first low cost airlines in Europe. It began operations in 1985, but it only became a low cost airline later and took over the market. Since 2016 it’s the largest European airline with 450 planes that connect over 220 airports.',\n",
              " '\\n',\n",
              " 'Ryanair official website',\n",
              " '\\n',\n",
              " 'Easyjet',\n",
              " '\\n',\n",
              " 'EasyJet established in England in 1995 and began flying to Europe the following year. But it only gained importance at the turn of the century, strengthening its position in the coming years. Nowadays it’s present in more than 130 airports in 31 countries and operates around 800 routes.',\n",
              " '\\n',\n",
              " 'Easyjet official website',\n",
              " '\\n',\n",
              " 'Wizzair',\n",
              " '\\n',\n",
              " 'This Hungarian airline has been established in Eastern and Central Europe for over ten years, with an impressive network of destinations. It’s currently expanding and already operates some routes from many other countries. ',\n",
              " '\\n',\n",
              " 'Wizzair official website',\n",
              " '\\n',\n",
              " 'Best low-cost airlines in the world ',\n",
              " '\\n',\n",
              " 'Ryanair',\n",
              " ' – Headquarters in Dublin, Ireland. Europe’s largest low cost airline connecting virtually every major European city.',\n",
              " '\\n',\n",
              " 'EasyJet',\n",
              " ' – Headquarters in Dublin, Ireland. Europe’s largest low cost airline connecting virtually every major European city.',\n",
              " '\\n',\n",
              " 'Pegasus Airlines',\n",
              " ' – Headquarters in Istanbul, ',\n",
              " 'Turkey',\n",
              " '. Many flights to various European destinations mainly in the Mediterranean, also with many domestic services in Turkey.',\n",
              " '\\n',\n",
              " 'GOL',\n",
              " ' – Headquarters in São Paulo, Brazil. The largest airline in Latin America, also with many domestic services in Brazil.',\n",
              " '\\n',\n",
              " 'Southwest Airlines',\n",
              " ' – Headquartered in Dallas, USA. The world’s largest low-cost airline, several domestic services within the United States.',\n",
              " '\\n',\n",
              " 'JetBlue Airways',\n",
              " ' – Headquarters in New York in the USA. Company with flights to various destinations in the Eastern part of United States.',\n",
              " '\\n',\n",
              " 'WestJet Airlines',\n",
              " ' – Headquarters in Alberta, Canada. Company with flights to various destinations between Canada and the United States.',\n",
              " '\\n',\n",
              " 'Virgin Australia',\n",
              " '– Headquartered in Brisbane, Australia. The second largest airline in Australia and ',\n",
              " 'Oceania',\n",
              " ', also with many domestic services in Australia.',\n",
              " '\\n',\n",
              " 'AirAsia',\n",
              " ' – Headquarters in Kuala Lumpur, Malaysia. ',\n",
              " 'Asia',\n",
              " '’s largest low cost airline with services to various destinations in Southeast Asia.',\n",
              " '\\n',\n",
              " 'List of Low Cost Airlines in Europe',\n",
              " '\\n',\n",
              " ' These are the most popular low cost airlines that fly in Europe',\n",
              " '\\n',\n",
              " 'Aer Lingus –',\n",
              " ' Dublin, Shannon, Cork, Belfast (Ireland) \\n\\n',\n",
              " '\\n',\n",
              " 'airBaltic –',\n",
              " ' Riga (Latvia) ',\n",
              " '\\n',\n",
              " 'Blue Air –',\n",
              " ' Bucharest, Bacau (Romania) ',\n",
              " '\\n',\n",
              " 'CityJet',\n",
              " ' – London City Airport (United Kingdom)',\n",
              " '\\n',\n",
              " 'Condor',\n",
              " ' – Several German Cities',\n",
              " '\\n',\n",
              " 'easyJet',\n",
              " ' – Dublin (Ireland), covering most of Europe',\n",
              " '\\n',\n",
              " 'Eurowings',\n",
              " ' – Several German cities',\n",
              " '\\n',\n",
              " 'Flybe',\n",
              " ' – Manchester, Newquay, Exeter, Southampton, London (southern England); Jersey, Guernsey (Channel Islands)',\n",
              " '\\n',\n",
              " 'Helvetic Airways',\n",
              " ' – Zurich, Bern',\n",
              " '\\n',\n",
              " ' Icelandair',\n",
              " ' – Reykjavik (',\n",
              " 'Iceland',\n",
              " ')',\n",
              " '\\n',\n",
              " 'Jet2',\n",
              " ' – Several English cities',\n",
              " '\\n',\n",
              " 'Norwegian',\n",
              " ' – Oslo, Bergen, Copenhagen, Stockholm, Alicante, and London',\n",
              " '\\n',\n",
              " 'Pegasus Airlines',\n",
              " ' – Istanbul, Antalya (Turkey)',\n",
              " '\\n',\n",
              " 'Ryanair',\n",
              " ' – Dublin (Ireland), covering most of Europe ',\n",
              " '\\n',\n",
              " 'SmartWings',\n",
              " ' – Prague, Ostrava (Czech Republic)',\n",
              " '\\n',\n",
              " 'Transavia',\n",
              " ' – Amsterdam, Rotterdam, Eindhoven (Netherlands)',\n",
              " '\\n',\n",
              " 'TUIfly',\n",
              " ' – Several German cities',\n",
              " '\\n',\n",
              " 'Volotea',\n",
              " ' – Several Spanish cities and the Mediterranean',\n",
              " '\\n',\n",
              " 'Vueling',\n",
              " ' – Several Spanish cities, Amsterdam, Florence, Rome',\n",
              " '\\n',\n",
              " 'Widerøe',\n",
              " ' – Oslo (Norway)',\n",
              " '\\n',\n",
              " 'Wizz Air',\n",
              " ' – Budapest and several cities in Eastern Europe',\n",
              " '\\n',\n",
              " 'Wowair',\n",
              " ' – Reykjavik (Iceland)',\n",
              " '\\n',\n",
              " 'XL Airways',\n",
              " ' – Paris (France)',\n",
              " '\\n',\n",
              " 'List of Low Cost Airlines in Asia',\n",
              " '\\n',\n",
              " ' These are the most popular low cost airlines that fly in Asia',\n",
              " '\\n',\n",
              " '9air',\n",
              " ' – South of China',\n",
              " '\\n',\n",
              " 'Air Arabia',\n",
              " ' – Sharjah, ',\n",
              " 'United Arab Emirates',\n",
              " '\\n',\n",
              " 'Air Do',\n",
              " ' – Tokyo, Hokkaido (Japan)',\n",
              " '\\n',\n",
              " 'Air India Express',\n",
              " ' – Mumbai (India)',\n",
              " '\\n',\n",
              " 'AirAsia',\n",
              " ' – Kuala Lumpur (Malaysia)',\n",
              " '\\n',\n",
              " 'Airblue',\n",
              " ' – Islamabad (Pakistan)',\n",
              " '\\n',\n",
              " 'Cebu Pacific Air',\n",
              " ' – Manila (Philippines)',\n",
              " '\\n',\n",
              " 'China United Airlines',\n",
              " ' – Beijing (China)',\n",
              " '\\n',\n",
              " 'Citilink',\n",
              " ' – Jakarta (Indonesia)',\n",
              " '\\n',\n",
              " 'Firefly',\n",
              " ' – Subang (Malaysia)',\n",
              " '\\n',\n",
              " 'Flydubai',\n",
              " ' – Dubai (United Arab Emirates)',\n",
              " '\\n',\n",
              " 'Goair',\n",
              " ' – Mumbai (India)',\n",
              " '\\n',\n",
              " 'Golden Myanmar Airlines',\n",
              " ' – Mandalay (Myanmar)',\n",
              " '\\n',\n",
              " 'HK Express',\n",
              " ' – Hong Kong (China)',\n",
              " '\\n',\n",
              " 'IndiGo Airlines',\n",
              " ' – New Delhi (India)',\n",
              " '\\n',\n",
              " 'Jazeera Airways',\n",
              " ' – ',\n",
              " 'Kuwait',\n",
              " '\\n',\n",
              " 'JetLite',\n",
              " ' – Several cities in India',\n",
              " '\\n',\n",
              " 'Jetstar Asia',\n",
              " ' – Singapore, Vietnam',\n",
              " '\\n',\n",
              " 'Jin Air',\n",
              " ' – Seoul (South Korea)',\n",
              " '\\n',\n",
              " 'Lion Airlines',\n",
              " ' – Jakarta (Indonesia)',\n",
              " '\\n',\n",
              " 'Lucky Air',\n",
              " ' – Dali (China)',\n",
              " '\\n',\n",
              " 'Malindo Air',\n",
              " ' – Malaysia, Indonesia',\n",
              " '\\n',\n",
              " 'NAS Air',\n",
              " ' – Riyadh (Saudi Arabia)',\n",
              " '\\n',\n",
              " 'Nok Air',\n",
              " ' – Bangkok (',\n",
              " 'Thailand',\n",
              " ')',\n",
              " '\\n',\n",
              " 'NokScoot',\n",
              " ' – Bangkok (Thailand)',\n",
              " '\\n',\n",
              " 'Peach',\n",
              " ' – Osaka (Japan)',\n",
              " '\\n',\n",
              " 'Scoot',\n",
              " ' – Singapore',\n",
              " '\\n',\n",
              " 'Skymark Airlines',\n",
              " ' – Tokyo (Japan)',\n",
              " '\\n',\n",
              " 'Solaseed Air',\n",
              " ' – Miazaki (Japan)',\n",
              " '\\n',\n",
              " 'SpiceJet',\n",
              " ' – Several cities in India',\n",
              " '\\n',\n",
              " 'Spring Airlines',\n",
              " ' – China, Japan',\n",
              " '\\n',\n",
              " 'Star Flyer',\n",
              " ' – Kitakyushu (Japan)',\n",
              " '\\n',\n",
              " 'T’way Airlines ',\n",
              " '– Seoul (South Korea)',\n",
              " '\\n',\n",
              " 'THAI Smile',\n",
              " ' – Bangkok (Thailand)',\n",
              " '\\n',\n",
              " 'UP',\n",
              " ' – Tel Aviv (Israel)',\n",
              " '\\n',\n",
              " 'Vanilla Air',\n",
              " ' – Japan',\n",
              " '\\n',\n",
              " 'VietJetAir',\n",
              " ' – Hanoi (Vietnam)',\n",
              " '\\n',\n",
              " 'List of Low Cost Airlines in North, Central and South America',\n",
              " '\\n',\n",
              " ' These are the most popular low cost airlines that fly in the Americas',\n",
              " '\\n',\n",
              " 'Allegiant Air',\n",
              " ' – Las Vegas (United States)',\n",
              " '\\n',\n",
              " 'GOL ',\n",
              " '– São Paulo (Brazil)',\n",
              " '\\n',\n",
              " 'Frontier Airlines ',\n",
              " '– Denver (United States of America)',\n",
              " '\\n',\n",
              " 'Interjet',\n",
              " ' – Mexico',\n",
              " '\\n',\n",
              " 'JetBlue Airways',\n",
              " ' – New York (United States)',\n",
              " '\\n',\n",
              " 'Southwest Airlines',\n",
              " ' – Dallas (United States of America)',\n",
              " '\\n',\n",
              " 'Spirit Airlines',\n",
              " ' – Florida (United States of America)',\n",
              " '\\n',\n",
              " 'Sun Country Airlines',\n",
              " ' – Minnesota (United States of America)',\n",
              " '\\n',\n",
              " 'VivaAerobus',\n",
              " ' – Monterrey (Mexico)',\n",
              " '\\n',\n",
              " 'Volaris ',\n",
              " '– Mexico City (Mexico)',\n",
              " '\\n',\n",
              " 'WestJet Airlines ',\n",
              " '– Alberta (Canada)',\n",
              " '\\n',\n",
              " 'List of Low Cost Airlines in Australia and the Pacific',\n",
              " '\\n',\n",
              " ' These are the most popular low cost airlines that fly to Australia',\n",
              " '\\n',\n",
              " 'Jetstar Airways',\n",
              " ' – Brisbane, Melbourne, Sydney (Australia)',\n",
              " '\\n',\n",
              " 'Tigerair Australia ',\n",
              " '–  Melbourne (Australia) ',\n",
              " '\\n',\n",
              " 'List of Low Cost Airlines in Africa',\n",
              " '\\n',\n",
              " ' These are the most popular low cost airlines that fly in ',\n",
              " 'Africa',\n",
              " '\\n',\n",
              " 'Mango',\n",
              " ' – Johannesburg (',\n",
              " 'South Africa',\n",
              " ')',\n",
              " '\\n',\n",
              " 'Fly 540',\n",
              " ' – Nairobi (Kenya)',\n",
              " '\\n',\n",
              " 'FlySafair ',\n",
              " '– Cape Town (South Africa)',\n",
              " '\\n',\n",
              " '\\n',\n",
              " 'Facebook ',\n",
              " ' ',\n",
              " '\\n',\n",
              " 'Pinterest',\n",
              " '\\n',\n",
              " 'Twitter',\n",
              " ' ',\n",
              " '\\n',\n",
              " 'WhatsApp',\n",
              " '\\n',\n",
              " 'Messenger',\n",
              " '\\n',\n",
              " 'Email',\n",
              " '\\n',\n",
              " '\\n',\n",
              " '\\n',\n",
              " '\\n',\n",
              " 'Categories ',\n",
              " 'Resources',\n",
              " ' ',\n",
              " '\\n',\n",
              " '\\n',\n",
              " '\\n',\n",
              " '\\n',\n",
              " '\\n',\n",
              " '\\n',\n",
              " '\\n',\n",
              " 'Nomad Revelations',\n",
              " ' ',\n",
              " ' wp:image {\"align\":\"center\",\"id\":16121} ',\n",
              " '\\n',\n",
              " '\\n',\n",
              " '\\n',\n",
              " '\\n',\n",
              " ' /wp:image ',\n",
              " '\\n',\n",
              " ' wp:paragraph {\"backgroundColor\":\"very-light-gray\"} ',\n",
              " '\\n',\n",
              " 'Hi there!',\n",
              " ' I’m João Leitão, the author of this\\xa0',\n",
              " 'Adventure Travel Blog',\n",
              " ' about exciting journeys into more than 145 UN+ countries on a continual 10 years on the road across Africa, Antarctica, Asia, Europe, North to South America, and Oceania. I also co-own an ',\n",
              " 'Adventure travel company',\n",
              " ' specializing in off-the-beaten-path destinations.',\n",
              " '\\n',\n",
              " ' /wp:paragraph ',\n",
              " '\\n',\n",
              " '\\n',\n",
              " '\\n',\n",
              " '\\n',\n",
              " '\\n',\n",
              " '\\n',\n",
              " '\\n',\n",
              " 'joaoleitaoviagens',\n",
              " '\\n',\n",
              " 'João Leitão 145 UN+ Countries All Continents',\n",
              " '\\n#VisualArtist #NFT Creator @nomadrevelation #Polyglot',\n",
              " '\\nOwner @dardigitalnomad @rjtravelagencycom',\n",
              " '\\n',\n",
              " '\\n',\n",
              " '\\n',\n",
              " '\\n',\n",
              " '\\n',\n",
              " '\\n',\n",
              " '\\n',\n",
              " '\\n',\n",
              " '\\n',\n",
              " '\\n',\n",
              " '\\n',\n",
              " '\\n',\n",
              " '\\n',\n",
              " '\\n',\n",
              " 'My next NFT collection is coming out on Feb 7th 5P',\n",
              " '\\n',\n",
              " ' ',\n",
              " '\\n',\n",
              " '\\n',\n",
              " '\\n',\n",
              " '\\n',\n",
              " '\\n',\n",
              " '\\n',\n",
              " 'Somewhere on the streets of #Meknes ancient city #',\n",
              " '\\n',\n",
              " '\\n',\n",
              " '\\n',\n",
              " '\\n',\n",
              " '\\n',\n",
              " '\\n',\n",
              " '\\n',\n",
              " 'The oldest known university in the #world is in Fe',\n",
              " '\\n',\n",
              " '\\n',\n",
              " '\\n',\n",
              " '\\n',\n",
              " '\\n',\n",
              " '\\n',\n",
              " '\\n',\n",
              " 'Nejjarine Fondouk caravanserai in Fes old #city in',\n",
              " '\\n',\n",
              " '\\n',\n",
              " '\\n',\n",
              " '\\n',\n",
              " '\\n',\n",
              " '\\n',\n",
              " '\\n',\n",
              " 'The Madrasa Bou Inania in Fes, #Morocco, built in ',\n",
              " '\\n',\n",
              " '\\n',\n",
              " '\\n',\n",
              " '\\n',\n",
              " '\\n',\n",
              " '\\n',\n",
              " '\\n',\n",
              " 'Tradicional riad in #Fez city in #Morocco  #archit',\n",
              " '\\n',\n",
              " '\\n',\n",
              " '\\n',\n",
              " '\\n',\n",
              " ' ',\n",
              " '\\n',\n",
              " '\\n',\n",
              " '\\n',\n",
              " 'Load More...',\n",
              " '\\n',\n",
              " '\\n',\n",
              " '\\n',\n",
              " '\\n',\n",
              " '\\n',\n",
              " '\\n',\n",
              " 'Follow on Instagram',\n",
              " '\\n',\n",
              " '\\n',\n",
              " '\\n',\n",
              " '\\n',\n",
              " '\\n',\n",
              " '\\n',\n",
              " ' ',\n",
              " '\\n',\n",
              " '\\n',\n",
              " '\\n',\n",
              " '\\n',\n",
              " '\\n',\n",
              " ' wp:image {\"align\":\"center\",\"id\":63067,\"width\":106,\"height\":106,\"sizeSlug\":\"large\",\"className\":\"is-style-rounded\"} ',\n",
              " '\\n',\n",
              " '\\n',\n",
              " ' /wp:image ',\n",
              " '\\n',\n",
              " ' wp:image {\"align\":\"center\",\"id\":62986,\"sizeSlug\":\"large\"} ',\n",
              " '\\n',\n",
              " '\\n',\n",
              " ' /wp:image ',\n",
              " ' ',\n",
              " '\\n',\n",
              " '\\n',\n",
              " '\\n',\n",
              " '\\n',\n",
              " 'Trips in 2020',\n",
              " ' ',\n",
              " 'Morocco, Thailand, Lebanon, Syria, France.',\n",
              " '\\n',\n",
              " '\\n',\n",
              " 'Trips in 2019',\n",
              " ' ',\n",
              " '\\n',\n",
              " '\\n',\n",
              " 'Morocco, Portugal, Spain, France, Poland, Germany, Czech Republic, Iran.',\n",
              " '\\n',\n",
              " '\\n',\n",
              " '\\n',\n",
              " '\\n',\n",
              " 'Trips in 2018',\n",
              " ' ',\n",
              " 'Uzbekistan, Kazakhstan, Azerbaijan, Georgia, Armenia, Iran, Iraq, Turkey, Greece, Bulgaria, Serbia, Croatia, Hungary, Slovakia, Poland, Oman, Yemen, Morocco, Japan, Saudi Arabia.',\n",
              " '\\n',\n",
              " '\\n',\n",
              " 'Trips in 2017',\n",
              " ' ',\n",
              " 'Morocco, Poland, Turkey, Hungary, Germany, Egypt, Sudan, Greece, Netherlands, Denmark, Lebanon, Albania, Ukraine, Russia, Kazakhstan, Kyrgyzstan, Tajikistan, Uzbekistan.',\n",
              " '\\n',\n",
              " '\\n',\n",
              " ' ',\n",
              " '\\n',\n",
              " '\\n',\n",
              " 'Bloglovin',\n",
              " 'Facebook',\n",
              " 'Instagram',\n",
              " 'Pinterest',\n",
              " 'Twitter',\n",
              " 'YouTube',\n",
              " ' ',\n",
              " '\\n',\n",
              " '\\n',\n",
              " '\\n',\n",
              " 'Recent Posts',\n",
              " '\\n',\n",
              " '\\n',\n",
              " '\\n',\n",
              " 'What to visit in Dushanbe the capital of Tajikistan',\n",
              " '\\n',\n",
              " '\\n',\n",
              " '\\n',\n",
              " 'What to visit in Kathmandu the capital of Nepal',\n",
              " '\\n',\n",
              " '\\n',\n",
              " '\\n',\n",
              " 'Japan Budget Accommodation and Backpackers Hotels',\n",
              " '\\n',\n",
              " '\\n',\n",
              " '\\n',\n",
              " 'What to visit in Chisinau the capital of Moldova',\n",
              " '\\n',\n",
              " '\\n',\n",
              " '\\n',\n",
              " 'What to visit in Montevideo the capital of Uruguay',\n",
              " '\\n',\n",
              " '\\n',\n",
              " '\\n',\n",
              " 'What to visit in Reykjavík the capital of Iceland',\n",
              " '\\n',\n",
              " '\\n',\n",
              " '\\n',\n",
              " 'What to visit in Beirut the capital of Lebanon',\n",
              " '\\n',\n",
              " '\\n',\n",
              " '\\n',\n",
              " 'UNESCO Sites in Lebanon',\n",
              " '\\n',\n",
              " '\\n',\n",
              " '\\n',\n",
              " 'What to visit in Cairo the capital of Egypt',\n",
              " '\\n',\n",
              " '\\n',\n",
              " '\\n',\n",
              " 'What to visit in Havana the capital of Cuba',\n",
              " '\\n',\n",
              " '\\n',\n",
              " '\\n',\n",
              " 'UNESCO Sites in Cuba',\n",
              " '\\n',\n",
              " '\\n',\n",
              " '\\n',\n",
              " 'Tunisia Budget Accommodation and Backpackers Hotels',\n",
              " '\\n',\n",
              " '\\n',\n",
              " '\\n',\n",
              " 'What to visit in Tunis the capital of Tunisia',\n",
              " '\\n',\n",
              " '\\n',\n",
              " '\\n',\n",
              " 'What to visit in Yerevan the capital of Armenia',\n",
              " '\\n',\n",
              " '\\n',\n",
              " '\\n',\n",
              " 'Ecuador Budget Accommodation and Backpackers Hotels',\n",
              " '\\n',\n",
              " '\\n',\n",
              " '\\n',\n",
              " 'What to visit in Addis Ababa the capital of Ethiopia',\n",
              " '\\n',\n",
              " '\\n',\n",
              " '\\n',\n",
              " ' ',\n",
              " '\\n',\n",
              " '\\n',\n",
              " '\\n',\n",
              " '\\n',\n",
              " '\\n',\n",
              " '\\n',\n",
              " '\\n\\t\\t\\t\\t\\t© 2006-2022 Nomad Revelations is a ',\n",
              " 'Travel Blog',\n",
              " ' by João Leitão » ',\n",
              " 'Copyright',\n",
              " ' » ',\n",
              " 'Privacy Policy',\n",
              " ' » ',\n",
              " 'Site Map',\n",
              " ' » ',\n",
              " 'Contact',\n",
              " ' » This blog contains affiliate links.\\t\\t\\t\\t',\n",
              " '\\n',\n",
              " '\\n',\n",
              " '\\n',\n",
              " '\\n',\n",
              " '\\n',\n",
              " ' Instagram Feed JS ',\n",
              " '\\n',\n",
              " '\\r\\nvar sbiajaxurl = \"https://www.joaoleitao.com/wp-admin/admin-ajax.php\";\\r\\n',\n",
              " '\\n',\n",
              " ' #simple-social-icons-3 ul li a, #simple-social-icons-3 ul li a:hover, #simple-social-icons-3 ul li a:focus { background-color: #07a1f2 !important; border-radius: 3px; color: #ffffff !important; border: 0px #ffffff solid !important; font-size: 22px; padding: 11px; }  #simple-social-icons-3 ul li a:hover, #simple-social-icons-3 ul li a:focus { background-color: #303440 !important; border-color: #ffffff !important; color: #ffffff !important; }  #simple-social-icons-3 ul li a:focus { outline: 1px dotted #303440 !important; }',\n",
              " '\\n',\n",
              " '\\n',\n",
              " '\\nvar wpcf7 = {\"api\":{\"root\":\"https:\\\\/\\\\/www.joaoleitao.com\\\\/wp-json\\\\/\",\"namespace\":\"contact-form-7\\\\/v1\"}};\\n',\n",
              " '\\n',\n",
              " '\\n',\n",
              " '\\n',\n",
              " '\\n',\n",
              " '\\n',\n",
              " \"[if lte IE 11]>\\n<script src='https://www.joaoleitao.com/wp-content/themes/generatepress/assets/js/classList.min.js?ver=3.0.3' id='generate-classlist-js'></script>\\n<![endif]\",\n",
              " '\\n',\n",
              " '\\nvar generatepressMenu = {\"toggleOpenedSubMenus\":\"1\",\"openSubMenuLabel\":\"Open Sub-Menu\",\"closeSubMenuLabel\":\"Close Sub-Menu\"};\\n',\n",
              " '\\n',\n",
              " '\\n',\n",
              " '\\nvar generatepressNavSearch = {\"open\":\"Open Search Bar\",\"close\":\"Close Search Bar\"};\\n',\n",
              " '\\n',\n",
              " '\\n',\n",
              " '\\n',\n",
              " '\\nvar q2w3_sidebar_options = [{\"sidebar\":\"sidebar-1\",\"margin_top\":16,\"margin_bottom\":1600,\"stop_id\":\"\",\"screen_max_width\":0,\"screen_max_height\":0,\"width_inherit\":false,\"refresh_interval\":15001,\"window_load_hook\":false,\"disable_mo_api\":false,\"widgets\":[\"custom_html-2\",\"custom_html-3\"]}];\\n',\n",
              " '\\n',\n",
              " '\\n',\n",
              " '\\n',\n",
              " '\\n',\n",
              " '\\n',\n",
              " '\\n',\n",
              " '\\nvar ezTOC = {\"smooth_scroll\":\"1\",\"visibility_hide_by_default\":\"1\",\"width\":\"auto\",\"scroll_offset\":\"30\"};\\n',\n",
              " '\\n',\n",
              " '\\n',\n",
              " '\\nvar sb_instagram_js_options = {\"font_method\":\"svg\",\"resized_url\":\"https:\\\\/\\\\/www.joaoleitao.com\\\\/wp-content\\\\/uploads\\\\/sb-instagram-feed-images\\\\/\",\"placeholder\":\"https:\\\\/\\\\/www.joaoleitao.com\\\\/wp-content\\\\/plugins\\\\/instagram-feed\\\\/img\\\\/placeholder.png\"};\\n',\n",
              " '\\n',\n",
              " '\\n',\n",
              " '/* <![CDATA[ */if ( !!window.jQuery ) {(function($){$(document).ready(function(){if ( !!window.SLB ) { {$.extend(SLB, {\"context\":[\"public\",\"user_guest\"]});} }})})(jQuery);}/* ]]> */',\n",
              " '\\n',\n",
              " \"function initTwitCount(d,s,id){var js,fjs=d.getElementsByTagName(s)[0],p=/^http:/.test(d.location)?'http':'https';if(!d.getElementById(id)){js=d.createElement(s);js.id=id;js.src=p+'://static1.twitcount.com/js/twitcount.js';fjs.parentNode.insertBefore(js,fjs)}}\\n        var ssb_twit_count_init=!1;addEventListener('mouseover',function(event){if(!ssb_twit_count_init){initTwitCount(document,'script','twitcount_plugins')\\n        ssb_twit_count_init=!0}})\",\n",
              " '\\n',\n",
              " \"\\n\\t_stq = window._stq || [];\\n\\t_stq.push([ 'view', {v:'ext',j:'1:10.0',blog:'2682765',post:'19426',tz:'0',srv:'www.joaoleitao.com'} ]);\\n\\t_stq.push([ 'clickTrackerInit', '2682765', '19426' ]);\\n\",\n",
              " '\\n',\n",
              " '\\n',\n",
              " '\\n']"
            ]
          },
          "metadata": {},
          "execution_count": 410
        }
      ]
    },
    {
      "cell_type": "code",
      "source": [
        "set([t.parent.name for t in text])"
      ],
      "metadata": {
        "colab": {
          "base_uri": "https://localhost:8080/"
        },
        "id": "fdiRaAI9H7FJ",
        "outputId": "cd861fe0-72a3-4acb-f333-665be092ccc5"
      },
      "execution_count": 401,
      "outputs": [
        {
          "output_type": "execute_result",
          "data": {
            "text/plain": [
              "{'[document]',\n",
              " 'a',\n",
              " 'article',\n",
              " 'aside',\n",
              " 'body',\n",
              " 'button',\n",
              " 'div',\n",
              " 'figcaption',\n",
              " 'footer',\n",
              " 'form',\n",
              " 'h1',\n",
              " 'h2',\n",
              " 'h3',\n",
              " 'head',\n",
              " 'header',\n",
              " 'html',\n",
              " 'li',\n",
              " 'link',\n",
              " 'main',\n",
              " 'meta',\n",
              " 'nav',\n",
              " 'p',\n",
              " 'script',\n",
              " 'section',\n",
              " 'span',\n",
              " 'strong',\n",
              " 'style',\n",
              " 'svg',\n",
              " 'title',\n",
              " 'ul'}"
            ]
          },
          "metadata": {},
          "execution_count": 401
        }
      ]
    },
    {
      "cell_type": "code",
      "source": [
        "\n",
        "output = ''\n",
        "blacklist = [\n",
        "    '[document]',\n",
        "\n",
        " 'article',\n",
        " 'aside',\n",
        " 'body',\n",
        " 'button',\n",
        " 'div',\n",
        " 'figcaption',\n",
        " 'footer',\n",
        " 'form',\n",
        " 'h1',\n",
        " 'h2',\n",
        " 'h3',\n",
        " 'head',\n",
        " 'header',\n",
        " 'html',\n",
        " 'li',\n",
        " 'link',\n",
        " 'main',\n",
        " 'meta',\n",
        " 'nav',\n",
        " 'p',\n",
        " 'script',\n",
        " 'section',\n",
        " 'span',\n",
        " 'strong',\n",
        " 'style',\n",
        " 'svg',\n",
        " 'title',\n",
        " 'ul'\n",
        "    # there may be more elements you don't want, such as \"style\", etc.\n",
        "]\n",
        "\n",
        "for t in text:\n",
        "    if t.parent.name not in blacklist:\n",
        "        output += '{} '.format(t)"
      ],
      "metadata": {
        "id": "jpobj3xiKDWR"
      },
      "execution_count": 417,
      "outputs": []
    },
    {
      "cell_type": "code",
      "source": [
        "output"
      ],
      "metadata": {
        "colab": {
          "base_uri": "https://localhost:8080/",
          "height": 642
        },
        "id": "Xr8XQ8xoKOlz",
        "outputId": "521518a6-4701-4d68-cc35-66047376039a"
      },
      "execution_count": 418,
      "outputs": [
        {
          "output_type": "execute_result",
          "data": {
            "application/vnd.google.colaboratory.intrinsic+json": {
              "type": "string"
            },
            "text/plain": [
              "'Skip to content \\n \\n \\n About the Author Country guides City guides Adventure Remote Places Motivation Beautiful places Overland Van Life Boat Travel RTW Guides Travel photography Travel Blogs Interviews with Travelers Accommodation Flags Food UNESCO Guides People Resources PT  Africa Americas Antarctica Asia Europe Oceania Resources What is low cost? How to travel with a low cost airline as cheaply as possible 1. Not all low costs are the same 2. Choosing the right time to buy 3. Picking a destination 4. Picking the date 5. Pay attention to offers and deals 6. Being willing to accept the basic services TOP low-cost airlines in Europe Ryanair Easyjet Wizzair Best low-cost airlines in the world  List of Low Cost Airlines in Europe List of Low Cost Airlines in Asia List of Low Cost Airlines in North, Central and South America List of Low Cost Airlines in Australia and the Pacific List of Low Cost Airlines in Africa Europe joining WizzClub Ryanair official website Easyjet official website Wizzair official website Ryanair EasyJet Pegasus Airlines Turkey GOL Southwest Airlines JetBlue Airways WestJet Airlines Virgin Australia Oceania AirAsia Asia Aer Lingus – airBaltic – Blue Air – CityJet Condor easyJet Eurowings Flybe Helvetic Airways  Icelandair Iceland Jet2 Norwegian Pegasus Airlines Ryanair SmartWings Transavia TUIfly Volotea Vueling Widerøe Wizz Air Wowair XL Airways 9air Air Arabia United Arab Emirates Air Do Air India Express AirAsia Airblue Cebu Pacific Air China United Airlines Citilink Firefly Flydubai Goair Golden Myanmar Airlines HK Express IndiGo Airlines Jazeera Airways Kuwait JetLite Jetstar Asia Jin Air Lion Airlines Lucky Air Malindo Air NAS Air Nok Air Thailand NokScoot Peach Scoot Skymark Airlines Solaseed Air SpiceJet Spring Airlines Star Flyer T’way Airlines  THAI Smile UP Vanilla Air VietJetAir Allegiant Air GOL  Frontier Airlines  Interjet JetBlue Airways Southwest Airlines Spirit Airlines Sun Country Airlines VivaAerobus Volaris  WestJet Airlines  Jetstar Airways Tigerair Australia  Africa Mango South Africa Fly 540 FlySafair  Resources Adventure Travel Blog Adventure travel company \\n \\n \\n \\n \\n   \\n \\n \\n \\n \\n \\n \\n \\n \\n \\n \\n \\n \\n \\n \\n \\n \\n \\n \\n Follow on Instagram What to visit in Dushanbe the capital of Tajikistan What to visit in Kathmandu the capital of Nepal Japan Budget Accommodation and Backpackers Hotels What to visit in Chisinau the capital of Moldova What to visit in Montevideo the capital of Uruguay What to visit in Reykjavík the capital of Iceland What to visit in Beirut the capital of Lebanon UNESCO Sites in Lebanon What to visit in Cairo the capital of Egypt What to visit in Havana the capital of Cuba UNESCO Sites in Cuba Tunisia Budget Accommodation and Backpackers Hotels What to visit in Tunis the capital of Tunisia What to visit in Yerevan the capital of Armenia Ecuador Budget Accommodation and Backpackers Hotels What to visit in Addis Ababa the capital of Ethiopia Travel Blog Copyright Privacy Policy Site Map Contact \\n '"
            ]
          },
          "metadata": {},
          "execution_count": 418
        }
      ]
    },
    {
      "cell_type": "code",
      "source": [
        "tables[1]"
      ],
      "metadata": {
        "colab": {
          "base_uri": "https://localhost:8080/",
          "height": 80
        },
        "id": "Gb-7H__WUIbJ",
        "outputId": "79bb06e4-b45e-48f7-a2a1-2b36441ebe0a"
      },
      "execution_count": 122,
      "outputs": [
        {
          "output_type": "execute_result",
          "data": {
            "text/html": [
              "\n",
              "  <div id=\"df-cfcd9755-0f5d-4822-9b97-f363aa50a821\">\n",
              "    <div class=\"colab-df-container\">\n",
              "      <div>\n",
              "<style scoped>\n",
              "    .dataframe tbody tr th:only-of-type {\n",
              "        vertical-align: middle;\n",
              "    }\n",
              "\n",
              "    .dataframe tbody tr th {\n",
              "        vertical-align: top;\n",
              "    }\n",
              "\n",
              "    .dataframe thead th {\n",
              "        text-align: right;\n",
              "    }\n",
              "</style>\n",
              "<table border=\"1\" class=\"dataframe\">\n",
              "  <thead>\n",
              "    <tr style=\"text-align: right;\">\n",
              "      <th></th>\n",
              "      <th>0</th>\n",
              "      <th>1</th>\n",
              "      <th>2</th>\n",
              "    </tr>\n",
              "  </thead>\n",
              "  <tbody>\n",
              "    <tr>\n",
              "      <th>0</th>\n",
              "      <td>Egypt Air Arabia Egypt Air Cairo FlyEgypt  Ken...</td>\n",
              "      <td>NaN</td>\n",
              "      <td>Nigeria Green Africa Airways  South Africa Fly...</td>\n",
              "    </tr>\n",
              "  </tbody>\n",
              "</table>\n",
              "</div>\n",
              "      <button class=\"colab-df-convert\" onclick=\"convertToInteractive('df-cfcd9755-0f5d-4822-9b97-f363aa50a821')\"\n",
              "              title=\"Convert this dataframe to an interactive table.\"\n",
              "              style=\"display:none;\">\n",
              "        \n",
              "  <svg xmlns=\"http://www.w3.org/2000/svg\" height=\"24px\"viewBox=\"0 0 24 24\"\n",
              "       width=\"24px\">\n",
              "    <path d=\"M0 0h24v24H0V0z\" fill=\"none\"/>\n",
              "    <path d=\"M18.56 5.44l.94 2.06.94-2.06 2.06-.94-2.06-.94-.94-2.06-.94 2.06-2.06.94zm-11 1L8.5 8.5l.94-2.06 2.06-.94-2.06-.94L8.5 2.5l-.94 2.06-2.06.94zm10 10l.94 2.06.94-2.06 2.06-.94-2.06-.94-.94-2.06-.94 2.06-2.06.94z\"/><path d=\"M17.41 7.96l-1.37-1.37c-.4-.4-.92-.59-1.43-.59-.52 0-1.04.2-1.43.59L10.3 9.45l-7.72 7.72c-.78.78-.78 2.05 0 2.83L4 21.41c.39.39.9.59 1.41.59.51 0 1.02-.2 1.41-.59l7.78-7.78 2.81-2.81c.8-.78.8-2.07 0-2.86zM5.41 20L4 18.59l7.72-7.72 1.47 1.35L5.41 20z\"/>\n",
              "  </svg>\n",
              "      </button>\n",
              "      \n",
              "  <style>\n",
              "    .colab-df-container {\n",
              "      display:flex;\n",
              "      flex-wrap:wrap;\n",
              "      gap: 12px;\n",
              "    }\n",
              "\n",
              "    .colab-df-convert {\n",
              "      background-color: #E8F0FE;\n",
              "      border: none;\n",
              "      border-radius: 50%;\n",
              "      cursor: pointer;\n",
              "      display: none;\n",
              "      fill: #1967D2;\n",
              "      height: 32px;\n",
              "      padding: 0 0 0 0;\n",
              "      width: 32px;\n",
              "    }\n",
              "\n",
              "    .colab-df-convert:hover {\n",
              "      background-color: #E2EBFA;\n",
              "      box-shadow: 0px 1px 2px rgba(60, 64, 67, 0.3), 0px 1px 3px 1px rgba(60, 64, 67, 0.15);\n",
              "      fill: #174EA6;\n",
              "    }\n",
              "\n",
              "    [theme=dark] .colab-df-convert {\n",
              "      background-color: #3B4455;\n",
              "      fill: #D2E3FC;\n",
              "    }\n",
              "\n",
              "    [theme=dark] .colab-df-convert:hover {\n",
              "      background-color: #434B5C;\n",
              "      box-shadow: 0px 1px 3px 1px rgba(0, 0, 0, 0.15);\n",
              "      filter: drop-shadow(0px 1px 2px rgba(0, 0, 0, 0.3));\n",
              "      fill: #FFFFFF;\n",
              "    }\n",
              "  </style>\n",
              "\n",
              "      <script>\n",
              "        const buttonEl =\n",
              "          document.querySelector('#df-cfcd9755-0f5d-4822-9b97-f363aa50a821 button.colab-df-convert');\n",
              "        buttonEl.style.display =\n",
              "          google.colab.kernel.accessAllowed ? 'block' : 'none';\n",
              "\n",
              "        async function convertToInteractive(key) {\n",
              "          const element = document.querySelector('#df-cfcd9755-0f5d-4822-9b97-f363aa50a821');\n",
              "          const dataTable =\n",
              "            await google.colab.kernel.invokeFunction('convertToInteractive',\n",
              "                                                     [key], {});\n",
              "          if (!dataTable) return;\n",
              "\n",
              "          const docLinkHtml = 'Like what you see? Visit the ' +\n",
              "            '<a target=\"_blank\" href=https://colab.research.google.com/notebooks/data_table.ipynb>data table notebook</a>'\n",
              "            + ' to learn more about interactive tables.';\n",
              "          element.innerHTML = '';\n",
              "          dataTable['output_type'] = 'display_data';\n",
              "          await google.colab.output.renderOutput(dataTable, element);\n",
              "          const docLink = document.createElement('div');\n",
              "          docLink.innerHTML = docLinkHtml;\n",
              "          element.appendChild(docLink);\n",
              "        }\n",
              "      </script>\n",
              "    </div>\n",
              "  </div>\n",
              "  "
            ],
            "text/plain": [
              "                                                   0  ...                                                  2\n",
              "0  Egypt Air Arabia Egypt Air Cairo FlyEgypt  Ken...  ...  Nigeria Green Africa Airways  South Africa Fly...\n",
              "\n",
              "[1 rows x 3 columns]"
            ]
          },
          "metadata": {},
          "execution_count": 122
        }
      ]
    },
    {
      "cell_type": "code",
      "source": [
        "tables[2][0]"
      ],
      "metadata": {
        "colab": {
          "base_uri": "https://localhost:8080/"
        },
        "id": "-aX_DF22UMkM",
        "outputId": "fb0fae7f-a660-4f14-ac8f-f17034f4fd46"
      },
      "execution_count": 119,
      "outputs": [
        {
          "output_type": "execute_result",
          "data": {
            "text/plain": [
              "0    Argentina Flybondi[1] JetSmart Argentina[2]  B...\n",
              "Name: 0, dtype: object"
            ]
          },
          "metadata": {},
          "execution_count": 119
        }
      ]
    },
    {
      "cell_type": "code",
      "source": [
        "len(tables[2].columns)"
      ],
      "metadata": {
        "colab": {
          "base_uri": "https://localhost:8080/"
        },
        "id": "CosYIWipUQZM",
        "outputId": "f899cf2d-976a-4af2-c697-b9f047db91c1"
      },
      "execution_count": 121,
      "outputs": [
        {
          "output_type": "execute_result",
          "data": {
            "text/plain": [
              "3"
            ]
          },
          "metadata": {},
          "execution_count": 121
        }
      ]
    },
    {
      "cell_type": "code",
      "source": [
        "list_of_lowcost = []\n",
        "for i in range(1,6):\n",
        "  l = len(tables[i])\n",
        "  w = len(tables[i].columns)\n",
        "  for j in range(w):\n",
        "    list_of_lowcost.append(str(tables[i][j]))\n",
        "list_of_lowcost = ' '.join(list_of_lowcost)\n",
        "list_of_lowcost = list_of_lowcost.replace(\"\\xa0\",\"\").replace(\"\\nName: 0, dtype: object\",\"\") \\\n",
        "    .replace(\"NaN\",\"\").replace(\"0   \\nName: 1, dtype: float64 0\",\"\") \\\n",
        "    .replace(\"0    \",\"\").replace(\"\\nName: 2, dtype: object\",\"\") \\\n",
        "    .replace(\"[\",\"\").replace(\"]\",\"\").replace(\"1\",\"\").replace(\"2\",\"\").replace(\"3\",\"\") \\\n",
        "    .replace(\"4\",\"\").replace(\"5\",\"\").replace(\"6\",\"\").replace(\"7\",\"\").replace(\"8\",\"\").replace(\"9\",\"\") \\\n",
        "    .replace(\"0\",\"\")\n",
        "list_of_lowcost = list_of_lowcost.lower()\n",
        "list_of_lowcost = list_of_lowcost + ' ryanair ' + ' spirit ' + \" spirit airlines \" + ' air asia ' + ' lion air ' \\\n",
        "      + ' indigo ' + ' vueling ' + ' pegasus airlines ' + ' westjet ' + ' spicejet ' + ' flydubai ' + ' southwest airlines ' \\\n",
        "      + ' pegasus airlines ' + ' iberia express ' + ' flynas ' + ' flysafair ' + ' air arabia ' + ' volaris ' \\\n",
        "      + ' viva aerobus ' + ' sunwing airlines ' + ' frontier airlines ' + ' jetblue airways ' + ' gol ' \\\n",
        "      + ' norwegian air shuttle ' + ' cebu pacific ' + ' transavia airlines ' + \" allegiant air \" \\\n",
        "      + ' vietjetair ' + ' spring airlines ' + ' air arabia ' + ' mango '"
      ],
      "metadata": {
        "id": "VDUJ2xN8RUdW"
      },
      "execution_count": 293,
      "outputs": []
    },
    {
      "cell_type": "code",
      "source": [
        "list_airlines"
      ],
      "metadata": {
        "colab": {
          "base_uri": "https://localhost:8080/"
        },
        "id": "erbN_ydTl5D1",
        "outputId": "39ac294e-4954-43e2-a7fc-22e4b37c6d6a"
      },
      "execution_count": 269,
      "outputs": [
        {
          "output_type": "execute_result",
          "data": {
            "text/plain": [
              "['adria airways',\n",
              " 'aegean airlines',\n",
              " 'aer lingus',\n",
              " 'aeroflot russian airlines',\n",
              " 'aerolineas argentinas',\n",
              " 'aeromexico',\n",
              " 'afriqiyah airways',\n",
              " 'air arabia',\n",
              " 'air asia',\n",
              " 'air astana',\n",
              " 'air austral',\n",
              " 'air bagan',\n",
              " 'air berlin',\n",
              " 'air busan',\n",
              " 'air canada',\n",
              " 'air canada rouge',\n",
              " 'air china',\n",
              " 'air dolomiti',\n",
              " 'air europa',\n",
              " 'air france',\n",
              " 'air india',\n",
              " 'air india express',\n",
              " 'air new zealand',\n",
              " 'air serbia',\n",
              " 'air tahiti nui',\n",
              " 'air transat',\n",
              " 'air vanuatu',\n",
              " 'airasia x',\n",
              " 'aircalin',\n",
              " 'alaska airlines',\n",
              " 'alitalia airlines',\n",
              " 'allegiant air',\n",
              " 'american airlines',\n",
              " 'ana',\n",
              " 'ana all nippon airways',\n",
              " 'asiana',\n",
              " 'austrian airlines',\n",
              " 'avianca',\n",
              " 'azerbaijan airlines',\n",
              " 'azul airlines',\n",
              " 'ba cityflyer',\n",
              " 'bangkok airways',\n",
              " 'bassaka air',\n",
              " 'batik air',\n",
              " 'british airways',\n",
              " 'brussels airlines',\n",
              " 'cambodia angkor airlines',\n",
              " 'cambodia bayon airlines',\n",
              " 'canaryfly',\n",
              " 'cape air',\n",
              " 'caribbean airlines',\n",
              " 'cathay pacific airways',\n",
              " 'cebu pacific',\n",
              " 'china airlines',\n",
              " 'china eastern',\n",
              " 'china southern',\n",
              " 'condor flugdienst',\n",
              " 'copa airlines',\n",
              " 'croatia airlines',\n",
              " 'czech airlines',\n",
              " 'delta airlines',\n",
              " 'dragonair',\n",
              " 'eastern airways',\n",
              " 'easyfly',\n",
              " 'easyjet',\n",
              " 'easyjet airlines',\n",
              " 'edelweiss',\n",
              " 'edelweiss air',\n",
              " 'egyptair',\n",
              " 'el al',\n",
              " 'emirates',\n",
              " 'emirates airlines',\n",
              " 'ethiopian airlines',\n",
              " 'etihad airways',\n",
              " 'eva airways',\n",
              " 'fiji airways',\n",
              " 'finnair',\n",
              " 'firefly',\n",
              " 'flair airlines',\n",
              " 'fly540 com',\n",
              " 'flybe',\n",
              " 'flydubai',\n",
              " 'flysafair',\n",
              " 'frontier airlines',\n",
              " 'garuda indonesia',\n",
              " 'germanwings',\n",
              " 'gol',\n",
              " 'gulf air',\n",
              " 'hainan airlines',\n",
              " 'hawaiian airlines',\n",
              " 'helvetic',\n",
              " 'hi fly',\n",
              " 'hong kong airlines',\n",
              " 'hop',\n",
              " 'iberia',\n",
              " 'iberia express',\n",
              " 'icelandair',\n",
              " 'indigo',\n",
              " 'indigo airlines',\n",
              " 'interjet',\n",
              " 'israir airlines',\n",
              " 'japan airlines',\n",
              " 'jazeera airways',\n",
              " 'jazz',\n",
              " 'jeju air',\n",
              " 'jetblue airways',\n",
              " 'jetstar',\n",
              " 'kam air',\n",
              " 'kenya airways',\n",
              " 'klm',\n",
              " 'korean air',\n",
              " 'la compagnie',\n",
              " 'lion air',\n",
              " 'lot polish airlines',\n",
              " 'lufthansa',\n",
              " 'luxair',\n",
              " 'mahan air',\n",
              " 'malawian airlines',\n",
              " 'malaysia airlines',\n",
              " 'malindo air',\n",
              " 'mango',\n",
              " 'martinair',\n",
              " 'mega maldives airlines',\n",
              " 'meridiana',\n",
              " 'miat mongolian',\n",
              " 'middle east airlines',\n",
              " 'mihin lanka',\n",
              " 'myanmar airways',\n",
              " 'myanmar national airlines',\n",
              " 'norwegian air shuttle',\n",
              " 'norwegian air uk',\n",
              " 'oman air',\n",
              " 'pal express',\n",
              " 'peach',\n",
              " 'peach aviation',\n",
              " 'pegasus airlines',\n",
              " 'penair',\n",
              " 'peruvian airlines',\n",
              " 'petroleum air services',\n",
              " 'philippine airlines',\n",
              " 'phuket air',\n",
              " 'pia pakistan international airlines',\n",
              " 'porter airlines',\n",
              " 'qantas airways',\n",
              " 'qatar airways',\n",
              " 'regional express',\n",
              " 'rossiya',\n",
              " 'royal air maroc',\n",
              " 'royal brunei',\n",
              " 'royal jordanian',\n",
              " 'ryanair',\n",
              " 's7',\n",
              " 's7 siberia airlines',\n",
              " 'sa express',\n",
              " 'safi airways',\n",
              " 'salam air',\n",
              " 'sansa airlines',\n",
              " 'santa barbara',\n",
              " 'sas airlines',\n",
              " 'sata air azores',\n",
              " 'saudia',\n",
              " 'scoot airlines',\n",
              " 'shaheen air',\n",
              " 'shanghai airlines',\n",
              " 'shenzhen airlines',\n",
              " 'sichuan airlines',\n",
              " 'silkair',\n",
              " 'silver airways',\n",
              " 'singapore air',\n",
              " 'singapore airlines',\n",
              " 'skylanes',\n",
              " 'skymark airlines',\n",
              " 'skywest airlines',\n",
              " 'south african airways',\n",
              " 'southwest airlines',\n",
              " 'spicejet',\n",
              " 'spirit airlines',\n",
              " 'spring airlines',\n",
              " 'srilankan airlines',\n",
              " 'sun country',\n",
              " 'sunwing airlines',\n",
              " 'swiss airlines',\n",
              " 'taag angola airlines',\n",
              " 'taca',\n",
              " 'tam airlines',\n",
              " 'tame',\n",
              " 'tap portugal',\n",
              " 'tarom romanian airlines',\n",
              " 'thai airasia',\n",
              " 'thai airways',\n",
              " 'thai lion air',\n",
              " 'thai smile airways',\n",
              " 'thomas cook airlines scandinavia',\n",
              " 'thomson airways',\n",
              " 'tianjin airlines',\n",
              " 'tigerair',\n",
              " 'tigerair australia',\n",
              " 'titan airways',\n",
              " 'transaero airlines',\n",
              " 'transavia',\n",
              " 'transavia airlines',\n",
              " 'tuifly',\n",
              " 'tunisair',\n",
              " 'turkish airlines',\n",
              " 'turkmenistan airlines',\n",
              " 'ukraine international airlines',\n",
              " 'united airlines',\n",
              " 'vietjetair',\n",
              " 'vietnam airlines',\n",
              " 'virgin atlantic airways',\n",
              " 'virgin australia',\n",
              " 'vistara',\n",
              " 'viva aerobus',\n",
              " 'vivacolombia',\n",
              " 'vlm airlines',\n",
              " 'volaris',\n",
              " 'volotea',\n",
              " 'westjet',\n",
              " 'wideroe',\n",
              " 'wingo',\n",
              " 'xiamen airlines']"
            ]
          },
          "metadata": {},
          "execution_count": 269
        }
      ]
    },
    {
      "cell_type": "code",
      "source": [
        "def func(x):\n",
        "    if str(x) == 'iberia':\n",
        "        return 0\n",
        "    elif str(x) in list_of_lowcost:\n",
        "        return 1\n",
        "    elif str(x) == 'NaN':\n",
        "        return 0\n",
        "    else:\n",
        "        return 0\n",
        "\n",
        "analysis['low_cost'] = analysis['airline'].apply(func)"
      ],
      "metadata": {
        "id": "Y_DhiinKeecx"
      },
      "execution_count": 304,
      "outputs": []
    },
    {
      "cell_type": "code",
      "source": [
        "output.lower()\n",
        "def func(x):\n",
        "    if str(x) == 'iberia':\n",
        "        return 0\n",
        "    elif str(x) in str(output):\n",
        "        return 1\n",
        "    elif str(x) == 'NaN':\n",
        "        return 0\n",
        "    else:\n",
        "        return 0\n",
        "\n",
        "analysis['low_cost1'] = analysis['airline'].apply(func)"
      ],
      "metadata": {
        "id": "-NfR5o8lK1dN"
      },
      "execution_count": 425,
      "outputs": []
    },
    {
      "cell_type": "code",
      "source": [
        "analysis['low_cost1'].value_counts()"
      ],
      "metadata": {
        "colab": {
          "base_uri": "https://localhost:8080/"
        },
        "id": "NLuZ7neAdwmm",
        "outputId": "ac3d350f-1482-4a27-bf72-0b1a0bd47942"
      },
      "execution_count": 426,
      "outputs": [
        {
          "output_type": "execute_result",
          "data": {
            "text/plain": [
              "0    12803\n",
              "1       75\n",
              "Name: low_cost1, dtype: int64"
            ]
          },
          "metadata": {},
          "execution_count": 426
        }
      ]
    },
    {
      "cell_type": "code",
      "source": [
        "len(analysis[analysis['low_cost'] == 1]['airline'].value_counts())"
      ],
      "metadata": {
        "colab": {
          "base_uri": "https://localhost:8080/"
        },
        "id": "4EBnjOx1d9HG",
        "outputId": "365773a5-8cd8-4c8c-c9eb-0364c9c49055"
      },
      "execution_count": 444,
      "outputs": [
        {
          "output_type": "execute_result",
          "data": {
            "text/plain": [
              "31"
            ]
          },
          "metadata": {},
          "execution_count": 444
        }
      ]
    },
    {
      "cell_type": "code",
      "source": [
        "df_final_w_tdidf_pred['low_cost'] = analysis['low_cost']"
      ],
      "metadata": {
        "id": "vOL_DDrMqHLh"
      },
      "execution_count": 297,
      "outputs": []
    },
    {
      "cell_type": "code",
      "source": [
        "del df_final_w_tdidf_pred['combined']"
      ],
      "metadata": {
        "id": "-3QNOGMrqMSE"
      },
      "execution_count": 299,
      "outputs": []
    },
    {
      "cell_type": "code",
      "source": [
        "df_final_w_tdidf_pred_w_low_cost = df_final_w_tdidf_pred"
      ],
      "metadata": {
        "id": "gR5kSW70qTJ6"
      },
      "execution_count": 301,
      "outputs": []
    },
    {
      "cell_type": "code",
      "source": [
        "df_final_w_tdidf_pred_w_low_cost.to_csv('df_final_w_tdidf_pred_w_low_cost.csv')"
      ],
      "metadata": {
        "id": "jgKvcoc-qXlI"
      },
      "execution_count": 302,
      "outputs": []
    },
    {
      "cell_type": "markdown",
      "source": [
        "## Aircraft"
      ],
      "metadata": {
        "id": "doyuVeeYrHQv"
      }
    },
    {
      "cell_type": "code",
      "source": [
        "analysis['aircraft'].value_counts()"
      ],
      "metadata": {
        "colab": {
          "base_uri": "https://localhost:8080/"
        },
        "id": "d6--1pljrIWQ",
        "outputId": "d977d2de-1e67-4efa-a5dc-0827e3ac3913"
      },
      "execution_count": 313,
      "outputs": [
        {
          "output_type": "execute_result",
          "data": {
            "text/plain": [
              "british_airways_airbus_a380_new        236\n",
              "american_airlines_777-300_er           223\n",
              "qantas_airways_airbus_a380_b           172\n",
              "british_airways_boeing_747-400_c       148\n",
              "american_airlines_boeing_737-800_v2    140\n",
              "                                      ... \n",
              "air_dolomiti_en_embraer_e-195_a          1\n",
              "air_china_boeing_737-800_b               1\n",
              "air_china_boeing_737-700                 1\n",
              "air_china_airbus_a321_b                  1\n",
              "xiamen_airlines_boeing_787-9             1\n",
              "Name: aircraft, Length: 848, dtype: int64"
            ]
          },
          "metadata": {},
          "execution_count": 313
        }
      ]
    },
    {
      "cell_type": "code",
      "source": [
        "analysis['aircraft'] = analysis['aircraft'].str.lower()"
      ],
      "metadata": {
        "id": "awhjgf9kshSP"
      },
      "execution_count": 312,
      "outputs": []
    },
    {
      "cell_type": "code",
      "source": [
        "def func(x):\n",
        "    if 'airbus' in str(x):\n",
        "        return 1\n",
        "    else:\n",
        "        return 0\n",
        "\n",
        "analysis['airbus?'] = analysis['aircraft'].apply(func)\n",
        "analysis['airbus?'].value_counts()"
      ],
      "metadata": {
        "colab": {
          "base_uri": "https://localhost:8080/"
        },
        "id": "sFDG0U70saUp",
        "outputId": "fa7a01a1-8091-4d4e-ad08-54c4f70dca99"
      },
      "execution_count": 318,
      "outputs": [
        {
          "output_type": "execute_result",
          "data": {
            "text/plain": [
              "0    8880\n",
              "1    3998\n",
              "Name: airbus?, dtype: int64"
            ]
          },
          "metadata": {},
          "execution_count": 318
        }
      ]
    },
    {
      "cell_type": "code",
      "source": [
        "def func(x):\n",
        "    if 'boeing' in str(x):\n",
        "        return 1\n",
        "    else:\n",
        "        return 0\n",
        "\n",
        "analysis['boeing?'] = analysis['aircraft'].apply(func)\n",
        "analysis['boeing?'].value_counts()"
      ],
      "metadata": {
        "colab": {
          "base_uri": "https://localhost:8080/"
        },
        "id": "IO2JqnHOteh4",
        "outputId": "6e1ec3f2-f38f-4f83-85c0-1880da7b00d2"
      },
      "execution_count": 317,
      "outputs": [
        {
          "output_type": "execute_result",
          "data": {
            "text/plain": [
              "0    6912\n",
              "1    5966\n",
              "Name: boeing?, dtype: int64"
            ]
          },
          "metadata": {},
          "execution_count": 317
        }
      ]
    },
    {
      "cell_type": "code",
      "source": [
        "def func(x):\n",
        "    if ('boeing'  not in str(x)) & ('airbus'  not in str(x)) :\n",
        "        return 1\n",
        "    else:\n",
        "        return 0\n",
        "\n",
        "analysis['other_aircraift'] = analysis['aircraft'].apply(func)\n",
        "analysis['other_aircraift'].value_counts()"
      ],
      "metadata": {
        "colab": {
          "base_uri": "https://localhost:8080/"
        },
        "id": "Pb3UzJKgtplN",
        "outputId": "e54393bd-687b-4e74-d21c-d75f2fe66978"
      },
      "execution_count": 327,
      "outputs": [
        {
          "output_type": "execute_result",
          "data": {
            "text/plain": [
              "0    9963\n",
              "1    2915\n",
              "Name: other_aircraift, dtype: int64"
            ]
          },
          "metadata": {},
          "execution_count": 327
        }
      ]
    },
    {
      "cell_type": "code",
      "source": [
        "df_final_tino_v1 = analysis"
      ],
      "metadata": {
        "id": "IrPQnk7PuNgX"
      },
      "execution_count": 328,
      "outputs": []
    },
    {
      "cell_type": "code",
      "source": [
        "df_final_tino_v1.to_csv('df_final_tino_v1.csv')"
      ],
      "metadata": {
        "id": "7hAyMJ6SugP0"
      },
      "execution_count": 329,
      "outputs": []
    },
    {
      "cell_type": "markdown",
      "source": [
        "# Analysis"
      ],
      "metadata": {
        "id": "dMDotef4vsSV"
      }
    },
    {
      "cell_type": "markdown",
      "source": [
        "## Prepare combined final df"
      ],
      "metadata": {
        "id": "wwA5Hrnc0pPL"
      }
    },
    {
      "cell_type": "code",
      "source": [
        "abhi = pd.read_csv('/content/drive/MyDrive/Hackathon M2/sentiments_v2.csv')"
      ],
      "metadata": {
        "id": "__yIQscDy0E7"
      },
      "execution_count": 330,
      "outputs": []
    },
    {
      "cell_type": "code",
      "source": [
        "abhi"
      ],
      "metadata": {
        "colab": {
          "base_uri": "https://localhost:8080/",
          "height": 1000
        },
        "id": "VC6rRMlmy72R",
        "outputId": "8337657c-549c-42e2-ba98-3444e77ea57d"
      },
      "execution_count": 331,
      "outputs": [
        {
          "output_type": "execute_result",
          "data": {
            "text/html": [
              "\n",
              "  <div id=\"df-bb48348f-46f7-4b1a-b9f6-287da870ee33\">\n",
              "    <div class=\"colab-df-container\">\n",
              "      <div>\n",
              "<style scoped>\n",
              "    .dataframe tbody tr th:only-of-type {\n",
              "        vertical-align: middle;\n",
              "    }\n",
              "\n",
              "    .dataframe tbody tr th {\n",
              "        vertical-align: top;\n",
              "    }\n",
              "\n",
              "    .dataframe thead th {\n",
              "        text-align: right;\n",
              "    }\n",
              "</style>\n",
              "<table border=\"1\" class=\"dataframe\">\n",
              "  <thead>\n",
              "    <tr style=\"text-align: right;\">\n",
              "      <th></th>\n",
              "      <th>Unnamed: 0</th>\n",
              "      <th>Unnamed: 0.1</th>\n",
              "      <th>score</th>\n",
              "      <th>title</th>\n",
              "      <th>user_country</th>\n",
              "      <th>user_name</th>\n",
              "      <th>review_date</th>\n",
              "      <th>is_verified</th>\n",
              "      <th>review_body</th>\n",
              "      <th>airline</th>\n",
              "      <th>seat</th>\n",
              "      <th>aircraft</th>\n",
              "      <th>layout</th>\n",
              "      <th>Unnamed: 0.1.1</th>\n",
              "      <th>Cabin Staff Service</th>\n",
              "      <th>Food &amp; Beverages</th>\n",
              "      <th>Ground Service</th>\n",
              "      <th>Recommended</th>\n",
              "      <th>Route</th>\n",
              "      <th>Seat Comfort</th>\n",
              "      <th>Seat Type</th>\n",
              "      <th>Type Of Traveller</th>\n",
              "      <th>Value For Money</th>\n",
              "      <th>Inflight Entertainment</th>\n",
              "      <th>Wifi &amp; Connectivity</th>\n",
              "      <th>link</th>\n",
              "      <th>Document_No</th>\n",
              "      <th>Dominant_Topic</th>\n",
              "      <th>Topic_Perc_Contrib</th>\n",
              "      <th>Keywords</th>\n",
              "      <th>Text</th>\n",
              "      <th>sentiment</th>\n",
              "      <th>sentiment score</th>\n",
              "      <th>topic_name</th>\n",
              "    </tr>\n",
              "  </thead>\n",
              "  <tbody>\n",
              "    <tr>\n",
              "      <th>0</th>\n",
              "      <td>0</td>\n",
              "      <td>2</td>\n",
              "      <td>3.0</td>\n",
              "      <td>Air France customer review</td>\n",
              "      <td>United States</td>\n",
              "      <td>Daniel Rabourn</td>\n",
              "      <td>26-01-2022</td>\n",
              "      <td>1.0</td>\n",
              "      <td>Yesterday Jan 25, we flew Colombo, Sri Lanka t...</td>\n",
              "      <td>Air France</td>\n",
              "      <td>NaN</td>\n",
              "      <td>NaN</td>\n",
              "      <td>NaN</td>\n",
              "      <td>NaN</td>\n",
              "      <td>NaN</td>\n",
              "      <td>NaN</td>\n",
              "      <td>NaN</td>\n",
              "      <td>NaN</td>\n",
              "      <td>NaN</td>\n",
              "      <td>NaN</td>\n",
              "      <td>NaN</td>\n",
              "      <td>NaN</td>\n",
              "      <td>NaN</td>\n",
              "      <td>NaN</td>\n",
              "      <td>NaN</td>\n",
              "      <td>NaN</td>\n",
              "      <td>0</td>\n",
              "      <td>2</td>\n",
              "      <td>0.4192</td>\n",
              "      <td>flight, time, hour, sleep, configuration, atte...</td>\n",
              "      <td>yesterday jan we flew colombo sri lanka to par...</td>\n",
              "      <td>Negative</td>\n",
              "      <td>-0.2551</td>\n",
              "      <td>inflight-services</td>\n",
              "    </tr>\n",
              "    <tr>\n",
              "      <th>1</th>\n",
              "      <td>1</td>\n",
              "      <td>14</td>\n",
              "      <td>5.0</td>\n",
              "      <td>\"All in all, a decent experience\"</td>\n",
              "      <td>United Kingdom</td>\n",
              "      <td>S Gorsey</td>\n",
              "      <td>12-05-2021</td>\n",
              "      <td>1.0</td>\n",
              "      <td>It was very nice having a wide body with a 1-...</td>\n",
              "      <td>Air France</td>\n",
              "      <td>NaN</td>\n",
              "      <td>NaN</td>\n",
              "      <td>NaN</td>\n",
              "      <td>NaN</td>\n",
              "      <td>NaN</td>\n",
              "      <td>NaN</td>\n",
              "      <td>NaN</td>\n",
              "      <td>NaN</td>\n",
              "      <td>NaN</td>\n",
              "      <td>NaN</td>\n",
              "      <td>NaN</td>\n",
              "      <td>NaN</td>\n",
              "      <td>NaN</td>\n",
              "      <td>NaN</td>\n",
              "      <td>NaN</td>\n",
              "      <td>NaN</td>\n",
              "      <td>1</td>\n",
              "      <td>1</td>\n",
              "      <td>0.3318</td>\n",
              "      <td>class, business, service, airline, food, seati...</td>\n",
              "      <td>it was very nice having a wide body with a lie...</td>\n",
              "      <td>Positive</td>\n",
              "      <td>0.9846</td>\n",
              "      <td>business class</td>\n",
              "    </tr>\n",
              "    <tr>\n",
              "      <th>2</th>\n",
              "      <td>2</td>\n",
              "      <td>23</td>\n",
              "      <td>7.0</td>\n",
              "      <td>\"business class tagged bag was last to arrive\"</td>\n",
              "      <td>United States</td>\n",
              "      <td>Peter Pomeranze</td>\n",
              "      <td>10-04-2021</td>\n",
              "      <td>1.0</td>\n",
              "      <td>Short crowded turbulent flight. Excellent att...</td>\n",
              "      <td>Air France</td>\n",
              "      <td>NaN</td>\n",
              "      <td>NaN</td>\n",
              "      <td>NaN</td>\n",
              "      <td>NaN</td>\n",
              "      <td>NaN</td>\n",
              "      <td>NaN</td>\n",
              "      <td>NaN</td>\n",
              "      <td>NaN</td>\n",
              "      <td>NaN</td>\n",
              "      <td>NaN</td>\n",
              "      <td>NaN</td>\n",
              "      <td>NaN</td>\n",
              "      <td>NaN</td>\n",
              "      <td>NaN</td>\n",
              "      <td>NaN</td>\n",
              "      <td>NaN</td>\n",
              "      <td>2</td>\n",
              "      <td>1</td>\n",
              "      <td>0.2773</td>\n",
              "      <td>class, business, service, airline, food, seati...</td>\n",
              "      <td>short crowded turbulent flight excellent atten...</td>\n",
              "      <td>Positive</td>\n",
              "      <td>0.7506</td>\n",
              "      <td>business class</td>\n",
              "    </tr>\n",
              "    <tr>\n",
              "      <th>3</th>\n",
              "      <td>3</td>\n",
              "      <td>31</td>\n",
              "      <td>2.0</td>\n",
              "      <td>\"no longer giving miles  with Economy class\"</td>\n",
              "      <td>France</td>\n",
              "      <td>Willy Fischer</td>\n",
              "      <td>18-08-2021</td>\n",
              "      <td>1.0</td>\n",
              "      <td>Paris CDG to Warsaw , August 16th 2021 Econom...</td>\n",
              "      <td>Air France</td>\n",
              "      <td>NaN</td>\n",
              "      <td>NaN</td>\n",
              "      <td>NaN</td>\n",
              "      <td>NaN</td>\n",
              "      <td>NaN</td>\n",
              "      <td>NaN</td>\n",
              "      <td>NaN</td>\n",
              "      <td>NaN</td>\n",
              "      <td>NaN</td>\n",
              "      <td>NaN</td>\n",
              "      <td>NaN</td>\n",
              "      <td>NaN</td>\n",
              "      <td>NaN</td>\n",
              "      <td>NaN</td>\n",
              "      <td>NaN</td>\n",
              "      <td>NaN</td>\n",
              "      <td>3</td>\n",
              "      <td>3</td>\n",
              "      <td>0.4437</td>\n",
              "      <td>economy, foot, storage, passenger, bulkhead, a...</td>\n",
              "      <td>paris cdg to warsaw august th economy class as...</td>\n",
              "      <td>Negative</td>\n",
              "      <td>-0.2542</td>\n",
              "      <td>economy class</td>\n",
              "    </tr>\n",
              "    <tr>\n",
              "      <th>4</th>\n",
              "      <td>4</td>\n",
              "      <td>36</td>\n",
              "      <td>1.0</td>\n",
              "      <td>\"every shop was closed\\3</td>\n",
              "      <td>Russian Federation</td>\n",
              "      <td>Anton Koshelev</td>\n",
              "      <td>13-06-2021</td>\n",
              "      <td>1.0</td>\n",
              "      <td>The worst experience I have had during my int...</td>\n",
              "      <td>Air France</td>\n",
              "      <td>NaN</td>\n",
              "      <td>NaN</td>\n",
              "      <td>NaN</td>\n",
              "      <td>NaN</td>\n",
              "      <td>NaN</td>\n",
              "      <td>NaN</td>\n",
              "      <td>NaN</td>\n",
              "      <td>NaN</td>\n",
              "      <td>NaN</td>\n",
              "      <td>NaN</td>\n",
              "      <td>NaN</td>\n",
              "      <td>NaN</td>\n",
              "      <td>NaN</td>\n",
              "      <td>NaN</td>\n",
              "      <td>NaN</td>\n",
              "      <td>NaN</td>\n",
              "      <td>4</td>\n",
              "      <td>2</td>\n",
              "      <td>0.3509</td>\n",
              "      <td>flight, time, hour, sleep, configuration, atte...</td>\n",
              "      <td>the worst experience i have had during my inte...</td>\n",
              "      <td>Positive</td>\n",
              "      <td>0.6263</td>\n",
              "      <td>inflight-services</td>\n",
              "    </tr>\n",
              "    <tr>\n",
              "      <th>...</th>\n",
              "      <td>...</td>\n",
              "      <td>...</td>\n",
              "      <td>...</td>\n",
              "      <td>...</td>\n",
              "      <td>...</td>\n",
              "      <td>...</td>\n",
              "      <td>...</td>\n",
              "      <td>...</td>\n",
              "      <td>...</td>\n",
              "      <td>...</td>\n",
              "      <td>...</td>\n",
              "      <td>...</td>\n",
              "      <td>...</td>\n",
              "      <td>...</td>\n",
              "      <td>...</td>\n",
              "      <td>...</td>\n",
              "      <td>...</td>\n",
              "      <td>...</td>\n",
              "      <td>...</td>\n",
              "      <td>...</td>\n",
              "      <td>...</td>\n",
              "      <td>...</td>\n",
              "      <td>...</td>\n",
              "      <td>...</td>\n",
              "      <td>...</td>\n",
              "      <td>...</td>\n",
              "      <td>...</td>\n",
              "      <td>...</td>\n",
              "      <td>...</td>\n",
              "      <td>...</td>\n",
              "      <td>...</td>\n",
              "      <td>...</td>\n",
              "      <td>...</td>\n",
              "      <td>...</td>\n",
              "    </tr>\n",
              "    <tr>\n",
              "      <th>12871</th>\n",
              "      <td>12873</td>\n",
              "      <td>34381</td>\n",
              "      <td>NaN</td>\n",
              "      <td>NaN</td>\n",
              "      <td>NaN</td>\n",
              "      <td>Cody</td>\n",
              "      <td>20-12-2016</td>\n",
              "      <td>NaN</td>\n",
              "      <td>I spent the money on for the westjet premium s...</td>\n",
              "      <td>Westjet_</td>\n",
              "      <td>3a</td>\n",
              "      <td>Westjet_Bombardier_Q400</td>\n",
              "      <td>NaN</td>\n",
              "      <td>16740.0</td>\n",
              "      <td>NaN</td>\n",
              "      <td>NaN</td>\n",
              "      <td>NaN</td>\n",
              "      <td>NaN</td>\n",
              "      <td>NaN</td>\n",
              "      <td>NaN</td>\n",
              "      <td>NaN</td>\n",
              "      <td>NaN</td>\n",
              "      <td>NaN</td>\n",
              "      <td>NaN</td>\n",
              "      <td>NaN</td>\n",
              "      <td>https://www.seatguru.com//airlines/Westjet/Wes...</td>\n",
              "      <td>12873</td>\n",
              "      <td>4</td>\n",
              "      <td>0.4052</td>\n",
              "      <td>row, leg, room, window, plane, space, exit, si...</td>\n",
              "      <td>i spent the money on for the westjet premium s...</td>\n",
              "      <td>Negative</td>\n",
              "      <td>-0.2960</td>\n",
              "      <td>leg-room</td>\n",
              "    </tr>\n",
              "    <tr>\n",
              "      <th>12872</th>\n",
              "      <td>12874</td>\n",
              "      <td>34382</td>\n",
              "      <td>NaN</td>\n",
              "      <td>NaN</td>\n",
              "      <td>NaN</td>\n",
              "      <td>SeatGuru</td>\n",
              "      <td>26-09-2016</td>\n",
              "      <td>NaN</td>\n",
              "      <td>Excellent seat. great view. overhead bins are ...</td>\n",
              "      <td>Westjet_</td>\n",
              "      <td>5C</td>\n",
              "      <td>Westjet_Bombardier_Q400</td>\n",
              "      <td>NaN</td>\n",
              "      <td>16741.0</td>\n",
              "      <td>NaN</td>\n",
              "      <td>NaN</td>\n",
              "      <td>NaN</td>\n",
              "      <td>NaN</td>\n",
              "      <td>NaN</td>\n",
              "      <td>NaN</td>\n",
              "      <td>NaN</td>\n",
              "      <td>NaN</td>\n",
              "      <td>NaN</td>\n",
              "      <td>NaN</td>\n",
              "      <td>NaN</td>\n",
              "      <td>https://www.seatguru.com//airlines/Westjet/Wes...</td>\n",
              "      <td>12874</td>\n",
              "      <td>4</td>\n",
              "      <td>0.4086</td>\n",
              "      <td>row, leg, room, window, plane, space, exit, si...</td>\n",
              "      <td>excellent seat great view overhead bins are qu...</td>\n",
              "      <td>Positive</td>\n",
              "      <td>0.8658</td>\n",
              "      <td>leg-room</td>\n",
              "    </tr>\n",
              "    <tr>\n",
              "      <th>12873</th>\n",
              "      <td>12875</td>\n",
              "      <td>34383</td>\n",
              "      <td>NaN</td>\n",
              "      <td>NaN</td>\n",
              "      <td>NaN</td>\n",
              "      <td>SeatGuru</td>\n",
              "      <td>08-03-2016</td>\n",
              "      <td>NaN</td>\n",
              "      <td>Booked 4C off previous comments. Plenty of leg...</td>\n",
              "      <td>Westjet_</td>\n",
              "      <td>4C</td>\n",
              "      <td>Westjet_Bombardier_Q400</td>\n",
              "      <td>NaN</td>\n",
              "      <td>16742.0</td>\n",
              "      <td>NaN</td>\n",
              "      <td>NaN</td>\n",
              "      <td>NaN</td>\n",
              "      <td>NaN</td>\n",
              "      <td>NaN</td>\n",
              "      <td>NaN</td>\n",
              "      <td>NaN</td>\n",
              "      <td>NaN</td>\n",
              "      <td>NaN</td>\n",
              "      <td>NaN</td>\n",
              "      <td>NaN</td>\n",
              "      <td>https://www.seatguru.com//airlines/Westjet/Wes...</td>\n",
              "      <td>12875</td>\n",
              "      <td>4</td>\n",
              "      <td>0.3964</td>\n",
              "      <td>row, leg, room, window, plane, space, exit, si...</td>\n",
              "      <td>booked c off previous comments plenty of leg r...</td>\n",
              "      <td>Positive</td>\n",
              "      <td>0.3597</td>\n",
              "      <td>leg-room</td>\n",
              "    </tr>\n",
              "    <tr>\n",
              "      <th>12874</th>\n",
              "      <td>12876</td>\n",
              "      <td>34386</td>\n",
              "      <td>NaN</td>\n",
              "      <td>NaN</td>\n",
              "      <td>NaN</td>\n",
              "      <td>SeatGuru</td>\n",
              "      <td>14-05-2015</td>\n",
              "      <td>NaN</td>\n",
              "      <td>Very poor seat design, a shame for a new aircr...</td>\n",
              "      <td>Westjet_</td>\n",
              "      <td>16C</td>\n",
              "      <td>Westjet_Bombardier_Q400</td>\n",
              "      <td>NaN</td>\n",
              "      <td>16745.0</td>\n",
              "      <td>NaN</td>\n",
              "      <td>NaN</td>\n",
              "      <td>NaN</td>\n",
              "      <td>NaN</td>\n",
              "      <td>NaN</td>\n",
              "      <td>NaN</td>\n",
              "      <td>NaN</td>\n",
              "      <td>NaN</td>\n",
              "      <td>NaN</td>\n",
              "      <td>NaN</td>\n",
              "      <td>NaN</td>\n",
              "      <td>https://www.seatguru.com//airlines/Westjet/Wes...</td>\n",
              "      <td>12876</td>\n",
              "      <td>3</td>\n",
              "      <td>0.4437</td>\n",
              "      <td>economy, foot, storage, passenger, bulkhead, a...</td>\n",
              "      <td>very poor seat design a shame for a new aircra...</td>\n",
              "      <td>Negative</td>\n",
              "      <td>-0.2924</td>\n",
              "      <td>economy class</td>\n",
              "    </tr>\n",
              "    <tr>\n",
              "      <th>12875</th>\n",
              "      <td>12877</td>\n",
              "      <td>34391</td>\n",
              "      <td>NaN</td>\n",
              "      <td>NaN</td>\n",
              "      <td>NaN</td>\n",
              "      <td>SeatGuru</td>\n",
              "      <td>16-08-2018</td>\n",
              "      <td>NaN</td>\n",
              "      <td>AMS-XIA in May 2018 (codeshare KLM-Xiamenair)....</td>\n",
              "      <td>Xiamen_Airlines_</td>\n",
              "      <td>14A</td>\n",
              "      <td>Xiamen_Airlines_Boeing_787-9</td>\n",
              "      <td>NaN</td>\n",
              "      <td>16750.0</td>\n",
              "      <td>NaN</td>\n",
              "      <td>NaN</td>\n",
              "      <td>NaN</td>\n",
              "      <td>NaN</td>\n",
              "      <td>NaN</td>\n",
              "      <td>NaN</td>\n",
              "      <td>NaN</td>\n",
              "      <td>NaN</td>\n",
              "      <td>NaN</td>\n",
              "      <td>NaN</td>\n",
              "      <td>NaN</td>\n",
              "      <td>https://www.seatguru.com//airlines/Xiamen_Airl...</td>\n",
              "      <td>12877</td>\n",
              "      <td>1</td>\n",
              "      <td>0.2681</td>\n",
              "      <td>class, business, service, airline, food, seati...</td>\n",
              "      <td>ams xia in may codeshare klm xiamenair one of ...</td>\n",
              "      <td>Positive</td>\n",
              "      <td>0.8176</td>\n",
              "      <td>business class</td>\n",
              "    </tr>\n",
              "  </tbody>\n",
              "</table>\n",
              "<p>12876 rows × 34 columns</p>\n",
              "</div>\n",
              "      <button class=\"colab-df-convert\" onclick=\"convertToInteractive('df-bb48348f-46f7-4b1a-b9f6-287da870ee33')\"\n",
              "              title=\"Convert this dataframe to an interactive table.\"\n",
              "              style=\"display:none;\">\n",
              "        \n",
              "  <svg xmlns=\"http://www.w3.org/2000/svg\" height=\"24px\"viewBox=\"0 0 24 24\"\n",
              "       width=\"24px\">\n",
              "    <path d=\"M0 0h24v24H0V0z\" fill=\"none\"/>\n",
              "    <path d=\"M18.56 5.44l.94 2.06.94-2.06 2.06-.94-2.06-.94-.94-2.06-.94 2.06-2.06.94zm-11 1L8.5 8.5l.94-2.06 2.06-.94-2.06-.94L8.5 2.5l-.94 2.06-2.06.94zm10 10l.94 2.06.94-2.06 2.06-.94-2.06-.94-.94-2.06-.94 2.06-2.06.94z\"/><path d=\"M17.41 7.96l-1.37-1.37c-.4-.4-.92-.59-1.43-.59-.52 0-1.04.2-1.43.59L10.3 9.45l-7.72 7.72c-.78.78-.78 2.05 0 2.83L4 21.41c.39.39.9.59 1.41.59.51 0 1.02-.2 1.41-.59l7.78-7.78 2.81-2.81c.8-.78.8-2.07 0-2.86zM5.41 20L4 18.59l7.72-7.72 1.47 1.35L5.41 20z\"/>\n",
              "  </svg>\n",
              "      </button>\n",
              "      \n",
              "  <style>\n",
              "    .colab-df-container {\n",
              "      display:flex;\n",
              "      flex-wrap:wrap;\n",
              "      gap: 12px;\n",
              "    }\n",
              "\n",
              "    .colab-df-convert {\n",
              "      background-color: #E8F0FE;\n",
              "      border: none;\n",
              "      border-radius: 50%;\n",
              "      cursor: pointer;\n",
              "      display: none;\n",
              "      fill: #1967D2;\n",
              "      height: 32px;\n",
              "      padding: 0 0 0 0;\n",
              "      width: 32px;\n",
              "    }\n",
              "\n",
              "    .colab-df-convert:hover {\n",
              "      background-color: #E2EBFA;\n",
              "      box-shadow: 0px 1px 2px rgba(60, 64, 67, 0.3), 0px 1px 3px 1px rgba(60, 64, 67, 0.15);\n",
              "      fill: #174EA6;\n",
              "    }\n",
              "\n",
              "    [theme=dark] .colab-df-convert {\n",
              "      background-color: #3B4455;\n",
              "      fill: #D2E3FC;\n",
              "    }\n",
              "\n",
              "    [theme=dark] .colab-df-convert:hover {\n",
              "      background-color: #434B5C;\n",
              "      box-shadow: 0px 1px 3px 1px rgba(0, 0, 0, 0.15);\n",
              "      filter: drop-shadow(0px 1px 2px rgba(0, 0, 0, 0.3));\n",
              "      fill: #FFFFFF;\n",
              "    }\n",
              "  </style>\n",
              "\n",
              "      <script>\n",
              "        const buttonEl =\n",
              "          document.querySelector('#df-bb48348f-46f7-4b1a-b9f6-287da870ee33 button.colab-df-convert');\n",
              "        buttonEl.style.display =\n",
              "          google.colab.kernel.accessAllowed ? 'block' : 'none';\n",
              "\n",
              "        async function convertToInteractive(key) {\n",
              "          const element = document.querySelector('#df-bb48348f-46f7-4b1a-b9f6-287da870ee33');\n",
              "          const dataTable =\n",
              "            await google.colab.kernel.invokeFunction('convertToInteractive',\n",
              "                                                     [key], {});\n",
              "          if (!dataTable) return;\n",
              "\n",
              "          const docLinkHtml = 'Like what you see? Visit the ' +\n",
              "            '<a target=\"_blank\" href=https://colab.research.google.com/notebooks/data_table.ipynb>data table notebook</a>'\n",
              "            + ' to learn more about interactive tables.';\n",
              "          element.innerHTML = '';\n",
              "          dataTable['output_type'] = 'display_data';\n",
              "          await google.colab.output.renderOutput(dataTable, element);\n",
              "          const docLink = document.createElement('div');\n",
              "          docLink.innerHTML = docLinkHtml;\n",
              "          element.appendChild(docLink);\n",
              "        }\n",
              "      </script>\n",
              "    </div>\n",
              "  </div>\n",
              "  "
            ],
            "text/plain": [
              "       Unnamed: 0  Unnamed: 0.1  ...  sentiment score         topic_name\n",
              "0               0             2  ...          -0.2551  inflight-services\n",
              "1               1            14  ...           0.9846     business class\n",
              "2               2            23  ...           0.7506     business class\n",
              "3               3            31  ...          -0.2542      economy class\n",
              "4               4            36  ...           0.6263  inflight-services\n",
              "...           ...           ...  ...              ...                ...\n",
              "12871       12873         34381  ...          -0.2960           leg-room\n",
              "12872       12874         34382  ...           0.8658           leg-room\n",
              "12873       12875         34383  ...           0.3597           leg-room\n",
              "12874       12876         34386  ...          -0.2924      economy class\n",
              "12875       12877         34391  ...           0.8176     business class\n",
              "\n",
              "[12876 rows x 34 columns]"
            ]
          },
          "metadata": {},
          "execution_count": 331
        }
      ]
    },
    {
      "cell_type": "code",
      "source": [
        "tino = df_final_tino_v1[['pred_sentiment_svm', 'pred_sentiment_logisticr', 'low_cost', 'airbus?', 'boeing?', 'other_aircraift']]"
      ],
      "metadata": {
        "id": "P-__oA2NzbNw"
      },
      "execution_count": 334,
      "outputs": []
    },
    {
      "cell_type": "code",
      "source": [
        "df_final = pd.concat([abhi, tino], axis=1)"
      ],
      "metadata": {
        "id": "pIfzvKXozIY5"
      },
      "execution_count": 335,
      "outputs": []
    },
    {
      "cell_type": "code",
      "source": [
        "df_final['sentiment'].value_counts()"
      ],
      "metadata": {
        "colab": {
          "base_uri": "https://localhost:8080/"
        },
        "id": "wqxb7Q8Dzy1H",
        "outputId": "0c8f4d50-3fae-4303-cfe7-6a8c4a1c9f2d"
      },
      "execution_count": 338,
      "outputs": [
        {
          "output_type": "execute_result",
          "data": {
            "text/plain": [
              "Positive    6867\n",
              "Negative    4874\n",
              "Neutral     1135\n",
              "Name: sentiment, dtype: int64"
            ]
          },
          "metadata": {},
          "execution_count": 338
        }
      ]
    },
    {
      "cell_type": "code",
      "source": [
        ""
      ],
      "metadata": {
        "id": "0R_FCoBc2bMP"
      },
      "execution_count": null,
      "outputs": []
    },
    {
      "cell_type": "code",
      "source": [
        "def func(x):\n",
        "    if x == 'Positive' :\n",
        "        return 1\n",
        "    else:\n",
        "        return 0\n",
        "\n",
        "df_final['pred_sentiment_vader'] = df_final['sentiment'].apply(func)\n",
        "df_final['pred_sentiment_vader'].value_counts()"
      ],
      "metadata": {
        "colab": {
          "base_uri": "https://localhost:8080/"
        },
        "id": "P0n21kzr1YBx",
        "outputId": "02478b48-94fd-4471-adbc-6230275fd2df"
      },
      "execution_count": 346,
      "outputs": [
        {
          "output_type": "execute_result",
          "data": {
            "text/plain": [
              "1    6867\n",
              "0    6011\n",
              "Name: pred_sentiment_vader, dtype: int64"
            ]
          },
          "metadata": {},
          "execution_count": 346
        }
      ]
    },
    {
      "cell_type": "code",
      "source": [
        "df_final['combined'] = df_final['pred_sentiment_svm'] + df_final['pred_sentiment_logisticr'] + df_final['pred_sentiment_vader']"
      ],
      "metadata": {
        "id": "PcXKIk_m27ZQ"
      },
      "execution_count": 347,
      "outputs": []
    },
    {
      "cell_type": "code",
      "source": [
        "df_final['user_country'].value_counts().plot()"
      ],
      "metadata": {
        "colab": {
          "base_uri": "https://localhost:8080/"
        },
        "id": "SnpwTHe_3Al0",
        "outputId": "3b13ef28-c0bd-4251-dee0-8287e2b15b08"
      },
      "execution_count": 445,
      "outputs": [
        {
          "output_type": "execute_result",
          "data": {
            "text/plain": [
              "United States     200\n",
              "United Kingdom    200\n",
              "Australia         147\n",
              "Canada             99\n",
              "Singapore          55\n",
              "                 ... \n",
              "Armenia             1\n",
              "Lebanon             1\n",
              "Jordan              1\n",
              "Luxembourg          1\n",
              "Bahrain             1\n",
              "Name: user_country, Length: 71, dtype: int64"
            ]
          },
          "metadata": {},
          "execution_count": 445
        }
      ]
    },
    {
      "cell_type": "code",
      "source": [
        "def func(x):\n",
        "    if x == 0:\n",
        "        return 0\n",
        "    elif x == 1:\n",
        "        return 0\n",
        "    elif x == 2:\n",
        "        return 1\n",
        "    else:\n",
        "        return 1\n",
        "\n",
        "df_final['ensemble_pred_sentiment'] = df_final['combined'].apply(func)\n",
        "df_final['ensemble_pred_sentiment'].value_counts()"
      ],
      "metadata": {
        "colab": {
          "base_uri": "https://localhost:8080/"
        },
        "id": "zxRWZnBk3Nt1",
        "outputId": "03175474-3d80-4018-e0b1-876d2d36e693"
      },
      "execution_count": 349,
      "outputs": [
        {
          "output_type": "execute_result",
          "data": {
            "text/plain": [
              "0    8497\n",
              "1    4381\n",
              "Name: ensemble_pred_sentiment, dtype: int64"
            ]
          },
          "metadata": {},
          "execution_count": 349
        }
      ]
    },
    {
      "cell_type": "code",
      "source": [
        "len(df_final[df_final['ensemble_pred_sentiment'] != df_final['pred_sentiment_vader']])"
      ],
      "metadata": {
        "colab": {
          "base_uri": "https://localhost:8080/"
        },
        "id": "AdOJsmCx3k5K",
        "outputId": "f5df197d-73f9-47bb-abf8-b451fcbdfce4"
      },
      "execution_count": 352,
      "outputs": [
        {
          "output_type": "execute_result",
          "data": {
            "text/plain": [
              "5548"
            ]
          },
          "metadata": {},
          "execution_count": 352
        }
      ]
    },
    {
      "cell_type": "code",
      "source": [
        "df_final.to_csv('df_final.csv')"
      ],
      "metadata": {
        "id": "SIBBFVagz8EE"
      },
      "execution_count": 337,
      "outputs": []
    },
    {
      "cell_type": "code",
      "source": [
        "df_final1 = df_final[df_final['sentiment'] != 'Neutral']"
      ],
      "metadata": {
        "id": "CNXi4vwn5P39"
      },
      "execution_count": 353,
      "outputs": []
    },
    {
      "cell_type": "code",
      "source": [
        "def func(x):\n",
        "    if x == 'Positive' :\n",
        "        return 1\n",
        "    else:\n",
        "        return 0\n",
        "\n",
        "df_final1['pred_sentiment_vader'] = df_final1['sentiment'].apply(func)\n",
        "df_final1['pred_sentiment_vader'].value_counts()"
      ],
      "metadata": {
        "colab": {
          "base_uri": "https://localhost:8080/"
        },
        "outputId": "2f9ef440-04d9-461c-c0dc-544aa6eb60f0",
        "id": "Gey6dOPx5iH7"
      },
      "execution_count": 354,
      "outputs": [
        {
          "output_type": "stream",
          "name": "stderr",
          "text": [
            "/usr/local/lib/python3.7/dist-packages/ipykernel_launcher.py:7: SettingWithCopyWarning: \n",
            "A value is trying to be set on a copy of a slice from a DataFrame.\n",
            "Try using .loc[row_indexer,col_indexer] = value instead\n",
            "\n",
            "See the caveats in the documentation: https://pandas.pydata.org/pandas-docs/stable/user_guide/indexing.html#returning-a-view-versus-a-copy\n",
            "  import sys\n"
          ]
        },
        {
          "output_type": "execute_result",
          "data": {
            "text/plain": [
              "1    6867\n",
              "0    4876\n",
              "Name: pred_sentiment_vader, dtype: int64"
            ]
          },
          "metadata": {},
          "execution_count": 354
        }
      ]
    },
    {
      "cell_type": "code",
      "source": [
        "df_final1['combined'] = df_final1['pred_sentiment_svm'] + df_final1['pred_sentiment_logisticr'] + 2*df_final1['pred_sentiment_vader']"
      ],
      "metadata": {
        "colab": {
          "base_uri": "https://localhost:8080/"
        },
        "id": "DYF3dMYq5iH8",
        "outputId": "329e56c3-39a3-466e-e2f7-508a0c80c7dd"
      },
      "execution_count": 355,
      "outputs": [
        {
          "output_type": "stream",
          "name": "stderr",
          "text": [
            "/usr/local/lib/python3.7/dist-packages/ipykernel_launcher.py:1: SettingWithCopyWarning: \n",
            "A value is trying to be set on a copy of a slice from a DataFrame.\n",
            "Try using .loc[row_indexer,col_indexer] = value instead\n",
            "\n",
            "See the caveats in the documentation: https://pandas.pydata.org/pandas-docs/stable/user_guide/indexing.html#returning-a-view-versus-a-copy\n",
            "  \"\"\"Entry point for launching an IPython kernel.\n"
          ]
        }
      ]
    },
    {
      "cell_type": "code",
      "source": [
        "df_final1['combined'].value_counts()"
      ],
      "metadata": {
        "colab": {
          "base_uri": "https://localhost:8080/"
        },
        "outputId": "5d9681fe-7248-493b-c1d1-28f202b0d01e",
        "id": "ltAe5g5X5iH8"
      },
      "execution_count": 356,
      "outputs": [
        {
          "output_type": "execute_result",
          "data": {
            "text/plain": [
              "1    4442\n",
              "0    3215\n",
              "3    2180\n",
              "2    1906\n",
              "Name: combined, dtype: int64"
            ]
          },
          "metadata": {},
          "execution_count": 356
        }
      ]
    },
    {
      "cell_type": "code",
      "source": [
        "def func(x):\n",
        "    if x == 0:\n",
        "        return 0\n",
        "    elif x == 1:\n",
        "        return 0\n",
        "    elif x == 2:\n",
        "        return 1\n",
        "    else:\n",
        "        return 1\n",
        "\n",
        "df_final1['ensemble_pred_sentiment'] = df_final1['combined'].apply(func)\n",
        "df_final1['ensemble_pred_sentiment'].value_counts()"
      ],
      "metadata": {
        "colab": {
          "base_uri": "https://localhost:8080/"
        },
        "outputId": "c1f05cd0-3681-4d5f-f778-91c27b600ff0",
        "id": "SYx16KvR5iH8"
      },
      "execution_count": 357,
      "outputs": [
        {
          "output_type": "stream",
          "name": "stderr",
          "text": [
            "/usr/local/lib/python3.7/dist-packages/ipykernel_launcher.py:11: SettingWithCopyWarning: \n",
            "A value is trying to be set on a copy of a slice from a DataFrame.\n",
            "Try using .loc[row_indexer,col_indexer] = value instead\n",
            "\n",
            "See the caveats in the documentation: https://pandas.pydata.org/pandas-docs/stable/user_guide/indexing.html#returning-a-view-versus-a-copy\n",
            "  # This is added back by InteractiveShellApp.init_path()\n"
          ]
        },
        {
          "output_type": "execute_result",
          "data": {
            "text/plain": [
              "0    7657\n",
              "1    4086\n",
              "Name: ensemble_pred_sentiment, dtype: int64"
            ]
          },
          "metadata": {},
          "execution_count": 357
        }
      ]
    },
    {
      "cell_type": "code",
      "source": [
        "len(df_final1[df_final1['ensemble_pred_sentiment'] != df_final1['pred_sentiment_vader']])"
      ],
      "metadata": {
        "colab": {
          "base_uri": "https://localhost:8080/"
        },
        "outputId": "8ca75944-7b9c-42d1-9098-651063760853",
        "id": "Zr141GRe5iH8"
      },
      "execution_count": 358,
      "outputs": [
        {
          "output_type": "execute_result",
          "data": {
            "text/plain": [
              "5253"
            ]
          },
          "metadata": {},
          "execution_count": 358
        }
      ]
    },
    {
      "cell_type": "markdown",
      "source": [
        "## EDA"
      ],
      "metadata": {
        "id": "MCB_GMUz0nMt"
      }
    },
    {
      "cell_type": "markdown",
      "source": [
        "## Ratings"
      ],
      "metadata": {
        "id": "DIxle_-0ANy3"
      }
    },
    {
      "cell_type": "code",
      "source": [
        "# average score/rating of low-cost airlines\n",
        "number_of_low_cost = len(df_final[df_final['low_cost'] == 1]['score'])\n",
        "lc_avg = df_final[df_final['low_cost'] == 1]['score'].mean()\n",
        "\n",
        "print(f'The low-cost airlines have an average rating of {lc_avg}')"
      ],
      "metadata": {
        "colab": {
          "base_uri": "https://localhost:8080/"
        },
        "id": "43MQ-ySb6db2",
        "outputId": "e4403328-91ef-48b5-c869-81d371e1ee00"
      },
      "execution_count": 379,
      "outputs": [
        {
          "output_type": "stream",
          "name": "stdout",
          "text": [
            "The low-cost airlines have an average rating of 5.048076923076923\n"
          ]
        }
      ]
    },
    {
      "cell_type": "code",
      "source": [
        "# average score/rating of normal airlines\n",
        "number_of_nc = len(df_final[df_final['low_cost'] == 0]['score'])\n",
        "nc_avg = df_final[df_final['low_cost'] == 0]['score'].mean()\n",
        "\n",
        "print(f'The normal-cost airlines have an average rating of {nc_avg}')"
      ],
      "metadata": {
        "colab": {
          "base_uri": "https://localhost:8080/"
        },
        "id": "HS1e_z5FAK4p",
        "outputId": "b071be49-519d-478b-96e6-7344b07edb0f"
      },
      "execution_count": 380,
      "outputs": [
        {
          "output_type": "stream",
          "name": "stdout",
          "text": [
            "The normal-cost airlines have an average rating of 5.532803180914513\n"
          ]
        }
      ]
    },
    {
      "cell_type": "code",
      "source": [
        ""
      ],
      "metadata": {
        "id": "3b7plVlUQden"
      },
      "execution_count": null,
      "outputs": []
    },
    {
      "cell_type": "code",
      "source": [
        "all_data = pd.read_csv('/content/drive/MyDrive/Hackathon M2/Our Data/Merged_data_with_date.csv')"
      ],
      "metadata": {
        "colab": {
          "base_uri": "https://localhost:8080/"
        },
        "id": "dalDNmchPltR",
        "outputId": "69f7a0ea-3c9d-4659-f6cf-115bd8071e51"
      },
      "execution_count": 431,
      "outputs": [
        {
          "output_type": "stream",
          "name": "stderr",
          "text": [
            "/usr/local/lib/python3.7/dist-packages/IPython/core/interactiveshell.py:2882: DtypeWarning: Columns (2,3,6,11,13,14,16,17,18,19,20,21,22) have mixed types.Specify dtype option on import or set low_memory=False.\n",
            "  exec(code_obj, self.user_global_ns, self.user_ns)\n"
          ]
        }
      ]
    },
    {
      "cell_type": "code",
      "source": [
        "all_data['year'] = pd.DatetimeIndex(all_data['review_date']).year"
      ],
      "metadata": {
        "id": "Qs0RxgNtQ-8F"
      },
      "execution_count": 434,
      "outputs": []
    },
    {
      "cell_type": "code",
      "source": [
        "all_data['year'].value_counts()"
      ],
      "metadata": {
        "colab": {
          "base_uri": "https://localhost:8080/"
        },
        "id": "vjfPhIGrRPx-",
        "outputId": "86f764c1-50b5-4d89-9f27-0e3965af7857"
      },
      "execution_count": 437,
      "outputs": [
        {
          "output_type": "execute_result",
          "data": {
            "text/plain": [
              "2017.0    5662\n",
              "2019.0    5142\n",
              "2018.0    4999\n",
              "2016.0    4996\n",
              "2015.0    3540\n",
              "2021.0    3232\n",
              "2020.0    2405\n",
              "2014.0    1836\n",
              "2022.0    1203\n",
              "2013.0     532\n",
              "2012.0     111\n",
              "2011.0      76\n",
              "2010.0      60\n",
              "2009.0      50\n",
              "2008.0       8\n",
              "Name: year, dtype: int64"
            ]
          },
          "metadata": {},
          "execution_count": 437
        }
      ]
    },
    {
      "cell_type": "code",
      "source": [
        "nc_avg = all_data[all_data['year'] == 0]['score'].mean()\n",
        "\n",
        "print(f'The normal-cost airlines have an average rating of {nc_avg}')"
      ],
      "metadata": {
        "id": "UJAhpLBnQrIt"
      },
      "execution_count": null,
      "outputs": []
    },
    {
      "cell_type": "code",
      "source": [
        "df_final = pd.read_csv('/content/drive/MyDrive/Hackathon M2/Our Data/df_final.csv')"
      ],
      "metadata": {
        "id": "KWwRhKLtolNl"
      },
      "execution_count": 4,
      "outputs": []
    },
    {
      "cell_type": "code",
      "source": [
        "df_final['aircraft'].value_counts()"
      ],
      "metadata": {
        "colab": {
          "base_uri": "https://localhost:8080/"
        },
        "id": "47FAEFusfvCn",
        "outputId": "f1050089-0a7a-4ab1-d89a-87de641b7c71"
      },
      "execution_count": 5,
      "outputs": [
        {
          "output_type": "execute_result",
          "data": {
            "text/plain": [
              "British_Airways_Airbus_A380_new        236\n",
              "American_Airlines_777-300_ER           223\n",
              "Qantas_Airways_Airbus_A380_B           172\n",
              "British_Airways_Boeing_747-400_C       148\n",
              "American_Airlines_Boeing_737-800_V2    140\n",
              "                                      ... \n",
              "Saudia_Airbus_A321                       1\n",
              "Scoot_Airlines_Boeing_787-8_V2           1\n",
              "BOEING 777-300ER/bÃ£â‚¬â€°               1\n",
              "Shanghai_Airlines_Boeing_737-700         1\n",
              "Xiamen_Airlines_Boeing_787-9             1\n",
              "Name: aircraft, Length: 862, dtype: int64"
            ]
          },
          "metadata": {},
          "execution_count": 5
        }
      ]
    },
    {
      "cell_type": "code",
      "source": [
        "len(df_final[df_final['airbus?'] == 1]['aircraft'].unique())\n",
        "\n"
      ],
      "metadata": {
        "colab": {
          "base_uri": "https://localhost:8080/"
        },
        "id": "SRnVcD_6o7fR",
        "outputId": "7d8805a6-9d26-4f6a-c048-43c81ba05f68"
      },
      "execution_count": 10,
      "outputs": [
        {
          "output_type": "execute_result",
          "data": {
            "text/plain": [
              "387"
            ]
          },
          "metadata": {},
          "execution_count": 10
        }
      ]
    },
    {
      "cell_type": "code",
      "source": [
        "temp = df_final['user_country'].value_counts()\n",
        "\n",
        "temp2 = temp.head(10)\n",
        "if len(temp) > 10:\n",
        "    temp2['remaining {0} items'.format(len(temp) - 10)] = sum(temp[10:])\n",
        "temp2.plot(kind='bar', title='Number of Reviews per country')"
      ],
      "metadata": {
        "colab": {
          "base_uri": "https://localhost:8080/",
          "height": 387
        },
        "id": "pa9RxzK3EohO",
        "outputId": "7ca41ca8-b0d8-4b70-e747-72f894e5ccac"
      },
      "execution_count": 449,
      "outputs": [
        {
          "output_type": "execute_result",
          "data": {
            "text/plain": [
              "<matplotlib.axes._subplots.AxesSubplot at 0x7fc654f9b790>"
            ]
          },
          "metadata": {},
          "execution_count": 449
        },
        {
          "output_type": "display_data",
          "data": {
            "image/png": "[encoded data removed]",
            "text/plain": [
              "<Figure size 432x288 with 1 Axes>"
            ]
          },
          "metadata": {
            "needs_background": "light"
          }
        }
      ]
    }
  ]
}