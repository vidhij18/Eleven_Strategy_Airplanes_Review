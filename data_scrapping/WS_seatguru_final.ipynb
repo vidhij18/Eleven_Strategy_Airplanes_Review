{
  "nbformat": 4,
  "nbformat_minor": 0,
  "metadata": {
    "colab": {
      "name": "220215_WS_SeatGuru_KM_v1.ipynb",
      "provenance": [],
      "collapsed_sections": [
        "sO8ZUnnLc5dw"
      ]
    },
    "kernelspec": {
      "name": "python3",
      "display_name": "Python 3"
    },
    "language_info": {
      "name": "python"
    }
  },
  "cells": [
    {
      "cell_type": "code",
      "execution_count": null,
      "metadata": {
        "id": "QAh4a8FAinIz"
      },
      "outputs": [],
      "source": [
        "from bs4 import BeautifulSoup\n",
        "import requests\n",
        "import pandas as pd"
      ]
    },
    {
      "cell_type": "code",
      "source": [
        "url = 'https://www.seatguru.com/airlines/Aegean_Airlines/Aegean_Airlines_Airbus_A320-200.php'\n",
        "# headers = {\n",
        "#     'User-Agent': 'Mozilla/5.0 (Macintosh; Intel Mac OS X 10_15_7) AppleWebKit/537.36 (KHTML, like Gecko) Chrome/98.0.4758.80 Safari/537.36'\n",
        "#     }\n",
        "req = requests.get(url)\n",
        "soup = BeautifulSoup(req.content, 'html.parser')"
      ],
      "metadata": {
        "id": "1u-Zy8MXi4Fx"
      },
      "execution_count": null,
      "outputs": []
    },
    {
      "cell_type": "code",
      "source": [
        "# We are allowed to scrape\n",
        "print(req)"
      ],
      "metadata": {
        "colab": {
          "base_uri": "https://localhost:8080/"
        },
        "id": "BGsvfINK3fdb",
        "outputId": "ecdafb09-b9d9-45c1-f25c-d5c69573db5e"
      },
      "execution_count": null,
      "outputs": [
        {
          "output_type": "stream",
          "name": "stdout",
          "text": [
            "<Response [200]>\n"
          ]
        }
      ]
    },
    {
      "cell_type": "markdown",
      "source": [
        "# Trial"
      ],
      "metadata": {
        "id": "JMfMsj373ckA"
      }
    },
    {
      "cell_type": "code",
      "source": [
        "# trial\n",
        "# url = 'https://www.seatguru.com/airlines/Aegean_Airlines/Aegean_Airlines_ATR_42-600.php'\n",
        "# headers = {\n",
        "#     'User-Agent': 'Mozilla/5.0 (Macintosh; Intel Mac OS X 10_15_7) AppleWebKit/537.36 (KHTML, like Gecko) Chrome/98.0.4758.80 Safari/537.36'\n",
        "#     }\n",
        "# req = requests.get(url, headers)\n",
        "# soup = BeautifulSoup(req.content, 'html.parser')\n",
        "\n",
        "comments = soup.find_all('div',class_=\"aside-box-alt aircraftPage user-comments\")\n",
        "comments"
      ],
      "metadata": {
        "colab": {
          "base_uri": "https://localhost:8080/"
        },
        "id": "A2Sb4mmki4OL",
        "outputId": "d73e2de3-d3f8-4816-b1c8-87e3f22ae7aa"
      },
      "execution_count": null,
      "outputs": [
        {
          "output_type": "execute_result",
          "data": {
            "text/plain": [
              "[<div class=\"aside-box-alt aircraftPage user-comments\">\n",
              " <span class=\"arrow\"></span>\n",
              " <h3>Featured user comments</h3>\n",
              " <p>Read user reviews for Aegean Airlines Airbus A320 (320)</p>\n",
              " <div class=\"inner\">\n",
              " <div class=\"inner-box\">\n",
              " <div class=\"comment-box\">\n",
              " <div class=\"submitted\">\n",
              " <span class=\"label\">Submitted by</span>\n",
              " <span class=\"name\">\n",
              "                                                             Stathis P                                                        </span>\n",
              " <span class=\"date\"> on \n",
              "                                                             2018/06/09                                                                                                                    </span>\n",
              " </div>\n",
              " <div class=\"comment\">\n",
              "                                                          I traveled Athens-Zurich with Aegean Airlines and the SX-DNB aircraft. I chose the 21A position. This place is awkward. The foot space is minimal, and the window is in an uncomfortable position. The display is two rows ahead .                                                      </div>\n",
              " <div class=\"submitted\">\n",
              " <span class=\"label\">Submitted by</span>\n",
              " <span class=\"name\">\n",
              "                                                             SeatGuru User                                                        </span>\n",
              " <span class=\"date\"> on \n",
              "                                                             2018/05/25                                                             for Seat 15C                                                        </span>\n",
              " </div>\n",
              " <div class=\"comment\">\n",
              "                                                          very tiny leg room as I am quite tall. flight attendants friendly and meal ok.                                                      </div>\n",
              " <div class=\"submitted\">\n",
              " <span class=\"label\">Submitted by</span>\n",
              " <span class=\"name\">\n",
              "                                                             Bryan M                                                        </span>\n",
              " <span class=\"date\"> on \n",
              "                                                             2018/04/19                                                             for Seat 12F                                                        </span>\n",
              " </div>\n",
              " <div class=\"comment\">\n",
              "                                                          Exit row 12F was nice for the 2.5 hour ZRH-ATH flight and back. Quite a few empty seats throughout the cabin both ways, and a nice meal service.                                                      </div>\n",
              " <div class=\"submitted\">\n",
              " <span class=\"label\">Submitted by</span>\n",
              " <span class=\"name\">\n",
              "                                                             SeatGuru User                                                        </span>\n",
              " <span class=\"date\"> on \n",
              "                                                             2017/07/22                                                             for Seat 12C                                                        </span>\n",
              " </div>\n",
              " <div class=\"comment\">\n",
              "                                                          It is a wonderful seat at no additional cost (subject to availability during online check in) - more legdom and reclining.                                                      </div>\n",
              " <div class=\"submitted\">\n",
              " <span class=\"label\">Submitted by</span>\n",
              " <span class=\"name\">\n",
              "                                                             SeatGuru User                                                        </span>\n",
              " <span class=\"date\"> on \n",
              "                                                             2017/05/14                                                             for Seat 15B                                                        </span>\n",
              " </div>\n",
              " <div class=\"comment\">\n",
              "                                                          Well, you certainly get what you pay for. We got our tickets for a think about 65 euros per head, going from Larnaca to Stockholm with a layover in Athens. I am a female 176 cm tall and average weight and I was ok during the flights ( not said I found them comfortable...). Hubbie, though, is almost 2 meters tall, and a bit wider than me. He did NOT enjoy the flights, having his knees basically under his chin not to kill the back of the passenger in front. He barely got into or out of his seat. Thankfully the longest part wasn't more than 4 hours, but still...                                                      </div>\n",
              " </div>\n",
              " <div class=\"clear\"></div>\n",
              " </div>\n",
              " </div>\n",
              " <!-- <p class=\"foot\"><a id=\"see_all_comments\" href=\"#\">See all featured user comments</a></p> -->\n",
              " </div>]"
            ]
          },
          "metadata": {},
          "execution_count": 21
        }
      ]
    },
    {
      "cell_type": "markdown",
      "source": [
        "Comments"
      ],
      "metadata": {
        "id": "6bh793vx62Gs"
      }
    },
    {
      "cell_type": "code",
      "source": [
        "only_comments = soup.find_all('div',class_=\"comment\")\n",
        "\n",
        "only_comments[2]\n",
        "\n",
        "only_comments[2].string"
      ],
      "metadata": {
        "colab": {
          "base_uri": "https://localhost:8080/",
          "height": 53
        },
        "id": "A0iNKoT2i4b4",
        "outputId": "0ec9e75c-650a-4276-8425-90a2c2783725"
      },
      "execution_count": null,
      "outputs": [
        {
          "output_type": "execute_result",
          "data": {
            "application/vnd.google.colaboratory.intrinsic+json": {
              "type": "string"
            },
            "text/plain": [
              "'\\n                                                         Exit row 12F was nice for the 2.5 hour ZRH-ATH flight and back. Quite a few empty seats throughout the cabin both ways, and a nice meal service.                                                      '"
            ]
          },
          "metadata": {},
          "execution_count": 56
        }
      ]
    },
    {
      "cell_type": "code",
      "source": [
        "# only_sub = soup.find_all('div',class_=\"submitted\")\n",
        "\n",
        "# only_sub[2]"
      ],
      "metadata": {
        "id": "QweZ3g6Ji4gH"
      },
      "execution_count": null,
      "outputs": []
    },
    {
      "cell_type": "markdown",
      "source": [
        "Date and Seat"
      ],
      "metadata": {
        "id": "NeXdId096xjj"
      }
    },
    {
      "cell_type": "code",
      "source": [
        "only_date_seat = soup.find_all('span',class_=\"date\")\n",
        "only_date_seat[2].string"
      ],
      "metadata": {
        "colab": {
          "base_uri": "https://localhost:8080/",
          "height": 53
        },
        "id": "N4RxAXo6i4i8",
        "outputId": "4c19af68-8c8e-4e5a-ca55-f384f56c85f0"
      },
      "execution_count": null,
      "outputs": [
        {
          "output_type": "execute_result",
          "data": {
            "application/vnd.google.colaboratory.intrinsic+json": {
              "type": "string"
            },
            "text/plain": [
              "' on \\n                                                            2018/04/19                                                             for Seat 12F                                                        '"
            ]
          },
          "metadata": {},
          "execution_count": 71
        }
      ]
    },
    {
      "cell_type": "code",
      "source": [
        "# trying to split date and seat into seperate strings\n",
        "trial_s = only_date_seat[2].string\n",
        "trial_parts = trial_s.split()\n",
        "# if len(trial_parts) > 2\n",
        "trial_date = trial_parts[1]\n",
        "trial_seat = trial_parts[-1]\n",
        "\n",
        "print(trial_date, trial_seat)"
      ],
      "metadata": {
        "colab": {
          "base_uri": "https://localhost:8080/"
        },
        "id": "BMOvKoDI3weN",
        "outputId": "d8ef1180-a385-422a-c9f1-eb778d0bf511"
      },
      "execution_count": null,
      "outputs": [
        {
          "output_type": "stream",
          "name": "stdout",
          "text": [
            "2018/04/19 12F\n"
          ]
        }
      ]
    },
    {
      "cell_type": "code",
      "source": [
        "# second trial: trying to split date and seat into seperate strings\n",
        "trial_s = only_date_seat[0].string\n",
        "trial_parts = trial_s.split()\n",
        "trial_date = trial_parts[1]\n",
        "trial_seat = trial_parts[-1]\n",
        "\n",
        "print(trial_date, trial_seat)"
      ],
      "metadata": {
        "colab": {
          "base_uri": "https://localhost:8080/"
        },
        "id": "HO4Q_g7N5lvk",
        "outputId": "78988ac9-3c1a-4bf8-adca-28b5f1cc880d"
      },
      "execution_count": null,
      "outputs": [
        {
          "output_type": "stream",
          "name": "stdout",
          "text": [
            "2018/06/09 2018/06/09\n"
          ]
        }
      ]
    },
    {
      "cell_type": "code",
      "source": [
        "trial_parts"
      ],
      "metadata": {
        "colab": {
          "base_uri": "https://localhost:8080/"
        },
        "id": "oet5C_dq5rFH",
        "outputId": "d70f0bf0-3eb1-4a25-d179-4c3a4e275659"
      },
      "execution_count": null,
      "outputs": [
        {
          "output_type": "execute_result",
          "data": {
            "text/plain": [
              "['on', '2018/06/09']"
            ]
          },
          "metadata": {},
          "execution_count": 78
        }
      ]
    },
    {
      "cell_type": "markdown",
      "source": [
        "Name"
      ],
      "metadata": {
        "id": "N8n4RkqW6rKN"
      }
    },
    {
      "cell_type": "code",
      "source": [
        "only_name = soup.find_all('span',class_=\"name\")\n",
        "only_name[2].string"
      ],
      "metadata": {
        "colab": {
          "base_uri": "https://localhost:8080/",
          "height": 35
        },
        "id": "GFDEd33ni4mH",
        "outputId": "f5f22187-8019-4304-b93c-28fc16e6d106"
      },
      "execution_count": null,
      "outputs": [
        {
          "output_type": "execute_result",
          "data": {
            "application/vnd.google.colaboratory.intrinsic+json": {
              "type": "string"
            },
            "text/plain": [
              "'\\n                                                            Bryan M                                                        '"
            ]
          },
          "metadata": {},
          "execution_count": 79
        }
      ]
    },
    {
      "cell_type": "code",
      "source": [
        "# trial on name\n",
        "trial_name = only_name[2].string\n",
        "# save just the first name\n",
        "trial_fn = trial_name.split()[0]\n",
        "trial_fn"
      ],
      "metadata": {
        "colab": {
          "base_uri": "https://localhost:8080/",
          "height": 35
        },
        "id": "Kzi8yNuB6CKu",
        "outputId": "1d14e787-d45b-4ed5-9c81-1abbb7585090"
      },
      "execution_count": null,
      "outputs": [
        {
          "output_type": "execute_result",
          "data": {
            "application/vnd.google.colaboratory.intrinsic+json": {
              "type": "string"
            },
            "text/plain": [
              "'Bryan'"
            ]
          },
          "metadata": {},
          "execution_count": 84
        }
      ]
    },
    {
      "cell_type": "markdown",
      "source": [
        "Trial extracting URLS"
      ],
      "metadata": {
        "id": "-ZN9Nh73ebxV"
      }
    },
    {
      "cell_type": "code",
      "source": [
        "# how links will need to be created via scrapping\n",
        "trial_l = \"airlines/Aegean_Airlines/Aegean_Airlines_Airbus_A320-200.php\"\n",
        "\n",
        "base_url = 'https://www.seatguru.com/'\n",
        "\n",
        "combined_l = base_url + trial_l\n",
        "print(combined_l)"
      ],
      "metadata": {
        "colab": {
          "base_uri": "https://localhost:8080/"
        },
        "id": "9yZjmNt23blx",
        "outputId": "72dad574-c252-46e2-eb33-5c83030e13c2"
      },
      "execution_count": null,
      "outputs": [
        {
          "output_type": "stream",
          "name": "stdout",
          "text": [
            "https://www.seatguru.com/airlines/Aegean_Airlines/Aegean_Airlines_Airbus_A320-200.php\n"
          ]
        }
      ]
    },
    {
      "cell_type": "code",
      "source": [
        "# scrap urls for each aircraft for an airline\n",
        "only_urls_aircrafts = soup.find_all('ul', {id:\"aircraftList\"})"
      ],
      "metadata": {
        "id": "d4cPwqtm-UBB"
      },
      "execution_count": null,
      "outputs": []
    },
    {
      "cell_type": "code",
      "source": [
        "urls_trial = []\n",
        "for link in soup.find_all('a'):\n",
        "  urls_trial.append(link.get('href'))\n",
        "  print(link.get('href'))"
      ],
      "metadata": {
        "colab": {
          "base_uri": "https://localhost:8080/"
        },
        "id": "gUe_7aIX-2fz",
        "outputId": "8cdab145-5eb0-4e27-9800-e12ee2043d40"
      },
      "execution_count": null,
      "outputs": [
        {
          "output_type": "stream",
          "name": "stdout",
          "text": [
            "/\n",
            "#\n",
            "/findseatmap/findseatmap.php\n",
            "/browseairlines/browseairlines.php\n",
            "/cheap-flights\n",
            "/charts/generalcharts.php\n",
            "#\n",
            "/charts/shorthaul_economy.php\n",
            "/charts/shorthaul_first_class.php\n",
            "/charts/longhaul_economy.php\n",
            "/charts/premium_economy.php\n",
            "/charts/longhaul_business_class.php\n",
            "/charts/longhaul_first_class.php\n",
            "/rentalcars/rentalcars.php\n",
            "/traveltips/information.php\n",
            "#\n",
            "/privacy.php\n",
            "/terms.php\n",
            "/browseairlines/browseairlines.php\n",
            "/airlines/Aegean_Airlines/information.php\n",
            "/airlines/Aegean_Airlines/fleetinfo.php\n",
            "/airlines/Aegean_Airlines/information.php\n",
            "/airlines/Aegean_Airlines/fleetinfo.php\n",
            "/airlines/Aegean_Airlines/Aegean_Airlines_ATR_42-600.php\n",
            "/airlines/Aegean_Airlines/Aegean_Airlines_Airbus_A319-100.php\n",
            "/airlines/Aegean_Airlines/Aegean_Airlines_Airbus_A320-200.php\n",
            "/airlines/Aegean_Airlines/Aegean_Airlines_Airbus_A321-200.php\n",
            "/airlines/Aegean_Airlines/Aegean_Airlines_Bombardier_Dash_8_Q400.php\n",
            "/airlines/Aegean_Airlines/checkin.php\n",
            "/airlines/Aegean_Airlines/baggage.php\n",
            "/airlines/Aegean_Airlines/infants.php\n",
            "/airlines/Aegean_Airlines/minors.php\n",
            "/airlines/Aegean_Airlines/pets.php\n",
            "#seatMapKeyLegend\n",
            "/photos/view.php?aircraft_sg_key=Aegean_Airlines_Airbus_A320-200&photo_id=379125900\n",
            "/photos/view.php?aircraft_sg_key=Aegean_Airlines_Airbus_A320-200&photo_id=379125898\n",
            "/photos/view.php?aircraft_sg_key=Aegean_Airlines_Airbus_A320-200&photo_id=379125896\n",
            "/photos/view.php?aircraft_sg_key=Aegean_Airlines_Airbus_A320-200&photo_id=379123593\n",
            "/photos/view.php?aircraft_sg_key=Aegean_Airlines_Airbus_A320-200&photo_id=379123561\n",
            "/photos/view.php?aircraft_sg_key=Aegean_Airlines_Airbus_A320-200\n",
            "javascript:void(0);\n",
            "javascript:void(0);\n",
            "javascript:void(0);\n",
            "None\n",
            "/\n",
            "#\n",
            "#\n",
            "/help.php\n",
            "/contactus.php\n",
            "/sitemap.php\n",
            "http://twitter.com/SeatGuru\n",
            "http://facebook.com/SeatGuru\n",
            "#\n",
            "/privacy.php\n",
            "/terms.php\n"
          ]
        }
      ]
    },
    {
      "cell_type": "code",
      "source": [
        "urls_trial"
      ],
      "metadata": {
        "colab": {
          "base_uri": "https://localhost:8080/"
        },
        "id": "YQvJEC2tA9f6",
        "outputId": "a3ee6a7f-f3b7-4fe3-c19d-def6f9055459"
      },
      "execution_count": null,
      "outputs": [
        {
          "output_type": "execute_result",
          "data": {
            "text/plain": [
              "['/',\n",
              " '#',\n",
              " '/findseatmap/findseatmap.php',\n",
              " '/browseairlines/browseairlines.php',\n",
              " '/cheap-flights',\n",
              " '/charts/generalcharts.php',\n",
              " '#',\n",
              " '/charts/shorthaul_economy.php',\n",
              " '/charts/shorthaul_first_class.php',\n",
              " '/charts/longhaul_economy.php',\n",
              " '/charts/premium_economy.php',\n",
              " '/charts/longhaul_business_class.php',\n",
              " '/charts/longhaul_first_class.php',\n",
              " '/rentalcars/rentalcars.php',\n",
              " '/traveltips/information.php',\n",
              " '#',\n",
              " '/privacy.php',\n",
              " '/terms.php',\n",
              " '/browseairlines/browseairlines.php',\n",
              " '/airlines/Aegean_Airlines/information.php',\n",
              " '/airlines/Aegean_Airlines/fleetinfo.php',\n",
              " '/airlines/Aegean_Airlines/information.php',\n",
              " '/airlines/Aegean_Airlines/fleetinfo.php',\n",
              " '/airlines/Aegean_Airlines/Aegean_Airlines_ATR_42-600.php',\n",
              " '/airlines/Aegean_Airlines/Aegean_Airlines_Airbus_A319-100.php',\n",
              " '/airlines/Aegean_Airlines/Aegean_Airlines_Airbus_A320-200.php',\n",
              " '/airlines/Aegean_Airlines/Aegean_Airlines_Airbus_A321-200.php',\n",
              " '/airlines/Aegean_Airlines/Aegean_Airlines_Bombardier_Dash_8_Q400.php',\n",
              " '/airlines/Aegean_Airlines/checkin.php',\n",
              " '/airlines/Aegean_Airlines/baggage.php',\n",
              " '/airlines/Aegean_Airlines/infants.php',\n",
              " '/airlines/Aegean_Airlines/minors.php',\n",
              " '/airlines/Aegean_Airlines/pets.php',\n",
              " '#seatMapKeyLegend',\n",
              " '/photos/view.php?aircraft_sg_key=Aegean_Airlines_Airbus_A320-200&photo_id=379125900',\n",
              " '/photos/view.php?aircraft_sg_key=Aegean_Airlines_Airbus_A320-200&photo_id=379125898',\n",
              " '/photos/view.php?aircraft_sg_key=Aegean_Airlines_Airbus_A320-200&photo_id=379125896',\n",
              " '/photos/view.php?aircraft_sg_key=Aegean_Airlines_Airbus_A320-200&photo_id=379123593',\n",
              " '/photos/view.php?aircraft_sg_key=Aegean_Airlines_Airbus_A320-200&photo_id=379123561',\n",
              " '/photos/view.php?aircraft_sg_key=Aegean_Airlines_Airbus_A320-200',\n",
              " 'javascript:void(0);',\n",
              " 'javascript:void(0);',\n",
              " 'javascript:void(0);',\n",
              " None,\n",
              " '/',\n",
              " '#',\n",
              " '#',\n",
              " '/help.php',\n",
              " '/contactus.php',\n",
              " '/sitemap.php',\n",
              " 'http://twitter.com/SeatGuru',\n",
              " 'http://facebook.com/SeatGuru',\n",
              " '#',\n",
              " '/privacy.php',\n",
              " '/terms.php']"
            ]
          },
          "metadata": {},
          "execution_count": 114
        }
      ]
    },
    {
      "cell_type": "code",
      "source": [
        "urls_trial = []\n",
        "for link in soup.find_all('a'):\n",
        "  urls_trial.append(link.get('href'))\n",
        "  print(link.get('href'))"
      ],
      "metadata": {
        "id": "b7WZTOjVezoz"
      },
      "execution_count": null,
      "outputs": []
    },
    {
      "cell_type": "code",
      "source": [
        "rel_links = []\n",
        "for link in urls_trial:\n",
        "  if ('Aegean_Airlines_' in str(link)) & (\"photo\" not in str(link)):\n",
        "    rel_links.append(link)"
      ],
      "metadata": {
        "id": "ihaHyg_cAX7T"
      },
      "execution_count": null,
      "outputs": []
    },
    {
      "cell_type": "code",
      "source": [
        "rel_links"
      ],
      "metadata": {
        "colab": {
          "base_uri": "https://localhost:8080/"
        },
        "id": "FhsQkCc7OArX",
        "outputId": "9a979173-14b9-4650-fee6-b7c5e924e43c"
      },
      "execution_count": null,
      "outputs": [
        {
          "output_type": "execute_result",
          "data": {
            "text/plain": [
              "['/airlines/Aegean_Airlines/Aegean_Airlines_ATR_42-600.php',\n",
              " '/airlines/Aegean_Airlines/Aegean_Airlines_Airbus_A319-100.php',\n",
              " '/airlines/Aegean_Airlines/Aegean_Airlines_Airbus_A320-200.php',\n",
              " '/airlines/Aegean_Airlines/Aegean_Airlines_Airbus_A321-200.php',\n",
              " '/airlines/Aegean_Airlines/Aegean_Airlines_Bombardier_Dash_8_Q400.php']"
            ]
          },
          "metadata": {},
          "execution_count": 120
        }
      ]
    },
    {
      "cell_type": "markdown",
      "source": [
        "Trial to get urls from main website of the airlines"
      ],
      "metadata": {
        "id": "uWY0XYtijs-e"
      }
    },
    {
      "cell_type": "code",
      "source": [
        "'''\n",
        "url = link to main website i.e. \"https://www.seatguru.com/airlines/Aegean_Airlines/fleetinfo.php\"\n",
        "airline_name = i.e. 'Aegean_Airlines_'\n",
        "'''\n",
        "# main url\n",
        "url = 'https://www.seatguru.com/browseairlines/browseairlines.php'\n",
        "# prepare soup\n",
        "req = requests.get(url)\n",
        "soup = BeautifulSoup(req.content, 'html.parser')\n",
        "# prepare list\n",
        "urls_list = []\n",
        "# get all links from url and append to list\n",
        "for link in soup.find_all('a'):\n",
        "  urls_list.append(link.get('href'))\n",
        "\n",
        "# filter for relevant links and append to list\n",
        "rel_links = []\n",
        "for link in urls_list:\n",
        "  if ('/airlines/' in str(link)):\n",
        "    rel_links.append(link)"
      ],
      "metadata": {
        "id": "qQqbHfLcjv9f"
      },
      "execution_count": null,
      "outputs": []
    },
    {
      "cell_type": "code",
      "source": [
        "rel_links = 'https://www.seatguru.com' + pd.Series(rel_links)"
      ],
      "metadata": {
        "id": "vrntY98Qk3y5"
      },
      "execution_count": null,
      "outputs": []
    },
    {
      "cell_type": "markdown",
      "source": [
        "Get names of airlines from their links"
      ],
      "metadata": {
        "id": "Ife0ZblZnoHn"
      }
    },
    {
      "cell_type": "code",
      "source": [
        "# trial: get 'Aegean_Airlines_'\n",
        "aa = rel_links[0]\n",
        "airline_name_aa = aa.split(\"/\")[4] + \"_\"\n",
        "airline_name_aa"
      ],
      "metadata": {
        "colab": {
          "base_uri": "https://localhost:8080/",
          "height": 35
        },
        "id": "CkmkmYAYnno8",
        "outputId": "41834336-8d81-4eff-90e1-ef0370b37be1"
      },
      "execution_count": null,
      "outputs": [
        {
          "output_type": "execute_result",
          "data": {
            "application/vnd.google.colaboratory.intrinsic+json": {
              "type": "string"
            },
            "text/plain": [
              "'Aegean_Airlines_'"
            ]
          },
          "metadata": {},
          "execution_count": 245
        }
      ]
    },
    {
      "cell_type": "markdown",
      "source": [
        "Scale-Up Trial for Aegean Airlines"
      ],
      "metadata": {
        "id": "x-SIZ4-ga2iA"
      }
    },
    {
      "cell_type": "code",
      "source": [
        "# Trial for Aegean Airlines\n",
        "# prepare df\n",
        "column_names = [\"date\", \"name\", \"seat\", 'comment', 'link']\n",
        "\n",
        "df_aegean = pd.DataFrame(columns = column_names)\n",
        "\n",
        "# prepare for loop\n",
        "for link in rel_links:\n",
        "  # prepare url\n",
        "  base_url = 'https://www.seatguru.com/'\n",
        "  url = base_url + link\n",
        "  # prepare soup\n",
        "  req = requests.get(url)\n",
        "  soup = BeautifulSoup(req.content, 'html.parser')\n",
        "  # comments, name, date, and seat #\n",
        "  comments = soup.find_all('div',class_=\"comment\")\n",
        "  date_seat = soup.find_all('span',class_=\"date\")\n",
        "  for i in range(len(comments)):\n",
        "    # comment\n",
        "    c = comments[i].string\n",
        "    c= \" \".join(c.split())\n",
        "\n",
        "    # date and seat\n",
        "    d_s = date_seat[i].string\n",
        "    d_s_parts = d_s.split()\n",
        "    # if date and seat are available\n",
        "    if len(d_s_parts) > 2:\n",
        "      d = d_s_parts[1]\n",
        "      s = d_s_parts[-1]\n",
        "    # otherwise\n",
        "    else:\n",
        "      d = d_s_parts[1]\n",
        "      s = 'None'\n",
        "    \n",
        "    # first name\n",
        "    names = soup.find_all('span',class_=\"name\")\n",
        "    name = names[i].string\n",
        "    # save just the first name\n",
        "    fn = name.split()[0]\n",
        "\n",
        "    # append instance to df\n",
        "    df_aegean = df_aegean.append({\"date\": d, \"name\": fn, \"seat\": s, 'comment': c, 'link': url}, ignore_index=True)"
      ],
      "metadata": {
        "id": "GAH9ot-NOn6-"
      },
      "execution_count": null,
      "outputs": []
    },
    {
      "cell_type": "code",
      "source": [
        "df_aegean"
      ],
      "metadata": {
        "colab": {
          "base_uri": "https://localhost:8080/",
          "height": 488
        },
        "id": "f7cWKlVZZMFo",
        "outputId": "a6ef5ea8-53be-47e3-cdfb-982d8a6a1317"
      },
      "execution_count": null,
      "outputs": [
        {
          "output_type": "execute_result",
          "data": {
            "text/html": [
              "\n",
              "  <div id=\"df-78c34c35-0d33-45c0-895b-01dffa98a615\">\n",
              "    <div class=\"colab-df-container\">\n",
              "      <div>\n",
              "<style scoped>\n",
              "    .dataframe tbody tr th:only-of-type {\n",
              "        vertical-align: middle;\n",
              "    }\n",
              "\n",
              "    .dataframe tbody tr th {\n",
              "        vertical-align: top;\n",
              "    }\n",
              "\n",
              "    .dataframe thead th {\n",
              "        text-align: right;\n",
              "    }\n",
              "</style>\n",
              "<table border=\"1\" class=\"dataframe\">\n",
              "  <thead>\n",
              "    <tr style=\"text-align: right;\">\n",
              "      <th></th>\n",
              "      <th>date</th>\n",
              "      <th>name</th>\n",
              "      <th>seat</th>\n",
              "      <th>comment</th>\n",
              "      <th>link</th>\n",
              "    </tr>\n",
              "  </thead>\n",
              "  <tbody>\n",
              "    <tr>\n",
              "      <th>0</th>\n",
              "      <td>2020/01/20</td>\n",
              "      <td>SeatGuru</td>\n",
              "      <td>12A</td>\n",
              "      <td>It was very close to the rear exit with engine...</td>\n",
              "      <td>https://www.seatguru.com//airlines/Aegean_Airl...</td>\n",
              "    </tr>\n",
              "    <tr>\n",
              "      <th>1</th>\n",
              "      <td>2019/12/29</td>\n",
              "      <td>SeatGuru</td>\n",
              "      <td>3C</td>\n",
              "      <td>From Istabul to Athens. Seat 3C doesnt have an...</td>\n",
              "      <td>https://www.seatguru.com//airlines/Aegean_Airl...</td>\n",
              "    </tr>\n",
              "    <tr>\n",
              "      <th>2</th>\n",
              "      <td>2018/06/09</td>\n",
              "      <td>Stathis</td>\n",
              "      <td>None</td>\n",
              "      <td>I traveled Athens-Zurich with Aegean Airlines ...</td>\n",
              "      <td>https://www.seatguru.com//airlines/Aegean_Airl...</td>\n",
              "    </tr>\n",
              "    <tr>\n",
              "      <th>3</th>\n",
              "      <td>2018/05/25</td>\n",
              "      <td>SeatGuru</td>\n",
              "      <td>15C</td>\n",
              "      <td>very tiny leg room as I am quite tall. flight ...</td>\n",
              "      <td>https://www.seatguru.com//airlines/Aegean_Airl...</td>\n",
              "    </tr>\n",
              "    <tr>\n",
              "      <th>4</th>\n",
              "      <td>2018/04/19</td>\n",
              "      <td>Bryan</td>\n",
              "      <td>12F</td>\n",
              "      <td>Exit row 12F was nice for the 2.5 hour ZRH-ATH...</td>\n",
              "      <td>https://www.seatguru.com//airlines/Aegean_Airl...</td>\n",
              "    </tr>\n",
              "    <tr>\n",
              "      <th>5</th>\n",
              "      <td>2017/07/22</td>\n",
              "      <td>SeatGuru</td>\n",
              "      <td>12C</td>\n",
              "      <td>It is a wonderful seat at no additional cost (...</td>\n",
              "      <td>https://www.seatguru.com//airlines/Aegean_Airl...</td>\n",
              "    </tr>\n",
              "    <tr>\n",
              "      <th>6</th>\n",
              "      <td>2017/05/14</td>\n",
              "      <td>SeatGuru</td>\n",
              "      <td>15B</td>\n",
              "      <td>Well, you certainly get what you pay for. We g...</td>\n",
              "      <td>https://www.seatguru.com//airlines/Aegean_Airl...</td>\n",
              "    </tr>\n",
              "    <tr>\n",
              "      <th>7</th>\n",
              "      <td>2018/11/09</td>\n",
              "      <td>Linda</td>\n",
              "      <td>25D</td>\n",
              "      <td>Quite cramped, not much legroom</td>\n",
              "      <td>https://www.seatguru.com//airlines/Aegean_Airl...</td>\n",
              "    </tr>\n",
              "    <tr>\n",
              "      <th>8</th>\n",
              "      <td>2018/11/09</td>\n",
              "      <td>Linda</td>\n",
              "      <td>26B</td>\n",
              "      <td>Quite cramped, not much legroom</td>\n",
              "      <td>https://www.seatguru.com//airlines/Aegean_Airl...</td>\n",
              "    </tr>\n",
              "    <tr>\n",
              "      <th>9</th>\n",
              "      <td>2018/01/27</td>\n",
              "      <td>SeatGuru</td>\n",
              "      <td>24A</td>\n",
              "      <td>I have travelled on this plane 4 times in the ...</td>\n",
              "      <td>https://www.seatguru.com//airlines/Aegean_Airl...</td>\n",
              "    </tr>\n",
              "    <tr>\n",
              "      <th>10</th>\n",
              "      <td>2017/08/29</td>\n",
              "      <td>SeatGuru</td>\n",
              "      <td>rows</td>\n",
              "      <td>I flew on two occasions in August 2017 with Ae...</td>\n",
              "      <td>https://www.seatguru.com//airlines/Aegean_Airl...</td>\n",
              "    </tr>\n",
              "    <tr>\n",
              "      <th>11</th>\n",
              "      <td>2017/06/12</td>\n",
              "      <td>SeatGuru</td>\n",
              "      <td>6F</td>\n",
              "      <td>Flew MXP-ATH on this plane-seat combination. I...</td>\n",
              "      <td>https://www.seatguru.com//airlines/Aegean_Airl...</td>\n",
              "    </tr>\n",
              "    <tr>\n",
              "      <th>12</th>\n",
              "      <td>2017/03/23</td>\n",
              "      <td>SeatGuru</td>\n",
              "      <td>24F</td>\n",
              "      <td>All Seats in Row 24 have exceptional legroom. ...</td>\n",
              "      <td>https://www.seatguru.com//airlines/Aegean_Airl...</td>\n",
              "    </tr>\n",
              "    <tr>\n",
              "      <th>13</th>\n",
              "      <td>2018/11/05</td>\n",
              "      <td>SeatGuru</td>\n",
              "      <td>9d</td>\n",
              "      <td>Too noisy due to the propeller</td>\n",
              "      <td>https://www.seatguru.com//airlines/Aegean_Airl...</td>\n",
              "    </tr>\n",
              "  </tbody>\n",
              "</table>\n",
              "</div>\n",
              "      <button class=\"colab-df-convert\" onclick=\"convertToInteractive('df-78c34c35-0d33-45c0-895b-01dffa98a615')\"\n",
              "              title=\"Convert this dataframe to an interactive table.\"\n",
              "              style=\"display:none;\">\n",
              "        \n",
              "  <svg xmlns=\"http://www.w3.org/2000/svg\" height=\"24px\"viewBox=\"0 0 24 24\"\n",
              "       width=\"24px\">\n",
              "    <path d=\"M0 0h24v24H0V0z\" fill=\"none\"/>\n",
              "    <path d=\"M18.56 5.44l.94 2.06.94-2.06 2.06-.94-2.06-.94-.94-2.06-.94 2.06-2.06.94zm-11 1L8.5 8.5l.94-2.06 2.06-.94-2.06-.94L8.5 2.5l-.94 2.06-2.06.94zm10 10l.94 2.06.94-2.06 2.06-.94-2.06-.94-.94-2.06-.94 2.06-2.06.94z\"/><path d=\"M17.41 7.96l-1.37-1.37c-.4-.4-.92-.59-1.43-.59-.52 0-1.04.2-1.43.59L10.3 9.45l-7.72 7.72c-.78.78-.78 2.05 0 2.83L4 21.41c.39.39.9.59 1.41.59.51 0 1.02-.2 1.41-.59l7.78-7.78 2.81-2.81c.8-.78.8-2.07 0-2.86zM5.41 20L4 18.59l7.72-7.72 1.47 1.35L5.41 20z\"/>\n",
              "  </svg>\n",
              "      </button>\n",
              "      \n",
              "  <style>\n",
              "    .colab-df-container {\n",
              "      display:flex;\n",
              "      flex-wrap:wrap;\n",
              "      gap: 12px;\n",
              "    }\n",
              "\n",
              "    .colab-df-convert {\n",
              "      background-color: #E8F0FE;\n",
              "      border: none;\n",
              "      border-radius: 50%;\n",
              "      cursor: pointer;\n",
              "      display: none;\n",
              "      fill: #1967D2;\n",
              "      height: 32px;\n",
              "      padding: 0 0 0 0;\n",
              "      width: 32px;\n",
              "    }\n",
              "\n",
              "    .colab-df-convert:hover {\n",
              "      background-color: #E2EBFA;\n",
              "      box-shadow: 0px 1px 2px rgba(60, 64, 67, 0.3), 0px 1px 3px 1px rgba(60, 64, 67, 0.15);\n",
              "      fill: #174EA6;\n",
              "    }\n",
              "\n",
              "    [theme=dark] .colab-df-convert {\n",
              "      background-color: #3B4455;\n",
              "      fill: #D2E3FC;\n",
              "    }\n",
              "\n",
              "    [theme=dark] .colab-df-convert:hover {\n",
              "      background-color: #434B5C;\n",
              "      box-shadow: 0px 1px 3px 1px rgba(0, 0, 0, 0.15);\n",
              "      filter: drop-shadow(0px 1px 2px rgba(0, 0, 0, 0.3));\n",
              "      fill: #FFFFFF;\n",
              "    }\n",
              "  </style>\n",
              "\n",
              "      <script>\n",
              "        const buttonEl =\n",
              "          document.querySelector('#df-78c34c35-0d33-45c0-895b-01dffa98a615 button.colab-df-convert');\n",
              "        buttonEl.style.display =\n",
              "          google.colab.kernel.accessAllowed ? 'block' : 'none';\n",
              "\n",
              "        async function convertToInteractive(key) {\n",
              "          const element = document.querySelector('#df-78c34c35-0d33-45c0-895b-01dffa98a615');\n",
              "          const dataTable =\n",
              "            await google.colab.kernel.invokeFunction('convertToInteractive',\n",
              "                                                     [key], {});\n",
              "          if (!dataTable) return;\n",
              "\n",
              "          const docLinkHtml = 'Like what you see? Visit the ' +\n",
              "            '<a target=\"_blank\" href=https://colab.research.google.com/notebooks/data_table.ipynb>data table notebook</a>'\n",
              "            + ' to learn more about interactive tables.';\n",
              "          element.innerHTML = '';\n",
              "          dataTable['output_type'] = 'display_data';\n",
              "          await google.colab.output.renderOutput(dataTable, element);\n",
              "          const docLink = document.createElement('div');\n",
              "          docLink.innerHTML = docLinkHtml;\n",
              "          element.appendChild(docLink);\n",
              "        }\n",
              "      </script>\n",
              "    </div>\n",
              "  </div>\n",
              "  "
            ],
            "text/plain": [
              "          date  ...                                               link\n",
              "0   2020/01/20  ...  https://www.seatguru.com//airlines/Aegean_Airl...\n",
              "1   2019/12/29  ...  https://www.seatguru.com//airlines/Aegean_Airl...\n",
              "2   2018/06/09  ...  https://www.seatguru.com//airlines/Aegean_Airl...\n",
              "3   2018/05/25  ...  https://www.seatguru.com//airlines/Aegean_Airl...\n",
              "4   2018/04/19  ...  https://www.seatguru.com//airlines/Aegean_Airl...\n",
              "5   2017/07/22  ...  https://www.seatguru.com//airlines/Aegean_Airl...\n",
              "6   2017/05/14  ...  https://www.seatguru.com//airlines/Aegean_Airl...\n",
              "7   2018/11/09  ...  https://www.seatguru.com//airlines/Aegean_Airl...\n",
              "8   2018/11/09  ...  https://www.seatguru.com//airlines/Aegean_Airl...\n",
              "9   2018/01/27  ...  https://www.seatguru.com//airlines/Aegean_Airl...\n",
              "10  2017/08/29  ...  https://www.seatguru.com//airlines/Aegean_Airl...\n",
              "11  2017/06/12  ...  https://www.seatguru.com//airlines/Aegean_Airl...\n",
              "12  2017/03/23  ...  https://www.seatguru.com//airlines/Aegean_Airl...\n",
              "13  2018/11/05  ...  https://www.seatguru.com//airlines/Aegean_Airl...\n",
              "\n",
              "[14 rows x 5 columns]"
            ]
          },
          "metadata": {},
          "execution_count": 129
        }
      ]
    },
    {
      "cell_type": "markdown",
      "source": [
        "# Functions"
      ],
      "metadata": {
        "id": "sO8ZUnnLc5dw"
      }
    },
    {
      "cell_type": "markdown",
      "source": [
        "Function that creates a list of airline urls from seatguru's main website"
      ],
      "metadata": {
        "id": "T2rlp78KjiJG"
      }
    },
    {
      "cell_type": "code",
      "source": [
        "def extract_airline_urls_sg():\n",
        "  '''\n",
        "  This function takes no argument and it will return the list of links for \n",
        "  each airline from the main seatguru website\n",
        "  '''\n",
        "  # main url\n",
        "  url = 'https://www.seatguru.com/browseairlines/browseairlines.php'\n",
        "  # prepare soup\n",
        "  req = requests.get(url)\n",
        "  soup = BeautifulSoup(req.content, 'html.parser')\n",
        "  # prepare list\n",
        "  urls_list = []\n",
        "  # get all links from url and append to list\n",
        "  for link in soup.find_all('a'):\n",
        "    urls_list.append(link.get('href'))\n",
        "\n",
        "  # filter for relevant links and append to list\n",
        "  rel_links = []\n",
        "  for link in urls_list:\n",
        "    if ('/airlines/' in str(link)):\n",
        "      rel_links.append(link)\n",
        "  return rel_links"
      ],
      "metadata": {
        "id": "bkd9s4nZjh8Q"
      },
      "execution_count": null,
      "outputs": []
    },
    {
      "cell_type": "markdown",
      "source": [
        "Function to get list of airline names\n",
        "\n"
      ],
      "metadata": {
        "id": "LSlC4B2boPfL"
      }
    },
    {
      "cell_type": "code",
      "source": [
        "def get_names(urls):\n",
        "  names = []\n",
        "  for i, url in enumerate(urls):\n",
        "    link = url\n",
        "    name = link.split(\"/\")[4] + \"_\"\n",
        "    names.append(name)\n",
        "  return names"
      ],
      "metadata": {
        "id": "CaJ0IC1aoP20"
      },
      "execution_count": null,
      "outputs": []
    },
    {
      "cell_type": "markdown",
      "source": [
        "Function that creates list of aircraft urls from an airline's seatguru website"
      ],
      "metadata": {
        "id": "ePFOPWbTdKds"
      }
    },
    {
      "cell_type": "code",
      "source": [
        "def extract_aircraft_urls_sg(url, airline_name):\n",
        "  '''\n",
        "  url = link to main website i.e. \"https://www.seatguru.com/airlines/Aegean_Airlines/fleetinfo.php\"\n",
        "  airline_name = i.e. 'Aegean_Airlines_'\n",
        "  '''\n",
        "  # prepare soup\n",
        "  req = requests.get(url)\n",
        "  soup = BeautifulSoup(req.content, 'html.parser')\n",
        "  # prepare list\n",
        "  urls_list = []\n",
        "  # get all links from url and append to list\n",
        "  for link in soup.find_all('a'):\n",
        "    urls_list.append(link.get('href'))\n",
        "  # filter for relevant links and append to list\n",
        "  rel_links = []\n",
        "  for link in urls_list:\n",
        "    if (airline_name in str(link)) & (\"photo\" not in str(link)):\n",
        "      rel_links.append(link)\n",
        "  return rel_links\n"
      ],
      "metadata": {
        "id": "tQd_qwEbc8PK"
      },
      "execution_count": null,
      "outputs": []
    },
    {
      "cell_type": "markdown",
      "source": [
        "Function that takes in list of aircraft urls and appends information to a pandas df"
      ],
      "metadata": {
        "id": "lraBOcqPc9Mz"
      }
    },
    {
      "cell_type": "code",
      "source": [
        "# function to extract from list of aircraft specific url:\n",
        "def extract_comments_sg(urls, df, airline_name):\n",
        "  '''\n",
        "  urls = list of aircraft sites urls\n",
        "  df = pandas dataframe to append information to\n",
        "  '''\n",
        "    # prepare for loop\n",
        "  for link in urls:\n",
        "    # prepare url\n",
        "    base_url = 'https://www.seatguru.com/'\n",
        "    url = base_url + link\n",
        "    # prepare soup\n",
        "    req = requests.get(url)\n",
        "    soup = BeautifulSoup(req.content, 'html.parser')\n",
        "    # comments, name, date, and seat #\n",
        "    comments = soup.find_all('div',class_=\"comment\")\n",
        "    date_seat = soup.find_all('span',class_=\"date\")\n",
        "    for i in range(len(comments)):\n",
        "      # comment\n",
        "      c = comments[i].string\n",
        "      c= \" \".join(c.split())\n",
        "\n",
        "      # date and seat\n",
        "      d_s = date_seat[i].string\n",
        "      d_s_parts = d_s.split()\n",
        "      # if date and seat are available\n",
        "      if len(d_s_parts) > 2:\n",
        "        d = d_s_parts[1]\n",
        "        s = d_s_parts[-1]\n",
        "      # otherwise\n",
        "      else:\n",
        "        d = d_s_parts[1]\n",
        "        s = 'None'\n",
        "      \n",
        "      # first name\n",
        "      names = soup.find_all('span',class_=\"name\")\n",
        "      name = names[i].string\n",
        "      # save just the first name\n",
        "      fn = name.split()[0]\n",
        "\n",
        "      # append instance to df\n",
        "      df = df.append({\"date\": d, \"airline_name\": airline_name, \"name\": fn, \"seat\": s, 'comment': c, 'link': url}, ignore_index=True)\n",
        "  return df"
      ],
      "metadata": {
        "id": "0Ki6gF8tOfs-"
      },
      "execution_count": null,
      "outputs": []
    },
    {
      "cell_type": "markdown",
      "source": [
        "# Scale Up"
      ],
      "metadata": {
        "id": "2w2PsGEx3Zhf"
      }
    },
    {
      "cell_type": "markdown",
      "source": [
        "Try airline urls extraction function\n",
        "\n",
        "\n"
      ],
      "metadata": {
        "id": "31M2E5tCmzfl"
      }
    },
    {
      "cell_type": "code",
      "source": [
        "airline_urls = 'https://www.seatguru.com' + pd.Series(extract_airline_urls_sg())"
      ],
      "metadata": {
        "id": "ZrhwtmwJm5QI"
      },
      "execution_count": null,
      "outputs": []
    },
    {
      "cell_type": "code",
      "source": [
        "airline_urls"
      ],
      "metadata": {
        "colab": {
          "base_uri": "https://localhost:8080/"
        },
        "id": "BgU-i5iPngB5",
        "outputId": "01639bca-b307-48f7-eee5-263052d06b5d"
      },
      "execution_count": null,
      "outputs": [
        {
          "output_type": "execute_result",
          "data": {
            "text/plain": [
              "0      https://www.seatguru.com/airlines/Aegean_Airli...\n",
              "1      https://www.seatguru.com/airlines/Aer_Lingus/i...\n",
              "2      https://www.seatguru.com/airlines/Aeroflot_Rus...\n",
              "3      https://www.seatguru.com/airlines/Aerolineas_A...\n",
              "4      https://www.seatguru.com/airlines/AeroMexico/i...\n",
              "                             ...                        \n",
              "170    https://www.seatguru.com/airlines/Volotea/info...\n",
              "171    https://www.seatguru.com/airlines/Vueling_Airl...\n",
              "172    https://www.seatguru.com/airlines/Westjet/info...\n",
              "173    https://www.seatguru.com/airlines/Wizzair/info...\n",
              "174    https://www.seatguru.com/airlines/Xiamen_Airli...\n",
              "Length: 175, dtype: object"
            ]
          },
          "metadata": {},
          "execution_count": 219
        }
      ]
    },
    {
      "cell_type": "code",
      "source": [
        "airline_names = get_names(airline_urls)"
      ],
      "metadata": {
        "id": "VzRnvcyYo1XW"
      },
      "execution_count": null,
      "outputs": []
    },
    {
      "cell_type": "code",
      "source": [
        "airline_names"
      ],
      "metadata": {
        "colab": {
          "base_uri": "https://localhost:8080/"
        },
        "id": "mu9XYkgUpNF3",
        "outputId": "c238fea0-9692-410a-fa34-a25c1df7df32"
      },
      "execution_count": null,
      "outputs": [
        {
          "output_type": "execute_result",
          "data": {
            "text/plain": [
              "['Aegean_Airlines_',\n",
              " 'Aer_Lingus_',\n",
              " 'Aeroflot_Russian_Airlines_',\n",
              " 'Aerolineas_Argentinas_',\n",
              " 'AeroMexico_',\n",
              " 'Air_Arabia_',\n",
              " 'Air_Astana_',\n",
              " 'Air_Austral_',\n",
              " 'Air_Baltic_',\n",
              " 'Air_Belgium_',\n",
              " 'Air_Canada_',\n",
              " 'Air_Caraibes_',\n",
              " 'Air_China_',\n",
              " 'Air_Corsica_',\n",
              " 'Air_Dolomiti_',\n",
              " 'Air_Europa_',\n",
              " 'Air_France_',\n",
              " 'Air_India_',\n",
              " 'Air_India_Express_',\n",
              " 'Air_Macau_',\n",
              " 'Air_Malta_',\n",
              " 'Air_Mauritius_',\n",
              " 'Air_Namibia_',\n",
              " 'Air_New_Zealand_',\n",
              " 'Air_North_',\n",
              " 'Air_Seoul_',\n",
              " 'Air_Serbia_',\n",
              " 'Air_Tahiti_Nui_',\n",
              " 'Air_Transat_',\n",
              " 'Air_Vanuatu_',\n",
              " 'Air_Asia_',\n",
              " 'AirAsia_X_',\n",
              " 'Aircalin_',\n",
              " 'Alaska_Airlines_',\n",
              " 'Alitalia_Airlines_',\n",
              " 'Allegiant_Air_',\n",
              " 'American_Airlines_',\n",
              " 'ANA_',\n",
              " 'Asiana_',\n",
              " 'Austrian_Airlines_',\n",
              " 'Avianca_',\n",
              " 'Azerbaijan_Airlines_',\n",
              " 'Azores_Airlines_',\n",
              " 'Azul_Airlines_',\n",
              " 'Bamboo_Airways_',\n",
              " 'Bangkok_Airways_',\n",
              " 'British_Airways_',\n",
              " 'Brussels_Airlines_',\n",
              " 'Caribbean_Airlines_',\n",
              " 'Dragonair_',\n",
              " 'Cathay_Pacific_Airways_',\n",
              " 'Cayman_Airways_',\n",
              " 'Cebu_Pacific_',\n",
              " 'China_Airlines_',\n",
              " 'China_Eastern_',\n",
              " 'China_Southern_',\n",
              " 'Condor_Flugdienst_',\n",
              " 'Copa_Airlines_',\n",
              " 'Croatia_Airlines_',\n",
              " 'Czech_Airlines_',\n",
              " 'Delta_Airlines_',\n",
              " 'EasyJet_Airlines_',\n",
              " 'Edelweiss_',\n",
              " 'Egyptair_',\n",
              " 'El_Al_',\n",
              " 'Emirates_Airlines_',\n",
              " 'Ethiopian_Airlines_',\n",
              " 'Etihad_Airways_',\n",
              " 'Eurowings_Airlines_',\n",
              " 'Eva_Airways_',\n",
              " 'Fiji_Airways_',\n",
              " 'Finnair_',\n",
              " 'flydubai_',\n",
              " 'FlyOne_',\n",
              " 'French_bee_Airlines_',\n",
              " 'Frontier_Airlines_',\n",
              " 'Garuda_Indonesia_',\n",
              " 'GOL_',\n",
              " 'Gulf_Air_',\n",
              " 'Hainan_Airlines_',\n",
              " 'Hawaiian_Airlines_',\n",
              " 'Helvetic_Airways_',\n",
              " 'Hong_Kong_Express_',\n",
              " 'Hong_Kong_Airlines_',\n",
              " 'Iberia_',\n",
              " 'Icelandair_',\n",
              " 'IndiGo_',\n",
              " 'Interjet_',\n",
              " 'Japan_Airlines_',\n",
              " 'Jeju_Air_',\n",
              " 'Jet2com_',\n",
              " 'JetBlue_Airways_',\n",
              " 'Jetstar_',\n",
              " 'Jin_Air_',\n",
              " 'Kenya_Airways_',\n",
              " 'KLM_',\n",
              " 'Korean_Air_',\n",
              " 'Comair_Limited_',\n",
              " 'La_Compagnie_',\n",
              " 'LATAM_Chile_',\n",
              " 'Lion_Air_',\n",
              " 'LOT_Polish_Airlines_',\n",
              " 'Lufthansa_',\n",
              " 'Luxair_',\n",
              " 'Malaysia_Airlines_',\n",
              " 'Mango_',\n",
              " 'Middle_East_Airlines_',\n",
              " 'Nok_Air_',\n",
              " 'Nordwind_Airlines_',\n",
              " 'Djibouti_Air_',\n",
              " 'Norwegian_Air_Shuttle_',\n",
              " 'Norwegian_Air_Sweden_',\n",
              " 'Norwegian_Air_UK_',\n",
              " 'Oman_Air_',\n",
              " 'Pakistan_International_',\n",
              " 'Peach_',\n",
              " 'Pegasus_Airlines_',\n",
              " 'Philippine_Airlines_',\n",
              " 'Porter_Airlines_',\n",
              " 'Qantas_Airways_',\n",
              " 'Qatar_Airways_',\n",
              " 'Regional_Express_',\n",
              " 'Rossiya_',\n",
              " 'Royal_Air_Maroc_',\n",
              " 'Royal_Brunei_',\n",
              " 'Royal_Jordanian_',\n",
              " 'RwandAir_',\n",
              " 'Ryanair_',\n",
              " 'S7_',\n",
              " 'SAS_Airlines_',\n",
              " 'Saudia_',\n",
              " 'Scoot_Airlines_',\n",
              " 'Shanghai_Airlines_',\n",
              " 'SilkAir_',\n",
              " 'Silver_Airways_',\n",
              " 'Singapore_Air_',\n",
              " 'Skylanes_',\n",
              " 'South_African_Airways_',\n",
              " 'Southwest_Airlines_',\n",
              " 'SpiceJet_',\n",
              " 'Spirit_Airlines_',\n",
              " 'Spring_Airlines_',\n",
              " 'Spring_Japan_Airlines_',\n",
              " 'SriLankan_Airlines_',\n",
              " 'Sun_Country_',\n",
              " 'Sunclass_Airlines_',\n",
              " 'Sunwing_Airlines_',\n",
              " 'Swiss_Airlines_',\n",
              " 'Swoop_Airlines_',\n",
              " 'TAAG_Angola_Airlines_',\n",
              " 'Taca_International_Airlines_',\n",
              " 'TAP_Portugal_',\n",
              " 'Thai_Airways_',\n",
              " 'Tigerair_Australia_',\n",
              " 'Transavia_Airlines_',\n",
              " 'Thomson_Airways_',\n",
              " 'TUIfly_',\n",
              " 'Tunisair_',\n",
              " 'Turkish_Airlines_',\n",
              " 'Ukraine_International_Airlines_',\n",
              " 'United_Airlines_',\n",
              " 'Ural_Airlines_',\n",
              " 'UTair_Aviation_',\n",
              " 'Uzbekistan_Airlines_',\n",
              " 'Vietnam_Airlines_',\n",
              " 'Virgin_Atlantic_Airways_',\n",
              " 'Virgin_Australia_',\n",
              " 'Vistara_',\n",
              " 'Viva_Aerobus_',\n",
              " 'Volaris_',\n",
              " 'Volotea_',\n",
              " 'Vueling_Airlines_',\n",
              " 'Westjet_',\n",
              " 'Wizzair_',\n",
              " 'Xiamen_Airlines_']"
            ]
          },
          "metadata": {},
          "execution_count": 221
        }
      ]
    },
    {
      "cell_type": "markdown",
      "source": [
        "Try aircraft urls extraction function\n",
        "\n"
      ],
      "metadata": {
        "id": "G5jhZ90dhTHy"
      }
    },
    {
      "cell_type": "code",
      "source": [
        "url = \"https://www.seatguru.com/airlines/Aegean_Airlines/information.php\"\n",
        "airline_name = 'Aegean_Airlines_'\n",
        "\n",
        "rel_links = extract_aircraft_urls_sg(url, airline_name)"
      ],
      "metadata": {
        "id": "1wVlGOzOhS4M"
      },
      "execution_count": null,
      "outputs": []
    },
    {
      "cell_type": "markdown",
      "source": [
        "Try info extraction function"
      ],
      "metadata": {
        "id": "W4axrG55hOlY"
      }
    },
    {
      "cell_type": "code",
      "source": [
        "column_names = [\"date\", \"airline_name\", \"name\", \"seat\", 'comment', 'link']\n",
        "\n",
        "df_sg = pd.DataFrame(columns = column_names)"
      ],
      "metadata": {
        "id": "AMkJyDMXaxgU"
      },
      "execution_count": null,
      "outputs": []
    },
    {
      "cell_type": "code",
      "source": [
        "df_sg = extract_comments_sg(rel_links, df_sg, 'Aegean_Airlines_')"
      ],
      "metadata": {
        "id": "dN2qUt4xcQXi"
      },
      "execution_count": null,
      "outputs": []
    },
    {
      "cell_type": "code",
      "source": [
        "df_sg"
      ],
      "metadata": {
        "colab": {
          "base_uri": "https://localhost:8080/",
          "height": 488
        },
        "id": "YtZvEAfhcahG",
        "outputId": "9ffd364a-c100-4319-cbb8-4ef7a5e97445"
      },
      "execution_count": null,
      "outputs": [
        {
          "output_type": "execute_result",
          "data": {
            "text/html": [
              "\n",
              "  <div id=\"df-2695c244-dcd0-47cc-89f4-4786780d9524\">\n",
              "    <div class=\"colab-df-container\">\n",
              "      <div>\n",
              "<style scoped>\n",
              "    .dataframe tbody tr th:only-of-type {\n",
              "        vertical-align: middle;\n",
              "    }\n",
              "\n",
              "    .dataframe tbody tr th {\n",
              "        vertical-align: top;\n",
              "    }\n",
              "\n",
              "    .dataframe thead th {\n",
              "        text-align: right;\n",
              "    }\n",
              "</style>\n",
              "<table border=\"1\" class=\"dataframe\">\n",
              "  <thead>\n",
              "    <tr style=\"text-align: right;\">\n",
              "      <th></th>\n",
              "      <th>date</th>\n",
              "      <th>airline_name</th>\n",
              "      <th>name</th>\n",
              "      <th>seat</th>\n",
              "      <th>comment</th>\n",
              "      <th>link</th>\n",
              "    </tr>\n",
              "  </thead>\n",
              "  <tbody>\n",
              "    <tr>\n",
              "      <th>0</th>\n",
              "      <td>2019/12/29</td>\n",
              "      <td>Aegean_Airlines_</td>\n",
              "      <td>SeatGuru</td>\n",
              "      <td>3C</td>\n",
              "      <td>From Istabul to Athens. Seat 3C doesnt have an...</td>\n",
              "      <td>https://www.seatguru.com//airlines/Aegean_Airl...</td>\n",
              "    </tr>\n",
              "    <tr>\n",
              "      <th>1</th>\n",
              "      <td>2018/06/09</td>\n",
              "      <td>Aegean_Airlines_</td>\n",
              "      <td>Stathis</td>\n",
              "      <td>None</td>\n",
              "      <td>I traveled Athens-Zurich with Aegean Airlines ...</td>\n",
              "      <td>https://www.seatguru.com//airlines/Aegean_Airl...</td>\n",
              "    </tr>\n",
              "    <tr>\n",
              "      <th>2</th>\n",
              "      <td>2018/05/25</td>\n",
              "      <td>Aegean_Airlines_</td>\n",
              "      <td>SeatGuru</td>\n",
              "      <td>15C</td>\n",
              "      <td>very tiny leg room as I am quite tall. flight ...</td>\n",
              "      <td>https://www.seatguru.com//airlines/Aegean_Airl...</td>\n",
              "    </tr>\n",
              "    <tr>\n",
              "      <th>3</th>\n",
              "      <td>2018/04/19</td>\n",
              "      <td>Aegean_Airlines_</td>\n",
              "      <td>Bryan</td>\n",
              "      <td>12F</td>\n",
              "      <td>Exit row 12F was nice for the 2.5 hour ZRH-ATH...</td>\n",
              "      <td>https://www.seatguru.com//airlines/Aegean_Airl...</td>\n",
              "    </tr>\n",
              "    <tr>\n",
              "      <th>4</th>\n",
              "      <td>2017/07/22</td>\n",
              "      <td>Aegean_Airlines_</td>\n",
              "      <td>SeatGuru</td>\n",
              "      <td>12C</td>\n",
              "      <td>It is a wonderful seat at no additional cost (...</td>\n",
              "      <td>https://www.seatguru.com//airlines/Aegean_Airl...</td>\n",
              "    </tr>\n",
              "    <tr>\n",
              "      <th>5</th>\n",
              "      <td>2017/05/14</td>\n",
              "      <td>Aegean_Airlines_</td>\n",
              "      <td>SeatGuru</td>\n",
              "      <td>15B</td>\n",
              "      <td>Well, you certainly get what you pay for. We g...</td>\n",
              "      <td>https://www.seatguru.com//airlines/Aegean_Airl...</td>\n",
              "    </tr>\n",
              "    <tr>\n",
              "      <th>6</th>\n",
              "      <td>2018/11/09</td>\n",
              "      <td>Aegean_Airlines_</td>\n",
              "      <td>Linda</td>\n",
              "      <td>25D</td>\n",
              "      <td>Quite cramped, not much legroom</td>\n",
              "      <td>https://www.seatguru.com//airlines/Aegean_Airl...</td>\n",
              "    </tr>\n",
              "    <tr>\n",
              "      <th>7</th>\n",
              "      <td>2018/11/09</td>\n",
              "      <td>Aegean_Airlines_</td>\n",
              "      <td>Linda</td>\n",
              "      <td>26B</td>\n",
              "      <td>Quite cramped, not much legroom</td>\n",
              "      <td>https://www.seatguru.com//airlines/Aegean_Airl...</td>\n",
              "    </tr>\n",
              "    <tr>\n",
              "      <th>8</th>\n",
              "      <td>2018/01/27</td>\n",
              "      <td>Aegean_Airlines_</td>\n",
              "      <td>SeatGuru</td>\n",
              "      <td>24A</td>\n",
              "      <td>I have travelled on this plane 4 times in the ...</td>\n",
              "      <td>https://www.seatguru.com//airlines/Aegean_Airl...</td>\n",
              "    </tr>\n",
              "    <tr>\n",
              "      <th>9</th>\n",
              "      <td>2017/08/29</td>\n",
              "      <td>Aegean_Airlines_</td>\n",
              "      <td>SeatGuru</td>\n",
              "      <td>rows</td>\n",
              "      <td>I flew on two occasions in August 2017 with Ae...</td>\n",
              "      <td>https://www.seatguru.com//airlines/Aegean_Airl...</td>\n",
              "    </tr>\n",
              "    <tr>\n",
              "      <th>10</th>\n",
              "      <td>2017/06/12</td>\n",
              "      <td>Aegean_Airlines_</td>\n",
              "      <td>SeatGuru</td>\n",
              "      <td>6F</td>\n",
              "      <td>Flew MXP-ATH on this plane-seat combination. I...</td>\n",
              "      <td>https://www.seatguru.com//airlines/Aegean_Airl...</td>\n",
              "    </tr>\n",
              "    <tr>\n",
              "      <th>11</th>\n",
              "      <td>2017/03/23</td>\n",
              "      <td>Aegean_Airlines_</td>\n",
              "      <td>SeatGuru</td>\n",
              "      <td>24F</td>\n",
              "      <td>All Seats in Row 24 have exceptional legroom. ...</td>\n",
              "      <td>https://www.seatguru.com//airlines/Aegean_Airl...</td>\n",
              "    </tr>\n",
              "    <tr>\n",
              "      <th>12</th>\n",
              "      <td>2020/01/20</td>\n",
              "      <td>Aegean_Airlines_</td>\n",
              "      <td>SeatGuru</td>\n",
              "      <td>12A</td>\n",
              "      <td>It was very close to the rear exit with engine...</td>\n",
              "      <td>https://www.seatguru.com//airlines/Aegean_Airl...</td>\n",
              "    </tr>\n",
              "    <tr>\n",
              "      <th>13</th>\n",
              "      <td>2018/11/05</td>\n",
              "      <td>Aegean_Airlines_</td>\n",
              "      <td>SeatGuru</td>\n",
              "      <td>9d</td>\n",
              "      <td>Too noisy due to the propeller</td>\n",
              "      <td>https://www.seatguru.com//airlines/Aegean_Airl...</td>\n",
              "    </tr>\n",
              "  </tbody>\n",
              "</table>\n",
              "</div>\n",
              "      <button class=\"colab-df-convert\" onclick=\"convertToInteractive('df-2695c244-dcd0-47cc-89f4-4786780d9524')\"\n",
              "              title=\"Convert this dataframe to an interactive table.\"\n",
              "              style=\"display:none;\">\n",
              "        \n",
              "  <svg xmlns=\"http://www.w3.org/2000/svg\" height=\"24px\"viewBox=\"0 0 24 24\"\n",
              "       width=\"24px\">\n",
              "    <path d=\"M0 0h24v24H0V0z\" fill=\"none\"/>\n",
              "    <path d=\"M18.56 5.44l.94 2.06.94-2.06 2.06-.94-2.06-.94-.94-2.06-.94 2.06-2.06.94zm-11 1L8.5 8.5l.94-2.06 2.06-.94-2.06-.94L8.5 2.5l-.94 2.06-2.06.94zm10 10l.94 2.06.94-2.06 2.06-.94-2.06-.94-.94-2.06-.94 2.06-2.06.94z\"/><path d=\"M17.41 7.96l-1.37-1.37c-.4-.4-.92-.59-1.43-.59-.52 0-1.04.2-1.43.59L10.3 9.45l-7.72 7.72c-.78.78-.78 2.05 0 2.83L4 21.41c.39.39.9.59 1.41.59.51 0 1.02-.2 1.41-.59l7.78-7.78 2.81-2.81c.8-.78.8-2.07 0-2.86zM5.41 20L4 18.59l7.72-7.72 1.47 1.35L5.41 20z\"/>\n",
              "  </svg>\n",
              "      </button>\n",
              "      \n",
              "  <style>\n",
              "    .colab-df-container {\n",
              "      display:flex;\n",
              "      flex-wrap:wrap;\n",
              "      gap: 12px;\n",
              "    }\n",
              "\n",
              "    .colab-df-convert {\n",
              "      background-color: #E8F0FE;\n",
              "      border: none;\n",
              "      border-radius: 50%;\n",
              "      cursor: pointer;\n",
              "      display: none;\n",
              "      fill: #1967D2;\n",
              "      height: 32px;\n",
              "      padding: 0 0 0 0;\n",
              "      width: 32px;\n",
              "    }\n",
              "\n",
              "    .colab-df-convert:hover {\n",
              "      background-color: #E2EBFA;\n",
              "      box-shadow: 0px 1px 2px rgba(60, 64, 67, 0.3), 0px 1px 3px 1px rgba(60, 64, 67, 0.15);\n",
              "      fill: #174EA6;\n",
              "    }\n",
              "\n",
              "    [theme=dark] .colab-df-convert {\n",
              "      background-color: #3B4455;\n",
              "      fill: #D2E3FC;\n",
              "    }\n",
              "\n",
              "    [theme=dark] .colab-df-convert:hover {\n",
              "      background-color: #434B5C;\n",
              "      box-shadow: 0px 1px 3px 1px rgba(0, 0, 0, 0.15);\n",
              "      filter: drop-shadow(0px 1px 2px rgba(0, 0, 0, 0.3));\n",
              "      fill: #FFFFFF;\n",
              "    }\n",
              "  </style>\n",
              "\n",
              "      <script>\n",
              "        const buttonEl =\n",
              "          document.querySelector('#df-2695c244-dcd0-47cc-89f4-4786780d9524 button.colab-df-convert');\n",
              "        buttonEl.style.display =\n",
              "          google.colab.kernel.accessAllowed ? 'block' : 'none';\n",
              "\n",
              "        async function convertToInteractive(key) {\n",
              "          const element = document.querySelector('#df-2695c244-dcd0-47cc-89f4-4786780d9524');\n",
              "          const dataTable =\n",
              "            await google.colab.kernel.invokeFunction('convertToInteractive',\n",
              "                                                     [key], {});\n",
              "          if (!dataTable) return;\n",
              "\n",
              "          const docLinkHtml = 'Like what you see? Visit the ' +\n",
              "            '<a target=\"_blank\" href=https://colab.research.google.com/notebooks/data_table.ipynb>data table notebook</a>'\n",
              "            + ' to learn more about interactive tables.';\n",
              "          element.innerHTML = '';\n",
              "          dataTable['output_type'] = 'display_data';\n",
              "          await google.colab.output.renderOutput(dataTable, element);\n",
              "          const docLink = document.createElement('div');\n",
              "          docLink.innerHTML = docLinkHtml;\n",
              "          element.appendChild(docLink);\n",
              "        }\n",
              "      </script>\n",
              "    </div>\n",
              "  </div>\n",
              "  "
            ],
            "text/plain": [
              "          date  ...                                               link\n",
              "0   2019/12/29  ...  https://www.seatguru.com//airlines/Aegean_Airl...\n",
              "1   2018/06/09  ...  https://www.seatguru.com//airlines/Aegean_Airl...\n",
              "2   2018/05/25  ...  https://www.seatguru.com//airlines/Aegean_Airl...\n",
              "3   2018/04/19  ...  https://www.seatguru.com//airlines/Aegean_Airl...\n",
              "4   2017/07/22  ...  https://www.seatguru.com//airlines/Aegean_Airl...\n",
              "5   2017/05/14  ...  https://www.seatguru.com//airlines/Aegean_Airl...\n",
              "6   2018/11/09  ...  https://www.seatguru.com//airlines/Aegean_Airl...\n",
              "7   2018/11/09  ...  https://www.seatguru.com//airlines/Aegean_Airl...\n",
              "8   2018/01/27  ...  https://www.seatguru.com//airlines/Aegean_Airl...\n",
              "9   2017/08/29  ...  https://www.seatguru.com//airlines/Aegean_Airl...\n",
              "10  2017/06/12  ...  https://www.seatguru.com//airlines/Aegean_Airl...\n",
              "11  2017/03/23  ...  https://www.seatguru.com//airlines/Aegean_Airl...\n",
              "12  2020/01/20  ...  https://www.seatguru.com//airlines/Aegean_Airl...\n",
              "13  2018/11/05  ...  https://www.seatguru.com//airlines/Aegean_Airl...\n",
              "\n",
              "[14 rows x 6 columns]"
            ]
          },
          "metadata": {},
          "execution_count": 231
        }
      ]
    },
    {
      "cell_type": "markdown",
      "source": [
        "# Collect all Data using functions"
      ],
      "metadata": {
        "id": "qJkL3QfKmm3o"
      }
    },
    {
      "cell_type": "code",
      "source": [
        "column_names = [\"date\", \"airline_name\", \"name\", \"seat\", 'comment', 'link']\n",
        "\n",
        "df_sg = pd.DataFrame(columns = column_names)\n",
        "\n",
        "# get all airline urls\n",
        "airline_urls = 'https://www.seatguru.com' + pd.Series(extract_airline_urls_sg())\n",
        "\n",
        "# get all names of airlines\n",
        "airline_names = get_names(airline_urls)\n",
        "\n",
        "# get all aircraft links\n",
        "for i, url in enumerate(airline_urls):\n",
        "  aircraft_urls = extract_aircraft_urls_sg(url, airline_names[i])\n",
        "  # for each aircraft of that airline add the info\n",
        "  df_sg = extract_comments_sg(aircraft_urls, df_sg, airline_names[i])"
      ],
      "metadata": {
        "id": "eRqOaVMImpo-"
      },
      "execution_count": null,
      "outputs": []
    },
    {
      "cell_type": "code",
      "source": [
        "# add column with aircraft name\n",
        "links = df_sg['link']"
      ],
      "metadata": {
        "id": "LFNqu2Rb7Ly0"
      },
      "execution_count": null,
      "outputs": []
    },
    {
      "cell_type": "code",
      "source": [
        "# aircraft names\n",
        "aircraft_names = []\n",
        "for i, link in enumerate(links):\n",
        "  aircraft_name = link.split(\"/\")[-1].replace('.php',\"\")\n",
        "  aircraft_names.append(aircraft_name)"
      ],
      "metadata": {
        "id": "8acp2WUm7XhU"
      },
      "execution_count": null,
      "outputs": []
    },
    {
      "cell_type": "code",
      "source": [
        "df_sg['aircraft_name'] = aircraft_names"
      ],
      "metadata": {
        "id": "ayKtHjD48oEy"
      },
      "execution_count": null,
      "outputs": []
    },
    {
      "cell_type": "code",
      "source": [
        "df_sg"
      ],
      "metadata": {
        "colab": {
          "base_uri": "https://localhost:8080/",
          "height": 658
        },
        "id": "VRG8LWiP8_Ux",
        "outputId": "946dbebf-53b6-499d-826b-d24e8ef62417"
      },
      "execution_count": null,
      "outputs": [
        {
          "output_type": "execute_result",
          "data": {
            "text/html": [
              "\n",
              "  <div id=\"df-03f594b0-2380-450a-a435-e813736b2e56\">\n",
              "    <div class=\"colab-df-container\">\n",
              "      <div>\n",
              "<style scoped>\n",
              "    .dataframe tbody tr th:only-of-type {\n",
              "        vertical-align: middle;\n",
              "    }\n",
              "\n",
              "    .dataframe tbody tr th {\n",
              "        vertical-align: top;\n",
              "    }\n",
              "\n",
              "    .dataframe thead th {\n",
              "        text-align: right;\n",
              "    }\n",
              "</style>\n",
              "<table border=\"1\" class=\"dataframe\">\n",
              "  <thead>\n",
              "    <tr style=\"text-align: right;\">\n",
              "      <th></th>\n",
              "      <th>date</th>\n",
              "      <th>airline_name</th>\n",
              "      <th>name</th>\n",
              "      <th>seat</th>\n",
              "      <th>comment</th>\n",
              "      <th>link</th>\n",
              "      <th>aircraft_name</th>\n",
              "    </tr>\n",
              "  </thead>\n",
              "  <tbody>\n",
              "    <tr>\n",
              "      <th>0</th>\n",
              "      <td>2019/12/29</td>\n",
              "      <td>Aegean_Airlines_</td>\n",
              "      <td>SeatGuru</td>\n",
              "      <td>3C</td>\n",
              "      <td>From Istabul to Athens. Seat 3C doesnt have an...</td>\n",
              "      <td>https://www.seatguru.com//airlines/Aegean_Airl...</td>\n",
              "      <td>Aegean_Airlines_Airbus_A319-100</td>\n",
              "    </tr>\n",
              "    <tr>\n",
              "      <th>1</th>\n",
              "      <td>2018/06/09</td>\n",
              "      <td>Aegean_Airlines_</td>\n",
              "      <td>Stathis</td>\n",
              "      <td>None</td>\n",
              "      <td>I traveled Athens-Zurich with Aegean Airlines ...</td>\n",
              "      <td>https://www.seatguru.com//airlines/Aegean_Airl...</td>\n",
              "      <td>Aegean_Airlines_Airbus_A320-200</td>\n",
              "    </tr>\n",
              "    <tr>\n",
              "      <th>2</th>\n",
              "      <td>2018/05/25</td>\n",
              "      <td>Aegean_Airlines_</td>\n",
              "      <td>SeatGuru</td>\n",
              "      <td>15C</td>\n",
              "      <td>very tiny leg room as I am quite tall. flight ...</td>\n",
              "      <td>https://www.seatguru.com//airlines/Aegean_Airl...</td>\n",
              "      <td>Aegean_Airlines_Airbus_A320-200</td>\n",
              "    </tr>\n",
              "    <tr>\n",
              "      <th>3</th>\n",
              "      <td>2018/04/19</td>\n",
              "      <td>Aegean_Airlines_</td>\n",
              "      <td>Bryan</td>\n",
              "      <td>12F</td>\n",
              "      <td>Exit row 12F was nice for the 2.5 hour ZRH-ATH...</td>\n",
              "      <td>https://www.seatguru.com//airlines/Aegean_Airl...</td>\n",
              "      <td>Aegean_Airlines_Airbus_A320-200</td>\n",
              "    </tr>\n",
              "    <tr>\n",
              "      <th>4</th>\n",
              "      <td>2017/07/22</td>\n",
              "      <td>Aegean_Airlines_</td>\n",
              "      <td>SeatGuru</td>\n",
              "      <td>12C</td>\n",
              "      <td>It is a wonderful seat at no additional cost (...</td>\n",
              "      <td>https://www.seatguru.com//airlines/Aegean_Airl...</td>\n",
              "      <td>Aegean_Airlines_Airbus_A320-200</td>\n",
              "    </tr>\n",
              "    <tr>\n",
              "      <th>...</th>\n",
              "      <td>...</td>\n",
              "      <td>...</td>\n",
              "      <td>...</td>\n",
              "      <td>...</td>\n",
              "      <td>...</td>\n",
              "      <td>...</td>\n",
              "      <td>...</td>\n",
              "    </tr>\n",
              "    <tr>\n",
              "      <th>16746</th>\n",
              "      <td>2014/12/07</td>\n",
              "      <td>Westjet_</td>\n",
              "      <td>SeatGuru</td>\n",
              "      <td>20B</td>\n",
              "      <td>This is a terrible aircraft. Upon entering the...</td>\n",
              "      <td>https://www.seatguru.com//airlines/Westjet/Wes...</td>\n",
              "      <td>Westjet_Bombardier_Q400</td>\n",
              "    </tr>\n",
              "    <tr>\n",
              "      <th>16747</th>\n",
              "      <td>2013/11/05</td>\n",
              "      <td>Westjet_</td>\n",
              "      <td>SeatGuru</td>\n",
              "      <td>1B</td>\n",
              "      <td>While these seats may be at the front of the p...</td>\n",
              "      <td>https://www.seatguru.com//airlines/Westjet/Wes...</td>\n",
              "      <td>Westjet_Bombardier_Q400</td>\n",
              "    </tr>\n",
              "    <tr>\n",
              "      <th>16748</th>\n",
              "      <td>2017/08/15</td>\n",
              "      <td>Xiamen_Airlines_</td>\n",
              "      <td>SeatGuru</td>\n",
              "      <td>None</td>\n",
              "      <td>Rather comfy despite it being listed at 17 inc...</td>\n",
              "      <td>https://www.seatguru.com//airlines/Xiamen_Airl...</td>\n",
              "      <td>Xiamen_Airlines_Boeing_787-8</td>\n",
              "    </tr>\n",
              "    <tr>\n",
              "      <th>16749</th>\n",
              "      <td>2019/06/16</td>\n",
              "      <td>Xiamen_Airlines_</td>\n",
              "      <td>SeatGuru</td>\n",
              "      <td>1A</td>\n",
              "      <td>I was very satisfied with my flight. The Fligh...</td>\n",
              "      <td>https://www.seatguru.com//airlines/Xiamen_Airl...</td>\n",
              "      <td>Xiamen_Airlines_Boeing_787-9</td>\n",
              "    </tr>\n",
              "    <tr>\n",
              "      <th>16750</th>\n",
              "      <td>2018/08/16</td>\n",
              "      <td>Xiamen_Airlines_</td>\n",
              "      <td>SeatGuru</td>\n",
              "      <td>14A</td>\n",
              "      <td>AMS-XIA in May 2018 (codeshare KLM-Xiamenair)....</td>\n",
              "      <td>https://www.seatguru.com//airlines/Xiamen_Airl...</td>\n",
              "      <td>Xiamen_Airlines_Boeing_787-9</td>\n",
              "    </tr>\n",
              "  </tbody>\n",
              "</table>\n",
              "<p>16751 rows × 7 columns</p>\n",
              "</div>\n",
              "      <button class=\"colab-df-convert\" onclick=\"convertToInteractive('df-03f594b0-2380-450a-a435-e813736b2e56')\"\n",
              "              title=\"Convert this dataframe to an interactive table.\"\n",
              "              style=\"display:none;\">\n",
              "        \n",
              "  <svg xmlns=\"http://www.w3.org/2000/svg\" height=\"24px\"viewBox=\"0 0 24 24\"\n",
              "       width=\"24px\">\n",
              "    <path d=\"M0 0h24v24H0V0z\" fill=\"none\"/>\n",
              "    <path d=\"M18.56 5.44l.94 2.06.94-2.06 2.06-.94-2.06-.94-.94-2.06-.94 2.06-2.06.94zm-11 1L8.5 8.5l.94-2.06 2.06-.94-2.06-.94L8.5 2.5l-.94 2.06-2.06.94zm10 10l.94 2.06.94-2.06 2.06-.94-2.06-.94-.94-2.06-.94 2.06-2.06.94z\"/><path d=\"M17.41 7.96l-1.37-1.37c-.4-.4-.92-.59-1.43-.59-.52 0-1.04.2-1.43.59L10.3 9.45l-7.72 7.72c-.78.78-.78 2.05 0 2.83L4 21.41c.39.39.9.59 1.41.59.51 0 1.02-.2 1.41-.59l7.78-7.78 2.81-2.81c.8-.78.8-2.07 0-2.86zM5.41 20L4 18.59l7.72-7.72 1.47 1.35L5.41 20z\"/>\n",
              "  </svg>\n",
              "      </button>\n",
              "      \n",
              "  <style>\n",
              "    .colab-df-container {\n",
              "      display:flex;\n",
              "      flex-wrap:wrap;\n",
              "      gap: 12px;\n",
              "    }\n",
              "\n",
              "    .colab-df-convert {\n",
              "      background-color: #E8F0FE;\n",
              "      border: none;\n",
              "      border-radius: 50%;\n",
              "      cursor: pointer;\n",
              "      display: none;\n",
              "      fill: #1967D2;\n",
              "      height: 32px;\n",
              "      padding: 0 0 0 0;\n",
              "      width: 32px;\n",
              "    }\n",
              "\n",
              "    .colab-df-convert:hover {\n",
              "      background-color: #E2EBFA;\n",
              "      box-shadow: 0px 1px 2px rgba(60, 64, 67, 0.3), 0px 1px 3px 1px rgba(60, 64, 67, 0.15);\n",
              "      fill: #174EA6;\n",
              "    }\n",
              "\n",
              "    [theme=dark] .colab-df-convert {\n",
              "      background-color: #3B4455;\n",
              "      fill: #D2E3FC;\n",
              "    }\n",
              "\n",
              "    [theme=dark] .colab-df-convert:hover {\n",
              "      background-color: #434B5C;\n",
              "      box-shadow: 0px 1px 3px 1px rgba(0, 0, 0, 0.15);\n",
              "      filter: drop-shadow(0px 1px 2px rgba(0, 0, 0, 0.3));\n",
              "      fill: #FFFFFF;\n",
              "    }\n",
              "  </style>\n",
              "\n",
              "      <script>\n",
              "        const buttonEl =\n",
              "          document.querySelector('#df-03f594b0-2380-450a-a435-e813736b2e56 button.colab-df-convert');\n",
              "        buttonEl.style.display =\n",
              "          google.colab.kernel.accessAllowed ? 'block' : 'none';\n",
              "\n",
              "        async function convertToInteractive(key) {\n",
              "          const element = document.querySelector('#df-03f594b0-2380-450a-a435-e813736b2e56');\n",
              "          const dataTable =\n",
              "            await google.colab.kernel.invokeFunction('convertToInteractive',\n",
              "                                                     [key], {});\n",
              "          if (!dataTable) return;\n",
              "\n",
              "          const docLinkHtml = 'Like what you see? Visit the ' +\n",
              "            '<a target=\"_blank\" href=https://colab.research.google.com/notebooks/data_table.ipynb>data table notebook</a>'\n",
              "            + ' to learn more about interactive tables.';\n",
              "          element.innerHTML = '';\n",
              "          dataTable['output_type'] = 'display_data';\n",
              "          await google.colab.output.renderOutput(dataTable, element);\n",
              "          const docLink = document.createElement('div');\n",
              "          docLink.innerHTML = docLinkHtml;\n",
              "          element.appendChild(docLink);\n",
              "        }\n",
              "      </script>\n",
              "    </div>\n",
              "  </div>\n",
              "  "
            ],
            "text/plain": [
              "             date  ...                    aircraft_name\n",
              "0      2019/12/29  ...  Aegean_Airlines_Airbus_A319-100\n",
              "1      2018/06/09  ...  Aegean_Airlines_Airbus_A320-200\n",
              "2      2018/05/25  ...  Aegean_Airlines_Airbus_A320-200\n",
              "3      2018/04/19  ...  Aegean_Airlines_Airbus_A320-200\n",
              "4      2017/07/22  ...  Aegean_Airlines_Airbus_A320-200\n",
              "...           ...  ...                              ...\n",
              "16746  2014/12/07  ...          Westjet_Bombardier_Q400\n",
              "16747  2013/11/05  ...          Westjet_Bombardier_Q400\n",
              "16748  2017/08/15  ...     Xiamen_Airlines_Boeing_787-8\n",
              "16749  2019/06/16  ...     Xiamen_Airlines_Boeing_787-9\n",
              "16750  2018/08/16  ...     Xiamen_Airlines_Boeing_787-9\n",
              "\n",
              "[16751 rows x 7 columns]"
            ]
          },
          "metadata": {},
          "execution_count": 259
        }
      ]
    },
    {
      "cell_type": "code",
      "source": [
        "# Save df as csv\n",
        "df_sg.to_csv('sg_data.csv')"
      ],
      "metadata": {
        "id": "dDUYZNoG3cPy"
      },
      "execution_count": null,
      "outputs": []
    }
  ]
}